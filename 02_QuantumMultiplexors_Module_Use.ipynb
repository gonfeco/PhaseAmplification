{
 "cells": [
  {
   "cell_type": "code",
   "execution_count": null,
   "id": "12c8740d",
   "metadata": {},
   "outputs": [],
   "source": [
    "from IPython.core.display import display, HTML\n",
    "display(HTML(\"<style>.container { width:100% !important; }</style>\"))"
   ]
  },
  {
   "cell_type": "code",
   "execution_count": null,
   "id": "2321437e",
   "metadata": {},
   "outputs": [],
   "source": [
    "import numpy as np\n",
    "import pandas as pd\n",
    "import matplotlib.pyplot as plt"
   ]
  },
  {
   "cell_type": "code",
   "execution_count": null,
   "id": "2e46825c",
   "metadata": {},
   "outputs": [],
   "source": [
    "#QPU connection\n",
    "QLMASS = True\n",
    "if QLMASS:\n",
    "    try:\n",
    "        from qat.qlmaas import QLMaaSConnection\n",
    "        connection = QLMaaSConnection()\n",
    "        LinAlg = connection.get_qpu(\"qat.qpus:LinAlg\")\n",
    "        lineal_qpu = LinAlg()\n",
    "    except (ImportError, OSError) as e:\n",
    "        print('Problem: usin PyLinalg')\n",
    "        from qat.qpus import PyLinalg\n",
    "        lineal_qpu = PyLinalg()\n",
    "else:\n",
    "    print('User Forces: PyLinalg')\n",
    "    from qat.qpus import PyLinalg\n",
    "    lineal_qpu = PyLinalg()    "
   ]
  },
  {
   "cell_type": "code",
   "execution_count": null,
   "id": "18c3964f",
   "metadata": {},
   "outputs": [],
   "source": [
    "%load_ext qat.core.magic"
   ]
  },
  {
   "cell_type": "markdown",
   "id": "9e337a94",
   "metadata": {},
   "source": [
    "## 1. Quantum Multiplexors"
   ]
  },
  {
   "cell_type": "markdown",
   "id": "b862e66e",
   "metadata": {},
   "source": [
    "Implementation of loading data routines using the *Lov Grover and Terry Rudolph* routines directly, using controlled rotations by state, is highly inneficient. In general the use of controlled rotations generate highly deep quantum circuits prone to errors. \n",
    "A more efficient approach is the use of Quantum Multiplexors where the only controlled gates are c-Not ones. \n",
    "\n",
    "The operation we want to implement is a controlled rotation on an angle $\\theta_i$ controlled by a state $|i\\rangle$. \n",
    "\n",
    "For a 2 qbits state the operator should be:\n",
    "\n",
    "$$\n",
    "\\hat{U}|q_0q_1\\rangle= \\{ \\begin{array}{ll}\n",
    "      |0\\rangle\\hat{R}_y(\\theta_0)|q_1\\rangle  & if \\;|q_0\\rangle = |0\\rangle \\\\\n",
    "      |1\\rangle\\hat{R}_y(\\theta_1)|q_1\\rangle  & if \\;|q_0\\rangle = |1\\rangle \\\\\n",
    "\\end{array}\n",
    "$$\n",
    "\n",
    "With a quantum multiplexor this operation can be implemented as:\n",
    "\n",
    "$$\\hat{U}(\\theta_0, \\theta_1)|q_0q_1\\rangle= \\left( \\mathbf{I} \\otimes \\hat{R}_{y} (\\frac{\\theta_0+\\theta_1}{2}) \\right) \\hat{C}_{NOT} \\left(\\mathbf{I} \\otimes \\hat{R}_{y} (\\frac{\\theta_0-\\theta_1}{2}) \\right) \\hat{C}_{NOT}|q_0q_1\\rangle$$\n",
    "\n",
    "The circuit representation for this operator is:\n",
    "\n",
    "![alt text](./QM_01.png)\n",
    "\n",
    "As can be seen the quantum multiplexor needs only $C_{NOT}$ gates that are implemented in easier way than controlled rotations\n"
   ]
  },
  {
   "cell_type": "markdown",
   "id": "5ae8c7a9",
   "metadata": {},
   "source": [
    "For controlled state rotations of more angles quantum multiplexors can be implemented in a recursively way. For example if we want apply a controlled 4 angle rotation $[\\theta_0, \\theta_1, \\theta_2, \\theta_3]$ we can use following circuit:\n",
    "\n",
    "![alt text](./QM_02.png)\n"
   ]
  },
  {
   "cell_type": "markdown",
   "id": "18e2496e",
   "metadata": {},
   "source": [
    "In general a quantum multiplexor with $m$ control qubits can be decomposed as 2 multiplexors with $m − 1$ control qubits and 2 $\\hat{C}_{NOT}$ gates:\n",
    "![alt text](./QM_03.png)"
   ]
  },
  {
   "cell_type": "markdown",
   "id": "20013504",
   "metadata": {},
   "source": [
    "In the **QuantumMultiplexors_Module** there are an implementation for a quantum multiplexor controlled by $m$ qbits and the functions neede to use them in order to load probability and a Integral function"
   ]
  },
  {
   "cell_type": "markdown",
   "id": "321fdf1f",
   "metadata": {},
   "source": [
    "## 2. Loading Data Gates: $\\mathcal{P}$ and $\\mathcal{R}$"
   ]
  },
  {
   "cell_type": "markdown",
   "id": "eac27931",
   "metadata": {},
   "source": [
    "First thing we need are the $\\mathcal{P}$ and $\\mathcal{R}$ for loading probability distribution and integral function respectively into a Quantum State."
   ]
  },
  {
   "cell_type": "code",
   "execution_count": null,
   "id": "c7008b45",
   "metadata": {},
   "outputs": [],
   "source": [
    "from AuxiliarFunctions import postprocess_results, run_job, get_histogram"
   ]
  },
  {
   "cell_type": "code",
   "execution_count": null,
   "id": "c5d5112b",
   "metadata": {},
   "outputs": [],
   "source": [
    "def p(x):\n",
    "    return x*x\n",
    "def f(x):\n",
    "    return np.sin(x)"
   ]
  },
  {
   "cell_type": "code",
   "execution_count": null,
   "id": "388455a5",
   "metadata": {},
   "outputs": [],
   "source": [
    "#number of Qbits for the circuit\n",
    "n_qbits = 8\n",
    "#The number of bins \n",
    "m_bins = 2**n_qbits\n",
    "LowerLimit = 0.0\n",
    "UpperLimit = 1.0 \n",
    "\n",
    "X, p_X = get_histogram(p, LowerLimit, UpperLimit, m_bins)\n",
    "f_X = f(X)"
   ]
  },
  {
   "cell_type": "markdown",
   "id": "cc32a4e2",
   "metadata": {},
   "source": [
    "### 2.1 Loading Probability gate: $\\mathcal{P}$"
   ]
  },
  {
   "cell_type": "markdown",
   "id": "8ca4a398",
   "metadata": {},
   "source": [
    "The $\\mathcal{P}$ is implemented by the function **load_p_gate** inside the **QuantumMultiplexors_Module**. The input should be a numpy array with the Probability distribution to load into the quantum state. The output of the function is a **qlm** *AbstractGate* customized for the input numpy array which load it into the quantum state. \n",
    "\n",
    "First we need to configurate the $\\mathcal{P}$ by providing the discretized probability to load"
   ]
  },
  {
   "cell_type": "code",
   "execution_count": null,
   "id": "872b42b6",
   "metadata": {},
   "outputs": [],
   "source": [
    "from qat.lang.AQASM import Program, H, QRoutine\n",
    "from QuantumMultiplexors_Module import load_p_gate"
   ]
  },
  {
   "cell_type": "code",
   "execution_count": null,
   "id": "1f768ade",
   "metadata": {},
   "outputs": [],
   "source": [
    "p_gate = load_p_gate(p_X)\n",
    "%qatdisplay p_gate --depth 1"
   ]
  },
  {
   "cell_type": "markdown",
   "id": "f3b3c69d",
   "metadata": {},
   "source": [
    "Now we can create a function that creates a quantum program by giving to it an *AbstractGate* or a *QRoutine*."
   ]
  },
  {
   "cell_type": "code",
   "execution_count": null,
   "id": "4e6b2c7b",
   "metadata": {},
   "outputs": [],
   "source": [
    "def create_qprogram(quantum_gate):\n",
    "    \"\"\"\n",
    "    Creates a Quantum Program from an input qlm gate or routine\n",
    "\n",
    "    Parameters\n",
    "    ----------\n",
    "\n",
    "    quantum_gate : QLM gate or QLM routine\n",
    "\n",
    "    Returns\n",
    "    ----------\n",
    "    q_prog: QLM Program.\n",
    "        Quantum Program from input QLM gate or routine\n",
    "    \"\"\"\n",
    "    q_prog = Program()\n",
    "    qbits = q_prog.qalloc(quantum_gate.arity)\n",
    "    q_prog.apply(quantum_gate, qbits)\n",
    "    return q_prog\n"
   ]
  },
  {
   "cell_type": "code",
   "execution_count": null,
   "id": "d03a00bf",
   "metadata": {
    "scrolled": true
   },
   "outputs": [],
   "source": [
    "Qprog = create_qprogram(p_gate)\n",
    "circuit_P = Qprog.to_circ(submatrices_only=True)"
   ]
  },
  {
   "cell_type": "code",
   "execution_count": null,
   "id": "c6b53c60",
   "metadata": {
    "scrolled": true
   },
   "outputs": [],
   "source": [
    "%qatdisplay circuit_P --depth 0"
   ]
  },
  {
   "cell_type": "markdown",
   "id": "6f6ed9b3",
   "metadata": {},
   "source": [
    "Following cell simulates the circuit an postprocces result in order to test in probability was properly loaded. The results of the simulation is given to the **PostProcessResults** which create a pandas dataframe with the posible states and teh correspondings probabilities and amplitudes."
   ]
  },
  {
   "cell_type": "code",
   "execution_count": null,
   "id": "7f9e1528",
   "metadata": {
    "scrolled": true
   },
   "outputs": [],
   "source": [
    "jobP = circuit_P.to_job()\n",
    "resultP = lineal_qpu.submit(jobP)\n",
    "P_results = postprocess_results(run_job(resultP))"
   ]
  },
  {
   "cell_type": "code",
   "execution_count": null,
   "id": "63251b05",
   "metadata": {},
   "outputs": [],
   "source": [
    "P_results.head()"
   ]
  },
  {
   "cell_type": "markdown",
   "id": "122c28a7",
   "metadata": {},
   "source": [
    "In order to check if the operation was done properly we can compare the outpus probability of each state and the probabilities wanted to load:"
   ]
  },
  {
   "cell_type": "code",
   "execution_count": null,
   "id": "c29b3e6f",
   "metadata": {
    "scrolled": true
   },
   "outputs": [],
   "source": [
    "np.isclose(P_results['Probability'], p_X).all()"
   ]
  },
  {
   "cell_type": "markdown",
   "id": "c8f13706",
   "metadata": {},
   "source": [
    "### 2.2 Loading Integral Function gate: $\\mathcal{R}$"
   ]
  },
  {
   "cell_type": "markdown",
   "id": "3010b0e0",
   "metadata": {},
   "source": [
    "\n",
    "The $\\mathcal{R}$ is implemented by an Abstract qlm gate called **load_r_gate**  inside the **QuantumMultiplexors_Module**.. The input should be a numpy array with the function which integral want to be load into the quantum state. The output of the function is a **qlm** *AbstractGate* customized for the input numpy array which load the integral into the last qbit of the quantum state. \n",
    "\n",
    "\n",
    "The length of this array should be: $m=2^n$ where n is an integer. The created gate is a $n+1$ gate where the last qbit codifies the integral of the function.\n",
    "\n",
    "Following **load_integral_routine** function creates a complete Quantum routine for loading Integral of discretized function $f(x)$ using the programed $\\mathcal{R}$ gate. The size of the function array should be $2^n$ and the circuit will have $n+1$ qbit where the last one qbit will enconde the integral of the $f(x)$. This function is neede becaseu we need to generate an initial state of equiprobably combiantion of states"
   ]
  },
  {
   "cell_type": "code",
   "execution_count": null,
   "id": "d4373c68",
   "metadata": {},
   "outputs": [],
   "source": [
    "def load_integral_routine(r_gate):\n",
    "    \"\"\"\n",
    "    Creates a Quantum Program for loading the integral of an input\n",
    "    function given as a numpy array using Quantum Multiplexors (QM).\n",
    "\n",
    "    Parameters\n",
    "    ----------\n",
    "\n",
    "    r_gate : QLM AbstractGate\n",
    "        Customized AbstractGatel for loading integral of a function f(x)\n",
    "\n",
    "    Returns\n",
    "    ----------\n",
    "    q_prog: QLM Program\n",
    "        Quantum Program for loading integral of the input function\n",
    "    r_gate: QLM AbstractGate\n",
    "        Customized AbstractGate for loading integral using QM\n",
    "    \"\"\"\n",
    "    q_rout = QRoutine()\n",
    "    qbits = q_rout.new_wires(r_gate.arity)\n",
    "    #equiprobable superposition of states\n",
    "    for i in range(len(qbits)-1):\n",
    "        q_rout.apply(H, qbits[i])\n",
    "    q_rout.apply(r_gate, qbits)\n",
    "    return q_rout\n"
   ]
  },
  {
   "cell_type": "markdown",
   "id": "37d15f3e",
   "metadata": {},
   "source": [
    "First we need to configurate the $\\mathcal{R}$ operator with the discretized function"
   ]
  },
  {
   "cell_type": "code",
   "execution_count": null,
   "id": "6b2d5dbc",
   "metadata": {},
   "outputs": [],
   "source": [
    "from QuantumMultiplexors_Module import load_r_gate"
   ]
  },
  {
   "cell_type": "code",
   "execution_count": null,
   "id": "fd2641ab",
   "metadata": {},
   "outputs": [],
   "source": [
    "r_gate = load_r_gate(f_X)\n",
    "%qatdisplay r_gate --depth 0"
   ]
  },
  {
   "cell_type": "markdown",
   "id": "f52948f1",
   "metadata": {},
   "source": [
    "Now we can provide this *load_integral_routine* to the **create_qprogram**"
   ]
  },
  {
   "cell_type": "code",
   "execution_count": null,
   "id": "fcc6781b",
   "metadata": {},
   "outputs": [],
   "source": [
    "Qprog = create_qprogram(load_integral_routine(r_gate))\n",
    "circuit_R = Qprog.to_circ(submatrices_only=True)"
   ]
  },
  {
   "cell_type": "code",
   "execution_count": null,
   "id": "2d397cd5",
   "metadata": {},
   "outputs": [],
   "source": [
    "%qatdisplay circuit_R --depth 0"
   ]
  },
  {
   "cell_type": "markdown",
   "id": "8ef88789",
   "metadata": {},
   "source": [
    "In this case we are only interested in the last qbit of the circuit that encodes the desIred integral. Following cell simulates the circuit from *load_integral_program* and post process the results using *PostProcessResults* function which ouputs a pandas dataframe with the posible states (measurement of the last qbit) and the corresponding probability"
   ]
  },
  {
   "cell_type": "code",
   "execution_count": null,
   "id": "d349f676",
   "metadata": {},
   "outputs": [],
   "source": [
    "jobR = circuit_R.to_job(qubits = [n_qbits])\n",
    "resultR = lineal_qpu.submit(jobR)\n",
    "R_results= postprocess_results(run_job(resultR))"
   ]
  },
  {
   "cell_type": "code",
   "execution_count": null,
   "id": "a1754597",
   "metadata": {},
   "outputs": [],
   "source": [
    "#Integral of f(x)\n",
    "MeasurementIntegral = R_results['Probability'][1]*2**(n_qbits)\n",
    "np.isclose(MeasurementIntegral, sum(f_X))"
   ]
  },
  {
   "cell_type": "markdown",
   "id": "8bbc8c3e",
   "metadata": {},
   "source": [
    "### 2.3 Load Complete Data"
   ]
  },
  {
   "cell_type": "markdown",
   "id": "ba4e7132",
   "metadata": {},
   "source": [
    "Now we are going to use $\\mathcal{P}$ and $\\mathcal{R}$ implemented gates in order to load $E_{x\\sim p}(f)$ in a quantum circuit. \n",
    "\n",
    "$$E_{x\\sim p}(f) = \\sum_{x=0}^{2^n-1} p(x)f(x)dx$$\n",
    "\n",
    "For this the **load_pr_gate**  inside **QuantumMultiplexors_Module** was created. Providing the 2 operator gates $\\mathcal{P}$ and $\\mathcal{R}$ the function creates a third *Abstract Gate* with the two operators apply consecutively"
   ]
  },
  {
   "cell_type": "code",
   "execution_count": null,
   "id": "4226d488",
   "metadata": {},
   "outputs": [],
   "source": [
    "from QuantumMultiplexors_Module import load_pr_gate"
   ]
  },
  {
   "cell_type": "code",
   "execution_count": null,
   "id": "fe4cf515",
   "metadata": {},
   "outputs": [],
   "source": [
    "pr_gate = load_pr_gate(p_gate, r_gate)\n",
    "%qatdisplay pr_gate --depth 1"
   ]
  },
  {
   "cell_type": "markdown",
   "id": "007e6875",
   "metadata": {},
   "source": [
    "Now we can provide this *load_integral_routine* to the **create_qprogram**"
   ]
  },
  {
   "cell_type": "code",
   "execution_count": null,
   "id": "65c9c4dc",
   "metadata": {},
   "outputs": [],
   "source": [
    "Qprog = create_qprogram(pr_gate)\n",
    "circuitPR = Qprog.to_circ(submatrices_only=True)"
   ]
  },
  {
   "cell_type": "code",
   "execution_count": null,
   "id": "20bb87a5",
   "metadata": {},
   "outputs": [],
   "source": [
    "%qatdisplay circuitPR --depth 0"
   ]
  },
  {
   "cell_type": "code",
   "execution_count": null,
   "id": "788dfc43",
   "metadata": {},
   "outputs": [],
   "source": [
    "jobPR = circuitPR.to_job(qubits = [n_qbits])\n",
    "resultPR = lineal_qpu.submit(jobPR)\n",
    "PR_results = postprocess_results(run_job(resultPR))"
   ]
  },
  {
   "cell_type": "markdown",
   "id": "8db2a8ae",
   "metadata": {},
   "source": [
    "As explained before the $E_{x\\sim p}(f)$ will be loaded in the $|1\\rangle$ state of the last qbit of the circuit"
   ]
  },
  {
   "cell_type": "code",
   "execution_count": null,
   "id": "bc7050fb",
   "metadata": {},
   "outputs": [],
   "source": [
    "#Integral of f(x)\n",
    "MeasurementIntegral = PR_results['Probability'][1]\n",
    "print('MeasurementIntegral: {}'.format(MeasurementIntegral))\n",
    "print('Integral p(x)f(x): {}'.format(sum(p_X*f_X)))"
   ]
  },
  {
   "cell_type": "code",
   "execution_count": null,
   "id": "ca6271a7",
   "metadata": {},
   "outputs": [],
   "source": [
    "np.isclose(MeasurementIntegral, sum(p_X*f_X))"
   ]
  },
  {
   "cell_type": "markdown",
   "id": "e97f97e5",
   "metadata": {},
   "source": [
    "## 3 Sumary and Important notes"
   ]
  },
  {
   "cell_type": "markdown",
   "id": "e958eb1b",
   "metadata": {},
   "source": [
    "In **01_Dataloading_Module_Use** Notebook the *dataloading_module* and *dataloading_module_examples* were explained and used. \n",
    "Present Notebook try to mimic the **01_Dataloading_Module_Use** one but using and explained **QuantumMultiplexors_Module** and **QuantumMultiplexors_Module_examples**. \n",
    "\n",
    "The functions and gates implemented in *dataloading_module* and in the **QuantumMultiplexors_Module** have the same functionality: **load data, probability functions and integral functions** in a quantum state but the implementation was changed:\n",
    "* In the *dataloading_module*: several controlled by states rotations were straightoforward implemented in order to create the gates to load the data.\n",
    "* In the **QuantumMultiplexors_Module**: the loading data gates were implemented in a much more efficient way using **quantum multiplexors** where the controlloed rotations are subsituted by simple (and intelligent) qbit Rotations and $\\hat{C}_{NOT}$ gates"
   ]
  },
  {
   "cell_type": "markdown",
   "id": "529cf4c5",
   "metadata": {},
   "source": [
    "## 4. File Scripts"
   ]
  },
  {
   "cell_type": "markdown",
   "id": "96ff447b",
   "metadata": {},
   "source": [
    "All the functions generated in this Notebook were stored in a python file, **QuantumMultiplexors_Module_examples.py** in order to use it in an easy way:\n"
   ]
  },
  {
   "cell_type": "code",
   "execution_count": null,
   "id": "352c51e8",
   "metadata": {},
   "outputs": [],
   "source": [
    "from AuxiliarFunctions import get_histogram, postprocess_results, run_job\n",
    "def p(x):\n",
    "    return x*x\n",
    "def f(x):\n",
    "    return np.sin(x)\n",
    "\n",
    "#number of Qbits for the circuit\n",
    "n_qbits = 6\n",
    "#The number of bins \n",
    "m_bins = 2**n_qbits\n",
    "LowerLimit = 0.0\n",
    "UpperLimit = 1.0 \n",
    "X, p_X = get_histogram(p, LowerLimit, UpperLimit, m_bins)\n",
    "f_X = f(X)"
   ]
  },
  {
   "cell_type": "code",
   "execution_count": null,
   "id": "e95c84cf",
   "metadata": {},
   "outputs": [],
   "source": [
    "from QuantumMultiplexors_Module_examples import load_probability_program, load_integral_program, expectation_loading_data"
   ]
  },
  {
   "cell_type": "markdown",
   "id": "161faae6",
   "metadata": {},
   "source": [
    "### 4.1 Probability Load"
   ]
  },
  {
   "cell_type": "code",
   "execution_count": null,
   "id": "69d3ed6e",
   "metadata": {},
   "outputs": [],
   "source": [
    "Qprog, _ = load_probability_program(p_X)\n",
    "circuit_P = Qprog.to_circ(submatrices_only=True)\n",
    "%qatdisplay circuit_P"
   ]
  },
  {
   "cell_type": "code",
   "execution_count": null,
   "id": "793bc759",
   "metadata": {},
   "outputs": [],
   "source": [
    "jobP = circuit_P.to_job()\n",
    "resultP = lineal_qpu.submit(jobP)\n",
    "P_results = postprocess_results(run_job(resultP))\n",
    "np.isclose(P_results['Probability'], p_X).all()"
   ]
  },
  {
   "cell_type": "code",
   "execution_count": null,
   "id": "60626ce9",
   "metadata": {},
   "outputs": [],
   "source": [
    "P_results['Probability']"
   ]
  },
  {
   "cell_type": "code",
   "execution_count": null,
   "id": "d9c382c8",
   "metadata": {},
   "outputs": [],
   "source": [
    "p_X"
   ]
  },
  {
   "cell_type": "markdown",
   "id": "c97ef7e2",
   "metadata": {},
   "source": [
    "### 4.2 Integral Load"
   ]
  },
  {
   "cell_type": "code",
   "execution_count": null,
   "id": "ad91c93d",
   "metadata": {},
   "outputs": [],
   "source": [
    "Qprog, _ = load_integral_program(f_X)\n",
    "circuit_R = Qprog.to_circ(submatrices_only=True)\n",
    "%qatdisplay circuit_R"
   ]
  },
  {
   "cell_type": "code",
   "execution_count": null,
   "id": "f9188c70",
   "metadata": {},
   "outputs": [],
   "source": [
    "jobF = circuit_R.to_job(qubits = [n_qbits])\n",
    "resultF = lineal_qpu.submit(jobF)\n",
    "F_results = postprocess_results(run_job(resultF))\n",
    "MeasurementIntegral = F_results['Probability'][1]*2**(n_qbits)\n",
    "np.isclose(MeasurementIntegral, sum(f_X))"
   ]
  },
  {
   "cell_type": "markdown",
   "id": "351790d5",
   "metadata": {},
   "source": [
    "### 4.3 Complete Load"
   ]
  },
  {
   "cell_type": "code",
   "execution_count": null,
   "id": "27d28271",
   "metadata": {},
   "outputs": [],
   "source": [
    "Qprog, _, _ = expectation_loading_data(p_X, f_X)\n",
    "circuitPR = Qprog.to_circ(submatrices_only=True)\n",
    "%qatdisplay circuitPR"
   ]
  },
  {
   "cell_type": "code",
   "execution_count": null,
   "id": "32a2fd38",
   "metadata": {},
   "outputs": [],
   "source": [
    "jobPF = circuitPR.to_job(qubits = [n_qbits])\n",
    "resultPF = lineal_qpu.submit(jobPF)\n",
    "PF_results = postprocess_results(run_job(resultPF))\n",
    "MeasurementIntegral = PF_results['Probability'][1]\n",
    "np.isclose(MeasurementIntegral, sum(p_X*f_X))"
   ]
  },
  {
   "cell_type": "code",
   "execution_count": null,
   "id": "70262e50",
   "metadata": {},
   "outputs": [],
   "source": []
  },
  {
   "cell_type": "code",
   "execution_count": null,
   "id": "e5f20f29",
   "metadata": {},
   "outputs": [],
   "source": []
  },
  {
   "cell_type": "code",
   "execution_count": null,
   "id": "58a454f0",
   "metadata": {},
   "outputs": [],
   "source": []
  },
  {
   "cell_type": "code",
   "execution_count": null,
   "id": "58218416",
   "metadata": {},
   "outputs": [],
   "source": []
  }
 ],
 "metadata": {
  "kernelspec": {
   "display_name": "Python 3 (ipykernel)",
   "language": "python",
   "name": "python3"
  },
  "language_info": {
   "codemirror_mode": {
    "name": "ipython",
    "version": 3
   },
   "file_extension": ".py",
   "mimetype": "text/x-python",
   "name": "python",
   "nbconvert_exporter": "python",
   "pygments_lexer": "ipython3",
   "version": "3.9.9"
  }
 },
 "nbformat": 4,
 "nbformat_minor": 5
}
