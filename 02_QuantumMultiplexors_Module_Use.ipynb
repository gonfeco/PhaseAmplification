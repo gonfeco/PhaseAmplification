{
 "cells": [
  {
   "cell_type": "code",
   "execution_count": null,
   "id": "437913d6",
   "metadata": {},
   "outputs": [],
   "source": [
    "from IPython.core.display import display, HTML\n",
    "display(HTML(\"<style>.container { width:100% !important; }</style>\"))"
   ]
  },
  {
   "cell_type": "code",
   "execution_count": null,
   "id": "b863aae4",
   "metadata": {},
   "outputs": [],
   "source": [
    "import numpy as np\n",
    "import pandas as pd\n",
    "import matplotlib.pyplot as plt"
   ]
  },
  {
   "cell_type": "code",
   "execution_count": null,
   "id": "dcecd322",
   "metadata": {},
   "outputs": [],
   "source": [
    "#QPU connection\n",
    "try:\n",
    "    from qat.qlmaas import QLMaaSConnection\n",
    "    connection = QLMaaSConnection(hostname=\"qlm\")#, port=...)\n",
    "    LinAlg = connection.get_qpu(\"qat.qpus:LinAlg\")\n",
    "    lineal_qpu = LinAlg()\n",
    "except ImportError:\n",
    "    from qat.qpus import PyLinalg\n",
    "    lineal_qpu = PyLinalg()"
   ]
  },
  {
   "cell_type": "markdown",
   "id": "9fc69ab7",
   "metadata": {},
   "source": [
    "## 1. Quantum Multiplexors"
   ]
  },
  {
   "cell_type": "markdown",
   "id": "7a94f018",
   "metadata": {},
   "source": [
    "Implementation of loading data routines using the *Lov Grover and Terry Rudolph* routines directly, using controlled rotations by state, is highly inneficient. In general the use of controlled rotations generate highly deep quantum circuits prone to errors. \n",
    "A more efficient approach is the use of Quantum Multiplexors where the only controlled gates are c-Not ones. \n",
    "\n",
    "The operation we want to implement is a controlled rotation on an angle $\\theta_i$ controlled by a state $|i\\rangle$. \n",
    "\n",
    "For a 2 qbits state the operator should be:\n",
    "\n",
    "$$\n",
    "\\hat{U}|q_0q_1\\rangle= \\{ \\begin{array}{ll}\n",
    "      |0\\rangle\\hat{R}_y(\\theta_0)|q_1\\rangle  & if \\;|q_0\\rangle = |0\\rangle \\\\\n",
    "      |1\\rangle\\hat{R}_y(\\theta_1)|q_1\\rangle  & if \\;|q_0\\rangle = |1\\rangle \\\\\n",
    "\\end{array}\n",
    "$$\n",
    "\n",
    "With a quantum multiplexor this operation can be implemented as:\n",
    "\n",
    "$$\\hat{U}(\\theta_0, \\theta_1)|q_0q_1\\rangle= \\left( \\mathbf{I} \\otimes \\hat{R}_{y} (\\frac{\\theta_0+\\theta_1}{2}) \\right) \\hat{C}_{NOT} \\left(\\mathbf{I} \\otimes \\hat{R}_{y} (\\frac{\\theta_0-\\theta_1}{2}) \\right) \\hat{C}_{NOT}|q_0q_1\\rangle$$\n",
    "\n",
    "The circuit representation for this operator is:\n",
    "\n",
    "![alt text](./QM_01.png)\n",
    "\n",
    "As can be seen the quantum multiplexor needs only $C_{NOT}$ gates that are implemented in easier way than controlled rotations\n"
   ]
  },
  {
   "cell_type": "markdown",
   "id": "a931845d",
   "metadata": {},
   "source": [
    "For controlled state rotations of more angles quantum multiplexors can be implemented in a recursively way. For example if we want apply a controlled 4 angle rotation $[\\theta_0, \\theta_1, \\theta_2, \\theta_3]$ we can use following circuit:\n",
    "\n",
    "![alt text](./QM_02.png)\n"
   ]
  },
  {
   "cell_type": "markdown",
   "id": "f815f4c3",
   "metadata": {},
   "source": [
    "In general a quantum multiplexor with $m$ control qubits can be decomposed as 2 multiplexors with $m − 1$ control qubits and 2 $\\hat{C}_{NOT}$ gates:\n",
    "![alt text](./QM_03.png)"
   ]
  },
  {
   "cell_type": "markdown",
   "id": "d969da1e",
   "metadata": {},
   "source": [
    "In the **QuantumMultiplexors_Module** there are an implementation for a quantum multiplexor controlled by $m$ qbits and the functions neede to use them in order to load probability and a Integral function"
   ]
  },
  {
   "cell_type": "markdown",
   "id": "7aed0c09",
   "metadata": {},
   "source": [
    "## 2. QuantumMultiplexors_Module"
   ]
  },
  {
   "cell_type": "markdown",
   "id": "d8cbf9f7",
   "metadata": {},
   "source": [
    "In order to use this module the basic functions are:\n",
    "1. LoadProbability_Gate: Loads a probability distribution in a quantum state using multiplexors: so this function creates $\\mathcal{P}$ gate\n",
    "2. LoadIntegralFunction_Gate: Loads the integral of a function in a quantum state using multiplexors, so this function creates $\\mathcal{R}$ gate\n",
    "\n",
    "In order to do the data loading we need to discretizate it so:"
   ]
  },
  {
   "cell_type": "code",
   "execution_count": null,
   "id": "24ba3bed",
   "metadata": {},
   "outputs": [],
   "source": [
    "from AuxiliarFunctions import  get_histogram, PostProcessResults, TestBins\n",
    "def p(x):\n",
    "    return x*x\n",
    "def f(x):\n",
    "    return np.sin(x)"
   ]
  },
  {
   "cell_type": "code",
   "execution_count": null,
   "id": "d139b4d2",
   "metadata": {},
   "outputs": [],
   "source": [
    "#number of Qbits for the circuit\n",
    "n_qbits = 8\n",
    "#The number of bins \n",
    "m_bins = 2**n_qbits\n",
    "LowerLimit = 0.0\n",
    "UpperLimit = 1.0 \n",
    "\n",
    "X, p_X = get_histogram(p, LowerLimit, UpperLimit, m_bins)\n",
    "f_X = f(X)"
   ]
  },
  {
   "cell_type": "markdown",
   "id": "e1ad4646",
   "metadata": {},
   "source": [
    "### 2.1 LoadProbability_Gate"
   ]
  },
  {
   "cell_type": "markdown",
   "id": "f704b2c9",
   "metadata": {},
   "source": [
    "The $\\mathcal{P}$ is implemented by an Abstract qlm gate called **LoadProbability_Gate**. In order to create the gate only the numpy arrays with the probability should be provided.\n",
    "\n",
    "The following function,**LoadProbabilityProgram**, creates a Quantum Program for loading a given probability numpy array on a quantum Circuit using the aforementioned gate."
   ]
  },
  {
   "cell_type": "code",
   "execution_count": null,
   "id": "86b79550",
   "metadata": {},
   "outputs": [],
   "source": [
    "def LoadProbabilityProgram(p_X):\n",
    "    \"\"\"\n",
    "    Creates a Quantum Program for loading an input numpy array with a probability distribution.\n",
    "    Inputs:\n",
    "        * p_X: np.array. Probability distribution of size m. Mandatory: m=2^n where n is the number qbits of the quantum circuit. \n",
    "    Outputs:\n",
    "        * qprog: qlm program for loading input probability\n",
    "    \"\"\"\n",
    "    #Qbits of the Quantum circuit depends on Probability length\n",
    "    nqbits = TestBins(p_X, 'Probability')\n",
    "    \n",
    "    from qat.lang.AQASM import Program\n",
    "    qprog = Program()\n",
    "    qbits = qprog.qalloc(nqbits)\n",
    "    #Creation of P_gate\n",
    "    from QuantumMultiplexors_Module import LoadProbability_Gate\n",
    "    P_gate = LoadProbability_Gate(p_X)\n",
    "    #Apply Abstract gate to the qbits\n",
    "    qprog.apply(P_gate, qbits)\n",
    "    return qprog\n"
   ]
  },
  {
   "cell_type": "code",
   "execution_count": null,
   "id": "12eab9c1",
   "metadata": {},
   "outputs": [],
   "source": [
    "circuit_P = LoadProbabilityProgram(p_X).to_circ()"
   ]
  },
  {
   "cell_type": "code",
   "execution_count": null,
   "id": "8aa2e0f8",
   "metadata": {
    "scrolled": true
   },
   "outputs": [],
   "source": [
    "%qatdisplay circuit_P --depth 0"
   ]
  },
  {
   "cell_type": "markdown",
   "id": "dbe74369",
   "metadata": {},
   "source": [
    "Following cell simulates the circuit an postprocces result in order to test in probability was properly loaded. The results of the simulation is given to the **PostProcessResults** which create a pandas dataframe with the posible states and teh correspondings probabilities and amplitudes."
   ]
  },
  {
   "cell_type": "code",
   "execution_count": null,
   "id": "36b8716f",
   "metadata": {
    "scrolled": true
   },
   "outputs": [],
   "source": [
    "jobP = circuit_P.to_job()\n",
    "resultP = lineal_qpu.submit(jobP)\n",
    "P_results = PostProcessResults(resultP.join())\n"
   ]
  },
  {
   "cell_type": "code",
   "execution_count": null,
   "id": "fb8893b0",
   "metadata": {},
   "outputs": [],
   "source": [
    "P_results.head()"
   ]
  },
  {
   "cell_type": "markdown",
   "id": "fad95725",
   "metadata": {},
   "source": [
    "In order to check if the operation was done properly we can compare the outpus probability of each state and the probabilities wanted to load:"
   ]
  },
  {
   "cell_type": "code",
   "execution_count": null,
   "id": "5c201212",
   "metadata": {
    "scrolled": true
   },
   "outputs": [],
   "source": [
    "np.isclose(P_results['Probability'], p_X).all()"
   ]
  },
  {
   "cell_type": "markdown",
   "id": "a93ed9ec",
   "metadata": {},
   "source": [
    "### 2.2 LoadIntegralFunction_Gate"
   ]
  },
  {
   "cell_type": "markdown",
   "id": "bd748f2b",
   "metadata": {},
   "source": [
    "The $\\mathcal{R}$ is implemented by an Abstract qlm gate called **LoadIntegralFunction_Gate**. For creating this gate a numpy array with the function evaluation shoul be provided. The length of this array should be: $m=2^n$ where n is an integer. The created gate is a $n+1$ gate where the last qbit codifies the integral of the function.\n",
    "\n",
    "Following **LoadIntegralProgram** function creates a complete Quantum Program for loading Integral of discretized function $f(x)$ using the programed $\\mathcal{R}$ gate. The size of the function array should be $2^n$ and the circuit will have $n+1$ qbit where the last one qbit will enconde the integral of the $f(x)$"
   ]
  },
  {
   "cell_type": "code",
   "execution_count": null,
   "id": "cfc321ce",
   "metadata": {},
   "outputs": [],
   "source": [
    "def LoadIntegralProgram(f_X):\n",
    "    \"\"\"\n",
    "    Creates a Quantum Circuit for loading the integral of the input numpy array with a function evaluation \n",
    "    Inputs:\n",
    "        * f_X: np.array. Function evaluation of size m. Mandatory: m=2^n where n is the number\n",
    "        qbits of the quantum circuit. \n",
    "    Outputs:\n",
    "        * program: qlm program for loading integral of the input function\n",
    "    \"\"\"\n",
    "    #Qbits of the Quantum circuit depends on Function array length\n",
    "    nqbits = TestBins(f_X, 'Function')\n",
    "    \n",
    "    from qat.lang.AQASM import Program, H\n",
    "    qprog = Program()\n",
    "    #The additional qbit is where the integral will be encoded\n",
    "    qbits = qprog.qalloc(nqbits+1)\n",
    "    for i in range(nqbits):\n",
    "        qprog.apply(H, qbits[i])\n",
    "    #Creation of P_gate\n",
    "    from QuantumMultiplexors_Module import LoadIntegralFunction_Gate\n",
    "    R_gate = LoadIntegralFunction_Gate(f_X)\n",
    "    #Apply Abstract gate to the qbits\n",
    "    qprog.apply(R_gate, qbits)\n",
    "    return qprog\n"
   ]
  },
  {
   "cell_type": "markdown",
   "id": "b117790b",
   "metadata": {},
   "source": []
  },
  {
   "cell_type": "code",
   "execution_count": null,
   "id": "cbdb1281",
   "metadata": {},
   "outputs": [],
   "source": [
    "circuit_R = LoadIntegralProgram(f_X).to_circ()"
   ]
  },
  {
   "cell_type": "code",
   "execution_count": null,
   "id": "b335f70e",
   "metadata": {},
   "outputs": [],
   "source": [
    "%qatdisplay circuit_R --depth 0"
   ]
  },
  {
   "cell_type": "markdown",
   "id": "96249653",
   "metadata": {},
   "source": [
    "In this case we are only interested in the last qbit of the circuit that encodes the desIred integral. Following cell simulates the circuit from *LoadIntegralProgram* and post process the results using *PostProcessResults* function which ouputs a pandas dataframe with the posible states (measurement of the last qbit) and the corresponding probability"
   ]
  },
  {
   "cell_type": "code",
   "execution_count": null,
   "id": "fb342af9",
   "metadata": {},
   "outputs": [],
   "source": [
    "jobR = circuit_R.to_job(qubits = [n_qbits])\n",
    "result = lineal_qpu.submit(jobR)\n",
    "R_results = PostProcessResults(result.join())"
   ]
  },
  {
   "cell_type": "code",
   "execution_count": null,
   "id": "6e69b4da",
   "metadata": {},
   "outputs": [],
   "source": [
    "#Integral of f(x)\n",
    "MeasurementIntegral = R_results['Probability'][1]*2**(n_qbits)\n",
    "np.isclose(MeasurementIntegral, sum(f_X))"
   ]
  },
  {
   "cell_type": "markdown",
   "id": "fc989f28",
   "metadata": {},
   "source": [
    "### 2.3 Load Complete Data"
   ]
  },
  {
   "cell_type": "markdown",
   "id": "b6d18eaa",
   "metadata": {},
   "source": [
    "Now we are going to use $\\mathcal{P}$ and $\\mathcal{R}$ implemented gates in order to load $E_{x\\sim p}(f)$ in a quntum circuit. \n",
    "\n",
    "$$E_{x\\sim p}(f) = \\sum_{x=0}^{2^n-1} p(x)f(x)dx$$"
   ]
  },
  {
   "cell_type": "code",
   "execution_count": null,
   "id": "ba335c05",
   "metadata": {},
   "outputs": [],
   "source": [
    "def LoadingData(p_X, f_X):\n",
    "    \"\"\"\n",
    "    Load all the mandatory data to load in a quantum program the expected value \n",
    "    of a function f(x) over a x following a probability distribution p(x).\n",
    "    Inputs:\n",
    "        * p_X: np.array. Array of the discretized probability density\n",
    "        * f_X: np.array. Array of the discretized funcion\n",
    "    Outpus:\n",
    "        * qprog: quantum program for loading the expected value of f(x) for x following a p(x) distribution\n",
    "    \"\"\"\n",
    "    #Testing input\n",
    "    nqbits_p = TestBins(p_X, 'Probability')\n",
    "    nqbits_f = TestBins(f_X, 'Function')\n",
    "    assert nqbits_p == nqbits_f, 'Arrays lenght are not equal!!'\n",
    "    nqbits = nqbits_p\n",
    "    \n",
    "    #Creation of Gates\n",
    "    from QuantumMultiplexors_Module import LoadProbability_Gate\n",
    "    P_gate = LoadProbability_Gate(p_X)\n",
    "    from QuantumMultiplexors_Module import LoadIntegralFunction_Gate\n",
    "    R_gate = LoadIntegralFunction_Gate(f_X)\n",
    "    \n",
    "    from qat.lang.AQASM import Program\n",
    "    qprog = Program()\n",
    "    qbits = qprog.qalloc(nqbits+1)\n",
    "    #Load Probability\n",
    "    qprog.apply(P_gate, qbits[:-1])\n",
    "    #Load integral on the last qbit\n",
    "    qprog.apply(R_gate, qbits)\n",
    "    return qprog"
   ]
  },
  {
   "cell_type": "code",
   "execution_count": null,
   "id": "133b2011",
   "metadata": {},
   "outputs": [],
   "source": [
    "circuitPR = LoadingData(p_X, f_X).to_circ()"
   ]
  },
  {
   "cell_type": "code",
   "execution_count": null,
   "id": "a7e76a7d",
   "metadata": {},
   "outputs": [],
   "source": [
    "%qatdisplay circuitPR --depth 0"
   ]
  },
  {
   "cell_type": "code",
   "execution_count": null,
   "id": "05e8e1f7",
   "metadata": {},
   "outputs": [],
   "source": [
    "jobPR = circuitPR.to_job(qubits = [n_qbits])\n",
    "resultPR = lineal_qpu.submit(jobPR)\n",
    "PR_results = PostProcessResults(resultPR.join())"
   ]
  },
  {
   "cell_type": "markdown",
   "id": "bb4985f9",
   "metadata": {},
   "source": [
    "As explained before the $E_{x\\sim p}(f)$ will be loaded in the $|1\\rangle$ state of the last qbit of the circuit"
   ]
  },
  {
   "cell_type": "code",
   "execution_count": null,
   "id": "883367b3",
   "metadata": {},
   "outputs": [],
   "source": [
    "#Integral of f(x)\n",
    "MeasurementIntegral = PR_results['Probability'][1]"
   ]
  },
  {
   "cell_type": "code",
   "execution_count": null,
   "id": "159a954f",
   "metadata": {},
   "outputs": [],
   "source": [
    "np.isclose(MeasurementIntegral, sum(p_X*f_X))"
   ]
  },
  {
   "cell_type": "markdown",
   "id": "0b941a7b",
   "metadata": {},
   "source": [
    "## 3 Sumary and Important notes"
   ]
  },
  {
   "cell_type": "markdown",
   "id": "bdd44502",
   "metadata": {},
   "source": [
    "In **01_Dataloading_Module_Use** Notebook the *dataloading_module* and *dataloading_module_examples* were explained and used. \n",
    "Present Notebook try to mimic the **01_Dataloading_Module_Use** one but using and explained **QuantumMultiplexors_Module** and **QuantumMultiplexors_Module_examples**. \n",
    "\n",
    "The functions and gates implemented in *dataloading_module* and in the **QuantumMultiplexors_Module** have the same functionality: **load data, probability functions and integral functions** in a quantum state but the implementation was changed:\n",
    "* In the *dataloading_module*: several controlled by states rotations were straightoforward implemented in order to create the gates to load the data.\n",
    "* In the **QuantumMultiplexors_Module**: the loading data gates were implemented in a much more efficient way using **quantum multiplexors** where the controlloed rotations are subsituted by simple (and intelligent) qbit Rotations and $\\hat{C}_{NOT}$ gates"
   ]
  },
  {
   "cell_type": "markdown",
   "id": "35128b80",
   "metadata": {},
   "source": [
    "## 4. File Scripts"
   ]
  },
  {
   "cell_type": "markdown",
   "id": "a996c240",
   "metadata": {},
   "source": [
    "All the functions generated in this Notebook were stored in a python file, **QuantumMultiplexors_Module_examples.py** in order to use it in an easy way:\n"
   ]
  },
  {
   "cell_type": "code",
   "execution_count": null,
   "id": "b1b79ad0",
   "metadata": {},
   "outputs": [],
   "source": [
    "from AuxiliarFunctions import get_histogram, PostProcessResults\n",
    "def p(x):\n",
    "    return x*x\n",
    "def f(x):\n",
    "    return np.sin(x)\n",
    "\n",
    "#number of Qbits for the circuit\n",
    "n_qbits = 8\n",
    "#The number of bins \n",
    "m_bins = 2**n_qbits\n",
    "LowerLimit = 0.0\n",
    "UpperLimit = 1.0 \n",
    "X, p_X = get_histogram(p, LowerLimit, UpperLimit, m_bins)\n",
    "f_X = f(X)"
   ]
  },
  {
   "cell_type": "code",
   "execution_count": null,
   "id": "9a24bd8b",
   "metadata": {},
   "outputs": [],
   "source": [
    "from QuantumMultiplexors_Module_examples import LoadProbabilityProgram, LoadingData, LoadIntegralProgram"
   ]
  },
  {
   "cell_type": "code",
   "execution_count": null,
   "id": "3e2967da",
   "metadata": {},
   "outputs": [],
   "source": [
    "circuitP = LoadProbabilityProgram(p_X).to_circ()\n",
    "circuitF = LoadIntegralProgram(f_X).to_circ()\n",
    "circuitPF = LoadingData(p_X, f_X).to_circ()"
   ]
  },
  {
   "cell_type": "markdown",
   "id": "dc532498",
   "metadata": {},
   "source": [
    "### 4.1 Probability Load"
   ]
  },
  {
   "cell_type": "code",
   "execution_count": null,
   "id": "13134f03",
   "metadata": {},
   "outputs": [],
   "source": [
    "%qatdisplay circuitP"
   ]
  },
  {
   "cell_type": "code",
   "execution_count": null,
   "id": "c9f559d8",
   "metadata": {},
   "outputs": [],
   "source": [
    "jobP = circuitP.to_job()\n",
    "resultP = lineal_qpu.submit(jobP)\n",
    "P_results = PostProcessResults(resultP.join())\n",
    "np.isclose(P_results['Probability'], p_X).all()"
   ]
  },
  {
   "cell_type": "markdown",
   "id": "ce3a9eec",
   "metadata": {},
   "source": [
    "### 4.2 Integral Load"
   ]
  },
  {
   "cell_type": "code",
   "execution_count": null,
   "id": "868c947b",
   "metadata": {},
   "outputs": [],
   "source": [
    "%qatdisplay circuitF"
   ]
  },
  {
   "cell_type": "code",
   "execution_count": null,
   "id": "2197b2f1",
   "metadata": {},
   "outputs": [],
   "source": [
    "jobF = circuitF.to_job(qubits = [n_qbits])\n",
    "resultF = lineal_qpu.submit(jobF)\n",
    "F_results = PostProcessResults(resultF.join())\n",
    "MeasurementIntegral = F_results['Probability'][1]*2**(n_qbits)\n",
    "np.isclose(MeasurementIntegral, sum(f_X))"
   ]
  },
  {
   "cell_type": "markdown",
   "id": "254af80c",
   "metadata": {},
   "source": [
    "### 4.3 Complete Load"
   ]
  },
  {
   "cell_type": "code",
   "execution_count": null,
   "id": "1174c07c",
   "metadata": {},
   "outputs": [],
   "source": [
    "%qatdisplay circuitPF"
   ]
  },
  {
   "cell_type": "code",
   "execution_count": null,
   "id": "befba09c",
   "metadata": {},
   "outputs": [],
   "source": [
    "jobPF = circuitPF.to_job(qubits = [n_qbits])\n",
    "resultPF = lineal_qpu.submit(jobPF)\n",
    "PF_results = PostProcessResults(resultPF.join())\n",
    "MeasurementIntegral = PF_results['Probability'][1]\n",
    "np.isclose(MeasurementIntegral, sum(p_X*f_X))"
   ]
  },
  {
   "cell_type": "code",
   "execution_count": null,
   "id": "77eabfd6",
   "metadata": {},
   "outputs": [],
   "source": []
  }
 ],
 "metadata": {
  "kernelspec": {
   "display_name": "Python 3 (ipykernel)",
   "language": "python",
   "name": "python3"
  },
  "language_info": {
   "codemirror_mode": {
    "name": "ipython",
    "version": 3
   },
   "file_extension": ".py",
   "mimetype": "text/x-python",
   "name": "python",
   "nbconvert_exporter": "python",
   "pygments_lexer": "ipython3",
   "version": "3.9.2"
  }
 },
 "nbformat": 4,
 "nbformat_minor": 5
}
