{
 "cells": [
  {
   "cell_type": "code",
   "execution_count": null,
   "id": "12c8740d",
   "metadata": {},
   "outputs": [],
   "source": [
    "from IPython.core.display import display, HTML\n",
    "display(HTML(\"<style>.container { width:100% !important; }</style>\"))"
   ]
  },
  {
   "cell_type": "code",
   "execution_count": null,
   "id": "2321437e",
   "metadata": {},
   "outputs": [],
   "source": [
    "import numpy as np\n",
    "import pandas as pd\n",
    "import matplotlib.pyplot as plt"
   ]
  },
  {
   "cell_type": "code",
   "execution_count": null,
   "id": "2e46825c",
   "metadata": {},
   "outputs": [],
   "source": [
    "#QPU connection\n",
    "try:\n",
    "    from qat.qlmaas import QLMaaSConnection\n",
    "    connection = QLMaaSConnection()\n",
    "    LinAlg = connection.get_qpu(\"qat.qpus:LinAlg\")\n",
    "    lineal_qpu = LinAlg()\n",
    "except (ImportError, OSError) as e:\n",
    "    print('Problem: usin PyLinalg')\n",
    "    from qat.qpus import PyLinalg\n",
    "    lineal_qpu = PyLinalg()"
   ]
  },
  {
   "cell_type": "code",
   "execution_count": null,
   "id": "18c3964f",
   "metadata": {},
   "outputs": [],
   "source": [
    "%load_ext qat.core.magic"
   ]
  },
  {
   "cell_type": "markdown",
   "id": "9e337a94",
   "metadata": {},
   "source": [
    "## 1. Quantum Multiplexors"
   ]
  },
  {
   "cell_type": "markdown",
   "id": "b862e66e",
   "metadata": {},
   "source": [
    "Implementation of loading data routines using the *Lov Grover and Terry Rudolph* routines directly, using controlled rotations by state, is highly inneficient. In general the use of controlled rotations generate highly deep quantum circuits prone to errors. \n",
    "A more efficient approach is the use of Quantum Multiplexors where the only controlled gates are c-Not ones. \n",
    "\n",
    "The operation we want to implement is a controlled rotation on an angle $\\theta_i$ controlled by a state $|i\\rangle$. \n",
    "\n",
    "For a 2 qbits state the operator should be:\n",
    "\n",
    "$$\n",
    "\\hat{U}|q_0q_1\\rangle= \\{ \\begin{array}{ll}\n",
    "      |0\\rangle\\hat{R}_y(\\theta_0)|q_1\\rangle  & if \\;|q_0\\rangle = |0\\rangle \\\\\n",
    "      |1\\rangle\\hat{R}_y(\\theta_1)|q_1\\rangle  & if \\;|q_0\\rangle = |1\\rangle \\\\\n",
    "\\end{array}\n",
    "$$\n",
    "\n",
    "With a quantum multiplexor this operation can be implemented as:\n",
    "\n",
    "$$\\hat{U}(\\theta_0, \\theta_1)|q_0q_1\\rangle= \\left( \\mathbf{I} \\otimes \\hat{R}_{y} (\\frac{\\theta_0+\\theta_1}{2}) \\right) \\hat{C}_{NOT} \\left(\\mathbf{I} \\otimes \\hat{R}_{y} (\\frac{\\theta_0-\\theta_1}{2}) \\right) \\hat{C}_{NOT}|q_0q_1\\rangle$$\n",
    "\n",
    "The circuit representation for this operator is:\n",
    "\n",
    "![alt text](./QM_01.png)\n",
    "\n",
    "As can be seen the quantum multiplexor needs only $C_{NOT}$ gates that are implemented in easier way than controlled rotations\n"
   ]
  },
  {
   "cell_type": "markdown",
   "id": "5ae8c7a9",
   "metadata": {},
   "source": [
    "For controlled state rotations of more angles quantum multiplexors can be implemented in a recursively way. For example if we want apply a controlled 4 angle rotation $[\\theta_0, \\theta_1, \\theta_2, \\theta_3]$ we can use following circuit:\n",
    "\n",
    "![alt text](./QM_02.png)\n"
   ]
  },
  {
   "cell_type": "markdown",
   "id": "18e2496e",
   "metadata": {},
   "source": [
    "In general a quantum multiplexor with $m$ control qubits can be decomposed as 2 multiplexors with $m − 1$ control qubits and 2 $\\hat{C}_{NOT}$ gates:\n",
    "![alt text](./QM_03.png)"
   ]
  },
  {
   "cell_type": "markdown",
   "id": "20013504",
   "metadata": {},
   "source": [
    "In the **QuantumMultiplexors_Module** there are an implementation for a quantum multiplexor controlled by $m$ qbits and the functions neede to use them in order to load probability and a Integral function"
   ]
  },
  {
   "cell_type": "markdown",
   "id": "321fdf1f",
   "metadata": {},
   "source": [
    "## 2. Loading Data Gates: $\\mathcal{P}$ and $\\mathcal{R}$"
   ]
  },
  {
   "cell_type": "markdown",
   "id": "eac27931",
   "metadata": {},
   "source": [
    "First thing we need are the $\\mathcal{P}$ and $\\mathcal{R}$ for loading probability distribution and integral function respectively into a Quantum State."
   ]
  },
  {
   "cell_type": "code",
   "execution_count": null,
   "id": "c7008b45",
   "metadata": {},
   "outputs": [],
   "source": [
    "from AuxiliarFunctions import PostProcessResults, RunJob, get_histogram"
   ]
  },
  {
   "cell_type": "code",
   "execution_count": null,
   "id": "c5d5112b",
   "metadata": {},
   "outputs": [],
   "source": [
    "def p(x):\n",
    "    return x*x\n",
    "def f(x):\n",
    "    return np.sin(x)"
   ]
  },
  {
   "cell_type": "code",
   "execution_count": null,
   "id": "388455a5",
   "metadata": {},
   "outputs": [],
   "source": [
    "#number of Qbits for the circuit\n",
    "n_qbits = 8\n",
    "#The number of bins \n",
    "m_bins = 2**n_qbits\n",
    "LowerLimit = 0.0\n",
    "UpperLimit = 1.0 \n",
    "\n",
    "X, p_X = get_histogram(p, LowerLimit, UpperLimit, m_bins)\n",
    "f_X = f(X)"
   ]
  },
  {
   "cell_type": "markdown",
   "id": "cc32a4e2",
   "metadata": {},
   "source": [
    "### 2.1 Loading Probability gate: $\\mathcal{P}$"
   ]
  },
  {
   "cell_type": "markdown",
   "id": "8ca4a398",
   "metadata": {},
   "source": [
    "The $\\mathcal{P}$ is implemented by the function **LoadP_Gate** inside the **QuantumMultiplexors_Module**. The input should be a numpy array with the Probability distribution to load into the quantum state. The output of the function is a **qlm** *AbstractGate* customized for the input numpy array which load it into the quantum state. \n",
    "\n",
    "The following function,**LoadProbabilityProgram**, creates a Quantum Program for loading a given probability numpy array on a quantum Circuit using the Abstract qlm gate called **LoadP_Gate**"
   ]
  },
  {
   "cell_type": "code",
   "execution_count": null,
   "id": "4766b4c6",
   "metadata": {},
   "outputs": [],
   "source": [
    "def LoadProbabilityProgram(p_X):\n",
    "    \"\"\"\n",
    "    Creates a Quantum Program for loading an input numpy array with a probability distribution.\n",
    "    Inputs:\n",
    "        * p_X: np.array. Discretized probability to load.\n",
    "    Outputs:\n",
    "        * qprog: qlm program for loading input probability\n",
    "    \"\"\"\n",
    "    \n",
    "    from QuantumMultiplexors_Module import LoadP_Gate\n",
    "    P_gate = LoadP_Gate(p_X)\n",
    "    from qat.lang.AQASM import Program\n",
    "    qprog = Program()\n",
    "    qbits = qprog.qalloc(P_gate.arity)\n",
    "    qprog.apply(P_gate, qbits)\n",
    "    return qprog\n"
   ]
  },
  {
   "cell_type": "code",
   "execution_count": null,
   "id": "d03a00bf",
   "metadata": {
    "scrolled": true
   },
   "outputs": [],
   "source": [
    "circuit_P = LoadProbabilityProgram(p_X).to_circ()"
   ]
  },
  {
   "cell_type": "code",
   "execution_count": null,
   "id": "c6b53c60",
   "metadata": {
    "scrolled": true
   },
   "outputs": [],
   "source": [
    "%qatdisplay circuit_P --depth 0"
   ]
  },
  {
   "cell_type": "markdown",
   "id": "6f6ed9b3",
   "metadata": {},
   "source": [
    "Following cell simulates the circuit an postprocces result in order to test in probability was properly loaded. The results of the simulation is given to the **PostProcessResults** which create a pandas dataframe with the posible states and teh correspondings probabilities and amplitudes."
   ]
  },
  {
   "cell_type": "code",
   "execution_count": null,
   "id": "7f9e1528",
   "metadata": {
    "scrolled": true
   },
   "outputs": [],
   "source": [
    "jobP = circuit_P.to_job()\n",
    "resultP = lineal_qpu.submit(jobP)\n",
    "P_results = PostProcessResults(RunJob(resultP))"
   ]
  },
  {
   "cell_type": "code",
   "execution_count": null,
   "id": "63251b05",
   "metadata": {},
   "outputs": [],
   "source": [
    "P_results.head()"
   ]
  },
  {
   "cell_type": "markdown",
   "id": "122c28a7",
   "metadata": {},
   "source": [
    "In order to check if the operation was done properly we can compare the outpus probability of each state and the probabilities wanted to load:"
   ]
  },
  {
   "cell_type": "code",
   "execution_count": null,
   "id": "c29b3e6f",
   "metadata": {
    "scrolled": true
   },
   "outputs": [],
   "source": [
    "np.isclose(P_results['Probability'], p_X).all()"
   ]
  },
  {
   "cell_type": "markdown",
   "id": "c8f13706",
   "metadata": {},
   "source": [
    "### 2.2 Loading Integral Function gate: $\\mathcal{R}$"
   ]
  },
  {
   "cell_type": "markdown",
   "id": "3010b0e0",
   "metadata": {},
   "source": [
    "\n",
    "The $\\mathcal{R}$ is implemented by an Abstract qlm gate called **LoadR_Gate**  inside the **QuantumMultiplexors_Module**.. The input should be a numpy array with the function which integral want to be load into the quantum state. The output of the function is a **qlm** *AbstractGate* customized for the input numpy array which load the integral into the last qbit of the quantum state. \n",
    "\n",
    "\n",
    "The length of this array should be: $m=2^n$ where n is an integer. The created gate is a $n+1$ gate where the last qbit codifies the integral of the function.\n",
    "\n",
    "Following **LoadIntegralProgram** function creates a complete Quantum Program for loading Integral of discretized function $f(x)$ using the programed $\\mathcal{R}$ gate. The size of the function array should be $2^n$ and the circuit will have $n+1$ qbit where the last one qbit will enconde the integral of the $f(x)$"
   ]
  },
  {
   "cell_type": "code",
   "execution_count": null,
   "id": "337e1b62",
   "metadata": {},
   "outputs": [],
   "source": [
    "def LoadIntegralProgram(f_X):\n",
    "    \"\"\"\n",
    "    Creates a Quantum Circuit for loading the integral of the input numpy array with a function evaluation \n",
    "    Inputs:\n",
    "        * f_X: np.array. Discretized funtion to integrate\n",
    "    Outputs:\n",
    "        * program: qlm program for loading integral of the input function\n",
    "    \"\"\"\n",
    "    from QuantumMultiplexors_Module import LoadR_Gate    \n",
    "    R_gate = LoadR_Gate(f_X) \n",
    "    from qat.lang.AQASM import Program, H\n",
    "    qprog = Program()\n",
    "    qbits = qprog.qalloc(R_gate.arity)\n",
    "    for i in range(len(qbits)-1):\n",
    "        qprog.apply(H, qbits[i])    \n",
    "    qprog.apply(R_gate, qbits)\n",
    "    return qprog\n"
   ]
  },
  {
   "cell_type": "code",
   "execution_count": null,
   "id": "fcc6781b",
   "metadata": {},
   "outputs": [],
   "source": [
    "circuit_R = LoadIntegralProgram(f_X).to_circ()"
   ]
  },
  {
   "cell_type": "code",
   "execution_count": null,
   "id": "2d397cd5",
   "metadata": {},
   "outputs": [],
   "source": [
    "%qatdisplay circuit_R --depth 0"
   ]
  },
  {
   "cell_type": "markdown",
   "id": "8ef88789",
   "metadata": {},
   "source": [
    "In this case we are only interested in the last qbit of the circuit that encodes the desIred integral. Following cell simulates the circuit from *LoadIntegralProgram* and post process the results using *PostProcessResults* function which ouputs a pandas dataframe with the posible states (measurement of the last qbit) and the corresponding probability"
   ]
  },
  {
   "cell_type": "code",
   "execution_count": null,
   "id": "d349f676",
   "metadata": {},
   "outputs": [],
   "source": [
    "jobR = circuit_R.to_job(qubits = [n_qbits])\n",
    "resultR = lineal_qpu.submit(jobR)\n",
    "R_results = PostProcessResults(RunJob(resultR))"
   ]
  },
  {
   "cell_type": "code",
   "execution_count": null,
   "id": "a1754597",
   "metadata": {},
   "outputs": [],
   "source": [
    "#Integral of f(x)\n",
    "MeasurementIntegral = R_results['Probability'][1]*2**(n_qbits)\n",
    "np.isclose(MeasurementIntegral, sum(f_X))"
   ]
  },
  {
   "cell_type": "markdown",
   "id": "8bbc8c3e",
   "metadata": {},
   "source": [
    "### 2.3 Load Complete Data"
   ]
  },
  {
   "cell_type": "markdown",
   "id": "ba4e7132",
   "metadata": {},
   "source": [
    "Now we are going to use $\\mathcal{P}$ and $\\mathcal{R}$ implemented gates in order to load $E_{x\\sim p}(f)$ in a quntum circuit. \n",
    "\n",
    "$$E_{x\\sim p}(f) = \\sum_{x=0}^{2^n-1} p(x)f(x)dx$$"
   ]
  },
  {
   "cell_type": "code",
   "execution_count": null,
   "id": "1c492662",
   "metadata": {},
   "outputs": [],
   "source": [
    "def LoadingData(p_X, f_X):\n",
    "    \"\"\"\n",
    "    Load all the mandatory data to load in a quantum program the expected value \n",
    "    of a function f(x) over a x following a probability distribution p(x).\n",
    "    Inputs:\n",
    "        * p_X: np.array. Array of the discretized probability density\n",
    "        * f_X: np.array. Array of the discretized funcion\n",
    "    Outpus:\n",
    "        * qprog: quantum program for loading the expected value of f(x) for x following a p(x) distribution\n",
    "    \"\"\"\n",
    "    #Testing input\n",
    "    \n",
    "    assert len(p_X) == len(f_X), 'Arrays lenght are not equal!!'\n",
    "    from QuantumMultiplexors_Module import LoadP_Gate, LoadR_Gate\n",
    "    P_gate = LoadP_Gate(p_X)       \n",
    "    R_gate = LoadR_Gate(f_X) \n",
    "\n",
    "    \n",
    "    from qat.lang.AQASM import Program\n",
    "    qprog = Program()\n",
    "    #The R gate have more qbits\n",
    "    qbits = qprog.qalloc(R_gate.arity)\n",
    "    #Load Probability\n",
    "    qprog.apply(P_gate, qbits[:-1])\n",
    "    #Load integral on the last qbit\n",
    "    qprog.apply(R_gate, qbits)\n",
    "    return qprog"
   ]
  },
  {
   "cell_type": "code",
   "execution_count": null,
   "id": "8dba69fb",
   "metadata": {},
   "outputs": [],
   "source": [
    "circuitPR = LoadingData(p_X, f_X).to_circ()"
   ]
  },
  {
   "cell_type": "code",
   "execution_count": null,
   "id": "bb869916",
   "metadata": {},
   "outputs": [],
   "source": [
    "%qatdisplay circuitPR --depth 0"
   ]
  },
  {
   "cell_type": "code",
   "execution_count": null,
   "id": "788dfc43",
   "metadata": {},
   "outputs": [],
   "source": [
    "jobPR = circuitPR.to_job(qubits = [n_qbits])\n",
    "resultPR = lineal_qpu.submit(jobPR)\n",
    "PR_results = PostProcessResults(RunJob(resultPR))"
   ]
  },
  {
   "cell_type": "markdown",
   "id": "8db2a8ae",
   "metadata": {},
   "source": [
    "As explained before the $E_{x\\sim p}(f)$ will be loaded in the $|1\\rangle$ state of the last qbit of the circuit"
   ]
  },
  {
   "cell_type": "code",
   "execution_count": null,
   "id": "bc7050fb",
   "metadata": {},
   "outputs": [],
   "source": [
    "#Integral of f(x)\n",
    "MeasurementIntegral = PR_results['Probability'][1]\n",
    "print('MeasurementIntegral: {}'.format(MeasurementIntegral))\n",
    "print('Integral p(x)f(x): {}'.format(sum(p_X*f_X)))"
   ]
  },
  {
   "cell_type": "code",
   "execution_count": null,
   "id": "ca6271a7",
   "metadata": {},
   "outputs": [],
   "source": [
    "np.isclose(MeasurementIntegral, sum(p_X*f_X))"
   ]
  },
  {
   "cell_type": "markdown",
   "id": "e97f97e5",
   "metadata": {},
   "source": [
    "## 3 Sumary and Important notes"
   ]
  },
  {
   "cell_type": "markdown",
   "id": "e958eb1b",
   "metadata": {},
   "source": [
    "In **01_Dataloading_Module_Use** Notebook the *dataloading_module* and *dataloading_module_examples* were explained and used. \n",
    "Present Notebook try to mimic the **01_Dataloading_Module_Use** one but using and explained **QuantumMultiplexors_Module** and **QuantumMultiplexors_Module_examples**. \n",
    "\n",
    "The functions and gates implemented in *dataloading_module* and in the **QuantumMultiplexors_Module** have the same functionality: **load data, probability functions and integral functions** in a quantum state but the implementation was changed:\n",
    "* In the *dataloading_module*: several controlled by states rotations were straightoforward implemented in order to create the gates to load the data.\n",
    "* In the **QuantumMultiplexors_Module**: the loading data gates were implemented in a much more efficient way using **quantum multiplexors** where the controlloed rotations are subsituted by simple (and intelligent) qbit Rotations and $\\hat{C}_{NOT}$ gates"
   ]
  },
  {
   "cell_type": "markdown",
   "id": "529cf4c5",
   "metadata": {},
   "source": [
    "## 4. File Scripts"
   ]
  },
  {
   "cell_type": "markdown",
   "id": "96ff447b",
   "metadata": {},
   "source": [
    "All the functions generated in this Notebook were stored in a python file, **QuantumMultiplexors_Module_examples.py** in order to use it in an easy way:\n"
   ]
  },
  {
   "cell_type": "code",
   "execution_count": null,
   "id": "352c51e8",
   "metadata": {},
   "outputs": [],
   "source": [
    "from AuxiliarFunctions import get_histogram, PostProcessResults\n",
    "def p(x):\n",
    "    return x*x\n",
    "def f(x):\n",
    "    return np.sin(x)\n",
    "\n",
    "#number of Qbits for the circuit\n",
    "n_qbits = 6\n",
    "#The number of bins \n",
    "m_bins = 2**n_qbits\n",
    "LowerLimit = 0.0\n",
    "UpperLimit = 1.0 \n",
    "X, p_X = get_histogram(p, LowerLimit, UpperLimit, m_bins)\n",
    "f_X = f(X)"
   ]
  },
  {
   "cell_type": "code",
   "execution_count": null,
   "id": "e95c84cf",
   "metadata": {},
   "outputs": [],
   "source": [
    "from QuantumMultiplexors_Module_examples import LoadProbabilityProgram, LoadingData, LoadIntegralProgram"
   ]
  },
  {
   "cell_type": "markdown",
   "id": "161faae6",
   "metadata": {},
   "source": [
    "### 4.1 Probability Load"
   ]
  },
  {
   "cell_type": "code",
   "execution_count": null,
   "id": "69d3ed6e",
   "metadata": {},
   "outputs": [],
   "source": [
    "circuitP = LoadProbabilityProgram(p_X).to_circ()\n",
    "%qatdisplay circuitP"
   ]
  },
  {
   "cell_type": "code",
   "execution_count": null,
   "id": "793bc759",
   "metadata": {},
   "outputs": [],
   "source": [
    "jobP = circuitP.to_job()\n",
    "resultP = lineal_qpu.submit(jobP)\n",
    "P_results = PostProcessResults(RunJob(resultP))\n",
    "np.isclose(P_results['Probability'], p_X).all()"
   ]
  },
  {
   "cell_type": "code",
   "execution_count": null,
   "id": "60626ce9",
   "metadata": {},
   "outputs": [],
   "source": [
    "P_results['Probability']"
   ]
  },
  {
   "cell_type": "code",
   "execution_count": null,
   "id": "d9c382c8",
   "metadata": {},
   "outputs": [],
   "source": [
    "p_X"
   ]
  },
  {
   "cell_type": "markdown",
   "id": "c97ef7e2",
   "metadata": {},
   "source": [
    "### 4.2 Integral Load"
   ]
  },
  {
   "cell_type": "code",
   "execution_count": null,
   "id": "68a31a57",
   "metadata": {},
   "outputs": [],
   "source": [
    "circuitF = LoadIntegralProgram(f_X).to_circ()\n",
    "%qatdisplay circuitF"
   ]
  },
  {
   "cell_type": "code",
   "execution_count": null,
   "id": "f9188c70",
   "metadata": {},
   "outputs": [],
   "source": [
    "jobF = circuitF.to_job(qubits = [n_qbits])\n",
    "resultF = lineal_qpu.submit(jobF)\n",
    "F_results = PostProcessResults(RunJob(resultF))\n",
    "MeasurementIntegral = F_results['Probability'][1]*2**(n_qbits)\n",
    "np.isclose(MeasurementIntegral, sum(f_X))"
   ]
  },
  {
   "cell_type": "markdown",
   "id": "351790d5",
   "metadata": {},
   "source": [
    "### 4.3 Complete Load"
   ]
  },
  {
   "cell_type": "code",
   "execution_count": null,
   "id": "27d28271",
   "metadata": {},
   "outputs": [],
   "source": [
    "circuitPF = LoadingData(p_X, f_X).to_circ()\n",
    "%qatdisplay circuitPF"
   ]
  },
  {
   "cell_type": "code",
   "execution_count": null,
   "id": "32a2fd38",
   "metadata": {},
   "outputs": [],
   "source": [
    "jobPF = circuitPF.to_job(qubits = [n_qbits])\n",
    "resultPF = lineal_qpu.submit(jobPF)\n",
    "PF_results = PostProcessResults(RunJob(resultPF))\n",
    "MeasurementIntegral = PF_results['Probability'][1]\n",
    "np.isclose(MeasurementIntegral, sum(p_X*f_X))"
   ]
  },
  {
   "cell_type": "markdown",
   "id": "05164bfb",
   "metadata": {},
   "source": [
    "### 4.4 Testing Do"
   ]
  },
  {
   "cell_type": "code",
   "execution_count": null,
   "id": "e7630e41",
   "metadata": {},
   "outputs": [],
   "source": [
    "from QuantumMultiplexors_Module_examples import Do"
   ]
  },
  {
   "cell_type": "code",
   "execution_count": null,
   "id": "dd667640",
   "metadata": {},
   "outputs": [],
   "source": [
    "Do(function='P')"
   ]
  },
  {
   "cell_type": "code",
   "execution_count": null,
   "id": "9a4896ce",
   "metadata": {},
   "outputs": [],
   "source": [
    "Do(function='I')"
   ]
  },
  {
   "cell_type": "code",
   "execution_count": null,
   "id": "ea542e34",
   "metadata": {},
   "outputs": [],
   "source": [
    "Do()"
   ]
  },
  {
   "cell_type": "code",
   "execution_count": null,
   "id": "6fa212f2",
   "metadata": {},
   "outputs": [],
   "source": []
  }
 ],
 "metadata": {
  "kernelspec": {
   "display_name": "Python 3 (ipykernel)",
   "language": "python",
   "name": "python3"
  },
  "language_info": {
   "codemirror_mode": {
    "name": "ipython",
    "version": 3
   },
   "file_extension": ".py",
   "mimetype": "text/x-python",
   "name": "python",
   "nbconvert_exporter": "python",
   "pygments_lexer": "ipython3",
   "version": "3.9.9"
  }
 },
 "nbformat": 4,
 "nbformat_minor": 5
}
