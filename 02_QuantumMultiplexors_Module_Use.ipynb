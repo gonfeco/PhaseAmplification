{
 "cells": [
  {
   "cell_type": "code",
   "execution_count": null,
   "id": "12c8740d",
   "metadata": {},
   "outputs": [],
   "source": [
    "from IPython.core.display import display, HTML\n",
    "display(HTML(\"<style>.container { width:100% !important; }</style>\"))"
   ]
  },
  {
   "cell_type": "code",
   "execution_count": null,
   "id": "2321437e",
   "metadata": {},
   "outputs": [],
   "source": [
    "import numpy as np\n",
    "import pandas as pd\n",
    "import matplotlib.pyplot as plt"
   ]
  },
  {
   "cell_type": "code",
   "execution_count": null,
   "id": "2e46825c",
   "metadata": {},
   "outputs": [],
   "source": [
    "#QPU connection\n",
    "try:\n",
    "    from qat.qlmaas import QLMaaSConnection\n",
    "    connection = QLMaaSConnection()\n",
    "    LinAlg = connection.get_qpu(\"qat.qpus:LinAlg\")\n",
    "    lineal_qpu = LinAlg()\n",
    "except ImportError:\n",
    "    from qat.qpus import PyLinalg\n",
    "    lineal_qpu = PyLinalg()"
   ]
  },
  {
   "cell_type": "code",
   "execution_count": null,
   "id": "18c3964f",
   "metadata": {},
   "outputs": [],
   "source": [
    "%load_ext qat.core.magic"
   ]
  },
  {
   "cell_type": "markdown",
   "id": "9e337a94",
   "metadata": {},
   "source": [
    "## 1. Quantum Multiplexors"
   ]
  },
  {
   "cell_type": "markdown",
   "id": "b862e66e",
   "metadata": {},
   "source": [
    "Implementation of loading data routines using the *Lov Grover and Terry Rudolph* routines directly, using controlled rotations by state, is highly inneficient. In general the use of controlled rotations generate highly deep quantum circuits prone to errors. \n",
    "A more efficient approach is the use of Quantum Multiplexors where the only controlled gates are c-Not ones. \n",
    "\n",
    "The operation we want to implement is a controlled rotation on an angle $\\theta_i$ controlled by a state $|i\\rangle$. \n",
    "\n",
    "For a 2 qbits state the operator should be:\n",
    "\n",
    "$$\n",
    "\\hat{U}|q_0q_1\\rangle= \\{ \\begin{array}{ll}\n",
    "      |0\\rangle\\hat{R}_y(\\theta_0)|q_1\\rangle  & if \\;|q_0\\rangle = |0\\rangle \\\\\n",
    "      |1\\rangle\\hat{R}_y(\\theta_1)|q_1\\rangle  & if \\;|q_0\\rangle = |1\\rangle \\\\\n",
    "\\end{array}\n",
    "$$\n",
    "\n",
    "With a quantum multiplexor this operation can be implemented as:\n",
    "\n",
    "$$\\hat{U}(\\theta_0, \\theta_1)|q_0q_1\\rangle= \\left( \\mathbf{I} \\otimes \\hat{R}_{y} (\\frac{\\theta_0+\\theta_1}{2}) \\right) \\hat{C}_{NOT} \\left(\\mathbf{I} \\otimes \\hat{R}_{y} (\\frac{\\theta_0-\\theta_1}{2}) \\right) \\hat{C}_{NOT}|q_0q_1\\rangle$$\n",
    "\n",
    "The circuit representation for this operator is:\n",
    "\n",
    "![alt text](./QM_01.png)\n",
    "\n",
    "As can be seen the quantum multiplexor needs only $C_{NOT}$ gates that are implemented in easier way than controlled rotations\n"
   ]
  },
  {
   "cell_type": "markdown",
   "id": "5ae8c7a9",
   "metadata": {},
   "source": [
    "For controlled state rotations of more angles quantum multiplexors can be implemented in a recursively way. For example if we want apply a controlled 4 angle rotation $[\\theta_0, \\theta_1, \\theta_2, \\theta_3]$ we can use following circuit:\n",
    "\n",
    "![alt text](./QM_02.png)\n"
   ]
  },
  {
   "cell_type": "markdown",
   "id": "18e2496e",
   "metadata": {},
   "source": [
    "In general a quantum multiplexor with $m$ control qubits can be decomposed as 2 multiplexors with $m − 1$ control qubits and 2 $\\hat{C}_{NOT}$ gates:\n",
    "![alt text](./QM_03.png)"
   ]
  },
  {
   "cell_type": "markdown",
   "id": "20013504",
   "metadata": {},
   "source": [
    "In the **QuantumMultiplexors_Module** there are an implementation for a quantum multiplexor controlled by $m$ qbits and the functions neede to use them in order to load probability and a Integral function"
   ]
  },
  {
   "cell_type": "markdown",
   "id": "321fdf1f",
   "metadata": {},
   "source": [
    "## 2. Loading Data Gates: $\\mathcal{P}$ and $\\mathcal{R}$"
   ]
  },
  {
   "cell_type": "markdown",
   "id": "eac27931",
   "metadata": {},
   "source": [
    "First thing we need are the $\\mathcal{P}$ and $\\mathcal{R}$ for loading probability distribution and integral function respectively into a Quantum State."
   ]
  },
  {
   "cell_type": "code",
   "execution_count": null,
   "id": "c5d5112b",
   "metadata": {},
   "outputs": [],
   "source": [
    "from AuxiliarFunctions import  get_histogram, PostProcessResults, TestBins, LeftConditionalProbability\n",
    "def p(x):\n",
    "    return x*x\n",
    "def f(x):\n",
    "    return np.sin(x)"
   ]
  },
  {
   "cell_type": "code",
   "execution_count": null,
   "id": "388455a5",
   "metadata": {},
   "outputs": [],
   "source": [
    "#number of Qbits for the circuit\n",
    "n_qbits = 8\n",
    "#The number of bins \n",
    "m_bins = 2**n_qbits\n",
    "LowerLimit = 0.0\n",
    "UpperLimit = 1.0 \n",
    "\n",
    "X, p_X = get_histogram(p, LowerLimit, UpperLimit, m_bins)\n",
    "f_X = f(X)"
   ]
  },
  {
   "cell_type": "markdown",
   "id": "cc32a4e2",
   "metadata": {},
   "source": [
    "### 2.1 Loading Probability gate: $\\mathcal{P}$"
   ]
  },
  {
   "cell_type": "markdown",
   "id": "8ca4a398",
   "metadata": {},
   "source": [
    "Following cell creates the AbstractGate and the function generator for the Loading Probability gate: $\\mathcal{P}$. The **multiplexor_RY_m**  recursive function is needed in order to implement controlled rotations by state with quantum multiplexors."
   ]
  },
  {
   "cell_type": "code",
   "execution_count": null,
   "id": "741e5a99",
   "metadata": {},
   "outputs": [],
   "source": [
    "from qat.lang.AQASM import QRoutine, AbstractGate, RY\n",
    "from QuantumMultiplexors_Module import  multiplexor_RY_m\n",
    "def P_generatorQM(Dictionary):\n",
    "    \"\"\"\n",
    "    Function generator for the AbstractGate that allows the loading of a discretized Probability\n",
    "    in a Quantum State using Quantum Multiplexors\n",
    "    Inputs:\n",
    "        * ProbabilityArray: dict. Python dictionary whit a key named \"array\" whose corresponding item is a numpy array with the discretized\n",
    "    probability to load. If ProbabilityArray = Dictionary['array']. The number of qbits will be log2(len(ProbabilityArray)). \n",
    "    Outuput:\n",
    "        * qrout: Quantum routine. Routine for loading the discrete probability with Quantum Multiplexors.\n",
    "    \"\"\"\n",
    "    \n",
    "    \n",
    "    ProbabilityArray = Dictionary['array']\n",
    "    nqbits = TestBins(ProbabilityArray, text='Function')\n",
    "    \n",
    "    qrout = QRoutine()\n",
    "    reg = qrout.new_wires(nqbits)\n",
    "    # Now go iteratively trough each qubit computing the probabilities and adding the corresponding multiplexor\n",
    "    for m in range(nqbits):\n",
    "        #Calculates Conditional Probability\n",
    "        ConditionalProbability = LeftConditionalProbability(m, ProbabilityArray)        \n",
    "        #Rotation angles: length: 2^(i-1)-1 and i the number of qbits of the step\n",
    "        thetas = 2.0*(np.arccos(np.sqrt(ConditionalProbability)))   \n",
    "        \n",
    "        if m == 0:\n",
    "            # In the first iteration it is only needed a RY gate\n",
    "            qrout.apply(RY(thetas[0]), reg[0])\n",
    "        else:\n",
    "            # In the following iterations we have to apply multiplexors controlled by m qubits\n",
    "            # We call a function to construct the multiplexor, whose action is a block diagonal matrix of Ry gates with angles theta\n",
    "            multiplexor_RY_m(qrout, reg, thetas, m, m)        \n",
    "    return qrout  \n",
    "\n",
    "LoadP_Gate = AbstractGate(\n",
    "    \"P_Gate\",\n",
    "    [dict],\n",
    "    circuit_generator = P_generatorQM,\n",
    "    arity = lambda x:TestBins(x['array'], 'Function')\n",
    ")\n"
   ]
  },
  {
   "cell_type": "code",
   "execution_count": null,
   "id": "6b2aa495",
   "metadata": {},
   "outputs": [],
   "source": [
    "from qat.lang.AQASM import Program\n",
    "qprog = Program()\n",
    "qbits = qprog.qalloc(n_qbits)\n",
    "P_gate = LoadP_Gate({'array':p_X})\n",
    "qprog.apply(P_gate, qbits)\n",
    "circuit = qprog.to_circ()"
   ]
  },
  {
   "cell_type": "code",
   "execution_count": null,
   "id": "6712251a",
   "metadata": {},
   "outputs": [],
   "source": [
    "%qatdisplay circuit --depth 0"
   ]
  },
  {
   "cell_type": "code",
   "execution_count": null,
   "id": "3202031f",
   "metadata": {},
   "outputs": [],
   "source": [
    "job = circuit.to_job()\n",
    "result = lineal_qpu.submit(job)\n",
    "P_results = PostProcessResults(result.join())\n"
   ]
  },
  {
   "cell_type": "code",
   "execution_count": null,
   "id": "9d84c164",
   "metadata": {},
   "outputs": [],
   "source": [
    "np.isclose(P_results['Probability'], p_X).all()"
   ]
  },
  {
   "cell_type": "markdown",
   "id": "c8f13706",
   "metadata": {},
   "source": [
    "### 2.2 Loading Integral Function gate: $\\mathcal{R}$"
   ]
  },
  {
   "cell_type": "markdown",
   "id": "3010b0e0",
   "metadata": {},
   "source": [
    "Following cell creates the AbstractGate and the function generator for the Loading Integral Function gate: $\\mathcal{P}$. The **multiplexor_RY_m**  recursive function is needed in order to implement controlled rotations by state with quantum multiplexors."
   ]
  },
  {
   "cell_type": "code",
   "execution_count": null,
   "id": "b3e523ed",
   "metadata": {},
   "outputs": [],
   "source": [
    "from qat.lang.AQASM import QRoutine, AbstractGate, RY\n",
    "from QuantumMultiplexors_Module import  multiplexor_RY_m\n",
    "def R_generatorQM(Dictionary):\n",
    "    \"\"\"\n",
    "    Function generator for creating an AbstractGate that allows the loading of the integral of a given\n",
    "    discretized function array into a Quantum State using Quantum Multiplexors\n",
    "    Inputs:\n",
    "        * Dictionary: dict. Python dictionary with a key named \"array\" whose corresponding item is a numpy array with the discrietized function. If the discretized function is FunctionArray = Dictionary['array'] the number of qbits will be log2(len(FunctionArray)) + 1 qbits.\n",
    "    Outuput:\n",
    "        * qrout: quantum routine. Routine for loading the input function as a integral on the last qbit using Quantum Multiplexors\n",
    "    \"\"\"\n",
    "    \n",
    "    FunctionArray = Dictionary['array']\n",
    "    \n",
    "    assert np.all(FunctionArray<=1.), 'The image of the function must be less than 1. Rescaling is required'\n",
    "    assert np.all(FunctionArray>=0.), 'The image of the function must be greater than 0. Rescaling is required'\n",
    "    assert isinstance(FunctionArray, np.ndarray), 'the output of the function p must be a numpy array'    \n",
    "    \n",
    "    nqbits = TestBins(FunctionArray, text='Function')\n",
    "    #Calculation of the rotation angles\n",
    "    thetas = 2.0*np.arcsin(np.sqrt(FunctionArray))\n",
    "    \n",
    "\n",
    "    qrout = QRoutine()\n",
    "    reg = qrout.new_wires(nqbits+1)\n",
    "    multiplexor_RY_m(qrout, reg, thetas, nqbits, nqbits)\n",
    "    return qrout    \n",
    "\n",
    "LoadR_Gate = AbstractGate(\n",
    "    \"R_Gate\",\n",
    "    [dict],\n",
    "    circuit_generator = R_generatorQM,\n",
    "    arity = lambda x:TestBins(x['array'], 'Function')+1\n",
    ")\n"
   ]
  },
  {
   "cell_type": "code",
   "execution_count": null,
   "id": "c84d84ee",
   "metadata": {},
   "outputs": [],
   "source": [
    "from qat.lang.AQASM import Program, H\n",
    "qprog = Program()\n",
    "qbits = qprog.qalloc(n_qbits+1)\n",
    "for i in range(n_qbits):\n",
    "    qprog.apply(H, qbits[i])\n",
    "R_gate = LoadR_Gate({'array':f_X})\n",
    "qprog.apply(R_gate, qbits)\n",
    "circuit = qprog.to_circ()"
   ]
  },
  {
   "cell_type": "code",
   "execution_count": null,
   "id": "9ad45895",
   "metadata": {},
   "outputs": [],
   "source": [
    "%qatdisplay circuit --depth 0"
   ]
  },
  {
   "cell_type": "code",
   "execution_count": null,
   "id": "ba1062d9",
   "metadata": {},
   "outputs": [],
   "source": [
    "job = circuit.to_job(qubits = [n_qbits])\n",
    "result = lineal_qpu.submit(job)\n",
    "R_results = PostProcessResults(result.join())"
   ]
  },
  {
   "cell_type": "code",
   "execution_count": null,
   "id": "2b66e12d",
   "metadata": {},
   "outputs": [],
   "source": [
    "#Integral of f(x)\n",
    "MeasurementIntegral = R_results['Probability'][1]*2**(n_qbits)\n",
    "np.isclose(MeasurementIntegral, sum(f_X))"
   ]
  },
  {
   "cell_type": "markdown",
   "id": "c6fbe06e",
   "metadata": {},
   "source": [
    "## 3. Loading Circuit Functions"
   ]
  },
  {
   "cell_type": "markdown",
   "id": "9e8f4b98",
   "metadata": {},
   "source": [
    "The implemented gates of the second section were saved into the **QuantumMultiplexors_Module** for using them in a straigthtoforward way_"
   ]
  },
  {
   "cell_type": "markdown",
   "id": "17b102e0",
   "metadata": {},
   "source": [
    "### 3.1 Function for probability loading"
   ]
  },
  {
   "cell_type": "markdown",
   "id": "45e4f858",
   "metadata": {},
   "source": [
    "Following cell can be used for creating a quntum program to load a discretized probaility function.."
   ]
  },
  {
   "cell_type": "code",
   "execution_count": null,
   "id": "41b18000",
   "metadata": {},
   "outputs": [],
   "source": [
    "def LoadProbabilityProgram(p_X):\n",
    "    \"\"\"\n",
    "    Creates a Quantum Program for loading an input numpy array with a probability distribution.\n",
    "    Inputs:\n",
    "        * p_X: np.array. Discretized probability to load.\n",
    "    Outputs:\n",
    "        * qprog: qlm program for loading input probability\n",
    "    \"\"\"\n",
    "    \n",
    "    from QuantumMultiplexors_Module import LoadP_Gate\n",
    "    P_gate = LoadP_Gate({'array':p_X})\n",
    "    from qat.lang.AQASM import Program\n",
    "    qprog = Program()\n",
    "    qbits = qprog.qalloc(P_gate.arity)\n",
    "    qprog.apply(P_gate, qbits)\n",
    "    return qprog\n"
   ]
  },
  {
   "cell_type": "code",
   "execution_count": null,
   "id": "58f8d670",
   "metadata": {
    "scrolled": true
   },
   "outputs": [],
   "source": [
    "circuit_P = LoadProbabilityProgram(p_X).to_circ()"
   ]
  },
  {
   "cell_type": "code",
   "execution_count": null,
   "id": "609c1da3",
   "metadata": {
    "scrolled": true
   },
   "outputs": [],
   "source": [
    "%qatdisplay circuit_P --depth 0"
   ]
  },
  {
   "cell_type": "markdown",
   "id": "c3a3599b",
   "metadata": {},
   "source": [
    "Following cell simulates the circuit an postprocces result in order to test in probability was properly loaded. The results of the simulation is given to the **PostProcessResults** which create a pandas dataframe with the posible states and teh correspondings probabilities and amplitudes."
   ]
  },
  {
   "cell_type": "code",
   "execution_count": null,
   "id": "8c0c2961",
   "metadata": {
    "scrolled": true
   },
   "outputs": [],
   "source": [
    "jobP = circuit_P.to_job()\n",
    "resultP = lineal_qpu.submit(jobP)\n",
    "P_results = PostProcessResults(resultP.join())\n"
   ]
  },
  {
   "cell_type": "code",
   "execution_count": null,
   "id": "f2f52699",
   "metadata": {},
   "outputs": [],
   "source": [
    "P_results.head()"
   ]
  },
  {
   "cell_type": "markdown",
   "id": "67c2b33e",
   "metadata": {},
   "source": [
    "In order to check if the operation was done properly we can compare the outpus probability of each state and the probabilities wanted to load:"
   ]
  },
  {
   "cell_type": "code",
   "execution_count": null,
   "id": "b9e8330e",
   "metadata": {
    "scrolled": true
   },
   "outputs": [],
   "source": [
    "np.isclose(P_results['Probability'], p_X).all()"
   ]
  },
  {
   "cell_type": "markdown",
   "id": "da32202b",
   "metadata": {},
   "source": [
    "### 3.2 Function for integral loading"
   ]
  },
  {
   "cell_type": "markdown",
   "id": "d51d4775",
   "metadata": {},
   "source": [
    "Following cell can be used for creating a quntum program to load the integral of a discretized function."
   ]
  },
  {
   "cell_type": "code",
   "execution_count": null,
   "id": "7b0f62cf",
   "metadata": {},
   "outputs": [],
   "source": [
    "def LoadIntegralProgram(f_X):\n",
    "    \"\"\"\n",
    "    Creates a Quantum Circuit for loading the integral of the input numpy array with a function evaluation \n",
    "    Inputs:\n",
    "        * f_X: np.array. Discretized funtion to integrate\n",
    "    Outputs:\n",
    "        * program: qlm program for loading integral of the input function\n",
    "    \"\"\"\n",
    "    from QuantumMultiplexors_Module import LoadR_Gate    \n",
    "    R_gate = LoadR_Gate({'array':f_X}) \n",
    "    from qat.lang.AQASM import Program, H\n",
    "    qprog = Program()\n",
    "    qbits = qprog.qalloc(R_gate.arity)\n",
    "    for i in range(len(qbits)-1):\n",
    "        qprog.apply(H, qbits[i])    \n",
    "    qprog.apply(R_gate, qbits)\n",
    "    return qprog\n"
   ]
  },
  {
   "cell_type": "code",
   "execution_count": null,
   "id": "55b2f8e5",
   "metadata": {},
   "outputs": [],
   "source": [
    "circuit_R = LoadIntegralProgram(f_X).to_circ()"
   ]
  },
  {
   "cell_type": "code",
   "execution_count": null,
   "id": "a1c2bd56",
   "metadata": {},
   "outputs": [],
   "source": [
    "%qatdisplay circuit_R --depth 0"
   ]
  },
  {
   "cell_type": "markdown",
   "id": "b518de09",
   "metadata": {},
   "source": [
    "In this case we are only interested in the last qbit of the circuit that encodes the desIred integral. Following cell simulates the circuit from *LoadIntegralProgram* and post process the results using *PostProcessResults* function which ouputs a pandas dataframe with the posible states (measurement of the last qbit) and the corresponding probability"
   ]
  },
  {
   "cell_type": "code",
   "execution_count": null,
   "id": "ab782327",
   "metadata": {},
   "outputs": [],
   "source": [
    "jobR = circuit_R.to_job(qubits = [n_qbits])\n",
    "result = lineal_qpu.submit(jobR)\n",
    "R_results = PostProcessResults(result.join())"
   ]
  },
  {
   "cell_type": "code",
   "execution_count": null,
   "id": "ce509c28",
   "metadata": {},
   "outputs": [],
   "source": [
    "#Integral of f(x)\n",
    "MeasurementIntegral = R_results['Probability'][1]*2**(n_qbits)\n",
    "np.isclose(MeasurementIntegral, sum(f_X))"
   ]
  },
  {
   "cell_type": "markdown",
   "id": "8bbc8c3e",
   "metadata": {},
   "source": [
    "### 2.3 Load Complete Data"
   ]
  },
  {
   "cell_type": "markdown",
   "id": "ba4e7132",
   "metadata": {},
   "source": [
    "Now we are going to use $\\mathcal{P}$ and $\\mathcal{R}$ implemented gates in order to load $E_{x\\sim p}(f)$ in a quntum circuit. \n",
    "\n",
    "$$E_{x\\sim p}(f) = \\sum_{x=0}^{2^n-1} p(x)f(x)dx$$"
   ]
  },
  {
   "cell_type": "code",
   "execution_count": null,
   "id": "1c492662",
   "metadata": {},
   "outputs": [],
   "source": [
    "def LoadingData(p_X, f_X):\n",
    "    \"\"\"\n",
    "    Load all the mandatory data to load in a quantum program the expected value \n",
    "    of a function f(x) over a x following a probability distribution p(x).\n",
    "    Inputs:\n",
    "        * p_X: np.array. Array of the discretized probability density\n",
    "        * f_X: np.array. Array of the discretized funcion\n",
    "    Outpus:\n",
    "        * qprog: quantum program for loading the expected value of f(x) for x following a p(x) distribution\n",
    "    \"\"\"\n",
    "    #Testing input\n",
    "    \n",
    "    assert len(p_X) == len(f_X), 'Arrays lenght are not equal!!'\n",
    "    from QuantumMultiplexors_Module import LoadP_Gate, LoadR_Gate\n",
    "    P_gate = LoadP_Gate({'array':p_X})       \n",
    "    R_gate = LoadR_Gate({'array':f_X}) \n",
    "\n",
    "    \n",
    "    from qat.lang.AQASM import Program\n",
    "    qprog = Program()\n",
    "    #The R gate have more qbits\n",
    "    qbits = qprog.qalloc(R_gate.arity)\n",
    "    #Load Probability\n",
    "    qprog.apply(P_gate, qbits[:-1])\n",
    "    #Load integral on the last qbit\n",
    "    qprog.apply(R_gate, qbits)\n",
    "    return qprog"
   ]
  },
  {
   "cell_type": "code",
   "execution_count": null,
   "id": "8dba69fb",
   "metadata": {},
   "outputs": [],
   "source": [
    "circuitPR = LoadingData(p_X, f_X).to_circ()"
   ]
  },
  {
   "cell_type": "code",
   "execution_count": null,
   "id": "bb869916",
   "metadata": {},
   "outputs": [],
   "source": [
    "%qatdisplay circuitPR --depth 0"
   ]
  },
  {
   "cell_type": "code",
   "execution_count": null,
   "id": "788dfc43",
   "metadata": {},
   "outputs": [],
   "source": [
    "jobPR = circuitPR.to_job(qubits = [n_qbits])\n",
    "resultPR = lineal_qpu.submit(jobPR)\n",
    "PR_results = PostProcessResults(resultPR.join())"
   ]
  },
  {
   "cell_type": "markdown",
   "id": "8db2a8ae",
   "metadata": {},
   "source": [
    "As explained before the $E_{x\\sim p}(f)$ will be loaded in the $|1\\rangle$ state of the last qbit of the circuit"
   ]
  },
  {
   "cell_type": "code",
   "execution_count": null,
   "id": "bc7050fb",
   "metadata": {},
   "outputs": [],
   "source": [
    "#Integral of f(x)\n",
    "MeasurementIntegral = PR_results['Probability'][1]\n",
    "print('MeasurementIntegral: {}'.format(MeasurementIntegral))\n",
    "print('Integral p(x)f(x): {}'.format(sum(p_X*f_X)))"
   ]
  },
  {
   "cell_type": "code",
   "execution_count": null,
   "id": "ca6271a7",
   "metadata": {},
   "outputs": [],
   "source": [
    "np.isclose(MeasurementIntegral, sum(p_X*f_X))"
   ]
  },
  {
   "cell_type": "markdown",
   "id": "e97f97e5",
   "metadata": {},
   "source": [
    "## 3 Sumary and Important notes"
   ]
  },
  {
   "cell_type": "markdown",
   "id": "e958eb1b",
   "metadata": {},
   "source": [
    "In **01_Dataloading_Module_Use** Notebook the *dataloading_module* and *dataloading_module_examples* were explained and used. \n",
    "Present Notebook try to mimic the **01_Dataloading_Module_Use** one but using and explained **QuantumMultiplexors_Module** and **QuantumMultiplexors_Module_examples**. \n",
    "\n",
    "The functions and gates implemented in *dataloading_module* and in the **QuantumMultiplexors_Module** have the same functionality: **load data, probability functions and integral functions** in a quantum state but the implementation was changed:\n",
    "* In the *dataloading_module*: several controlled by states rotations were straightoforward implemented in order to create the gates to load the data.\n",
    "* In the **QuantumMultiplexors_Module**: the loading data gates were implemented in a much more efficient way using **quantum multiplexors** where the controlloed rotations are subsituted by simple (and intelligent) qbit Rotations and $\\hat{C}_{NOT}$ gates"
   ]
  },
  {
   "cell_type": "markdown",
   "id": "529cf4c5",
   "metadata": {},
   "source": [
    "## 4. File Scripts"
   ]
  },
  {
   "cell_type": "markdown",
   "id": "96ff447b",
   "metadata": {},
   "source": [
    "All the functions generated in this Notebook were stored in a python file, **QuantumMultiplexors_Module_examples.py** in order to use it in an easy way:\n"
   ]
  },
  {
   "cell_type": "code",
   "execution_count": null,
   "id": "352c51e8",
   "metadata": {},
   "outputs": [],
   "source": [
    "from AuxiliarFunctions import get_histogram, PostProcessResults\n",
    "def p(x):\n",
    "    return x*x\n",
    "def f(x):\n",
    "    return np.sin(x)\n",
    "\n",
    "#number of Qbits for the circuit\n",
    "n_qbits = 6\n",
    "#The number of bins \n",
    "m_bins = 2**n_qbits\n",
    "LowerLimit = 0.0\n",
    "UpperLimit = 1.0 \n",
    "X, p_X = get_histogram(p, LowerLimit, UpperLimit, m_bins)\n",
    "f_X = f(X)"
   ]
  },
  {
   "cell_type": "code",
   "execution_count": null,
   "id": "e95c84cf",
   "metadata": {},
   "outputs": [],
   "source": [
    "from QuantumMultiplexors_Module_examples import LoadProbabilityProgram, LoadingData, LoadIntegralProgram"
   ]
  },
  {
   "cell_type": "markdown",
   "id": "161faae6",
   "metadata": {},
   "source": [
    "### 4.1 Probability Load"
   ]
  },
  {
   "cell_type": "code",
   "execution_count": null,
   "id": "69d3ed6e",
   "metadata": {},
   "outputs": [],
   "source": [
    "circuitP = LoadProbabilityProgram(p_X).to_circ()\n",
    "%qatdisplay circuitP"
   ]
  },
  {
   "cell_type": "code",
   "execution_count": null,
   "id": "793bc759",
   "metadata": {},
   "outputs": [],
   "source": [
    "jobP = circuitP.to_job()\n",
    "resultP = lineal_qpu.submit(jobP)\n",
    "P_results = PostProcessResults(resultP.join())\n",
    "np.isclose(P_results['Probability'], p_X).all()"
   ]
  },
  {
   "cell_type": "code",
   "execution_count": null,
   "id": "60626ce9",
   "metadata": {},
   "outputs": [],
   "source": [
    "P_results['Probability']"
   ]
  },
  {
   "cell_type": "code",
   "execution_count": null,
   "id": "d9c382c8",
   "metadata": {},
   "outputs": [],
   "source": [
    "p_X"
   ]
  },
  {
   "cell_type": "markdown",
   "id": "c97ef7e2",
   "metadata": {},
   "source": [
    "### 4.2 Integral Load"
   ]
  },
  {
   "cell_type": "code",
   "execution_count": null,
   "id": "68a31a57",
   "metadata": {},
   "outputs": [],
   "source": [
    "circuitF = LoadIntegralProgram(f_X).to_circ()\n",
    "%qatdisplay circuitF"
   ]
  },
  {
   "cell_type": "code",
   "execution_count": null,
   "id": "f9188c70",
   "metadata": {},
   "outputs": [],
   "source": [
    "jobF = circuitF.to_job(qubits = [n_qbits])\n",
    "resultF = lineal_qpu.submit(jobF)\n",
    "F_results = PostProcessResults(resultF.join())\n",
    "MeasurementIntegral = F_results['Probability'][1]*2**(n_qbits)\n",
    "np.isclose(MeasurementIntegral, sum(f_X))"
   ]
  },
  {
   "cell_type": "markdown",
   "id": "351790d5",
   "metadata": {},
   "source": [
    "### 4.3 Complete Load"
   ]
  },
  {
   "cell_type": "code",
   "execution_count": null,
   "id": "27d28271",
   "metadata": {},
   "outputs": [],
   "source": [
    "circuitPF = LoadingData(p_X, f_X).to_circ()\n",
    "%qatdisplay circuitPF"
   ]
  },
  {
   "cell_type": "code",
   "execution_count": null,
   "id": "32a2fd38",
   "metadata": {},
   "outputs": [],
   "source": [
    "jobPF = circuitPF.to_job(qubits = [n_qbits])\n",
    "resultPF = lineal_qpu.submit(jobPF)\n",
    "PF_results = PostProcessResults(resultPF.join())\n",
    "MeasurementIntegral = PF_results['Probability'][1]\n",
    "np.isclose(MeasurementIntegral, sum(p_X*f_X))"
   ]
  },
  {
   "cell_type": "markdown",
   "id": "05164bfb",
   "metadata": {},
   "source": [
    "### 4.4 Testing Do"
   ]
  },
  {
   "cell_type": "code",
   "execution_count": null,
   "id": "e7630e41",
   "metadata": {},
   "outputs": [],
   "source": [
    "from QuantumMultiplexors_Module_examples import Do"
   ]
  },
  {
   "cell_type": "code",
   "execution_count": null,
   "id": "dd667640",
   "metadata": {},
   "outputs": [],
   "source": [
    "Do(function='P')"
   ]
  },
  {
   "cell_type": "code",
   "execution_count": null,
   "id": "9a4896ce",
   "metadata": {},
   "outputs": [],
   "source": [
    "Do(function='I')"
   ]
  },
  {
   "cell_type": "code",
   "execution_count": null,
   "id": "ea542e34",
   "metadata": {},
   "outputs": [],
   "source": [
    "Do()"
   ]
  },
  {
   "cell_type": "code",
   "execution_count": null,
   "id": "6fa212f2",
   "metadata": {},
   "outputs": [],
   "source": []
  }
 ],
 "metadata": {
  "kernelspec": {
   "display_name": "Python 3 (ipykernel)",
   "language": "python",
   "name": "python3"
  },
  "language_info": {
   "codemirror_mode": {
    "name": "ipython",
    "version": 3
   },
   "file_extension": ".py",
   "mimetype": "text/x-python",
   "name": "python",
   "nbconvert_exporter": "python",
   "pygments_lexer": "ipython3",
   "version": "3.9.9"
  }
 },
 "nbformat": 4,
 "nbformat_minor": 5
}
