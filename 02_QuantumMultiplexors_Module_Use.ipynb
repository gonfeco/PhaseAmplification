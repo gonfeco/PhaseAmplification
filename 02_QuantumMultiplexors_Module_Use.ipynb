{
 "cells": [
  {
   "cell_type": "code",
   "execution_count": 1,
   "id": "437913d6",
   "metadata": {},
   "outputs": [
    {
     "data": {
      "text/html": [
       "<style>.container { width:100% !important; }</style>"
      ],
      "text/plain": [
       "<IPython.core.display.HTML object>"
      ]
     },
     "metadata": {},
     "output_type": "display_data"
    }
   ],
   "source": [
    "from IPython.core.display import display, HTML\n",
    "display(HTML(\"<style>.container { width:100% !important; }</style>\"))"
   ]
  },
  {
   "cell_type": "code",
   "execution_count": 2,
   "id": "b863aae4",
   "metadata": {},
   "outputs": [],
   "source": [
    "import numpy as np\n",
    "import pandas as pd\n",
    "import matplotlib.pyplot as plt"
   ]
  },
  {
   "cell_type": "code",
   "execution_count": 3,
   "id": "dcecd322",
   "metadata": {},
   "outputs": [
    {
     "name": "stdout",
     "output_type": "stream",
     "text": [
      "Username: gferro\n",
      "········\n"
     ]
    }
   ],
   "source": [
    "#QPU connection\n",
    "try:\n",
    "    from qat.qlmaas import QLMaaSConnection\n",
    "    connection = QLMaaSConnection(hostname=\"qlm\")#, port=...)\n",
    "    LinAlg = connection.get_qpu(\"qat.qpus:LinAlg\")\n",
    "    lineal_qpu = LinAlg()\n",
    "except ImportError:\n",
    "    from qat.qpus import PyLinalg\n",
    "    lineal_qpu = PyLinalg()"
   ]
  },
  {
   "cell_type": "markdown",
   "id": "9fc69ab7",
   "metadata": {},
   "source": [
    "## 1. Quantum Multiplexors"
   ]
  },
  {
   "cell_type": "markdown",
   "id": "7a94f018",
   "metadata": {},
   "source": [
    "Implementation of loading data routines using the *Lov Grover and Terry Rudolph* routines directly, using controlled rotations by state, is highly inneficient. In general the use of controlled rotations generate highly deep quantum circuits prone to errors. \n",
    "A more efficient approach is the use of Quantum Multiplexors where the only controlled gates are c-Not ones. \n",
    "\n",
    "The operation we want to implement is a controlled rotation on an angle $\\theta_i$ controlled by a state $|i\\rangle$. \n",
    "\n",
    "For a 2 qbits state the operator should be:\n",
    "\n",
    "$$\n",
    "\\hat{U}|q_0q_1\\rangle= \\{ \\begin{array}{ll}\n",
    "      |0\\rangle\\hat{R}_y(\\theta_0)|q_1\\rangle  & if \\;|q_0\\rangle = |0\\rangle \\\\\n",
    "      |1\\rangle\\hat{R}_y(\\theta_1)|q_1\\rangle  & if \\;|q_0\\rangle = |1\\rangle \\\\\n",
    "\\end{array}\n",
    "$$\n",
    "\n",
    "With a quantum multiplexor this operation can be implemented as:\n",
    "\n",
    "$$\\hat{U}(\\theta_0, \\theta_1)|q_0q_1\\rangle= \\left( \\mathbf{I} \\otimes \\hat{R}_{y} (\\frac{\\theta_0+\\theta_1}{2}) \\right) \\hat{C}_{NOT} \\left(\\mathbf{I} \\otimes \\hat{R}_{y} (\\frac{\\theta_0-\\theta_1}{2}) \\right) \\hat{C}_{NOT}|q_0q_1\\rangle$$\n",
    "\n",
    "The circuit representation for this operator is:\n",
    "\n",
    "![alt text](./QM_01.png)\n",
    "\n",
    "As can be seen the quantum multiplexor needs only $C_{NOT}$ gates that are implemented in easier way than controlled rotations\n"
   ]
  },
  {
   "cell_type": "markdown",
   "id": "a931845d",
   "metadata": {},
   "source": [
    "For controlled state rotations of more angles quantum multiplexors can be implemented in a recursively way. For example if we want apply a controlled 4 angle rotation $[\\theta_0, \\theta_1, \\theta_2, \\theta_3]$ we can use following circuit:\n",
    "\n",
    "![alt text](./QM_02.png)\n"
   ]
  },
  {
   "cell_type": "markdown",
   "id": "0b2058c6",
   "metadata": {},
   "source": [
    "In general a quantum multiplexor with $m$ control qubits can be decomposed as 2 multiplexors with $m − 1$ control qubits and 2 $\\hat{C}_{NOT}$ gates:\n",
    "![alt text](./QM_03.png)"
   ]
  },
  {
   "cell_type": "markdown",
   "id": "445021fb",
   "metadata": {},
   "source": [
    "In the **QuantumMultiplexors_Module** there are an implementation for a quantum multiplexor controlled by $m$ qbits and the functions neede to use them in order to load probability and a Integral function"
   ]
  },
  {
   "cell_type": "markdown",
   "id": "0b391597",
   "metadata": {},
   "source": [
    "## 2. QuantumMultiplexors_Module"
   ]
  },
  {
   "cell_type": "markdown",
   "id": "f7c0332c",
   "metadata": {},
   "source": [
    "In order to use this module the basic functions are:\n",
    "1. LoadProbability_Gate: Loads a probability distribution in a quantum state using multiplexors\n",
    "2. LoadIntegralFunction_Gate: Loads the integral of a function in a quantum state using multiplexors.\n",
    "\n",
    "In order to do the data loading we need to discretizate it so:"
   ]
  },
  {
   "cell_type": "code",
   "execution_count": 4,
   "id": "9d934c94",
   "metadata": {},
   "outputs": [],
   "source": [
    "from AuxiliarFunctions import  get_histogram, PostProcessResults, TestBins\n",
    "def p(x):\n",
    "    return x*x\n",
    "def f(x):\n",
    "    return np.sin(x)"
   ]
  },
  {
   "cell_type": "code",
   "execution_count": 5,
   "id": "a196ad7d",
   "metadata": {},
   "outputs": [],
   "source": [
    "#number of Qbits for the circuit\n",
    "n_qbits = 8\n",
    "#The number of bins \n",
    "m_bins = 2**n_qbits\n",
    "LowerLimit = 0.0\n",
    "UpperLimit = 1.0 \n",
    "\n",
    "X, p_X = get_histogram(p, LowerLimit, UpperLimit, m_bins)\n",
    "f_X = f(X)"
   ]
  },
  {
   "cell_type": "markdown",
   "id": "6cef8fcc",
   "metadata": {},
   "source": [
    "### 2.1 LoadProbability_Gate"
   ]
  },
  {
   "cell_type": "markdown",
   "id": "dcd83b95",
   "metadata": {},
   "source": [
    "In order to show how use this gate we use following function **LoadProbabilityProgram**. As can be seen the gate needs  the center of the bins (*X*) and the probability of the center (*p_X*)"
   ]
  },
  {
   "cell_type": "code",
   "execution_count": 6,
   "id": "bc9e8dbd",
   "metadata": {},
   "outputs": [],
   "source": [
    "def LoadProbabilityProgram(p_X, X):\n",
    "    \"\"\"\n",
    "    Creates a Quantum Program for loading an input numpy array with a probability distribution.\n",
    "    Inputs:\n",
    "        * p_X: np.array. Probability distribution of size m. Mandatory: m=2^n where n is the number\n",
    "        * X: np.array. Centers of the bins od the probability distribution.\n",
    "        qbits of the quantum circuit. \n",
    "    Outputs:\n",
    "        * qprog: qlm program for loading input probability\n",
    "    \"\"\"\n",
    "    #Qbits of the Quantum circuit depends on Probability length\n",
    "    nqbits = TestBins(p_X, 'Probability')\n",
    "    \n",
    "    from qat.lang.AQASM import Program\n",
    "    qprog = Program()\n",
    "    qbits = qprog.qalloc(nqbits)\n",
    "    #Creation of P_gate\n",
    "    from QuantumMultiplexors_Module import LoadProbability_Gate\n",
    "    P_gate = LoadProbability_Gate(p_X, X)\n",
    "    #Apply Abstract gate to the qbits\n",
    "    qprog.apply(P_gate, qbits)\n",
    "    return qprog\n"
   ]
  },
  {
   "cell_type": "code",
   "execution_count": 7,
   "id": "83eeaaed",
   "metadata": {},
   "outputs": [],
   "source": [
    "circuit_P = LoadProbabilityProgram(p_X, X).to_circ()"
   ]
  },
  {
   "cell_type": "code",
   "execution_count": 8,
   "id": "f6a1e91e",
   "metadata": {},
   "outputs": [
    {
     "data": {
      "image/png": "[encoded data removed]",
      "text/plain": [
       "<IPython.core.display.Image object>"
      ]
     },
     "execution_count": 8,
     "metadata": {},
     "output_type": "execute_result"
    }
   ],
   "source": [
    "%qatdisplay circuit_P --depth 0"
   ]
  },
  {
   "cell_type": "code",
   "execution_count": 9,
   "id": "981051e1",
   "metadata": {},
   "outputs": [
    {
     "name": "stdout",
     "output_type": "stream",
     "text": [
      "Submitted a new batch: Job267\n"
     ]
    },
    {
     "data": {
      "text/plain": [
       "True"
      ]
     },
     "execution_count": 9,
     "metadata": {},
     "output_type": "execute_result"
    }
   ],
   "source": [
    "jobP = circuit_P.to_job()\n",
    "resultP = lineal_qpu.submit(jobP)\n",
    "P_results = PostProcessResults(resultP.join())\n",
    "np.isclose(P_results['Probability'], p_X).all()"
   ]
  },
  {
   "cell_type": "code",
   "execution_count": 10,
   "id": "b60ba78e",
   "metadata": {
    "scrolled": true
   },
   "outputs": [
    {
     "data": {
      "text/html": [
       "<div>\n",
       "<style scoped>\n",
       "    .dataframe tbody tr th:only-of-type {\n",
       "        vertical-align: middle;\n",
       "    }\n",
       "\n",
       "    .dataframe tbody tr th {\n",
       "        vertical-align: top;\n",
       "    }\n",
       "\n",
       "    .dataframe thead th {\n",
       "        text-align: right;\n",
       "    }\n",
       "</style>\n",
       "<table border=\"1\" class=\"dataframe\">\n",
       "  <thead>\n",
       "    <tr style=\"text-align: right;\">\n",
       "      <th></th>\n",
       "      <th>States</th>\n",
       "      <th>Probability</th>\n",
       "      <th>Amplitude</th>\n",
       "    </tr>\n",
       "  </thead>\n",
       "  <tbody>\n",
       "    <tr>\n",
       "      <th>0</th>\n",
       "      <td>|00000000&gt;</td>\n",
       "      <td>4.470365e-08</td>\n",
       "      <td>0.000211+0.000000j</td>\n",
       "    </tr>\n",
       "    <tr>\n",
       "      <th>1</th>\n",
       "      <td>|00000001&gt;</td>\n",
       "      <td>4.023329e-07</td>\n",
       "      <td>0.000634+0.000000j</td>\n",
       "    </tr>\n",
       "    <tr>\n",
       "      <th>2</th>\n",
       "      <td>|00000010&gt;</td>\n",
       "      <td>1.117591e-06</td>\n",
       "      <td>0.001057+0.000000j</td>\n",
       "    </tr>\n",
       "    <tr>\n",
       "      <th>3</th>\n",
       "      <td>|00000011&gt;</td>\n",
       "      <td>2.190479e-06</td>\n",
       "      <td>0.001480+0.000000j</td>\n",
       "    </tr>\n",
       "    <tr>\n",
       "      <th>4</th>\n",
       "      <td>|00000100&gt;</td>\n",
       "      <td>3.620996e-06</td>\n",
       "      <td>0.001903+0.000000j</td>\n",
       "    </tr>\n",
       "  </tbody>\n",
       "</table>\n",
       "</div>"
      ],
      "text/plain": [
       "       States   Probability           Amplitude\n",
       "0  |00000000>  4.470365e-08  0.000211+0.000000j\n",
       "1  |00000001>  4.023329e-07  0.000634+0.000000j\n",
       "2  |00000010>  1.117591e-06  0.001057+0.000000j\n",
       "3  |00000011>  2.190479e-06  0.001480+0.000000j\n",
       "4  |00000100>  3.620996e-06  0.001903+0.000000j"
      ]
     },
     "execution_count": 10,
     "metadata": {},
     "output_type": "execute_result"
    }
   ],
   "source": [
    "P_results.head()"
   ]
  },
  {
   "cell_type": "markdown",
   "id": "1332910f",
   "metadata": {},
   "source": [
    "### 2.2 LoadIntegralFunction_Gate"
   ]
  },
  {
   "cell_type": "markdown",
   "id": "85ad78a6",
   "metadata": {},
   "source": [
    "In order to show how use this gate we use following function **LoadProbabilityProgram**. As can be seen the gate needs  the center of the bins (*X*) and the probability of the center (*p_X*)"
   ]
  },
  {
   "cell_type": "markdown",
   "id": "0a2a9edc",
   "metadata": {},
   "source": []
  }
 ],
 "metadata": {
  "kernelspec": {
   "display_name": "Python 3 (ipykernel)",
   "language": "python",
   "name": "python3"
  },
  "language_info": {
   "codemirror_mode": {
    "name": "ipython",
    "version": 3
   },
   "file_extension": ".py",
   "mimetype": "text/x-python",
   "name": "python",
   "nbconvert_exporter": "python",
   "pygments_lexer": "ipython3",
   "version": "3.9.2"
  }
 },
 "nbformat": 4,
 "nbformat_minor": 5
}
