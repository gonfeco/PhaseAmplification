{
 "cells": [
  {
   "cell_type": "markdown",
   "metadata": {},
   "source": [
    "# Amplitude Amplification Algorithm"
   ]
  },
  {
   "cell_type": "code",
   "execution_count": null,
   "metadata": {},
   "outputs": [],
   "source": [
    "from IPython.core.display import display, HTML\n",
    "display(HTML(\"<style>.container { width:100% !important; }</style>\"))"
   ]
  },
  {
   "cell_type": "code",
   "execution_count": null,
   "metadata": {},
   "outputs": [],
   "source": [
    "import numpy as np\n",
    "import pandas as pd\n",
    "import matplotlib.pyplot as plt\n",
    "import sys, os"
   ]
  },
  {
   "cell_type": "code",
   "execution_count": null,
   "metadata": {},
   "outputs": [],
   "source": [
    "%load_ext qat.core.magic"
   ]
  },
  {
   "cell_type": "code",
   "execution_count": null,
   "metadata": {},
   "outputs": [],
   "source": [
    "#QPU connection\n",
    "QLMASS = True\n",
    "if QLMASS:\n",
    "    try:\n",
    "        from qat.qlmaas import QLMaaSConnection\n",
    "        connection = QLMaaSConnection()\n",
    "        LinAlg = connection.get_qpu(\"qat.qpus:LinAlg\")\n",
    "        lineal_qpu = LinAlg()\n",
    "    except (ImportError, OSError) as e:\n",
    "        print('Problem: usin PyLinalg')\n",
    "        from qat.qpus import PyLinalg\n",
    "        lineal_qpu = PyLinalg()\n",
    "else:\n",
    "    print('User Forces: PyLinalg')\n",
    "    from qat.qpus import PyLinalg\n",
    "    lineal_qpu = PyLinalg()    "
   ]
  },
  {
   "cell_type": "code",
   "execution_count": null,
   "metadata": {},
   "outputs": [],
   "source": [
    "from QuantumMultiplexors_Module_examples import expectation_loading_data\n",
    "from PhaseAmplification_Module import load_q_gate"
   ]
  },
  {
   "cell_type": "markdown",
   "metadata": {},
   "source": [
    "## 1. Data Discretization"
   ]
  },
  {
   "cell_type": "markdown",
   "metadata": {},
   "source": [
    "First we create the discretized probability $p(x)$ and function $f(x)$ needed for calculating expected value $E_{x\\sim p}(f)$"
   ]
  },
  {
   "cell_type": "code",
   "execution_count": null,
   "metadata": {},
   "outputs": [],
   "source": [
    "from AuxiliarFunctions import  get_histogram, postprocess_results, test_bins, run_job\n",
    "def p(x):\n",
    "    return x*x\n",
    "def f(x):\n",
    "    return np.sin(x)"
   ]
  },
  {
   "cell_type": "code",
   "execution_count": null,
   "metadata": {},
   "outputs": [],
   "source": [
    "#number of Qbits for the circuit\n",
    "n_qbits = 10\n",
    "#The number of bins \n",
    "m_bins = 2**n_qbits\n",
    "LowerLimit = 0.0\n",
    "UpperLimit = 1.0 \n",
    "\n",
    "X, p_X = get_histogram(p, LowerLimit, UpperLimit, m_bins)\n",
    "f_X = f(X)"
   ]
  },
  {
   "cell_type": "markdown",
   "metadata": {},
   "source": [
    "## 2. Circuit Implementation"
   ]
  },
  {
   "cell_type": "markdown",
   "metadata": {},
   "source": [
    "Next we execute **K** steps of the Amplitude Amplification operator $\\hat{Q}$"
   ]
  },
  {
   "cell_type": "code",
   "execution_count": null,
   "metadata": {},
   "outputs": [],
   "source": [
    "K=1\n",
    "Qprog, P_Gate, R_gate = expectation_loading_data(p_X, f_X)\n",
    "Q_Gate = load_q_gate(P_Gate, R_gate)\n",
    "qbits = Qprog.registers\n",
    "for k in range(K):\n",
    "    print(k)\n",
    "    Qprog.apply(Q_Gate, qbits)\n",
    "\n",
    "circuit = Qprog.to_circ(submatrices_only=True)\n",
    "job = circuit.to_job(qubits=[n_qbits])"
   ]
  },
  {
   "cell_type": "code",
   "execution_count": null,
   "metadata": {},
   "outputs": [],
   "source": [
    "%qatdisplay circuit"
   ]
  },
  {
   "cell_type": "code",
   "execution_count": null,
   "metadata": {},
   "outputs": [],
   "source": [
    "result = run_job(lineal_qpu.submit(job))\n",
    "Phi = postprocess_results(result)"
   ]
  },
  {
   "cell_type": "code",
   "execution_count": null,
   "metadata": {},
   "outputs": [],
   "source": [
    "Phi"
   ]
  },
  {
   "cell_type": "markdown",
   "metadata": {},
   "source": [
    "So we have:\n",
    "\n",
    "* Quantum state before $\\hat{Q}$: $|\\Psi\\rangle=\\sin{\\theta}|\\Psi_{1}\\rangle+\\cos{\\theta}|\\Psi_{0}\\rangle$\n",
    "* Quantum state after K applications of $\\hat{Q}$: $\\hat{Q}^{K}|\\Psi\\rangle = \\sin{((2*K+1)\\theta)}|\\Psi_{1}\\rangle+\\cos{((2*K+1)\\theta})|\\Psi_{0}\\rangle$\n",
    "\n",
    "Now, we can measure the last qbit and generate the associate probabilities to $|\\Psi_{1}\\rangle$ y $|\\Psi_{1}\\rangle$:\n",
    "\n",
    "* $P_{|\\Psi_{1}\\rangle}$: Probability of get state $|\\Psi_{1}\\rangle$ (we desire a high probability here)\n",
    "* $P_{|\\Psi_{0}\\rangle}$: Probability of get state $|\\Psi_{0}\\rangle$ (we desire a low probability here)\n",
    "\n",
    "Next we associate the probabilities with the amplitudes of $\\hat{Q}^{K}|\\Psi\\rangle$:\n",
    "\n",
    "$$\\sin^{2}((2*K+1)\\theta) = P_{|\\Psi_{1}\\rangle}$$\n",
    "$$\\sin((2*K+1)\\theta) = \\sqrt{P_{|\\Psi_{1}\\rangle}}$$\n",
    "$$(2*K+1)\\theta = \\arcsin{\\sqrt{P_{|\\Psi_{1}\\rangle}}}$$\n",
    "\n",
    "Now we have to stop because $\\arcsin$ is a multivalued function but numpy only calculates the angle in the range: $[\\frac{-\\pi}{2}, \\frac{\\pi}{2}]$. If the rotation generated by $\\hat{Q}^{K}$ is outside the range we cannot get the real rotated angle (ie $(2*K+1)\\theta$)\n",
    "\n",
    "In following cells we can see this behavior.\n",
    "\n",
    "First we calculate:  $\\theta = \\frac{\\arcsin{\\sqrt{P_{|\\Psi_{1}\\rangle}}}}{(2*K+1)}$"
   ]
  },
  {
   "cell_type": "code",
   "execution_count": null,
   "metadata": {},
   "outputs": [],
   "source": [
    "#This is the angle asociated to the Phi state\n",
    "theta_K = np.arcsin((Phi['Probability'].iloc[1])**0.5)\n",
    "print('theta_K: {}'.format(theta_K))\n",
    "thetaFromK = theta_K/(2*K+1)\n",
    "print('thetaFromK: {}'.format(thetaFromK))"
   ]
  },
  {
   "cell_type": "markdown",
   "metadata": {},
   "source": [
    "We know that:\n",
    "\n",
    "$$\\sin \\theta_{th} = \\sqrt{\\sum_{x=0}^{2^-1} p(x)f(x)}$$\n",
    "\n",
    "$$ \\theta_{th} = \\arcsin{\\sqrt{\\sum_{x=0}^{2^-1} p(x)f(x)}}$$\n",
    "\n",
    "This is done in following cell"
   ]
  },
  {
   "cell_type": "code",
   "execution_count": null,
   "metadata": {},
   "outputs": [],
   "source": [
    "theoric_theta = np.arcsin(np.sqrt(sum(p_X*f_X)))\n",
    "print('theoric_theta: {}'.format(theoric_theta))\n",
    "\n",
    "print('thetaFromK == theoric_theta? {}'.format(np.isclose(thetaFromK, theoric_theta)))"
   ]
  },
  {
   "cell_type": "markdown",
   "metadata": {},
   "source": [
    "But if we compute:\n",
    "\n",
    "$$\\sin^2((2*K+1)\\theta$$\n",
    "\n",
    "We get $P_{|\\Psi_{1}\\rangle}$"
   ]
  },
  {
   "cell_type": "code",
   "execution_count": null,
   "metadata": {},
   "outputs": [],
   "source": [
    "print('|Psi_1> from  theoric_theta: {}'.format(np.sin((2*K+1)*theoric_theta)**2))\n",
    "print('|Psi_1> from  Q^KPhi Probability: {}'.format(Phi['Probability'].iloc[1]))\n",
    "print('Probability from Q^Phi and from theoric_theta are the same? {}'.format(\n",
    "    np.isclose(np.sin((2*K+1)*theoric_theta)**2, Phi['Probability'].iloc[1])\n",
    "\n",
    "))\n"
   ]
  },
  {
   "cell_type": "markdown",
   "metadata": {},
   "source": [
    "So probabilities from $\\hat{Q}^{K}|\\Psi\\rangle$ and from $\\theta_{th}$ are the same but we cannot calculates the correct angle from the first because of multivalued $\\arcsin$"
   ]
  },
  {
   "cell_type": "markdown",
   "metadata": {},
   "source": [
    "## Quantum Amplification Amplitude"
   ]
  },
  {
   "cell_type": "code",
   "execution_count": null,
   "metadata": {},
   "outputs": [],
   "source": [
    "from qat.lang.AQASM import H\n",
    "Qprog, P_Gate, R_gate = ExpectationLoadingData(p_X, f_X)\n",
    "qbits = Qprog.registers[0]\n",
    "Q_Gate = Load_Q_Gate(P_Gate, R_gate)\n",
    "n_aux = 10\n",
    "qAux = Qprog.qalloc(n_aux)\n",
    "for i, aux in enumerate(qAux):\n",
    "    Qprog.apply(H, aux)\n",
    "    for _ in range(2**i):\n",
    "        Qprog.apply(Q_Gate.ctrl(), aux, qbits)\n",
    "from qat.lang.AQASM.qftarith import QFT\n",
    "Qprog.apply(QFT(n_aux).dag(), qAux)\n",
    "circuit = Qprog.to_circ(submatrices_only=True)"
   ]
  },
  {
   "cell_type": "code",
   "execution_count": null,
   "metadata": {
    "scrolled": true
   },
   "outputs": [],
   "source": [
    "%qatdisplay circuit"
   ]
  },
  {
   "cell_type": "code",
   "execution_count": null,
   "metadata": {},
   "outputs": [],
   "source": [
    "job = circuit.to_job(qubits=qAux)\n",
    "result = RunJob(lineal_qpu.submit(job))\n",
    "Phi = PostProcessResults(result)\n",
    "Phi['Thetas'] = [m*np.pi/(2**n_aux) for m in list(Phi.index)] "
   ]
  },
  {
   "cell_type": "code",
   "execution_count": null,
   "metadata": {},
   "outputs": [],
   "source": [
    "%matplotlib inline\n",
    "plt.plot(Phi['Thetas'], Phi['Probability'])"
   ]
  },
  {
   "cell_type": "code",
   "execution_count": null,
   "metadata": {},
   "outputs": [],
   "source": [
    "theta_teorico = np.arcsin(np.sqrt(sum(p_X*f_X)))\n",
    "print('theta_teorico: {}'.format(theta_teorico))\n",
    "ThetaQ = Phi[Phi['Probability'] == max(Phi['Probability'])]['Thetas'].iloc[0]\n",
    "print('theta cuantico: {}'.format(ThetaQ))\n",
    "print('Integral Teorica: {}'.format(sum(p_X*f_X)))\n",
    "print('Integral AA: {}'.format(np.sin(ThetaQ)**2))\n",
    "print(u'Exact value of the integral:', IntegralExacta)"
   ]
  },
  {
   "cell_type": "code",
   "execution_count": null,
   "metadata": {},
   "outputs": [],
   "source": [
    "Phi[Phi['Probability'] == max(Phi['Probability'])]['Thetas'].iloc[0]"
   ]
  },
  {
   "cell_type": "code",
   "execution_count": null,
   "metadata": {},
   "outputs": [],
   "source": []
  },
  {
   "cell_type": "code",
   "execution_count": null,
   "metadata": {},
   "outputs": [],
   "source": [
    "LowerLimit = 0.0\n",
    "UpperLimit = 1.0 "
   ]
  },
  {
   "cell_type": "code",
   "execution_count": null,
   "metadata": {},
   "outputs": [],
   "source": [
    "2.159845-0.981748"
   ]
  },
  {
   "cell_type": "code",
   "execution_count": null,
   "metadata": {},
   "outputs": [],
   "source": [
    "Phi[Phi['Probability'] == max(Phi['Probability'])]"
   ]
  },
  {
   "cell_type": "code",
   "execution_count": null,
   "metadata": {},
   "outputs": [],
   "source": [
    "10/(2**n_aux)*np.pi    "
   ]
  },
  {
   "cell_type": "code",
   "execution_count": null,
   "metadata": {},
   "outputs": [],
   "source": [
    "9.5/(2**n_aux)*np.pi    "
   ]
  },
  {
   "cell_type": "code",
   "execution_count": null,
   "metadata": {},
   "outputs": [],
   "source": [
    "theta_teorico"
   ]
  },
  {
   "cell_type": "code",
   "execution_count": null,
   "metadata": {},
   "outputs": [],
   "source": [
    "max(Phi['Probability'])aa"
   ]
  },
  {
   "cell_type": "code",
   "execution_count": null,
   "metadata": {},
   "outputs": [],
   "source": [
    "np.pi/2"
   ]
  },
  {
   "cell_type": "code",
   "execution_count": null,
   "metadata": {},
   "outputs": [],
   "source": [
    "2*theta_teorico"
   ]
  },
  {
   "cell_type": "code",
   "execution_count": null,
   "metadata": {},
   "outputs": [],
   "source": [
    "2*Phi.loc[10]['Thetas']"
   ]
  },
  {
   "cell_type": "code",
   "execution_count": null,
   "metadata": {},
   "outputs": [],
   "source": [
    "2*Phi.loc[22]['Thetas']-2*np.pi"
   ]
  },
  {
   "cell_type": "code",
   "execution_count": null,
   "metadata": {},
   "outputs": [],
   "source": [
    "np.sin(Phi.loc[22]['Thetas'])"
   ]
  },
  {
   "cell_type": "code",
   "execution_count": null,
   "metadata": {},
   "outputs": [],
   "source": [
    "np.sin(Phi.loc[10]['Thetas'])"
   ]
  },
  {
   "cell_type": "code",
   "execution_count": null,
   "metadata": {},
   "outputs": [],
   "source": [
    "np.sqrt(sum(p_X*f_X))"
   ]
  },
  {
   "cell_type": "code",
   "execution_count": null,
   "metadata": {},
   "outputs": [],
   "source": []
  }
 ],
 "metadata": {
  "kernelspec": {
   "display_name": "Python 3 (ipykernel)",
   "language": "python",
   "name": "python3"
  },
  "language_info": {
   "codemirror_mode": {
    "name": "ipython",
    "version": 3
   },
   "file_extension": ".py",
   "mimetype": "text/x-python",
   "name": "python",
   "nbconvert_exporter": "python",
   "pygments_lexer": "ipython3",
   "version": "3.9.9"
  }
 },
 "nbformat": 4,
 "nbformat_minor": 2
}
