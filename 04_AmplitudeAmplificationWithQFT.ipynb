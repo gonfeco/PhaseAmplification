{
 "cells": [
  {
   "cell_type": "markdown",
   "metadata": {},
   "source": [
    "# Amplitude Amplification Algorithm"
   ]
  },
  {
   "cell_type": "code",
   "execution_count": null,
   "metadata": {},
   "outputs": [],
   "source": [
    "from IPython.core.display import display, HTML\n",
    "display(HTML(\"<style>.container { width:100% !important; }</style>\"))"
   ]
  },
  {
   "cell_type": "code",
   "execution_count": null,
   "metadata": {},
   "outputs": [],
   "source": [
    "import numpy as np\n",
    "import pandas as pd\n",
    "import matplotlib.pyplot as plt\n",
    "import sys, os"
   ]
  },
  {
   "cell_type": "code",
   "execution_count": null,
   "metadata": {},
   "outputs": [],
   "source": [
    "%load_ext qat.core.magic"
   ]
  },
  {
   "cell_type": "code",
   "execution_count": null,
   "metadata": {},
   "outputs": [],
   "source": [
    "#QPU connection\n",
    "QLMASS = True\n",
    "if QLMASS:\n",
    "    try:\n",
    "        from qat.qlmaas import QLMaaSConnection\n",
    "        connection = QLMaaSConnection()\n",
    "        LinAlg = connection.get_qpu(\"qat.qpus:LinAlg\")\n",
    "        lineal_qpu = LinAlg()\n",
    "    except (ImportError, OSError) as e:\n",
    "        print('Problem: usin PyLinalg')\n",
    "        from qat.qpus import PyLinalg\n",
    "        lineal_qpu = PyLinalg()\n",
    "else:\n",
    "    print('User Forces: PyLinalg')\n",
    "    from qat.qpus import PyLinalg\n",
    "    lineal_qpu = PyLinalg()    "
   ]
  },
  {
   "cell_type": "code",
   "execution_count": null,
   "metadata": {},
   "outputs": [],
   "source": [
    "from QuantumMultiplexors_Module_examples import expectation_loading_data\n",
    "from PhaseAmplification_Module import load_q_gate"
   ]
  },
  {
   "cell_type": "markdown",
   "metadata": {},
   "source": [
    "## 1. Data Discretization"
   ]
  },
  {
   "cell_type": "markdown",
   "metadata": {},
   "source": [
    "First we create the discretized probability $p(x)$ and function $f(x)$ needed for calculating expected value $E_{x\\sim p}(f)$"
   ]
  },
  {
   "cell_type": "code",
   "execution_count": null,
   "metadata": {},
   "outputs": [],
   "source": [
    "from AuxiliarFunctions import  get_histogram, postprocess_results, test_bins, run_job\n",
    "def p(x):\n",
    "    return x*x\n",
    "def f(x):\n",
    "    return np.sin(x)"
   ]
  },
  {
   "cell_type": "code",
   "execution_count": null,
   "metadata": {},
   "outputs": [],
   "source": [
    "#number of Qbits for the circuit\n",
    "n_qbits = 10\n",
    "#The number of bins \n",
    "m_bins = 2**n_qbits\n",
    "LowerLimit = 0.0\n",
    "UpperLimit = 1.0 \n",
    "\n",
    "X, p_X = get_histogram(p, LowerLimit, UpperLimit, m_bins)\n",
    "f_X = f(X)"
   ]
  },
  {
   "cell_type": "markdown",
   "metadata": {},
   "source": [
    "## 2. $\\theta$ estimation problem"
   ]
  },
  {
   "cell_type": "markdown",
   "metadata": {},
   "source": [
    "After the loading steps our quantum state is: \n",
    "\n",
    "$$|\\Psi\\rangle=\\sin{\\theta}|\\Psi_{1}\\rangle+\\cos{\\theta}|\\Psi_{0}\\rangle$$\n",
    "\n",
    "The amplitude of the $|\\Psi_{1}\\rangle$ state is realted with $E_{x\\sim p}(f)$ by:\n",
    "\n",
    "$$\\sin \\theta = \\sqrt{\\sum_{x=0}^{2^-1} p(x)f(x)}$$\n",
    "\n",
    "The main idea in the amplitude amplification is use a similar procedure like in Groover algorithm in order to increase the probability of the $|\\Psi_{1}\\rangle$ state. This can be in a straightoforward way by applying operator $\\hat{Q}$ $k$ times:\n",
    "\n",
    "$$\\hat{Q}^{K}|\\Psi\\rangle = \\sin{((2*K+1)\\theta)}|\\Psi_{1}\\rangle+\\cos{((2*K+1)\\theta})|\\Psi_{0}\\rangle$$\n",
    "\n",
    "The idea is apply K in such a way that the probability of $|\\Psi_{1}\\rangle$ is maximized. For this we can prepare the system $n$ times (each time with the same $K$), measure the final state and get the probabilities for measuring  $|\\Psi_{1}\\rangle$ y $|\\Psi_{1}:\n",
    "\n",
    "* $P_{|\\Psi_{1}\\rangle}$: Probability of get state $|\\Psi_{1}\\rangle$ (we desire a high probability here)\n",
    "* $P_{|\\Psi_{0}\\rangle}$: Probability of get state $|\\Psi_{0}\\rangle$ (we desire a low probability here)\n",
    "\n",
    "We know that this proabilities are related withe the corresponding amplitudes so: \n",
    "\n",
    "$$\\sin^{2}((2*K+1)\\theta) = P_{|\\Psi_{1}\\rangle}$$\n",
    "$$\\sin((2*K+1)\\theta) = \\sqrt{P_{|\\Psi_{1}\\rangle}}$$\n",
    "$$(2*K+1)\\theta = \\arcsin{\\sqrt{P_{|\\Psi_{1}\\rangle}}}$$\n",
    "\n",
    "So in this moment, theoretically, we have solved the problem because we can calculate $\\theta$ and the desired $E_{x\\sim p}(f)$. But we have a practical important problem: **arcsin** is a multivaluated function and usually software packages give a solution in the $[\\frac{-\\pi}{2}, \\frac{\\pi}{2}]$. If the rotation resulting of apply $\\hat{Q}^{K}$ is bigger than $\\frac{\\pi}{2}$ then we cannot compute properly $(2*K+1)\\theta$.\n",
    "\n",
    "This can be seen in the following cells"
   ]
  },
  {
   "cell_type": "code",
   "execution_count": null,
   "metadata": {},
   "outputs": [],
   "source": [
    "#Creation of the complete Quntum Circuit\n",
    "K=2\n",
    "Qprog, P_Gate, R_gate = expectation_loading_data(p_X, f_X)\n",
    "Q_Gate = load_q_gate(P_Gate, R_gate)\n",
    "qbits = Qprog.registers\n",
    "for k in range(K):\n",
    "    Qprog.apply(Q_Gate, qbits)\n",
    "\n",
    "circuit = Qprog.to_circ(submatrices_only=True)\n",
    "job = circuit.to_job(qubits=[n_qbits])"
   ]
  },
  {
   "cell_type": "code",
   "execution_count": null,
   "metadata": {},
   "outputs": [],
   "source": [
    "%qatdisplay circuit"
   ]
  },
  {
   "cell_type": "code",
   "execution_count": null,
   "metadata": {},
   "outputs": [],
   "source": [
    "#Getting the final state\n",
    "result = run_job(lineal_qpu.submit(job))\n",
    "Phi = postprocess_results(result)"
   ]
  },
  {
   "cell_type": "code",
   "execution_count": null,
   "metadata": {
    "scrolled": true
   },
   "outputs": [],
   "source": [
    "Phi"
   ]
  },
  {
   "cell_type": "markdown",
   "metadata": {},
   "source": [
    "Now we calculate:  \n",
    "$$\\theta = \\frac{\\arcsin{\\sqrt{P_{|\\Psi_{1}\\rangle}}}}{(2*K+1)}$$"
   ]
  },
  {
   "cell_type": "code",
   "execution_count": null,
   "metadata": {},
   "outputs": [],
   "source": [
    "#This is the angle asociated to the Phi state\n",
    "theta_K = np.arcsin((Phi['Probability'].iloc[1])**0.5)\n",
    "print('theta_K: {}'.format(theta_K))\n",
    "thetaFromK = theta_K/(2*K+1)\n",
    "print('thetaFromK: {}'.format(thetaFromK))"
   ]
  },
  {
   "cell_type": "markdown",
   "metadata": {},
   "source": [
    "Additionally in this case we know the true value of $\\theta$:\n",
    "\n",
    "$$ \\theta_{th} = \\arcsin{\\sqrt{\\sum_{x=0}^{2^-1} p(x)f(x)}}$$\n",
    "\n",
    "This is done in following cell"
   ]
  },
  {
   "cell_type": "code",
   "execution_count": null,
   "metadata": {},
   "outputs": [],
   "source": [
    "theoric_theta = np.arcsin(np.sqrt(sum(p_X*f_X)))\n",
    "print('theoric_theta: {}'.format(theoric_theta))\n",
    "\n",
    "print('thetaFromK == theoric_theta? {}'.format(np.isclose(thetaFromK, theoric_theta)))"
   ]
  },
  {
   "cell_type": "markdown",
   "metadata": {},
   "source": [
    "As can be seen in befor cell the calculated $\\theta$ is different from $\\theta_{th}$. But we can compute the probability associated with this $\\theta_{th}$ using:\n",
    "\n",
    "$$\\sin^2((2*K+1)\\theta_{th}$$"
   ]
  },
  {
   "cell_type": "code",
   "execution_count": null,
   "metadata": {},
   "outputs": [],
   "source": [
    "print('|Psi_1> from  theoric_theta: {}'.format(np.sin((2*K+1)*theoric_theta)**2))\n",
    "print('|Psi_1> from  Q^KPhi Probability: {}'.format(Phi['Probability'].iloc[1]))\n",
    "print('Probability from Q^Phi and from theoric_theta are the same? {}'.format(\n",
    "    np.isclose(np.sin((2*K+1)*theoric_theta)**2, Phi['Probability'].iloc[1])\n",
    "\n",
    "))"
   ]
  },
  {
   "cell_type": "markdown",
   "metadata": {},
   "source": [
    "So probabilities from $\\hat{Q}^{K}|\\Psi\\rangle$ and from $\\theta_{th}$ are the same but we cannot calculates the correct angle from the first because of multivalued $\\arcsin$"
   ]
  },
  {
   "cell_type": "markdown",
   "metadata": {},
   "source": [
    "## 3. Quantum Fourier Transformation"
   ]
  },
  {
   "cell_type": "markdown",
   "metadata": {},
   "source": [
    "In order to solve the before section problem we can use the **Phase Estimation Algorithm**. \n",
    "\n",
    "Our operator $\\hat{Q}$ applies a rotation of an angle $\\theta$ on the state $|\\Psi\\rangle$. This operator is unitary and have 2 eigenvalues in form of phases: $\\lambda_{\\pm}=e^{\\pm i2\\theta}$. The **Phase Estimation Algorithm** allow us get this phase $\\theta$.\n",
    "\n",
    "For this we need to create n auxiliary qbits in state $|+\\rangle$. Each qbit will be the controlled qbit for a controlled application of $\\hat{Q}^{K}$ (for each controlled qbit the K will change). Finally over the auxiliary qbits we apply an inverse of the Quantum Fourier Operator ($\\hat{Q}_{FT}$). The measurmente of this auxiliary qbits will give us an estimation of the desired $\\theta$. This estimation will be more exact when more auxiliary qbits we use for the $\\hat{Q}_{FT}$.\n",
    "\n",
    "For this algorithm if we have $m$ auxiliary qbits and the measurment of the $\\hat{Q}_{FT}$ is the integer $M$ then:\n",
    "\n",
    "$$\\theta = \\frac{M\\pi}{2^m}$$\n"
   ]
  },
  {
   "cell_type": "code",
   "execution_count": null,
   "metadata": {},
   "outputs": [],
   "source": [
    "#Complete Phase Estimate algorithm\n",
    "from qat.lang.AQASM import H\n",
    "Qprog, P_Gate, R_gate = expectation_loading_data(p_X, f_X)\n",
    "qbits = Qprog.registers[0]\n",
    "Q_Gate = load_q_gate(P_Gate, R_gate)\n",
    "n_aux = 5\n",
    "qAux = Qprog.qalloc(n_aux)\n",
    "#Controlled Q using  auxiliary qbits\n",
    "for i, aux in enumerate(qAux):\n",
    "    Qprog.apply(H, aux)\n",
    "    for _ in range(2**i):\n",
    "        Qprog.apply(Q_Gate.ctrl(), aux, qbits)\n",
    "#Inverse of the Quantum Fourier Transformation        \n",
    "from qat.lang.AQASM.qftarith import QFT\n",
    "Qprog.apply(QFT(n_aux).dag(), qAux)\n",
    "circuit = Qprog.to_circ(submatrices_only=True)"
   ]
  },
  {
   "cell_type": "code",
   "execution_count": null,
   "metadata": {
    "scrolled": true
   },
   "outputs": [],
   "source": [
    "%qatdisplay circuit"
   ]
  },
  {
   "cell_type": "code",
   "execution_count": null,
   "metadata": {},
   "outputs": [],
   "source": [
    "#Posible results\n",
    "job = circuit.to_job(qubits=qAux)\n",
    "result = run_job(lineal_qpu.submit(job))\n",
    "Phi = postprocess_results(result)\n",
    "#Each posible state is an integer M and we can compute its associated theta\n",
    "Phi['Thetas'] = [m*np.pi/(2**n_aux) for m in list(Phi.index)] \n",
    "Phi.sort_values('Probability', ascending=False, inplace = True)"
   ]
  },
  {
   "cell_type": "code",
   "execution_count": null,
   "metadata": {},
   "outputs": [],
   "source": [
    "#Now we can plot te probability for each posible theta\n",
    "%matplotlib inline\n",
    "plt.plot(Phi['Thetas'], Phi['Probability'], 'o')\n"
   ]
  },
  {
   "attachments": {},
   "cell_type": "markdown",
   "metadata": {},
   "source": [
    "As can be seen the QPA give us two maximums of probability each one correspond to the $\\pm\\theta$\n",
    "In order to see this we can use following cell:"
   ]
  },
  {
   "cell_type": "code",
   "execution_count": null,
   "metadata": {},
   "outputs": [],
   "source": [
    "theta1 = Phi.iloc[0]['Thetas']\n",
    "theta2 = Phi.iloc[1]['Thetas']\n",
    "print(theta1, theta2)"
   ]
  },
  {
   "cell_type": "markdown",
   "metadata": {},
   "source": [
    "Instead of get $\\pm\\theta$ we obtain ($\\theta$ and $\\pi-\\theta$) but the result is equivalent."
   ]
  },
  {
   "cell_type": "code",
   "execution_count": null,
   "metadata": {},
   "outputs": [],
   "source": [
    "np.isclose(np.sin(theta1), -np.sin(theta2-np.pi))"
   ]
  },
  {
   "cell_type": "code",
   "execution_count": null,
   "metadata": {},
   "outputs": [],
   "source": [
    "np.isclose(np.cos(theta1), np.cos(theta2-np.pi))"
   ]
  },
  {
   "cell_type": "code",
   "execution_count": null,
   "metadata": {},
   "outputs": [],
   "source": [
    "theoric_theta = np.arcsin(np.sqrt(sum(p_X*f_X)))\n",
    "print('theoric_theta: {}'.format(theoric_theta))\n",
    "print('theta_1: {}'.format(theta1))\n",
    "print('Theorical Integration: {}'.format(sum(p_X*f_X)))\n",
    "print('Amplitude Amplification Integral: {}'.format(np.sin(theta1)**2))"
   ]
  },
  {
   "cell_type": "markdown",
   "metadata": {},
   "source": [
    "If we use 10 qbits for codifying data (11 qbits circuit). \n",
    "\n",
    "With 5 auxiliary qbit:\n",
    "\n",
    "* Theorical Integration: 0.6697327210971238\n",
    "* Amplitude Amplification Integral: 0.6913417161825449\n",
    "\n",
    "For 10 auxiliary qbits: \n",
    "* Theorical Integration: 0.6697327210971238\n",
    "* Amplitude Amplification Integral: 0.66844492669611\n",
    "\n",
    "When more auxiliar qbits are used the error of the integral is lower"
   ]
  },
  {
   "cell_type": "code",
   "execution_count": null,
   "metadata": {},
   "outputs": [],
   "source": []
  }
 ],
 "metadata": {
  "kernelspec": {
   "display_name": "Python 3 (ipykernel)",
   "language": "python",
   "name": "python3"
  },
  "language_info": {
   "codemirror_mode": {
    "name": "ipython",
    "version": 3
   },
   "file_extension": ".py",
   "mimetype": "text/x-python",
   "name": "python",
   "nbconvert_exporter": "python",
   "pygments_lexer": "ipython3",
   "version": "3.9.9"
  }
 },
 "nbformat": 4,
 "nbformat_minor": 2
}
