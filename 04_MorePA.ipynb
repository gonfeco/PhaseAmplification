{
 "cells": [
  {
   "cell_type": "markdown",
   "metadata": {},
   "source": [
    "# Amplitude Amplification Algorithm"
   ]
  },
  {
   "cell_type": "code",
   "execution_count": null,
   "metadata": {},
   "outputs": [],
   "source": [
    "from IPython.core.display import display, HTML\n",
    "display(HTML(\"<style>.container { width:100% !important; }</style>\"))"
   ]
  },
  {
   "cell_type": "code",
   "execution_count": null,
   "metadata": {},
   "outputs": [],
   "source": [
    "import numpy as np\n",
    "import pandas as pd\n",
    "import matplotlib.pyplot as plt\n",
    "import sys, os"
   ]
  },
  {
   "cell_type": "code",
   "execution_count": null,
   "metadata": {},
   "outputs": [],
   "source": [
    "%load_ext qat.core.magic"
   ]
  },
  {
   "cell_type": "code",
   "execution_count": null,
   "metadata": {},
   "outputs": [],
   "source": [
    "#QPU connection\n",
    "QLMASS = True\n",
    "if QLMASS:\n",
    "    try:\n",
    "        from qat.qlmaas import QLMaaSConnection\n",
    "        connection = QLMaaSConnection()\n",
    "        LinAlg = connection.get_qpu(\"qat.qpus:LinAlg\")\n",
    "        lineal_qpu = LinAlg()\n",
    "    except (ImportError, OSError) as e:\n",
    "        print('Problem: usin PyLinalg')\n",
    "        from qat.qpus import PyLinalg\n",
    "        lineal_qpu = PyLinalg()\n",
    "else:\n",
    "    print('User Forces: PyLinalg')\n",
    "    from qat.qpus import PyLinalg\n",
    "    lineal_qpu = PyLinalg()    "
   ]
  },
  {
   "cell_type": "markdown",
   "metadata": {},
   "source": [
    "## 1. Data Discretization"
   ]
  },
  {
   "cell_type": "code",
   "execution_count": null,
   "metadata": {},
   "outputs": [],
   "source": [
    "from AuxiliarFunctions import  get_histogram, PostProcessResults, TestBins, RunJob\n",
    "def p(x):\n",
    "    return x*x\n",
    "def f(x):\n",
    "    return np.sin(x)"
   ]
  },
  {
   "cell_type": "code",
   "execution_count": null,
   "metadata": {},
   "outputs": [],
   "source": [
    "#number of Qbits for the circuit\n",
    "n_qbits = 15\n",
    "#The number of bins \n",
    "m_bins = 2**n_qbits\n",
    "LowerLimit = 0.0\n",
    "UpperLimit = 1.0 \n",
    "\n",
    "X, p_X = get_histogram(p, LowerLimit, UpperLimit, m_bins)\n",
    "f_X = f(X)"
   ]
  },
  {
   "cell_type": "markdown",
   "metadata": {},
   "source": [
    "## 2. Circuit Implementation"
   ]
  },
  {
   "cell_type": "code",
   "execution_count": null,
   "metadata": {},
   "outputs": [],
   "source": [
    "from QuantumMultiplexors_Module_examples import ExpectationLoadingData\n",
    "from PhaseAmplification_Module import Load_Q_Gate"
   ]
  },
  {
   "cell_type": "code",
   "execution_count": null,
   "metadata": {},
   "outputs": [],
   "source": [
    "K = 2\n",
    "#Initial State\n",
    "Qprog, P_Gate, R_gate = ExpectationLoadingData(p_X, f_X)\n",
    "qbits = Qprog.registers\n",
    "Q_Gate = Load_Q_Gate(P_Gate, R_gate)\n",
    "for k in range(K):\n",
    "    print(k)\n",
    "    Qprog.apply(Q_Gate, qbits)\n",
    "\n",
    "circuit = Qprog.to_circ(submatrices_only=True)\n",
    "job = circuit.to_job(qubits=[n_qbits])"
   ]
  },
  {
   "cell_type": "code",
   "execution_count": null,
   "metadata": {},
   "outputs": [],
   "source": [
    "%qatdisplay circuit"
   ]
  },
  {
   "cell_type": "code",
   "execution_count": null,
   "metadata": {},
   "outputs": [],
   "source": [
    "result = RunJob(lineal_qpu.submit(job))\n",
    "Phi = PostProcessResults(result)"
   ]
  },
  {
   "cell_type": "code",
   "execution_count": null,
   "metadata": {},
   "outputs": [],
   "source": [
    "Phi"
   ]
  },
  {
   "cell_type": "markdown",
   "metadata": {},
   "source": [
    "Como aprovechar esto: \n",
    "A priori la forma es bastante directa: Aplicamos el operador K veces por lo que:\n",
    "\n",
    "* Estado despues de la Carga de Datos: $|\\Psi\\rangle=\\sin{\\theta}|\\Psi_{1}\\rangle+\\cos{\\theta}|\\Psi_{0}\\rangle$\n",
    "* Estado al final del circuito: $\\hat{Q}^{K}|\\Psi\\rangle = \\sin{((2*K+1)\\theta)}|\\Psi_{1}\\rangle+\\cos{((2*K+1)\\theta})|\\Psi_{0}\\rangle$\n",
    "\n",
    "Realizamos N medidas del último qbit y generamos las probabilidades asociadas a medir $|\\Psi_{1}\\rangle$ y $|\\Psi_{1}\\rangle$. Esto generaría los siguientes números:\n",
    "\n",
    "* $P_{|\\Psi_{1}\\rangle}$: Probabilidad de haber medido el estado $|\\Psi_{1}\\rangle$ que esperamos sea muy alta\n",
    "* $P_{|\\Psi_{0}\\rangle}$: Probabilidad de haber medido el estado $|\\Psi_{0}\\rangle$ que esperamos sea muy baja\n",
    "\n",
    "A continuación igualamos las probabilidades con las amplitudes:\n",
    "\n",
    "$$\\sin^{2}((2*K+1)\\theta) = P_{|\\Psi_{1}\\rangle}$$\n",
    "$$\\sin((2*K+1)\\theta) = \\sqrt{P_{|\\Psi_{1}\\rangle}}$$\n",
    "$$(2*K+1)\\theta = \\arcsin{\\sqrt{P_{|\\Psi_{1}\\rangle}}}$$\n",
    "\n",
    "Y aquí paramos!!! porque al hacer el $\\arcsin$ esto es una función multivaluada pero la función numpy solo calcula el ángulo entre $[\\frac{-\\pi}{2}, \\frac{\\pi}{2}]$. Es decir si el operador $\\hat{Q}^K$ hace rotaciones que dejen el vector en un ángulo superior a $\\frac{\\pi}{2}$ el ángulo que nos devolverá la función no será el que buscamos: $(2*K+1)\\theta$ sino el ángulo que tenga el mismo valor del $\\sin$ pero en el intervalo anterior.. por lo que no podemos hacer la divsión para obtener el $\\theta$ original ...\n",
    "\n",
    "Veamos primero con lo que tenemos que esto NO funciona: en la siguiente celda calculamos $(2*K+1)\\theta$ utilizando la probabilidad de obtener el estado: $P_{|\\Psi_{1}\\rangle}$"
   ]
  },
  {
   "cell_type": "code",
   "execution_count": null,
   "metadata": {},
   "outputs": [],
   "source": [
    "theta_K = np.arcsin((Phi['Probability'].iloc[1])**0.5)\n",
    "print('theta_K: {}'.format(theta_K))"
   ]
  },
  {
   "cell_type": "markdown",
   "metadata": {},
   "source": [
    "Ahora obtenemos el ángulo $\\theta$ correspondiente a: $\\theta = \\frac{\\arcsin{\\sqrt{P_{|\\Psi_{1}\\rangle}}}}{(2*K+1)}$$\n"
   ]
  },
  {
   "cell_type": "code",
   "execution_count": null,
   "metadata": {},
   "outputs": [],
   "source": [
    "thetaFromK = theta_K/(2*K+1)\n",
    "print('thetaFromK: {}'.format(thetaFromK))"
   ]
  },
  {
   "cell_type": "markdown",
   "metadata": {},
   "source": [
    "No obstante sabemos que:\n",
    "\n",
    "$$\\sin \\theta = \\sqrt{\\sum_{x=0}^{2^-1} p(x)f(x)}$$\n",
    "\n",
    "$$ \\theta = \\arcsin{\\sqrt{\\sum_{x=0}^{2^-1} p(x)f(x)}}$$\n",
    "\n",
    "Esto lo calculamos en la siguiente celda!!!"
   ]
  },
  {
   "cell_type": "code",
   "execution_count": null,
   "metadata": {},
   "outputs": [],
   "source": [
    "theta_teorico = np.arcsin(np.sqrt(sum(p_X*f_X)))\n",
    "print('theta_teorico: {}'.format(theta_teorico))"
   ]
  },
  {
   "cell_type": "markdown",
   "metadata": {},
   "source": [
    "Como podemos observar **thetaFromK** es distinto de **theta_teorico** ($\\theta_{th}$). No obstante si ahora hacemos:\n",
    "\n",
    "$$\\sin^2((2*K+1)\\theta$$\n",
    "\n",
    "Obtendremos $P_{|\\Psi_{1}\\rangle}$"
   ]
  },
  {
   "cell_type": "code",
   "execution_count": null,
   "metadata": {},
   "outputs": [],
   "source": [
    "print('Probabilidad de |Psi_1> a partir de theta_teorico: {}'.format(np.sin((2*K+1)*theta_teorico)**2))\n",
    "\n",
    "print(np.isclose(np.sin((2*K+1)*theta_teorico)**2, Phi['Probability'].iloc[1]))"
   ]
  },
  {
   "cell_type": "markdown",
   "metadata": {},
   "source": [
    "Aquí vemos el problema. De momento NO tenemos nada ya que no podemos extraer el valor de $(2*K+1)\\theta$ correcto!!!"
   ]
  },
  {
   "cell_type": "code",
   "execution_count": null,
   "metadata": {},
   "outputs": [],
   "source": []
  }
 ],
 "metadata": {
  "kernelspec": {
   "display_name": "Python 3 (ipykernel)",
   "language": "python",
   "name": "python3"
  },
  "language_info": {
   "codemirror_mode": {
    "name": "ipython",
    "version": 3
   },
   "file_extension": ".py",
   "mimetype": "text/x-python",
   "name": "python",
   "nbconvert_exporter": "python",
   "pygments_lexer": "ipython3",
   "version": "3.9.9"
  }
 },
 "nbformat": 4,
 "nbformat_minor": 2
}
