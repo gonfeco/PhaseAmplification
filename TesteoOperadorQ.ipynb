{
 "cells": [
  {
   "cell_type": "markdown",
   "id": "5c1a2514",
   "metadata": {},
   "source": [
    "# TESTEO OPERADOR $\\hat{Q}$"
   ]
  },
  {
   "cell_type": "code",
   "execution_count": null,
   "id": "872d968a",
   "metadata": {},
   "outputs": [],
   "source": [
    "from IPython.core.display import display, HTML\n",
    "display(HTML(\"<style>.container { width:100% !important; }</style>\"))"
   ]
  },
  {
   "cell_type": "code",
   "execution_count": null,
   "id": "723aa45c",
   "metadata": {},
   "outputs": [],
   "source": [
    "import numpy as np\n",
    "import pandas as pd\n",
    "import matplotlib.pyplot as plt\n",
    "import sys, os"
   ]
  },
  {
   "cell_type": "code",
   "execution_count": null,
   "id": "992f7242",
   "metadata": {},
   "outputs": [],
   "source": [
    "%load_ext qat.core.magic"
   ]
  },
  {
   "cell_type": "code",
   "execution_count": null,
   "id": "bdfb9eb3",
   "metadata": {},
   "outputs": [],
   "source": [
    "#QPU connection\n",
    "QLMASS = True\n",
    "if QLMASS:\n",
    "    try:\n",
    "        from qat.qlmaas import QLMaaSConnection\n",
    "        connection = QLMaaSConnection()\n",
    "        LinAlg = connection.get_qpu(\"qat.qpus:LinAlg\")\n",
    "        lineal_qpu = LinAlg()\n",
    "    except (ImportError, OSError) as e:\n",
    "        print('Problem: usin PyLinalg')\n",
    "        from qat.qpus import PyLinalg\n",
    "        lineal_qpu = PyLinalg()\n",
    "else:\n",
    "    print('User Forces: PyLinalg')\n",
    "    from qat.qpus import PyLinalg\n",
    "    lineal_qpu = PyLinalg()    "
   ]
  },
  {
   "cell_type": "code",
   "execution_count": null,
   "id": "30dbace6",
   "metadata": {},
   "outputs": [],
   "source": [
    "from AuxiliarFunctions import  get_histogram, PostProcessResults, TestBins, RunJob\n",
    "def p(x):\n",
    "    return x*x\n",
    "def f(x):\n",
    "    return np.sin(x)"
   ]
  },
  {
   "cell_type": "code",
   "execution_count": null,
   "id": "7a5fd75e",
   "metadata": {},
   "outputs": [],
   "source": [
    "#number of Qbits for the circuit\n",
    "n_qbits = 6\n",
    "#The number of bins \n",
    "m_bins = 2**n_qbits\n",
    "LowerLimit = 0.0\n",
    "UpperLimit = 1.0 \n",
    "\n",
    "X, p_X = get_histogram(p, LowerLimit, UpperLimit, m_bins)\n",
    "f_X = f(X)"
   ]
  },
  {
   "cell_type": "code",
   "execution_count": null,
   "id": "3ef9fa6a",
   "metadata": {},
   "outputs": [],
   "source": [
    "from QuantumMultiplexors_Module_examples import ExpectationLoadingData\n",
    "from PhaseAmplification_Module import Load_Q_Gate"
   ]
  },
  {
   "cell_type": "markdown",
   "id": "e01b78fa",
   "metadata": {},
   "source": [
    "## Carga inicial de datos"
   ]
  },
  {
   "cell_type": "markdown",
   "id": "400ad8de",
   "metadata": {},
   "source": [
    "Despues de la carga de $p(x)$ y $f(x)$ el estado que obtenemos es:\n",
    "\n",
    "$$|\\Psi\\rangle=\\sqrt{a}|\\Psi_{1}\\rangle+\\sqrt{1-a}|\\Psi_{0}\\rangle$$\n",
    "\n",
    "Que se puede poner como:\n",
    "\n",
    "$$|\\Psi\\rangle=\\sin{\\theta}|\\Psi_{1}\\rangle+\\cos{\\theta}|\\Psi_{0}\\rangle$$\n",
    "\n",
    "siendo $|\\Psi_{0}\\rangle$ y $|\\Psi_{1}\\rangle$ dos vectores ortonormales del siguiente modo:\n",
    "\n",
    "$$|\\Psi_{1}\\rangle = \\sum_{x=0}^{2^{n}-1}|x\\rangle^{n}\\otimes\\frac{1}{\\sqrt{a}}\\sqrt{p(x)f(x)}|1\\rangle$$\n",
    "$$|\\Psi_{0}\\rangle = \\sum_{x=0}^{2^{n}-1}|x\\rangle^{n}\\otimes\\frac{1}{\\sqrt{1-a}}\\sqrt{p(x)(1-f(x))}|0\\rangle$$\n",
    "\n",
    "La siguiente celda implementa esta primera parte"
   ]
  },
  {
   "cell_type": "code",
   "execution_count": null,
   "id": "8fc1cd15",
   "metadata": {},
   "outputs": [],
   "source": [
    "#Initial State\n",
    "Qprog, P_Gate, R_gate = ExpectationLoadingData(p_X, f_X)\n",
    "circuit = Qprog.to_circ()\n",
    "job = circuit.to_job()\n",
    "result = RunJob(lineal_qpu.submit(job))\n",
    "Phi = PostProcessResults(result)"
   ]
  },
  {
   "cell_type": "code",
   "execution_count": null,
   "id": "cb1e02da",
   "metadata": {
    "scrolled": true
   },
   "outputs": [],
   "source": [
    "Phi.head()"
   ]
  },
  {
   "cell_type": "markdown",
   "id": "1301e3db",
   "metadata": {},
   "source": [
    "A continuación aplicamos el operador:\n",
    "\n",
    "$$\\hat{Q}=\\hat{U}_{|\\Psi\\rangle} \\hat{U}_{|\\Psi_{0}\\rangle}$$\n",
    "\n",
    "sobre el estado $|\\Psi\\rangle$. Sabemos este operador ejecuta una rotación de $2\\theta$ sobre dicho estado:\n",
    "\n",
    "$$\\hat{Q}|\\Psi\\rangle= \\hat{R}_{y}(2*\\theta)|\\Psi\\rangle=\\hat{R}_{y}(2*\\theta)(\\sin{\\theta}|\\Psi_{1}\\rangle+\\cos{\\theta}|\\Psi_{0}\\rangle) = \\sin{3\\theta}\\Psi_{1}\\rangle+\\cos{3\\theta}|\\Psi_{0}\\rangle$$\n",
    "\n",
    "En la siguiente celda terminamos de aplicar el circuito:"
   ]
  },
  {
   "cell_type": "code",
   "execution_count": null,
   "id": "8df49d1b",
   "metadata": {},
   "outputs": [],
   "source": [
    "qbits = Qprog.registers\n",
    "Q_Gate = Load_Q_Gate(P_Gate, R_gate)\n",
    "Qprog.apply(Q_Gate, qbits)\n",
    "circuit = Qprog.to_circ()\n",
    "job = circuit.to_job()\n",
    "result = RunJob(lineal_qpu.submit(job))\n",
    "Q_Phi= PostProcessResults(result)"
   ]
  },
  {
   "cell_type": "code",
   "execution_count": null,
   "id": "ae0af584",
   "metadata": {
    "scrolled": true
   },
   "outputs": [],
   "source": [
    "Q_Phi.head()"
   ]
  },
  {
   "cell_type": "markdown",
   "id": "f2708da0",
   "metadata": {},
   "source": [
    "Asi pues en **Phi** tenemos toda la información del  estado $|\\Psi\\rangle$ mientras en **Q_Phi** la info del estado $\\hat{Q}|\\Psi\\rangle$. Para comprobar que lo ha hecho bien se debe verificar que:\n",
    "\n",
    "* $|\\Psi\\rangle=\\sin{\\theta}|\\Psi_{1}\\rangle+\\cos{\\theta}|\\Psi_{0}\\rangle$\n",
    "* $\\hat{Q}|\\Psi\\rangle = \\sin{3\\theta}\\Psi_{1}\\rangle+\\cos{3\\theta}|\\Psi_{0}\\rangle$\n",
    "\n",
    "Para ello voy a utilizar la funcion **Get2DVector** que recibe un estado cuántico y devuelve los dos vectores ortonormales: $|\\Psi_{0}\\rangle$ y $|\\Psi_{1}\\rangle$ y sus amplitudes correspondientes. Es decir:\n",
    "1. Si le damos el estado **Phi**: obtendremos: $|\\Psi_{0}\\rangle$ y $|\\Psi_{1}\\rangle$ y ($\\cos{\\theta}, \\sin{\\theta}$)\n",
    "2. Si le damos el estado **QPhi** deberíamos obtener:  $|\\Psi_{0}\\rangle$ y $|\\Psi_{1}\\rangle$ y ($\\cos{3\\theta}, \\sin{3\\theta}$)\n",
    "\n",
    "Vamos a ello:"
   ]
  },
  {
   "cell_type": "code",
   "execution_count": null,
   "id": "6147ef99",
   "metadata": {},
   "outputs": [],
   "source": [
    "def Normalize(pds):\n",
    "    Normalization = sum(pds**2)\n",
    "    return pds/np.sqrt(Normalization), np.sqrt(Normalization)\n",
    "\n",
    "def Get2DVector(pdf):\n",
    "    Phi_0 = pdf.iloc[[i for i in range(0, len(pdf), 2)]]['Amplitude']\n",
    "    Phi_0.reset_index(inplace=True, drop=True)\n",
    "    Phi_0.rename('|0>', inplace = True)\n",
    "    Phi_1 = pdf.iloc[[i for i in range(1, len(pdf), 2)]]['Amplitude']\n",
    "    Phi_1.reset_index(inplace=True, drop=True)\n",
    "    Phi_1.rename('|1>', inplace = True)\n",
    "    NPhi_0, N0 = Normalize(Phi_0)\n",
    "    NPhi_1, N1 = Normalize(Phi_1)\n",
    "    #Suma = Phi_0 + Phi_1\n",
    "    return pd.concat([NPhi_0, NPhi_1], axis=1), np.array([N0, N1])"
   ]
  },
  {
   "cell_type": "code",
   "execution_count": null,
   "id": "a8ec83e8",
   "metadata": {},
   "outputs": [],
   "source": [
    "Phi_0, alfas= Get2DVector(Phi)\n",
    "QPhi_0, Qalfas= Get2DVector(Q_Phi)"
   ]
  },
  {
   "cell_type": "markdown",
   "id": "00780107",
   "metadata": {},
   "source": [
    "Vamos a ver que ocurre con los vectores $|\\Psi_{0}\\rangle$ y $|\\Psi_{1}\\rangle$ obtenidos para **Phi** (pandas dataframe *Phi_0*) y para **Q_Phi** (pandas dataframe *QPhi_0*)"
   ]
  },
  {
   "cell_type": "code",
   "execution_count": null,
   "id": "2cd87562",
   "metadata": {},
   "outputs": [],
   "source": [
    "Phi_0.head()"
   ]
  },
  {
   "cell_type": "code",
   "execution_count": null,
   "id": "2a606db8",
   "metadata": {},
   "outputs": [],
   "source": [
    "QPhi_0.head()"
   ]
  },
  {
   "cell_type": "markdown",
   "id": "16e8462a",
   "metadata": {},
   "source": [
    "Como se puede observar los $|\\Psi_{1}\\rangle$ obtenidos para **Phi** y para **Q_Phi** son exactamente iguales mientras que los $|\\Psi_{0}\\rangle$ son opuestos. Vamos a cambiar el signo de estos últimos: se lo quitmaos a los vectores y se lo ponemos a las amplitudes:"
   ]
  },
  {
   "cell_type": "code",
   "execution_count": null,
   "id": "a1b66982",
   "metadata": {},
   "outputs": [],
   "source": [
    "QPhi_0['|0>']=-QPhi_0['|0>']\n",
    "Qalfas[0] = -Qalfas[0]"
   ]
  },
  {
   "cell_type": "markdown",
   "id": "66f2b29e",
   "metadata": {},
   "source": [
    "Con estos cambios tenemos todo alineado. Lo que vamos a obtener son los angulos $\\theta$ de las amplitudes correspondientes a **Phi** (*alfas*) y a **QPhi** (*Qalfas*) y comprobaremos que  el segundo es tres veces el primero como tiene que ser!!!\n",
    "\n",
    "Para el cos (primera coordenada de *alfas* y *Qalfas* esta comprobación es directa!!"
   ]
  },
  {
   "cell_type": "code",
   "execution_count": null,
   "id": "0a08b185",
   "metadata": {},
   "outputs": [],
   "source": [
    "print('El angulo de Qalfas 3.0 veces el alfas: {}'.format(np.isclose(np.arccos(Qalfas[0])/3.0, np.arccos(alfas[0]))))"
   ]
  },
  {
   "cell_type": "markdown",
   "id": "ab3a6d3c",
   "metadata": {},
   "source": [
    "Para el caso del *seno* (segunda coordenada de *alfas* y *Qalfas*) la cosa es un poco ás enrevesada por como las funciones trigonométricas de numpy funcionan (y porque hay que recordar que sen(PI-alfa) = sen(alfa)"
   ]
  },
  {
   "cell_type": "code",
   "execution_count": null,
   "id": "c8f9a4a1",
   "metadata": {},
   "outputs": [],
   "source": [
    "np.isclose(np.arcsin(Qalfas[0])/3.0, np.arcsin(alfas[0]))"
   ]
  },
  {
   "cell_type": "code",
   "execution_count": null,
   "id": "4ba3fc5b",
   "metadata": {},
   "outputs": [],
   "source": [
    "np.arcsin(Qalfas[0])"
   ]
  },
  {
   "cell_type": "code",
   "execution_count": null,
   "id": "43f7d78e",
   "metadata": {},
   "outputs": [],
   "source": [
    "Beta = np.arcsin(Qalfas[0])"
   ]
  },
  {
   "cell_type": "code",
   "execution_count": null,
   "id": "32faa14e",
   "metadata": {},
   "outputs": [],
   "source": [
    "#Como el seno es negativo tenemos que buscar el tercer cuadrante en vez del segundo!!\n",
    "Pi_MenosBeta = 3*np.arcsin(alfas[0])- np.pi "
   ]
  },
  {
   "cell_type": "code",
   "execution_count": null,
   "id": "89a4f5f5",
   "metadata": {},
   "outputs": [],
   "source": [
    "np.isclose(Beta, Pi_MenosBeta)"
   ]
  }
 ],
 "metadata": {
  "kernelspec": {
   "display_name": "Python 3 (ipykernel)",
   "language": "python",
   "name": "python3"
  },
  "language_info": {
   "codemirror_mode": {
    "name": "ipython",
    "version": 3
   },
   "file_extension": ".py",
   "mimetype": "text/x-python",
   "name": "python",
   "nbconvert_exporter": "python",
   "pygments_lexer": "ipython3",
   "version": "3.9.9"
  }
 },
 "nbformat": 4,
 "nbformat_minor": 5
}
