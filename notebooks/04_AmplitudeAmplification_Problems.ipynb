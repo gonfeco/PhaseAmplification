{
 "cells": [
  {
   "cell_type": "markdown",
   "metadata": {},
   "source": [
    "# Amplitude Amplification Algorithm"
   ]
  },
  {
   "cell_type": "markdown",
   "metadata": {},
   "source": [
    "Now we have all ingredientes to use amplitude amplification for computing the expected value of a function $f(x)$ over a domain that follows a distribution probability $p(x)$: $E_{x\\sim p}(f)$:\n",
    "\n",
    "1. Loading distribution probability $p(x)$ using the operator $\\mathcal{P}$ into the quantum state.\n",
    "2. Loading the desired function $f(x)$ using the operator $\\mathcal{R}$ into the quantum state.\n",
    "3. The Groover operator mandatory for Amplitude Amplification: $\\mathcal{Q}$\n",
    "\n",
    "In this notebook we try to use the **Groover** operator for calculating $E_{x\\sim p}(f)$ and analyze the problems that arise when using this method"
   ]
  },
  {
   "cell_type": "code",
   "execution_count": null,
   "metadata": {},
   "outputs": [],
   "source": [
    "from IPython.core.display import display, HTML\n",
    "display(HTML(\"<style>.container { width:100% !important; }</style>\"))"
   ]
  },
  {
   "cell_type": "code",
   "execution_count": null,
   "metadata": {},
   "outputs": [],
   "source": [
    "import sys\n",
    "sys.path.append(\"../library\")"
   ]
  },
  {
   "cell_type": "code",
   "execution_count": null,
   "metadata": {},
   "outputs": [],
   "source": [
    "import numpy as np\n",
    "import pandas as pd\n",
    "import matplotlib.pyplot as plt"
   ]
  },
  {
   "cell_type": "code",
   "execution_count": null,
   "metadata": {},
   "outputs": [],
   "source": [
    "%load_ext qat.core.magic\n",
    "%matplotlib inline"
   ]
  },
  {
   "cell_type": "code",
   "execution_count": null,
   "metadata": {},
   "outputs": [],
   "source": [
    "global_qlmaas = True\n",
    "try:\n",
    "    from qlmaas.qpus import LinAlg\n",
    "except (ImportError, OSError) as e:\n",
    "    global_qlmaas = False\n",
    "from qat.qpus import PyLinalg"
   ]
  },
  {
   "cell_type": "code",
   "execution_count": null,
   "metadata": {},
   "outputs": [],
   "source": [
    "def get_qpu(qlmass=False):\n",
    "    \"\"\"\n",
    "    Function for selecting solver. User can chose between:\n",
    "    * LinAlg: for submitting jobs to a QLM server\n",
    "    * PyLinalg: for simulating jobs using myqlm lineal algebra.\n",
    "\n",
    "    Parameters\n",
    "    ----------\n",
    "\n",
    "    qlmass : bool\n",
    "        If True  try to use QLM as a Service connection to CESGA QLM\n",
    "        If False PyLinalg simulator will be used\n",
    "\n",
    "    Returns\n",
    "    ----------\n",
    "    \n",
    "    lineal_qpu : solver for quantum jobs\n",
    "    \"\"\"\n",
    "    if qlmass:\n",
    "        if global_qlmaas:\n",
    "            print('Using: LinAlg')\n",
    "            linalg_qpu = LinAlg()\n",
    "        else:\n",
    "            raise ImportError(\"\"\"Problem Using QLMaaS.Please create config file or use mylm solver\"\"\")\n",
    "            \n",
    "    else:\n",
    "        print('Using PyLinalg')\n",
    "        linalg_qpu = PyLinalg()\n",
    "    return linalg_qpu"
   ]
  },
  {
   "cell_type": "code",
   "execution_count": null,
   "metadata": {},
   "outputs": [],
   "source": [
    "#QLMaaS == False -> uses PyLinalg\n",
    "#QLMaaS == True -> try to use LinAlg\n",
    "QLMaaS = True\n",
    "linalg_qpu = get_qpu(QLMaaS)"
   ]
  },
  {
   "cell_type": "markdown",
   "metadata": {},
   "source": [
    "## 1. Data Discretization"
   ]
  },
  {
   "cell_type": "markdown",
   "metadata": {},
   "source": [
    "First we create the discretized probability $p(x)$ and function $f(x)$ needed for calculating expected value $E_{x\\sim p}(f)$"
   ]
  },
  {
   "cell_type": "code",
   "execution_count": null,
   "metadata": {},
   "outputs": [],
   "source": [
    "from AuxiliarFunctions import  get_histogram\n",
    "def p(x):\n",
    "    return x*x\n",
    "def f(x):\n",
    "    return np.sin(x)"
   ]
  },
  {
   "cell_type": "code",
   "execution_count": null,
   "metadata": {},
   "outputs": [],
   "source": [
    "#number of Qbits for the circuit\n",
    "n_qbits = 6\n",
    "#The number of bins \n",
    "m_bins = 2**n_qbits\n",
    "LowerLimit = 0.0\n",
    "UpperLimit = 1.0 \n",
    "\n",
    "X, p_X = get_histogram(p, LowerLimit, UpperLimit, m_bins)\n",
    "f_X = f(X)"
   ]
  },
  {
   "cell_type": "markdown",
   "metadata": {},
   "source": [
    "## 2. $\\theta$ estimation problem"
   ]
  },
  {
   "cell_type": "markdown",
   "metadata": {},
   "source": [
    "After the loading steps our quantum state is: \n",
    "\n",
    "$$|\\Psi\\rangle=\\sin{\\theta}|\\Psi_{1}\\rangle+\\cos{\\theta}|\\Psi_{0}\\rangle$$\n",
    "\n",
    "The amplitude of the $|\\Psi_{1}\\rangle$ state is realted with $E_{x\\sim p}(f)$ by:\n",
    "\n",
    "$$\\sin \\theta = \\sqrt{\\sum_{x=0}^{2^-1} p(x)f(x)}$$\n",
    "\n",
    "The main idea in the amplitude amplification is use a similar procedure like in Groover algorithm in order to increase the probability of the $|\\Psi_{1}\\rangle$ state. This can be in a straightoforward way by applying operator $\\hat{Q}$ $k$ times:\n",
    "\n",
    "$$\\hat{Q}^{K}|\\Psi\\rangle = \\sin{((2*K+1)\\theta)}|\\Psi_{1}\\rangle+\\cos{((2*K+1)\\theta})|\\Psi_{0}\\rangle$$\n",
    "\n",
    "The idea is apply K in such a way that the probability of $|\\Psi_{1}\\rangle$ is maximized. For this we can equal:\n",
    "\n",
    "\n",
    "$$P_{|\\Psi_{1}\\rangle} = \\sin^{2}((2*K+1)\\theta) \\approx 1$$ \n",
    "\n",
    "So:\n",
    "\n",
    "$$(2K+1)\\theta = \\frac{\\pi}{2}$$\n",
    "\n",
    "\n",
    "We have to unknows variables: $\\theta$ and $K$. If we know $\\theta$ we can know how many applications of $\\hat{Q}$ we need for maximazing the state we want.\n",
    "\n",
    "Other approximation is following one: \n",
    "\n",
    "we can prepare the system $n$ times (each time with the same $K$), measure the final state and get the probabilities for measuring  $|\\Psi_{1}\\rangle$ y $|\\Psi_{1}:\n",
    "\n",
    "* $P_{|\\Psi_{1}\\rangle}$: Probability of get state $|\\Psi_{1}\\rangle$ (we desire a high probability here)\n",
    "* $P_{|\\Psi_{0}\\rangle}$: Probability of get state $|\\Psi_{0}\\rangle$ (we desire a low probability here)\n",
    "\n",
    "We know that this proabilities are related withe the corresponding amplitudes so: \n",
    "\n",
    "$$\\sin^{2}((2*K+1)\\theta) = P_{|\\Psi_{1}\\rangle}$$\n",
    "$$\\sin((2*K+1)\\theta) = \\sqrt{P_{|\\Psi_{1}\\rangle}}$$\n",
    "$$(2*K+1)\\theta = \\arcsin{\\sqrt{P_{|\\Psi_{1}\\rangle}}}$$\n",
    "\n",
    "So in this moment, theoretically, we have solved the problem because we can calculate $\\theta$ and the desired $E_{x\\sim p}(f)$. But we have a practical important problem: **arcsin** is a multivaluated function and usually software packages give a solution in the $[\\frac{-\\pi}{2}, \\frac{\\pi}{2}]$. If the rotation resulting of apply $\\hat{Q}^{K}$ is bigger than $\\frac{\\pi}{2}$ then we cannot compute properly $(2*K+1)\\theta$.\n",
    "\n",
    "This can be seen in the following cells"
   ]
  },
  {
   "cell_type": "code",
   "execution_count": null,
   "metadata": {},
   "outputs": [],
   "source": [
    "#First create loading operators\n",
    "from QuantumMultiplexors_Module import load_p_gate, load_f_gate, load_pf_gate\n",
    "p_gate = load_p_gate(p_X)\n",
    "f_gate = load_f_gate(f_X)\n",
    "pf_gate = load_pf_gate(p_gate, f_gate)"
   ]
  },
  {
   "cell_type": "code",
   "execution_count": null,
   "metadata": {},
   "outputs": [],
   "source": [
    "#Second create the correspondient Grover-like operator\n",
    "from amplitude_amplification import load_q_gate, load_qn_gate"
   ]
  },
  {
   "cell_type": "code",
   "execution_count": null,
   "metadata": {},
   "outputs": [],
   "source": [
    "q_gate = load_q_gate(pf_gate)"
   ]
  },
  {
   "cell_type": "code",
   "execution_count": null,
   "metadata": {},
   "outputs": [],
   "source": [
    "#Number of times operator Grover-like Q will be applied\n",
    "k=2\n",
    "q_k_gate = load_qn_gate(q_gate, k)"
   ]
  },
  {
   "cell_type": "code",
   "execution_count": null,
   "metadata": {},
   "outputs": [],
   "source": [
    "from data_extracting import create_qprogram, get_results"
   ]
  },
  {
   "cell_type": "code",
   "execution_count": null,
   "metadata": {},
   "outputs": [],
   "source": [
    "#Cration of quantum program for loading data\n",
    "q_prog = create_qprogram(pf_gate)\n",
    "registers = q_prog.registers\n",
    "#Apply Grover^k\n",
    "q_prog.apply(q_k_gate, registers)\n",
    "#For getting the state of the additional qbit where the desired integral are stored\n",
    "Q_k_Phi_State, circuit, q_p, job = get_results(q_prog, linalg_qpu=linalg_qpu, shots=0, qubits=[pf_gate.arity-1])"
   ]
  },
  {
   "cell_type": "code",
   "execution_count": null,
   "metadata": {},
   "outputs": [],
   "source": [
    "%qatdisplay circuit --depth 1"
   ]
  },
  {
   "cell_type": "code",
   "execution_count": null,
   "metadata": {},
   "outputs": [],
   "source": [
    "Q_k_Phi_State"
   ]
  },
  {
   "cell_type": "markdown",
   "metadata": {},
   "source": [
    "Now we calculate:  \n",
    "$$\\theta = \\frac{\\arcsin{\\sqrt{P_{|\\Psi_{1}\\rangle}}}}{(2*K+1)}$$"
   ]
  },
  {
   "cell_type": "code",
   "execution_count": null,
   "metadata": {},
   "outputs": [],
   "source": [
    "#This is the angle asociated to the Phi state\n",
    "theta_K = np.arcsin((Q_k_Phi_State['Probability'].iloc[1])**0.5)\n",
    "print('theta_K: {}'.format(theta_K))\n",
    "thetaFromK = theta_K/(2*k+1)\n",
    "print('thetaFromK: {}'.format(thetaFromK))"
   ]
  },
  {
   "cell_type": "markdown",
   "metadata": {},
   "source": [
    "Additionally in this case we know the true value of $\\theta$:\n",
    "\n",
    "$$ \\theta_{th} = \\arcsin{\\sqrt{\\sum_{x=0}^{2^-1} p(x)f(x)}}$$\n",
    "\n",
    "This is done in following cell"
   ]
  },
  {
   "cell_type": "code",
   "execution_count": null,
   "metadata": {},
   "outputs": [],
   "source": [
    "#True value of Theta calculated using the input arrays\n",
    "theoric_theta = np.arcsin(np.sqrt(sum(p_X*f_X)))\n",
    "print('theoric_theta: {}'.format(theoric_theta))\n",
    "\n",
    "print('thetaFromK == theoric_theta? {}'.format(np.isclose(thetaFromK, theoric_theta)))"
   ]
  },
  {
   "cell_type": "markdown",
   "metadata": {},
   "source": [
    "As can be seen in befor cell the calculated $\\theta$ is different from $\\theta_{th}$. But we can compute the probability associated with this $\\theta_{th}$ using:\n",
    "\n",
    "$$\\sin^2((2*K+1)\\theta_{th}$$"
   ]
  },
  {
   "cell_type": "code",
   "execution_count": null,
   "metadata": {},
   "outputs": [],
   "source": [
    "print('|Psi_1> from  theoric_theta: {}'.format(np.sin((2*k+1)*theoric_theta)**2))\n",
    "print('|Psi_1> from  Q^KPhi Probability: {}'.format(Q_k_Phi_State['Probability'].iloc[0]))\n",
    "print('Probability from Q^Phi and from theoric_theta are the same? {}'.format(\n",
    "    np.isclose(np.sin((2*k+1)*theoric_theta)**2, Q_k_Phi_State['Probability'].iloc[1])\n",
    "\n",
    "))"
   ]
  },
  {
   "cell_type": "markdown",
   "metadata": {},
   "source": [
    "So probabilities from $\\hat{Q}^{K}|\\Psi\\rangle$ and from $\\theta_{th}$ are the same but we cannot calculates the correct angle from the first because of multivalued $\\arcsin$"
   ]
  },
  {
   "cell_type": "markdown",
   "metadata": {},
   "source": [
    "## 3. Quantum Fourier Transformation"
   ]
  },
  {
   "cell_type": "markdown",
   "metadata": {},
   "source": [
    "In order to solve the before section problem we can use the **Phase Estimation Algorithm**. \n",
    "\n",
    "Our operator $\\hat{Q}$ applies a rotation of an angle $\\theta$ on the state $|\\Psi\\rangle$. This operator is unitary and have 2 eigenvalues in form of phases: $\\lambda_{\\pm}=e^{\\pm i2\\theta}$. The **Phase Estimation Algorithm** allow us get this phase $\\theta$.\n",
    "\n",
    "For this we need to create n auxiliary qbits in state $|+\\rangle$. Each qbit will be the controlled qbit for a controlled application of $\\hat{Q}^{K}$ (for each controlled qbit the K will change). Finally over the auxiliary qbits we apply an inverse of the Quantum Fourier Operator ($\\hat{Q}_{FT}$). The measurmente of this auxiliary qbits will give us an estimation of the desired $\\theta$. This estimation will be more exact when more auxiliary qbits we use for the $\\hat{Q}_{FT}$.\n",
    "\n",
    "For this algorithm if we have $m$ auxiliary qbits and the measurment of the $\\hat{Q}_{FT}$ is the integer $M$ then:\n",
    "\n",
    "$$\\theta = \\frac{M\\pi}{2^m}$$\n"
   ]
  },
  {
   "cell_type": "code",
   "execution_count": null,
   "metadata": {},
   "outputs": [],
   "source": [
    "import qat.lang.AQASM as qlm\n",
    "#from qat.lang.AQASM.qftarith import QFT"
   ]
  },
  {
   "cell_type": "code",
   "execution_count": null,
   "metadata": {},
   "outputs": [],
   "source": [
    "#Allocating Auxiliar qbits for Phase Estimation\n",
    "n_aux = 8\n",
    "\n",
    "#Cration of quantum program for loading data\n",
    "q_prog = create_qprogram(pf_gate)\n",
    "qbits = q_prog.registers[0]\n",
    "qAux = q_prog.qalloc(n_aux)\n",
    "#Creating auxiliary qbits for QPE with QFT\n",
    "for i, aux in enumerate(qAux):\n",
    "    q_prog.apply(qlm.H, aux)\n",
    "    step_q_gate = load_qn_gate(q_gate, 2**i)\n",
    "    q_prog.apply(step_q_gate.ctrl(), aux, qbits)\n",
    "#Inverse of the Quantum Fourier Transformation        \n",
    "q_prog.apply(qlm.qftarith.QFT(n_aux).dag(), qAux)"
   ]
  },
  {
   "cell_type": "code",
   "execution_count": null,
   "metadata": {},
   "outputs": [],
   "source": [
    "Phi, circuit, q_prog, job = get_results(q_prog, linalg_qpu=linalg_qpu, shots=0, qubits=[qAux])"
   ]
  },
  {
   "cell_type": "code",
   "execution_count": null,
   "metadata": {},
   "outputs": [],
   "source": [
    "%qatdisplay circuit"
   ]
  },
  {
   "cell_type": "code",
   "execution_count": null,
   "metadata": {},
   "outputs": [],
   "source": [
    "Phi"
   ]
  },
  {
   "cell_type": "code",
   "execution_count": null,
   "metadata": {},
   "outputs": [],
   "source": [
    "Phi['Thetas'] = Phi['Int']*np.pi/(2**n_aux)\n",
    "Phi.sort_values('Probability', ascending=False, inplace = True)"
   ]
  },
  {
   "cell_type": "code",
   "execution_count": null,
   "metadata": {},
   "outputs": [],
   "source": [
    "#Now we can plot te probability for each posible theta\n",
    "%matplotlib inline\n",
    "plt.plot(Phi['Thetas'], Phi['Probability'], 'o')\n",
    "plt.xlabel('Theta')\n",
    "plt.ylabel('Probability')"
   ]
  },
  {
   "cell_type": "markdown",
   "metadata": {},
   "source": [
    "As can be seen there are two maximum of probabilities at: $\\theta_0$ and $\\theta_1$ and is mandatory that $\\theta_1 = -\\theta_0$.\n",
    "\n",
    "Remenbering that $-\\theta = \\pi - \\theta$ the we can test that the two maximum correspond to $\\pm \\theta$:"
   ]
  },
  {
   "cell_type": "code",
   "execution_count": null,
   "metadata": {},
   "outputs": [],
   "source": [
    "#We take the thetas were probability is maximum\n",
    "theta_0 = Phi.sort_values('Probability', ascending =False)['Thetas'].iloc[0]\n",
    "theta_1 = Phi.sort_values('Probability', ascending =False)['Thetas'].iloc[1]\n",
    "\n",
    "print('theta_0: {}'.format(theta_0))\n",
    "print('theta_1: {}'.format(theta_1))"
   ]
  },
  {
   "cell_type": "code",
   "execution_count": null,
   "metadata": {},
   "outputs": [],
   "source": [
    "#So we test that the 2 are the same angle with different signs\n",
    "np.isclose(theta_0, np.pi -theta_1)"
   ]
  },
  {
   "cell_type": "code",
   "execution_count": null,
   "metadata": {},
   "outputs": [],
   "source": [
    "#So we test that the 2 are the same angle with different signs\n",
    "np.isclose(theta_0, np.pi -theta_1)"
   ]
  },
  {
   "cell_type": "markdown",
   "metadata": {},
   "source": [
    "Aditionally we can compute the Expected value as \n",
    "$$E_{x\\sim p}(f) = \\sum_{x=0}^{2^-1} p(x)f(x) = \\sin^{2} \\theta $$\n",
    "\n",
    "We can plot the posible expected values versus the probability"
   ]
  },
  {
   "cell_type": "code",
   "execution_count": null,
   "metadata": {},
   "outputs": [],
   "source": [
    "#Now we can plot te probability for each posible theta\n",
    "%matplotlib inline\n",
    "plt.plot(np.sin(Phi['Thetas'])**2, Phi['Probability'], 'o')\n",
    "plt.xlabel('E_p[f]')\n",
    "plt.ylabel('Probability')"
   ]
  },
  {
   "cell_type": "code",
   "execution_count": null,
   "metadata": {},
   "outputs": [],
   "source": [
    "theoric_theta = np.arcsin(np.sqrt(sum(p_X*f_X)))\n",
    "print('theoric_theta: {}'.format(theoric_theta))\n",
    "print('theta_1: {}'.format(theta_0))\n",
    "print('Theorical Integration: {}'.format(sum(p_X*f_X)))\n",
    "print('Amplitude Amplification Integral: {}'.format(np.sin(theta_0)**2))"
   ]
  },
  {
   "cell_type": "code",
   "execution_count": null,
   "metadata": {},
   "outputs": [],
   "source": []
  }
 ],
 "metadata": {
  "kernelspec": {
   "display_name": "Python 3 (ipykernel)",
   "language": "python",
   "name": "python3"
  },
  "language_info": {
   "codemirror_mode": {
    "name": "ipython",
    "version": 3
   },
   "file_extension": ".py",
   "mimetype": "text/x-python",
   "name": "python",
   "nbconvert_exporter": "python",
   "pygments_lexer": "ipython3",
   "version": "3.9.9"
  }
 },
 "nbformat": 4,
 "nbformat_minor": 2
}
