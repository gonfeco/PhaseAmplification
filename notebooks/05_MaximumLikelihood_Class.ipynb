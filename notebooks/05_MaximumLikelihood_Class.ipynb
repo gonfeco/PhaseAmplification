{
 "cells": [
  {
   "cell_type": "markdown",
   "id": "7a9496d2",
   "metadata": {},
   "source": [
    "# Maximum Likelihooh algorithm for Amplitude Estimation (MLAE)"
   ]
  },
  {
   "cell_type": "markdown",
   "id": "7d6cb636",
   "metadata": {},
   "source": [
    "As explained in *04_AmplitudeAmplification_Problems.ipynb* for calculating $E_{x\\sim p}(f)$ (expected value of a function $f(x)$ over a domain that follows a distribution probability $p(x)$) a **Quantum Phase Estimation** (**QPE**) procedure that relies in the inverse of the **Quantum Fourier Transform** ($\\mathcal{QFT}$) is needed.\n",
    "\n",
    "Quantum circuit implementation of $\\mathcal{QFT}$ are very complex and very long and deep so its use in actual quantum computers is noisy and not very useful.  \n",
    "\n",
    "\n",
    "% Present notebook reviews an **amplitude amplification** algorithm that does not rely in $\\mathcal{QFT}^{-1}$: the **Maximum Likelihood Amplitude Estimation** algorithm (**MLAE**).\n"
   ]
  },
  {
   "cell_type": "markdown",
   "id": "081cdd54",
   "metadata": {},
   "source": [
    "Present notebook and module are based on the following references:\n",
    "\n",
    "* *Suzuki, Y., Uno, S., Raymond, R., Tanaka, T., Onodera, T., & Yamamoto, N.*. Amplitude estimation without phase estimation. Quantum Information Processing, 19(2), 2020. https://arxiv.org/abs/1904.10246\n",
    "\n",
    "* NEASQC deliverable: *D5.1: Review of state-of-the-art for Pricing and Computation of VaR https://www.neasqc.eu/wp-content/uploads/2021/06/NEASQC_D5.1_Review-of-state-of-the-art-for-Pricing-and-Computation-of-VaR_R2.0_Final.pdf*"
   ]
  },
  {
   "cell_type": "code",
   "execution_count": null,
   "id": "075f9eeb",
   "metadata": {},
   "outputs": [],
   "source": [
    "from IPython.core.display import display, HTML\n",
    "display(HTML(\"<style>.container { width:100% !important; }</style>\"))"
   ]
  },
  {
   "cell_type": "code",
   "execution_count": null,
   "id": "efc6e566",
   "metadata": {},
   "outputs": [],
   "source": [
    "import sys\n",
    "sys.path.append(\"../library\")"
   ]
  },
  {
   "cell_type": "code",
   "execution_count": null,
   "id": "c1deece6",
   "metadata": {},
   "outputs": [],
   "source": [
    "import numpy as np\n",
    "import pandas as pd\n",
    "import matplotlib.pyplot as plt\n",
    "from copy import deepcopy"
   ]
  },
  {
   "cell_type": "code",
   "execution_count": null,
   "id": "33308e88",
   "metadata": {},
   "outputs": [],
   "source": [
    "%load_ext qat.core.magic\n",
    "%matplotlib inline"
   ]
  },
  {
   "cell_type": "code",
   "execution_count": null,
   "id": "1a9a0b48",
   "metadata": {},
   "outputs": [],
   "source": [
    "global_qlmaas = True\n",
    "try:\n",
    "    from qlmaas.qpus import LinAlg\n",
    "except (ImportError, OSError) as e:\n",
    "    global_qlmaas = False\n",
    "from qat.qpus import PyLinalg"
   ]
  },
  {
   "cell_type": "code",
   "execution_count": null,
   "id": "c784d033",
   "metadata": {},
   "outputs": [],
   "source": [
    "def get_qpu(qlmass=False):\n",
    "    \"\"\"\n",
    "    Function for selecting solver. User can chose between:\n",
    "    * LinAlg: for submitting jobs to a QLM server\n",
    "    * PyLinalg: for simulating jobs using myqlm lineal algebra.\n",
    "\n",
    "    Parameters\n",
    "    ----------\n",
    "\n",
    "    qlmass : bool\n",
    "        If True  try to use QLM as a Service connection to CESGA QLM\n",
    "        If False PyLinalg simulator will be used\n",
    "\n",
    "    Returns\n",
    "    ----------\n",
    "    \n",
    "    lineal_qpu : solver for quantum jobs\n",
    "    \"\"\"\n",
    "    if qlmass:\n",
    "        if global_qlmaas:\n",
    "            print('Using: LinAlg')\n",
    "            linalg_qpu = LinAlg()\n",
    "        else:\n",
    "            raise ImportError(\"\"\"Problem Using QLMaaS.Please create config file or use mylm solver\"\"\")\n",
    "            \n",
    "    else:\n",
    "        print('Using PyLinalg')\n",
    "        linalg_qpu = PyLinalg()\n",
    "    return linalg_qpu"
   ]
  },
  {
   "cell_type": "code",
   "execution_count": null,
   "id": "f1fa4cb9",
   "metadata": {},
   "outputs": [],
   "source": [
    "#QLMaaS == False -> uses PyLinalg\n",
    "#QLMaaS == True -> try to use LinAlg\n",
    "QLMaaS = True\n",
    "linalg_qpu = get_qpu(QLMaaS)"
   ]
  },
  {
   "cell_type": "markdown",
   "id": "55146c4c",
   "metadata": {},
   "source": [
    "## 1. Data Loading"
   ]
  },
  {
   "cell_type": "markdown",
   "id": "71279f09",
   "metadata": {},
   "source": [
    "First we need to discretized the probability $p(x)$ and the function $f(x)$ and load the arrays in a quantum state"
   ]
  },
  {
   "cell_type": "code",
   "execution_count": null,
   "id": "21178b8f",
   "metadata": {},
   "outputs": [],
   "source": [
    "from AuxiliarFunctions import  get_histogram\n",
    "from data_extracting import get_results\n",
    "def p(x):\n",
    "    return x*x\n",
    "def f(x):\n",
    "    return np.sin(x)"
   ]
  },
  {
   "cell_type": "code",
   "execution_count": null,
   "id": "6318b9dd",
   "metadata": {},
   "outputs": [],
   "source": [
    "#number of Qbits for the circuit\n",
    "n_qbits = 5\n",
    "#The number of bins \n",
    "m_bins = 2**n_qbits\n",
    "LowerLimit = 0.0\n",
    "UpperLimit = 1.0 \n",
    "\n",
    "X, p_X = get_histogram(p, LowerLimit, UpperLimit, m_bins)\n",
    "f_X = f(X)"
   ]
  },
  {
   "cell_type": "code",
   "execution_count": null,
   "id": "fc862d04",
   "metadata": {},
   "outputs": [],
   "source": [
    "from QuantumMultiplexors_Module import load_p_gate, load_f_gate, load_pf_gate"
   ]
  },
  {
   "cell_type": "code",
   "execution_count": null,
   "id": "a008e18a",
   "metadata": {},
   "outputs": [],
   "source": [
    "p_gate = load_p_gate(p_X)\n",
    "f_gate = load_f_gate(f_X)\n",
    "pf_gate = load_pf_gate(p_gate, f_gate)"
   ]
  },
  {
   "cell_type": "code",
   "execution_count": null,
   "id": "fa26a803",
   "metadata": {},
   "outputs": [],
   "source": [
    "%qatdisplay p_gate --depth 1\n",
    "%qatdisplay f_gate --depth 1\n",
    "%qatdisplay pf_gate --depth 1"
   ]
  },
  {
   "cell_type": "markdown",
   "id": "a08e43a5",
   "metadata": {},
   "source": [
    "## 2. ML-QPE algorithm step by step."
   ]
  },
  {
   "cell_type": "markdown",
   "id": "c977b4c6",
   "metadata": {},
   "source": [
    "The main problem is the following: We have an **Groover** like operator, $\\hat{Q}$ which is equivalent to a rotation around **y-axis** of a $\\theta$ angle. This angle is unknow (a priori) and we want to compute it. We know that using **QPE** with **QFT** allows us get the angle but we know too that **QFT** is a complex and a prone error operation for a quantum computer. Usign the **MLAE** we can obtain this $\\theta$ without using a **QFT**.\n",
    "\n",
    "We have implemented and python class called **MLAE** (in the script **maximum_likelihood_ae.py**) that allows us implement the **MLAE** algorithm. In this section we are going to describe the class step by step and explain the basics of the **MLAE** algorithm"
   ]
  },
  {
   "cell_type": "code",
   "execution_count": null,
   "id": "12bd99ca",
   "metadata": {},
   "outputs": [],
   "source": [
    "#import the class\n",
    "from maximum_likelihood_ae import MLAE"
   ]
  },
  {
   "cell_type": "markdown",
   "id": "01f0ed5a",
   "metadata": {},
   "source": [
    "For creating the *class* is mandatory provide a python dictionary. The keys of this are defined below (in section *4.1*). In this section the mandatory keys will be used:\n",
    "\n",
    "* oracle: this key contains the (mandatory) base operator for creating the Groover-like one (in our case $\\mathcal{PF}$).\n",
    "* qpu: this is the qpu solver. If not provide (or provide a None) then the class try to create a QLM PyLinal solver. It is recomended provided the solver."
   ]
  },
  {
   "cell_type": "code",
   "execution_count": null,
   "id": "b94ac921",
   "metadata": {},
   "outputs": [],
   "source": [
    "#Instantitate the class with the program and the Q operator\n",
    "#Number of measurements of the last qbit will be done. 0 calculates the true probability\n",
    "nbshots = 0\n",
    "arg_dictionary = {\n",
    "    'oracle': pf_gate,\n",
    "    'qpu': linalg_qpu,\n",
    "}\n",
    "ml_ae = MLAE(**arg_dictionary)"
   ]
  },
  {
   "cell_type": "markdown",
   "id": "faa7e358",
   "metadata": {},
   "source": [
    "By instantiate the **MaximumLikelihoodAE** the class create following properties:\n",
    "\n",
    "* *q_prog*: this property stores the QLM program for using base gate $\\mathcal{PF}$ \n",
    "* *q_gate*: this propety stores the correspondient Grover-like operator for $\\mathcal{PF}$\n"
   ]
  },
  {
   "cell_type": "code",
   "execution_count": null,
   "id": "3e74689f",
   "metadata": {},
   "outputs": [],
   "source": [
    "print('QLM loading program')\n",
    "circuit = ml_ae.q_prog.to_circ()\n",
    "%qatdisplay circuit --depth 1"
   ]
  },
  {
   "cell_type": "code",
   "execution_count": null,
   "id": "97e98da7",
   "metadata": {},
   "outputs": [],
   "source": [
    "print('Grover-like Operator')\n",
    "q_gate = ml_ae.q_gate\n",
    "%qatdisplay q_gate --depth 1"
   ]
  },
  {
   "cell_type": "markdown",
   "id": "de433bc2",
   "metadata": {},
   "source": [
    "### Apply Grover-like operator $m_k$ times"
   ]
  },
  {
   "cell_type": "markdown",
   "id": "0b1243a5",
   "metadata": {},
   "source": [
    "In order to explain the **MLAE** algorithm first we are going to apply the Grover-like operator (property **q_gate** of the class) a given number of times $m_k$ over the quantum program with the probability $p(x)$ and the function $f(x)$ loaded (property **q_prog** of the class. \n",
    "\n",
    "We are going to create the correspondient circuit and job and obtain the results of the simulation. This can be done using the **run_step** method of the class. This method need:\n",
    "\n",
    "* m_k: the number of times the Grover-like operator will be applied\n",
    "* nbshots : number of executions for the QLM simulation (0 for calculating True probabilities). If nbshots is not given default nbshots of the class will be used.\n",
    "\n",
    "The method returns:\n",
    "* pdf: pandas DataFrame with the results properly formated for maximum likelihood calculations\n",
    "* circuit: generated circuit\n",
    "* job: generated job"
   ]
  },
  {
   "cell_type": "code",
   "execution_count": null,
   "id": "9e1f363e",
   "metadata": {},
   "outputs": [],
   "source": [
    "#number of times operator Q should be applied\n",
    "m_k = 4\n",
    "pdf, circuit, job= ml_ae.run_step(m_k)"
   ]
  },
  {
   "cell_type": "code",
   "execution_count": null,
   "id": "749c2e0f",
   "metadata": {},
   "outputs": [],
   "source": [
    "pdf"
   ]
  },
  {
   "cell_type": "markdown",
   "id": "78c9cc21",
   "metadata": {},
   "source": [
    "The resulting pdf provides following info:\n",
    "\n",
    "* **Probability_|0>**: Probability for obtaining state $|0\\rangle$. If nbshots = 0 then is the true probabilitiy computed. Otherwise it is its frequency.\n",
    "* **Probability_|1>**: Probability for obtaining state $|1\\rangle$. If nbshots = 0 then is the true probabilitiy computed otherwise it is its frequency.\n",
    "* **m_k**: number of operator $\\hat{Q}$ was applied.\n",
    "* **h_k**: number of times the state $|1\\rangle$ were obtained. If nbshots = 0 then is computed by multiply 100\\*Probability_|1> (can be changed using the property: **default_nbshots**). Otherwise It is the propper number of times state $|1\\rangle$  was obtained.\n",
    "* **n_k**: number of measurements done. If nbshots = 0 then n_k=100 (can be changed using the property: **default_nbshots**). Otherwise it will be equal to nbshots"
   ]
  },
  {
   "cell_type": "markdown",
   "id": "a2fc72b6",
   "metadata": {},
   "source": [
    "**NOTE**\n",
    "\n",
    "This method creates a deep copy of the *Qprog* object each time is called, so the original *Qprog* do not suffer any modification (neither the property q_prog of the ml_qpe object)"
   ]
  },
  {
   "cell_type": "code",
   "execution_count": null,
   "id": "87b60cac",
   "metadata": {},
   "outputs": [],
   "source": [
    "circuit = ml_ae.q_prog.to_circ()\n",
    "%qatdisplay circuit --depth 1"
   ]
  },
  {
   "cell_type": "markdown",
   "id": "d0353421",
   "metadata": {},
   "source": [
    "### Calculating **likelihood**"
   ]
  },
  {
   "cell_type": "markdown",
   "id": "0706d099",
   "metadata": {},
   "source": [
    "With the info of the resulting pandas DataFrame (pdf) we can compute the asociated **Likelihood**. \n",
    "\n",
    "What is the **Likelihood**?\n",
    "\n",
    "In this case we have applied the operator $\\hat{Q}^{m_k}$. As we know this operator is equivalent to a rotation around the y axis of $(2m_k+1)\\theta$. Finally we have done several measurements of the last qbit and we have obtained some statistics (that are stored in pdf). \n",
    "In this case the **Likelihood** is the probability of obtaining the given measurements conditioned to a fixed angle $\\theta$. In the case of our **Groover** operator the **Likelihood** for $m_k$ measurements of the state $|1\\rangle$ when $n_k$ measurements were done will be:\n",
    "\n",
    "$$l_{k}(h_k/\\theta) = (\\sin^2[(2*m_k+1)\\theta])^{h_k}(\\cos^2[(2*m_k+1)\\theta])^{n_k-h_k}$$\n",
    "\n",
    "This is because the probability of the state $|1\\rangle$ is given by $\\sin^2[(2*m_k+1)\\theta]$ the probability of the state $|0\\rangle$ is given by: $\\cos^2[(2*m_k+1)\\theta]$ and each measurment is independent of the other measurements (so a binomial distribution can be used)\n",
    "\n",
    "For computing purpouses, usually, instead of the **Likelihood** the minus logarithm of the **Likelihood** is provided:\n",
    "\n",
    "$$-\\ln{l_{k}(h_k/\\theta)} = -2h_k\\ln(\\sin[(2*m_k+1)\\theta])-2(N_k-h_k)\\ln(\\cos[(2*m_k+1)\\theta])$$\n",
    "\n",
    "For computing the logarithm of the **Likelihood** we use the method **launch_likelihood** that needs:\n",
    "* **pdf_input**: pandas DataFrame obtained from *run_step* method\n",
    "* **n_theta**: that is the number of divisions of the domain (basically we are going to compute the log of **Likelihood** of the measurements of the pdf for several angles. n_theta is the number of angles we are going to use). \n",
    "\n",
    "The output of the method is a new pdf with different $\\theta$ angles and the correspondent log **Likelihood** for getting the given measurements of the pdf\n"
   ]
  },
  {
   "cell_type": "code",
   "execution_count": null,
   "id": "3d8bdc7b",
   "metadata": {},
   "outputs": [],
   "source": [
    "likelihood_ = ml_ae.launch_likelihood(pdf, n_theta=100)"
   ]
  },
  {
   "cell_type": "markdown",
   "id": "62099856",
   "metadata": {},
   "source": [
    "We can plot the **Likelihood** with respect the posible $\\theta$."
   ]
  },
  {
   "cell_type": "code",
   "execution_count": null,
   "id": "546a71a9",
   "metadata": {},
   "outputs": [],
   "source": [
    "plt.plot(likelihood_['theta'], likelihood_['l_k'], '-o')\n",
    "plt.xlabel('theta')\n",
    "plt.ylabel('Likelihood')"
   ]
  },
  {
   "cell_type": "markdown",
   "id": "2ebb5d0d",
   "metadata": {},
   "source": [
    "As can be seen there are some values of $\\theta$ where the **-log of Likelihood** presents a minimums. We expect that the $\\theta$ we are looking for would be one of these values "
   ]
  },
  {
   "cell_type": "markdown",
   "id": "531d777e",
   "metadata": {},
   "source": [
    "## 3. ML-QPE algorithm "
   ]
  },
  {
   "cell_type": "markdown",
   "id": "4303b352",
   "metadata": {},
   "source": [
    "With the before section we can know complete the **ML-QPE** algorithm:\n",
    "\n",
    "1. Select a list  of different $m_k$ applications of the **Groover** like operator (one posible option will be for example:  $k=0,1,2,3...$ $m_k=1,4,8,16...$).\n",
    "2. For each $m_k$ apply the **Groover** like operator and meas the last qbit of the circuit a fixed number of times ($n_k$) and get the number of state $|1\\rangle$ measurements ($h_k$).\n",
    "3. For eack $m_k$ the associated **Likelihood** will be:\n",
    "$$l_{k}(h_k/\\theta) = (\\sin^2[(2*m_k+1)\\theta])^{h_k}(\\cos^2[(2*m_k+1)\\theta])^{n_k-h_k}$$\n",
    "4. So for each $m_k$ we have a $n_k$ and a $h_k$ and a associated **Likelihood** $l_k$. So we can compute the final **Likelihood** as:\n",
    "$$L(\\mathbf{h}/\\theta) = \\prod_{k=0}^{M}{l_{k}(h_k/\\theta)}$$\n",
    "$$\\mathbf{h} = (h_0, h_1,...,h_M)$$\n",
    "5. The idea is find the $\\theta_{a}$ that maximizes the total **Likelihood**\n",
    "$$\\theta_{a} = arg \\ max {L(\\mathbf{h}/\\theta)}$$ \n",
    "\n",
    "Maximizing **Likelihood** is equivalent to minimize the **- the logarithm of the Likelihood**. Usually this is preferred over the former so we are going to:\n",
    "\n",
    "\n",
    "$$\\theta_{a} = arg \\ min \\sum_{k=0}^{M} \\Big( -2h_k\\ln(\\sin[(2*m_k+1)\\theta])-2(N_k-h_k)\\ln(\\cos[(2*m_k+1)\\theta]) \\Big)$$\n",
    "\n",
    "We can implement this loop manually:"
   ]
  },
  {
   "cell_type": "code",
   "execution_count": null,
   "id": "39ad7a45",
   "metadata": {},
   "outputs": [],
   "source": [
    "#select a list of m_k's\n",
    "list_of_mks = [1, 2, 4, 8, 16, 32]\n",
    "list_of_pdfs = []\n",
    "list_of_circuits = []\n",
    "for m_k in list_of_mks:\n",
    "    pdf, circuit, job = ml_ae.run_step(m_k)\n",
    "    list_of_pdfs.append(pdf)\n",
    "    list_of_circuits.append(circuit)\n",
    "pdf_final = pd.concat(list_of_pdfs)\n",
    "pdf_final.reset_index(drop=True, inplace=True)"
   ]
  },
  {
   "cell_type": "markdown",
   "id": "e8516f64",
   "metadata": {},
   "source": [
    "For all the $m_k$ used we generated a pandas DataFrame (pdf_final) with the complete information of the results:"
   ]
  },
  {
   "cell_type": "code",
   "execution_count": null,
   "id": "919b02af",
   "metadata": {},
   "outputs": [],
   "source": [
    "pdf_final"
   ]
  },
  {
   "cell_type": "markdown",
   "id": "c9240a0b",
   "metadata": {},
   "source": [
    "We can use again the **launch_likelihood** method for computing the **-log(likelihood)** for several $\\theta$'s and plot it:"
   ]
  },
  {
   "cell_type": "code",
   "execution_count": null,
   "id": "747fb468",
   "metadata": {},
   "outputs": [],
   "source": [
    "#This is the cost Function\n",
    "final_likelihood = ml_ae.launch_likelihood(pdf_final, 100)"
   ]
  },
  {
   "cell_type": "code",
   "execution_count": null,
   "id": "5f9520a1",
   "metadata": {},
   "outputs": [],
   "source": [
    "plt.plot(final_likelihood['theta'], final_likelihood['l_k'], '-o')\n",
    "plt.xlabel('theta')\n",
    "plt.ylabel('-Log(Likelihood)')\n",
    "#plt.ylim(0, 500)"
   ]
  },
  {
   "cell_type": "markdown",
   "id": "feca1264",
   "metadata": {},
   "source": [
    "For calculating the $\\theta_a$ we can use different methods. In general we can create a **likelihood** python function (there is on created in the iterative_quantum_pe.py called *likelihood*) and provide the information of the **pdf_final** to a software optimization library that minimizes it.\n",
    "\n",
    "For this case the **likelihood** is very easy and the brute-force mehtod (*brute*) of the **scipy.optimize** is a very robust (for this specific case) optimization method.\n",
    "\n",
    "This *brute* method needs:\n",
    "\n",
    "* function to minimize: in the **maximum_likelihood_ae** a **likelihood** is programed\n",
    "* the range for the variable to optimize (in this case $\\theta \\in [0, \\frac{\\pi}{2}]$)\n",
    "* the $m_k$, $h_k$ and the $n_k$ from the **pdf_final**\n",
    "\n",
    "We can give other parameters that control the optimization procces"
   ]
  },
  {
   "cell_type": "code",
   "execution_count": null,
   "id": "09499e8d",
   "metadata": {},
   "outputs": [],
   "source": [
    "import scipy.optimize as so\n",
    "from maximum_likelihood_ae import likelihood"
   ]
  },
  {
   "cell_type": "code",
   "execution_count": null,
   "id": "0c8bdf6a",
   "metadata": {
    "scrolled": true
   },
   "outputs": [],
   "source": [
    "#Domain for searching\n",
    "theta_domain = [1e-09, 0.5*np.pi-1e-09]\n",
    "solution = so.brute(\n",
    "    likelihood, \n",
    "    [theta_domain],\n",
    "    (pdf_final['m_k'], pdf_final['h_k'], pdf_final['n_k']),\n",
    "    1000,\n",
    "    disp=True,\n",
    "    #options = {'maxiter': 100, 'disp': True}\n",
    ")"
   ]
  },
  {
   "cell_type": "code",
   "execution_count": null,
   "id": "ec250d12",
   "metadata": {},
   "outputs": [],
   "source": [
    "print('ŧheta optimum: {}'.format(solution))"
   ]
  },
  {
   "cell_type": "code",
   "execution_count": null,
   "id": "bf4fbf2d",
   "metadata": {},
   "outputs": [],
   "source": [
    "print('Optimum theta : {}'.format(solution[0]))\n",
    "print('Theoric theta: {}'.format(np.arcsin(sum(f_X*p_X)**0.5)))"
   ]
  },
  {
   "cell_type": "markdown",
   "id": "ddefe474",
   "metadata": {},
   "source": [
    "There is a *minimize* generic method in **scipy.optimize** that allow us minimize a given function:"
   ]
  },
  {
   "cell_type": "markdown",
   "id": "964fb91b",
   "metadata": {},
   "source": [
    "As can be seen an aceptable estimation of the $\\theta$ angle is porovided"
   ]
  },
  {
   "cell_type": "markdown",
   "id": "9fe1854b",
   "metadata": {},
   "source": [
    "The **MaximumLikelihoodQPE** class implements this optimizer into the method **launch_optimizer** where the final_pdf should be provided!"
   ]
  },
  {
   "cell_type": "code",
   "execution_count": null,
   "id": "c0e60b8a",
   "metadata": {
    "scrolled": true
   },
   "outputs": [],
   "source": [
    "theta = ml_ae.launch_optimizer(pdf_final)\n",
    "print('Optimum theta: {}'.format(theta))"
   ]
  },
  {
   "cell_type": "markdown",
   "id": "86f9a70b",
   "metadata": {},
   "source": [
    "## 4. ML-QPE algorithm using MaximumLikelihoodQPE class"
   ]
  },
  {
   "cell_type": "markdown",
   "id": "3450b8af",
   "metadata": {},
   "source": [
    "The **MaximumLikelihoodQPE** class provide a **run** method for doing a complete **ML-QPE** algorithm. In this section we explain how to use it."
   ]
  },
  {
   "cell_type": "markdown",
   "id": "9c9239ae",
   "metadata": {},
   "source": [
    "### 4.1 Instantiate the class\n",
    "\n",
    "First we need to instantiate the class. Following argumens can be provided:\n",
    "\n",
    "* q_prog : QLM quantum program (mandatory)\n",
    "    * Quantum program where the Groover-like operator will be applied\n",
    "* q_gate : QLM gate (mandatory)\n",
    "    * QLM gate that implements the Groover-like operator\n",
    "* kwars : dictionary\n",
    "    dictionary that allows the configuration of the ML-QPE algorithm:\n",
    "    Implemented keys:\n",
    "    * list_of_mks : list\n",
    "        * python list with the different m_ks for executing the algortihm\n",
    "    * qpu : QLM solver\n",
    "        * solver for simulating the resulting circutis\n",
    "    * delta : float \n",
    "        * For avoiding problems when calculating the domain for theta\n",
    "    * default_nbshots : int\n",
    "        * default number of measurements for computing freqcuencies when nbshots for quantum job is 0\n",
    "    * iterations : int\n",
    "        * number of iterations of the optimizer\n",
    "    * display : bool\n",
    "        * for displaying additional information in the optimization step\n",
    "    * nbshots : int\n",
    "        * number of shots for quantum job. If 0 exact probabilities will be computed. \n"
   ]
  },
  {
   "cell_type": "code",
   "execution_count": null,
   "id": "6bd0def2",
   "metadata": {},
   "outputs": [],
   "source": [
    "arg_dictionary = {\n",
    "    'oracle': pf_gate,\n",
    "    'list_of_mks': 12,\n",
    "    'qpu': linalg_qpu,\n",
    "    'delta': 1e-3,\n",
    "    'default_nbshots' : 100,\n",
    "    'iterations' : 100,\n",
    "    'display' :  True,\n",
    "    'nbshots' : 0\n",
    "}"
   ]
  },
  {
   "cell_type": "code",
   "execution_count": null,
   "id": "a51d58e1",
   "metadata": {},
   "outputs": [],
   "source": [
    "ml_qae = MLAE(**arg_dictionary)"
   ]
  },
  {
   "cell_type": "code",
   "execution_count": null,
   "id": "a2b1b6d3",
   "metadata": {},
   "outputs": [],
   "source": [
    "print('list_of_mks: {}'.format(ml_qae.list_of_mks))\n",
    "print('delta: {}'.format(ml_qae.delta))\n",
    "print('default_nbshots: {}'.format(ml_qae.default_nbshots))\n",
    "print('iterations: {}'.format(ml_qae.iterations))\n",
    "print('display: {}'.format(ml_qae.disp))\n",
    "print('nbshots: {}'.format(ml_qae.nbshots))"
   ]
  },
  {
   "cell_type": "markdown",
   "id": "b4044287",
   "metadata": {},
   "source": [
    "### 4.2 Execute run_mlae method\n",
    "\n",
    "The method execute a complete ML-QPE algorithm based on the parameters you passed to the class when you call it. If some of the parameters were not passed default ones will be used."
   ]
  },
  {
   "cell_type": "code",
   "execution_count": null,
   "id": "5c28cdcf",
   "metadata": {},
   "outputs": [],
   "source": [
    "ml_qae.run_mlae()"
   ]
  },
  {
   "cell_type": "markdown",
   "id": "4d309e90",
   "metadata": {},
   "source": [
    "When the **run** method finishes different information were stored in different porperties. Most important ones:\n",
    "\n",
    "* theta: is the phase estimation for the Groover-like operator\n",
    "* pdf_mks: pandas DataFrame with the results of the measurement for the different m_k's\n",
    "* list_of_circuits: pyhton list with all the quantum circuits created for executing the algorithm"
   ]
  },
  {
   "cell_type": "code",
   "execution_count": null,
   "id": "4b1d7cdc",
   "metadata": {},
   "outputs": [],
   "source": [
    "print('The phase for the operator is: {}'.format(ml_qae.theta))"
   ]
  },
  {
   "cell_type": "code",
   "execution_count": null,
   "id": "7d8ef295",
   "metadata": {},
   "outputs": [],
   "source": [
    "np.sin(ml_qae.theta)**2"
   ]
  },
  {
   "cell_type": "code",
   "execution_count": null,
   "id": "d2a3d113",
   "metadata": {},
   "outputs": [],
   "source": [
    "np.sum(p_X*f_X)"
   ]
  },
  {
   "cell_type": "code",
   "execution_count": null,
   "id": "3cc05ae0",
   "metadata": {},
   "outputs": [],
   "source": [
    "ml_qae.pdf_mks"
   ]
  },
  {
   "cell_type": "code",
   "execution_count": null,
   "id": "2f2748a3",
   "metadata": {},
   "outputs": [],
   "source": [
    "circ = ml_qae.list_of_circuits[-1]\n",
    "%qatdisplay circ"
   ]
  },
  {
   "cell_type": "markdown",
   "id": "2720931c",
   "metadata": {},
   "source": [
    "Additionally we can plot the final **Likelihood** of the obtained measurements invoking the **launch_likelihood** and given the *pdf_mks* property"
   ]
  },
  {
   "cell_type": "code",
   "execution_count": null,
   "id": "9a8862ab",
   "metadata": {},
   "outputs": [],
   "source": [
    "pdf_like = ml_qae.launch_likelihood(ml_qae.pdf_mks)"
   ]
  },
  {
   "cell_type": "code",
   "execution_count": null,
   "id": "49b17c73",
   "metadata": {
    "scrolled": true
   },
   "outputs": [],
   "source": [
    "plt.plot(pdf_like['theta'], pdf_like['l_k'], '-o')\n",
    "plt.xlabel('theta')\n",
    "plt.ylabel('-Log(Likelihood)')\n",
    "#plt.ylim(0, 500)"
   ]
  },
  {
   "cell_type": "markdown",
   "id": "1176d2f7",
   "metadata": {},
   "source": [
    "As can be seen when more $m_k$'s are used more stable is the obtained $\\theta$. Additionally increasing the  number of $m_k$'s decreases the error estimation of the $\\theta$"
   ]
  },
  {
   "cell_type": "code",
   "execution_count": null,
   "id": "b73a0c03",
   "metadata": {},
   "outputs": [],
   "source": [
    "list_of_thetas = []\n",
    "for i in range(1, len(ml_qae.pdf_mks)):\n",
    "    step = ml_qae.pdf_mks[:i]\n",
    "    print(step)\n",
    "    step_theta = ml_qae.launch_optimizer(step)\n",
    "    list_of_thetas.append(step_theta)"
   ]
  },
  {
   "cell_type": "code",
   "execution_count": null,
   "id": "7c99b072",
   "metadata": {},
   "outputs": [],
   "source": [
    "theoric_theta = np.arcsin(sum(f_X*p_X)**0.5)\n",
    "print('theoric_theta: {}'.format(theoric_theta))\n",
    "AbsolutError = [abs(theta-theoric_theta) for theta in list_of_thetas]\n",
    "\n",
    "plt.plot(AbsolutError, 'o')\n",
    "plt.semilogy()"
   ]
  },
  {
   "cell_type": "markdown",
   "id": "4da9a849",
   "metadata": {},
   "source": [
    "As can be seen when more $m_k$'s are used more stable is the obtained $\\theta$. Additionally increasing the  number of $m_k$'s decreases the error estimation of the $\\theta$"
   ]
  },
  {
   "cell_type": "code",
   "execution_count": null,
   "id": "2b033051",
   "metadata": {},
   "outputs": [],
   "source": []
  }
 ],
 "metadata": {
  "kernelspec": {
   "display_name": "Python 3 (ipykernel)",
   "language": "python",
   "name": "python3"
  },
  "language_info": {
   "codemirror_mode": {
    "name": "ipython",
    "version": 3
   },
   "file_extension": ".py",
   "mimetype": "text/x-python",
   "name": "python",
   "nbconvert_exporter": "python",
   "pygments_lexer": "ipython3",
   "version": "3.9.9"
  }
 },
 "nbformat": 4,
 "nbformat_minor": 5
}
