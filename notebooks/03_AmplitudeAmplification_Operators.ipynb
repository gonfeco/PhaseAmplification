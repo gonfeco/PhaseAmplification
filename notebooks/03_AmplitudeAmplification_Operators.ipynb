{
 "cells": [
  {
   "cell_type": "markdown",
   "metadata": {},
   "source": [
    "# Amplitude Amplification Operators"
   ]
  },
  {
   "cell_type": "markdown",
   "metadata": {},
   "source": [
    "In the *01_Dataloading_Module_Use.ipynb* and  *02_QuantumMultiplexors_Module_Use.ipynb* two different methods for implementation of the operators for loading probabilitiy $p(x)$($\\mathcal{P}$) and function $f(x)$ ($\\mathcal{R}$) were presented. \n",
    "\n",
    "With this 2 operators we want to implement a **Groover** operator mandatory for amplitude amplification strategies needed for computing the expected value of the function $f(x)$ when $x$ follows a probability distribution $f(x)$: $E_{x\\sim p}(f)$.\n",
    "\n",
    "In the **amplitude_amplification.py** script all functions for creating this **Grover** operator are implemented. \n",
    "In this notebook we review the mandatory steps for creating this operator and show how to use the code inside this script."
   ]
  },
  {
   "cell_type": "code",
   "execution_count": null,
   "metadata": {},
   "outputs": [],
   "source": [
    "from IPython.core.display import display, HTML\n",
    "display(HTML(\"<style>.container { width:100% !important; }</style>\"))"
   ]
  },
  {
   "cell_type": "code",
   "execution_count": null,
   "metadata": {},
   "outputs": [],
   "source": [
    "import sys\n",
    "sys.path.append(\"../library\")"
   ]
  },
  {
   "cell_type": "code",
   "execution_count": null,
   "metadata": {},
   "outputs": [],
   "source": [
    "import numpy as np\n",
    "import pandas as pd\n",
    "import matplotlib.pyplot as plt\n",
    "from copy import deepcopy"
   ]
  },
  {
   "cell_type": "code",
   "execution_count": null,
   "metadata": {},
   "outputs": [],
   "source": [
    "%load_ext qat.core.magic\n",
    "%matplotlib inline"
   ]
  },
  {
   "cell_type": "code",
   "execution_count": null,
   "metadata": {},
   "outputs": [],
   "source": [
    "global_qlmaas = True\n",
    "try:\n",
    "    from qlmaas.qpus import LinAlg\n",
    "except (ImportError, OSError) as e:\n",
    "    global_qlmaas = False\n",
    "from qat.qpus import PyLinalg"
   ]
  },
  {
   "cell_type": "code",
   "execution_count": null,
   "metadata": {},
   "outputs": [],
   "source": [
    "def get_qpu(qlmass=False):\n",
    "    \"\"\"\n",
    "    Function for selecting solver. User can chose between:\n",
    "    * LinAlg: for submitting jobs to a QLM server\n",
    "    * PyLinalg: for simulating jobs using myqlm lineal algebra.\n",
    "\n",
    "    Parameters\n",
    "    ----------\n",
    "\n",
    "    qlmass : bool\n",
    "        If True  try to use QLM as a Service connection to CESGA QLM\n",
    "        If False PyLinalg simulator will be used\n",
    "\n",
    "    Returns\n",
    "    ----------\n",
    "    \n",
    "    lineal_qpu : solver for quantum jobs\n",
    "    \"\"\"\n",
    "    if qlmass:\n",
    "        if global_qlmaas:\n",
    "            print('Using: LinAlg')\n",
    "            linalg_qpu = LinAlg()\n",
    "        else:\n",
    "            raise ImportError(\"\"\"Problem Using QLMaaS.Please create config file or use mylm solver\"\"\")\n",
    "            \n",
    "    else:\n",
    "        print('Using PyLinalg')\n",
    "        linalg_qpu = PyLinalg()\n",
    "    return linalg_qpu"
   ]
  },
  {
   "cell_type": "code",
   "execution_count": null,
   "metadata": {},
   "outputs": [],
   "source": [
    "#QLMaaS == False -> uses PyLinalg\n",
    "#QLMaaS == True -> try to use LinAlg\n",
    "QLMaaS = True\n",
    "linalg_qpu = get_qpu(QLMaaS)"
   ]
  },
  {
   "cell_type": "markdown",
   "metadata": {},
   "source": [
    "## 1. Data Discretization"
   ]
  },
  {
   "cell_type": "markdown",
   "metadata": {},
   "source": [
    "The operators $\\mathcal{P}$ and $\\mathcal{R}$ need discretized arrays of the probability and the function to be loaded into the quantum state."
   ]
  },
  {
   "cell_type": "code",
   "execution_count": null,
   "metadata": {},
   "outputs": [],
   "source": [
    "from AuxiliarFunctions import  get_histogram\n",
    "from data_extracting import get_results\n",
    "def p(x):\n",
    "    return x*x\n",
    "def f(x):\n",
    "    return np.sin(x)"
   ]
  },
  {
   "cell_type": "code",
   "execution_count": null,
   "metadata": {},
   "outputs": [],
   "source": [
    "#number of Qbits for the circuit\n",
    "n_qbits = 5\n",
    "#The number of bins \n",
    "m_bins = 2**n_qbits\n",
    "LowerLimit = 0.0\n",
    "UpperLimit = 1.0 \n",
    "\n",
    "X, p_X = get_histogram(p, LowerLimit, UpperLimit, m_bins)\n",
    "f_X = f(X)"
   ]
  },
  {
   "cell_type": "markdown",
   "metadata": {},
   "source": [
    "## 2. Complete Data Loading"
   ]
  },
  {
   "cell_type": "markdown",
   "metadata": {},
   "source": [
    "First of all we need to loading the complete data into the quantum state:\n",
    "\n",
    "$$|\\Psi\\rangle=\\hat{R_{n+1}}\\left(\\hat{P_{n}}\\otimes I\\right)|0\\rangle_{n}\\otimes|0\\rangle_{1}$$\n",
    "\n",
    "where $|\\Psi\\rangle$ is the notation for a n+1 qbit quantum state\n",
    "\n",
    "From module **QuantumMultiplexors_Module** we can configurate necesary gates:\n",
    "* $\\mathcal{P}$ with load_p_gate\n",
    "* $\\mathcal{R}$ with load_r_gate\n",
    "* $\\mathcal{PR}$ with load_pr_gate"
   ]
  },
  {
   "cell_type": "code",
   "execution_count": null,
   "metadata": {},
   "outputs": [],
   "source": [
    "from QuantumMultiplexors_Module import load_p_gate, load_f_gate, load_pf_gate"
   ]
  },
  {
   "cell_type": "code",
   "execution_count": null,
   "metadata": {},
   "outputs": [],
   "source": [
    "p_gate = load_p_gate(p_X)\n",
    "f_gate = load_f_gate(f_X)\n",
    "pf_gate = load_pf_gate(p_gate, f_gate)"
   ]
  },
  {
   "cell_type": "code",
   "execution_count": null,
   "metadata": {
    "scrolled": true
   },
   "outputs": [],
   "source": [
    "%qatdisplay p_gate --depth 1\n",
    "%qatdisplay f_gate --depth 1\n",
    "%qatdisplay pf_gate --depth 1"
   ]
  },
  {
   "cell_type": "markdown",
   "metadata": {},
   "source": [
    "# 3. Amplitude Amplification"
   ]
  },
  {
   "cell_type": "markdown",
   "metadata": {},
   "source": [
    "The quantum state resulting from the loading proccess $|\\Psi\\rangle$ can be expressed as a linear combination of two orthogonal states $|\\Psi_{1}\\rangle$ y $|\\Psi_{0}\\rangle$:\n",
    "\n",
    "$$|\\Psi\\rangle=\\sqrt{a}|\\Psi_{1}\\rangle+\\sqrt{1-a}|\\Psi_{0}\\rangle$$\n",
    "\n",
    "Where $|\\Psi_{0}\\rangle$ and $|\\Psi_{1}\\rangle$ are the following orthonormal states:\n",
    "\n",
    "$$|\\Psi_{0}\\rangle = \\sum_{x=0}^{2^{n}-1}|x\\rangle^{n}\\otimes\\frac{1}{\\sqrt{1-a}}\\sqrt{p(x)(1-f(x))}|0\\rangle$$\n",
    "$$|\\Psi_{1}\\rangle = \\sum_{x=0}^{2^{n}-1}|x\\rangle^{n}\\otimes\\frac{1}{\\sqrt{a}}\\sqrt{p(x)f(x)}|1\\rangle$$\n",
    "\n",
    "\n",
    "Where $|x\\rangle^{n}$ is a notation for a quantum state of n qbits.\n",
    "\n",
    "\n",
    "The idea behind Quantum Phase Amplification is increase the probability of the $|\\Psi_{1}\\rangle$  using a strategy based on the Groover Algorithm. \n",
    "\n",
    "An Operator $\\hat{Q}$ should be applied an optimal number of times $k$ in order to maximize probability of measure $|\\Psi_{1}\\rangle$. This operator is: \n",
    "\n",
    "$$\\hat{Q}=\\hat{U}_{|\\Psi\\rangle} \\hat{U}_{|\\Psi_{0}\\rangle}$$\n",
    "\n",
    "Where $\\hat{U}_{|\\Psi\\rangle}$ y $\\hat{U}_{|\\Psi_{0}\\rangle}$ are:\n",
    "\n",
    "$$\\hat{U}_{|\\Psi_{0}\\rangle } = \\hat{I} - 2|\\Psi_{0}\\rangle \\langle \\Psi_{0}|$$\n",
    "$$\\hat{U}_{|\\Psi\\rangle } = \\hat{I} - 2|\\Psi\\rangle\\langle \\Psi|$$\n",
    "\n",
    "Module **amplitude_amplification** have all the functions in order to create properly gates for this operators"
   ]
  },
  {
   "cell_type": "code",
   "execution_count": null,
   "metadata": {},
   "outputs": [],
   "source": [
    "#Getting the complete initial state\n",
    "Phi_State, circuit, q_prog, job = get_results(pf_gate, linalg_qpu=linalg_qpu, shots=0)\n",
    "#For getting the state of the additional qbit where the desired integral are stored\n",
    "Initial_State, circuit, q_p, job = get_results(pf_gate, linalg_qpu=linalg_qpu, shots=0, qubits=[pf_gate.arity-1])"
   ]
  },
  {
   "cell_type": "code",
   "execution_count": null,
   "metadata": {},
   "outputs": [],
   "source": [
    "#Complete state\n",
    "Phi_State.head()"
   ]
  },
  {
   "cell_type": "code",
   "execution_count": null,
   "metadata": {},
   "outputs": [],
   "source": [
    "#State of the auxiliar qbit\n",
    "Initial_State"
   ]
  },
  {
   "cell_type": "markdown",
   "metadata": {},
   "source": [
    "### 3.1 Operador $\\hat{U}_{|\\Psi_{0}\\rangle}$"
   ]
  },
  {
   "cell_type": "markdown",
   "metadata": {},
   "source": [
    "First mandatory operator is:\n",
    "\n",
    "$$\\hat{U}_{|\\Psi_{0}\\rangle } = \\hat{I} - 2|\\Psi_{0}\\rangle \\langle \\Psi_{0}|$$\n",
    "\n",
    "Equivalent circuit for the operator is:\n",
    "\n",
    "$$\\hat{U}_{|\\Psi_{0}\\rangle }=(\\hat{I_{n}}\\otimes X)(\\hat{I_{n}}\\otimes Z)(\\hat{I_{n}}\\otimes X)$$\n",
    "\n",
    "Apply this operator on state $|\\Psi\\rangle$:\n",
    "\n",
    "$$\\hat{U}_{|\\Psi_{0}\\rangle} |\\Psi\\rangle = \\sqrt{a}|\\Psi_{1}\\rangle-\\sqrt{1-a}|\\Psi_{0}\\rangle$$\n",
    "\n",
    "So operator $\\hat{U}_{|\\Psi_{0}\\rangle }$ do a reflection operation around the axis defined by the state $|\\Psi_{1}\\rangle$\n",
    "\n",
    "\n",
    "Abstract Gate **UPhi0_Gate** from **amplitude_amplification** allow us do the operation:"
   ]
  },
  {
   "cell_type": "code",
   "execution_count": null,
   "metadata": {},
   "outputs": [],
   "source": [
    "from amplitude_amplification import uphi0_gate"
   ]
  },
  {
   "cell_type": "code",
   "execution_count": null,
   "metadata": {},
   "outputs": [],
   "source": [
    "UPhi0_Gate = uphi0_gate(pf_gate.arity)\n",
    "%qatdisplay UPhi0_Gate --depth 0"
   ]
  },
  {
   "cell_type": "code",
   "execution_count": null,
   "metadata": {},
   "outputs": [],
   "source": [
    "#Apply the UPhi0_Gate to the data loading circuit\n",
    "qProg_Uphi0 = deepcopy(q_prog)\n",
    "registers = qProg_Uphi0.registers\n",
    "qProg_Uphi0.apply(UPhi0_Gate, registers)\n",
    "UPhi0_State, circuit, _, _ = get_results(qProg_Uphi0, linalg_qpu=linalg_qpu, shots=0)"
   ]
  },
  {
   "cell_type": "code",
   "execution_count": null,
   "metadata": {},
   "outputs": [],
   "source": [
    "%qatdisplay circuit --depth 1"
   ]
  },
  {
   "cell_type": "code",
   "execution_count": null,
   "metadata": {},
   "outputs": [],
   "source": [
    "UPhi0_State.sort_values('Int_lsb')"
   ]
  },
  {
   "cell_type": "markdown",
   "metadata": {},
   "source": [
    "For testing the operator we need to check that: \n",
    "* Sates with final qbit $|0\\rangle$ ($|\\Psi_{0}\\rangle$) change the sign with respect to the initial state $|\\Psi\\rangle$ \n",
    "* States with final qbit in $|1\\rangle$ ($|\\Psi_{1}\\rangle$) are the same that in the initial state $|\\Psi\\rangle$"
   ]
  },
  {
   "cell_type": "code",
   "execution_count": null,
   "metadata": {},
   "outputs": [],
   "source": [
    "#Testing Final qbit |0> should be of different sign\n",
    "LastQbit0 = np.isclose(\n",
    "    np.array([p for s,p in zip(Phi_State['States'], Phi_State['Amplitude']) if s.bitstring[-1] == '0']),\n",
    "    -np.array([p for s,p in zip(UPhi0_State['States'], UPhi0_State['Amplitude']) if s.bitstring[-1] == '0'])\n",
    ").all()\n",
    "#Testing Final qbit |1> should be of same sign\n",
    "LastQbit1 = np.isclose(\n",
    "    np.array([p for s,p in zip(Phi_State['States'], Phi_State['Amplitude']) if s.bitstring[-1] == '1']),\n",
    "    np.array([p for s,p in zip(UPhi0_State['States'], UPhi0_State['Amplitude']) if s.bitstring[-1] == '1'])\n",
    ").all()\n",
    "print('Test OK: {}'.format((LastQbit0 and LastQbit1)))"
   ]
  },
  {
   "cell_type": "markdown",
   "metadata": {},
   "source": [
    "### 3.2 Operador $\\hat{U}_{|\\Psi\\rangle}$"
   ]
  },
  {
   "cell_type": "markdown",
   "metadata": {},
   "source": [
    "Operator $\\hat{U}_{|\\Psi\\rangle}$ is based in Groover's difusor:\n",
    "\n",
    "$$\\hat{U}_{|\\Psi\\rangle } = \\hat{I} - 2|\\Psi\\rangle\\langle \\Psi|$$\n",
    "\n",
    "Additionally we know that:\n",
    "\n",
    "$$|\\Psi\\rangle=\\hat{R_{n+1}}\\left(\\hat{P_{n}}\\otimes I\\right)|0\\rangle^{\\otimes n}\\otimes|0\\rangle$$\n",
    "\n",
    "Then the operator can be decomposed in the following way:\n",
    "\n",
    "$$\\hat{U}_{|\\Psi\\rangle } =\\hat{R_{n+1}}\\left(\\hat{P_{n}}\\otimes I\\right)\\hat{D}_{0} \\left(\\hat{P_{n}}\\otimes I\\right)^{\\dagger} \\hat{R_{n+1}}^{\\dagger}$$\n",
    "\n",
    "Where $\\hat{D}_{0}$ is a reflection around the perpendicular state to $|0^{n+1}\\rangle$\n",
    "\n",
    "$$\\hat{D}_{0} = \\hat{I}-2|0^{n+1}\\rangle\\langle0^{n+1}|$$\n",
    "\n",
    "In this case $|0^{n+1}\\rangle$ is the zero state for n+1 qbits"
   ]
  },
  {
   "cell_type": "markdown",
   "metadata": {},
   "source": [
    "#### 3.2.1 Implementación  $\\hat{D}_{0}$"
   ]
  },
  {
   "cell_type": "markdown",
   "metadata": {},
   "source": [
    "The equivalent circuit for $\\hat{D}_{0}$ is:\n",
    "\n",
    "$$\\hat{D}_{0} = \\hat{I}-2|0^{n+1}\\rangle\\langle0^{n+1}|= \\hat{X}^{\\otimes n+1} c^{n}Z \\hat{X}^{\\otimes n+1}$$\n",
    "\n",
    "The *AbstractGate* **D0_Gate** from **amplitude_amplification** allow us create the operator:"
   ]
  },
  {
   "cell_type": "code",
   "execution_count": null,
   "metadata": {},
   "outputs": [],
   "source": [
    "from amplitude_amplification import d0_gate"
   ]
  },
  {
   "cell_type": "code",
   "execution_count": null,
   "metadata": {},
   "outputs": [],
   "source": [
    "D0 = d0_gate(pf_gate.arity)\n",
    "%qatdisplay D0 --depth 1"
   ]
  },
  {
   "cell_type": "code",
   "execution_count": null,
   "metadata": {},
   "outputs": [],
   "source": [
    "#Apply the d0_gate to the data loading circuit\n",
    "qProg_D0 = deepcopy(q_prog)\n",
    "registers = qProg_D0.registers\n",
    "qProg_D0.apply(D0, registers)\n",
    "UD0_State, circuit, _, _ = get_results(qProg_D0, linalg_qpu=linalg_qpu, shots=0)"
   ]
  },
  {
   "cell_type": "code",
   "execution_count": null,
   "metadata": {},
   "outputs": [],
   "source": [
    "%qatdisplay circuit --depth 1"
   ]
  },
  {
   "cell_type": "code",
   "execution_count": null,
   "metadata": {},
   "outputs": [],
   "source": [
    "UD0_State"
   ]
  },
  {
   "cell_type": "markdown",
   "metadata": {},
   "source": [
    "Operator $\\hat{D}_{0}$ over state  $|\\Psi\\rangle$:\n",
    "\n",
    "$$\\hat{D}_{0}|\\Psi\\rangle = \\hat{I}|\\Psi\\rangle-2|0^{n+1}\\rangle\\langle0^{n+1}|\\Psi\\rangle^{n+1}$$\n",
    "\n",
    "\n",
    "It can be demostrated that the only difference between $\\hat{D}_{0}|\\Psi\\rangle$ and $|\\Psi\\rangle$ is that the component $|0^{n+1}\\rangle$ the sign changes!!"
   ]
  },
  {
   "cell_type": "code",
   "execution_count": null,
   "metadata": {
    "scrolled": false
   },
   "outputs": [],
   "source": [
    "#Testing\n",
    "C01 = np.isclose(Phi_State['Amplitude'].loc[0], -UD0_State['Amplitude'].loc[0])\n",
    "C02 = np.isclose(Phi_State['Amplitude'].loc[1:], UD0_State['Amplitude'].loc[1:]).all()\n",
    "print(C01 and C02)"
   ]
  },
  {
   "cell_type": "markdown",
   "metadata": {},
   "source": [
    "#### 3.2.2 Implementation  $\\hat{U}_{|\\Psi}\\rangle$"
   ]
  },
  {
   "cell_type": "markdown",
   "metadata": {},
   "source": [
    "Finally the function **Load_UPhi_Gate** from **amplitude_amplification** creates a customized AbstractGate that implements $\\hat{U}_{|\\Psi\\rangle }$. This functions needs the initial $\\mathcal{P}$ y $\\mathcal{R}$ gates used for loading the data.\n",
    "\n",
    "This operator is reflection around the ortoghonal state to $|\\Psi\\rangle$"
   ]
  },
  {
   "cell_type": "code",
   "execution_count": null,
   "metadata": {},
   "outputs": [],
   "source": [
    "from amplitude_amplification import load_uphi_gate"
   ]
  },
  {
   "cell_type": "code",
   "execution_count": null,
   "metadata": {
    "scrolled": true
   },
   "outputs": [],
   "source": [
    "UPhi = load_uphi_gate(pf_gate)\n",
    "%qatdisplay UPhi --depth 1"
   ]
  },
  {
   "cell_type": "code",
   "execution_count": null,
   "metadata": {},
   "outputs": [],
   "source": [
    "#Apply the UPhi to the data loading circuit\n",
    "qProg_Diff = deepcopy(q_prog)\n",
    "registers = qProg_Diff.registers\n",
    "qProg_Diff.apply(UPhi, registers)\n",
    "DiffPhi_State, circuit, _, _ = get_results(qProg_Diff, linalg_qpu=linalg_qpu, shots=0)"
   ]
  },
  {
   "cell_type": "markdown",
   "metadata": {},
   "source": [
    "In this case \n",
    "$$\\hat{U}_{|\\Psi\\rangle } |\\Psi\\rangle = \\hat{I}|\\Psi\\rangle - 2|\\Psi\\rangle \\langle \\Psi|\\Psi\\rangle$$\n",
    "\n",
    "$$\\hat{U}_{|\\Psi\\rangle } |\\Psi\\rangle = |\\Psi\\rangle - 2|\\Psi\\rangle = -|\\Psi\\rangle$$\n",
    "\n"
   ]
  },
  {
   "cell_type": "code",
   "execution_count": null,
   "metadata": {},
   "outputs": [],
   "source": [
    "#Testing\n",
    "np.isclose(DiffPhi_State['Amplitude'], - Phi_State['Amplitude']).all()"
   ]
  },
  {
   "cell_type": "markdown",
   "metadata": {},
   "source": [
    "## 4. Operador $\\hat{Q}$"
   ]
  },
  {
   "cell_type": "markdown",
   "metadata": {},
   "source": [
    "Finally we can implement the desired Operator $\\hat{Q}$ \n",
    "\n",
    "$$\\hat{Q}=\\hat{U}_{|\\Psi\\rangle} \\hat{U}_{|\\Psi_{0}\\rangle}$$\n",
    "\n",
    "This operator is created using the function **Load_Q_Gate** from **amplitude_amplification**\n",
    "\n"
   ]
  },
  {
   "cell_type": "code",
   "execution_count": null,
   "metadata": {},
   "outputs": [],
   "source": [
    "from amplitude_amplification import load_q_gate"
   ]
  },
  {
   "cell_type": "code",
   "execution_count": null,
   "metadata": {},
   "outputs": [],
   "source": [
    "q_gate = load_q_gate(pf_gate)\n",
    "%qatdisplay q_gate --depth 1"
   ]
  },
  {
   "cell_type": "code",
   "execution_count": null,
   "metadata": {},
   "outputs": [],
   "source": [
    "#Apply the Q Grover-like operator to the data loading circuit\n",
    "qProg_Q = deepcopy(q_prog)\n",
    "registers = qProg_Q.registers\n",
    "qProg_Q.apply(q_gate, registers)\n",
    "QPhi_State, circuit, _, _ = get_results(qProg_Q, linalg_qpu=linalg_qpu, shots=0, qubits = [q_gate.arity-1])"
   ]
  },
  {
   "cell_type": "code",
   "execution_count": null,
   "metadata": {
    "scrolled": true
   },
   "outputs": [],
   "source": [
    "#Complete circuit\n",
    "%qatdisplay circuit --depth 1"
   ]
  },
  {
   "cell_type": "code",
   "execution_count": null,
   "metadata": {},
   "outputs": [],
   "source": [
    "QPhi_State"
   ]
  },
  {
   "cell_type": "markdown",
   "metadata": {},
   "source": [
    "### Testing $\\hat{Q}$ operator"
   ]
  },
  {
   "cell_type": "markdown",
   "metadata": {},
   "source": [
    "To test if operator was implemented properly we know that the quantum state resulting from the complete loading proccess $|\\Psi\\rangle_{n+1}$ can be expressed as a linear combination of twor othogonal states $|\\Psi_{1}\\rangle$ and $|\\Psi_{0}\\rangle$:\n",
    "\n",
    "$$|\\Psi\\rangle=\\sqrt{a}|\\Psi_{1}\\rangle+\\sqrt{1-a}|\\Psi_{0}\\rangle$$\n",
    "\n",
    "where:\n",
    "\n",
    "$$a = \\sum_{x=0}^{2^{n}-1} p(x)f(x)$$\n",
    "\n",
    "Making the following identities:\n",
    "\n",
    "* $\\sqrt{a} = \\sin{\\theta}$\n",
    "* $\\sqrt{1-a} = \\cos{\\theta}$\n",
    "* $ a = \\sum_{n=0}^{2^{n}-1} p(x)f(x) = \\sin^{2}{\\theta}$\n",
    "\n",
    "Then:\n",
    "\n",
    "$$|\\Psi\\rangle=\\sin{\\theta}|\\Psi_{1}\\rangle+\\cos{\\theta}|\\Psi_{0}\\rangle$$\n",
    "\n",
    "So using the initial state we are going to calculate $\\theta$."
   ]
  },
  {
   "cell_type": "code",
   "execution_count": null,
   "metadata": {},
   "outputs": [],
   "source": [
    "#First get the Amplitudes for Phi state\n",
    "a0 = np.sqrt(Initial_State.iloc[0]['Probability'])\n",
    "a1 = np.sqrt(Initial_State.iloc[1]['Probability'])"
   ]
  },
  {
   "cell_type": "code",
   "execution_count": null,
   "metadata": {},
   "outputs": [],
   "source": [
    "#Calculating Theta using the quantum state from loading data: LResults\n",
    "def GetAngle(Array):\n",
    "    Modulo = np.linalg.norm(Array)\n",
    "    cosTheta = Array[0]/Modulo\n",
    "    Theta0 = np.arccos(cosTheta)\n",
    "    sinTheta = Array[1]/Modulo\n",
    "    Theta1 = np.arcsin(sinTheta)\n",
    "    #print(Modulo, cosTheta, sinTheta, Theta0, Theta1)\n",
    "    return Theta0\n",
    "\n",
    "#Quantum state after loading data: |Psi>\n",
    "Psi_ = np.array([a0, a1])\n",
    "#Angle between |Psi> and axis |Psi_0>\n",
    "theta = GetAngle(Psi_)\n",
    "print('theta: {}'.format(theta))\n",
    "print('Psi_: {}'.format(Psi_))"
   ]
  },
  {
   "cell_type": "markdown",
   "metadata": {},
   "source": [
    "Now we have $\\theta$ and the $|\\Psi\\rangle$"
   ]
  },
  {
   "cell_type": "code",
   "execution_count": null,
   "metadata": {
    "scrolled": true
   },
   "outputs": [],
   "source": [
    "#In order to test that this theta is ok we can compute it from p(x) and f(x)\n",
    "a = sum(p_X*f_X)\n",
    "sqrt_a = np.sqrt(a)\n",
    "theta2 = np.arccos(sqrt_a)\n",
    "print('theta2: {}'.format(theta2))\n",
    "\n",
    "print('Is theta equals to theta2: {}'.format(np.isclose(theta, theta2)))"
   ]
  },
  {
   "cell_type": "markdown",
   "metadata": {},
   "source": [
    "\n",
    "The operator $\\hat{Q}$ can be viewed as a Y-Rotation of $\\theta$ on $|\\Psi\\rangle$: \n",
    "\n",
    "$$\\hat{Q}|\\Psi\\rangle= \\hat{R}_{y}(2*\\theta)|\\Psi\\rangle=\\hat{R}_{y}(2*\\theta)(\\sin{\\theta}|\\Psi_{1}\\rangle+\\cos{\\theta}|\\Psi_{0}\\rangle) = \\sin{3\\theta}\\Psi_{1}\\rangle+\\cos{3\\theta}|\\Psi_{0}\\rangle$$\n",
    "\n",
    "So starting from $|\\Psi\\rangle$ we can obtain the angle $\\theta$"
   ]
  },
  {
   "cell_type": "code",
   "execution_count": null,
   "metadata": {},
   "outputs": [],
   "source": [
    "#Create a Rotation of 2*theta\n",
    "c, s = np.cos(2*theta), np.sin(2.*theta)\n",
    "#Rotation matrix\n",
    "R = np.array(((c, -s), (s, c)))\n",
    "#Apply Ry(2*theta) to quantum state |Psi>\n",
    "RotationResults = np.dot(R, Psi_)"
   ]
  },
  {
   "cell_type": "code",
   "execution_count": null,
   "metadata": {
    "scrolled": true
   },
   "outputs": [],
   "source": [
    "RotationResults"
   ]
  },
  {
   "cell_type": "code",
   "execution_count": null,
   "metadata": {},
   "outputs": [],
   "source": [
    "print('Square Of Rotated Vector: {}'.format(RotationResults**2))\n",
    "print('Probabilities for QPhi_State: {} '.format(list(QPhi_State['Probability'])))\n",
    "print('Square of the RotateState equal to Probabilities of Q|Phi> state : {}'.format(\n",
    "    np.isclose(RotationResults**2, QPhi_State['Probability']).all())\n",
    "     )"
   ]
  },
  {
   "cell_type": "code",
   "execution_count": null,
   "metadata": {},
   "outputs": [],
   "source": [
    "print('Test OK: {}'.format(np.isclose(RotationResults**2, QPhi_State['Probability']).all()))"
   ]
  },
  {
   "cell_type": "markdown",
   "metadata": {},
   "source": [
    "## 5. Operator $\\hat{Q}^n$"
   ]
  },
  {
   "cell_type": "markdown",
   "metadata": {},
   "source": [
    "In the script **amplitude_amplification.py** a **load_qn_gate** function was programed. This function receives an input gate and apply it a desired number of times"
   ]
  },
  {
   "cell_type": "code",
   "execution_count": null,
   "metadata": {},
   "outputs": [],
   "source": [
    "from amplitude_amplification import load_qn_gate"
   ]
  },
  {
   "cell_type": "code",
   "execution_count": null,
   "metadata": {},
   "outputs": [],
   "source": [
    "q_n_gate = load_qn_gate(q_gate, 4)\n",
    "%qatdisplay q_n_gate --depth 1"
   ]
  },
  {
   "cell_type": "code",
   "execution_count": null,
   "metadata": {},
   "outputs": [],
   "source": []
  }
 ],
 "metadata": {
  "kernelspec": {
   "display_name": "Python 3 (ipykernel)",
   "language": "python",
   "name": "python3"
  },
  "language_info": {
   "codemirror_mode": {
    "name": "ipython",
    "version": 3
   },
   "file_extension": ".py",
   "mimetype": "text/x-python",
   "name": "python",
   "nbconvert_exporter": "python",
   "pygments_lexer": "ipython3",
   "version": "3.9.9"
  }
 },
 "nbformat": 4,
 "nbformat_minor": 2
}
