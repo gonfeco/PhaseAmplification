{
 "cells": [
  {
   "cell_type": "code",
   "execution_count": null,
   "id": "075f9eeb",
   "metadata": {},
   "outputs": [],
   "source": [
    "from IPython.core.display import display, HTML\n",
    "display(HTML(\"<style>.container { width:100% !important; }</style>\"))"
   ]
  },
  {
   "cell_type": "code",
   "execution_count": null,
   "id": "440de514",
   "metadata": {},
   "outputs": [],
   "source": [
    "import numpy as np\n",
    "import pandas as pd\n",
    "import matplotlib.pyplot as plt\n",
    "import sys, os\n",
    "%matplotlib inline\n",
    "%load_ext qat.core.magic\n",
    "#QPU connection\n",
    "QLMASS = True\n",
    "if QLMASS:\n",
    "    try:\n",
    "        from qat.qlmaas import QLMaaSConnection\n",
    "        connection = QLMaaSConnection()\n",
    "        LinAlg = connection.get_qpu(\"qat.qpus:LinAlg\")\n",
    "        lineal_qpu = LinAlg()\n",
    "    except (ImportError, OSError) as e:\n",
    "        print('Problem: usin PyLinalg')\n",
    "        from qat.qpus import PyLinalg\n",
    "        lineal_qpu = PyLinalg()\n",
    "else:\n",
    "    print('User Forces: PyLinalg')\n",
    "    from qat.qpus import PyLinalg\n",
    "    lineal_qpu = PyLinalg()    "
   ]
  },
  {
   "cell_type": "code",
   "execution_count": null,
   "id": "657724b4",
   "metadata": {},
   "outputs": [],
   "source": [
    "import copy\n",
    "import scipy.optimize as so"
   ]
  },
  {
   "cell_type": "code",
   "execution_count": null,
   "id": "12938d72",
   "metadata": {},
   "outputs": [],
   "source": [
    "from QuantumMultiplexors_Module_examples import expectation_loading_data\n",
    "from PhaseAmplification_Module import load_q_gate"
   ]
  },
  {
   "cell_type": "code",
   "execution_count": null,
   "id": "21178b8f",
   "metadata": {},
   "outputs": [],
   "source": [
    "from AuxiliarFunctions import  get_histogram, postprocess_results, test_bins, run_job\n",
    "def p(x):\n",
    "    return x*x\n",
    "def f(x):\n",
    "    return np.sin(x)"
   ]
  },
  {
   "cell_type": "code",
   "execution_count": null,
   "id": "6318b9dd",
   "metadata": {},
   "outputs": [],
   "source": [
    "#number of Qbits for the circuit\n",
    "n_qbits = 6\n",
    "#The number of bins \n",
    "m_bins = 2**n_qbits\n",
    "LowerLimit = 0.0\n",
    "UpperLimit = 1.0 \n",
    "\n",
    "X, p_X = get_histogram(p, LowerLimit, UpperLimit, m_bins)\n",
    "f_X = f(X)"
   ]
  },
  {
   "cell_type": "markdown",
   "id": "f7f4327a",
   "metadata": {},
   "source": [
    "## Circuit"
   ]
  },
  {
   "cell_type": "code",
   "execution_count": null,
   "id": "d870bfc8",
   "metadata": {},
   "outputs": [],
   "source": [
    "Qprog, P_Gate, R_gate = expectation_loading_data(p_X, f_X)\n",
    "Q_Gate = load_q_gate(P_Gate, R_gate)"
   ]
  },
  {
   "cell_type": "markdown",
   "id": "94acac8f",
   "metadata": {},
   "source": [
    "## Maximum Likelihood"
   ]
  },
  {
   "cell_type": "markdown",
   "id": "08472f5d",
   "metadata": {},
   "source": [
    "For this case we start with the loading data using $\\mathcal{P}$ and $\\mathcal{R}$ gates. Now we do following steps:\n",
    "\n",
    "* 1. Apply $\\hat{Q}^{m_k}$ on the circuit. With $k=0$ $m_0=1$\n",
    "* 2. Do $N_k$ measurements of the last qbit. Imagine we get $h_k$ the state $|\\Psi_1\\rangle$ ($N_k-h_k$ times state  $|\\Psi_0\\rangle$).\n",
    "* 3. We calculate the likelihood of the before measurements:\n",
    "\n",
    "$$L_{k}(h_k/\\theta) = (\\sin^2[(2*m_k+1)\\theta])^{h_k}(\\cos^2[(2*m_k+1)\\theta])^{N_k-h_k}$$\n",
    "* 4. We can calculate now the total Likelihood for a vector $\\mathbf{h}=(h_0, h_1,...,h_M)$:\n",
    "\n",
    "$$L(\\mathbf{h}/\\theta) = \\prod_{k=0}^{M}{L_{k}(h_k/\\theta)}$$\n",
    "* 5. We get $\\theta_{a}$ that maximizes $L(\\mathbf{h}/\\theta)$. In general is better to opitimize de logarithm of the $L(\\mathbf{h}/\\theta)$:\n",
    "\n",
    "$$\\theta_{a} = arg \\ max \\ln{L(\\mathbf{h}/\\theta)}= arg \\ max \\sum_{k=0}^{M} \\Big( 2h_k\\ln(\\sin[(2*m_k+1)\\theta])+2(N_k-h_k)\\ln(\\cos[(2*m_k+1)\\theta]) \\Big)$$\n",
    "* 6. Go to first step with $k=1$ and $m_1=1$"
   ]
  },
  {
   "cell_type": "code",
   "execution_count": null,
   "id": "8e1a19ed",
   "metadata": {},
   "outputs": [],
   "source": [
    "def Do(q_prog, q_gate, n_ops):\n",
    "    q_bits = q_prog.registers[0]\n",
    "    for i in range(n_ops):\n",
    "        q_prog.apply(q_gate, q_bits)\n",
    "    circuit = q_prog.to_circ(submatrices_only=True)\n",
    "    job = circuit.to_job(qubits=[len(q_bits)-1])#, nbshots = nbshots)\n",
    "    return job, circuit"
   ]
  },
  {
   "cell_type": "code",
   "execution_count": null,
   "id": "84c963b8",
   "metadata": {},
   "outputs": [],
   "source": [
    "def likelihood(theta, m_k, h_k, n_k):\n",
    "    theta_ = (2*m_k+1)*theta\n",
    "    first_term = 2*h_k*np.log(np.abs(np.sin(theta_)))\n",
    "    second_term = 2*(n_k-h_k)*np.log(np.abs(np.cos(theta_)))\n",
    "    l_k = first_term + second_term\n",
    "    return -np.sum(l_k)\n",
    "\n",
    "def launch_likelihood(theta, pdf):\n",
    "    h_k = pdf['h_k_shots']\n",
    "    m_k = pdf['m_k']   \n",
    "    n_k = pdf['shots']\n",
    "    return likelihood(theta, m_k, h_k, n_k)"
   ]
  },
  {
   "cell_type": "code",
   "execution_count": null,
   "id": "49148f7c",
   "metadata": {},
   "outputs": [],
   "source": [
    "def mlae(q_prog, q_gate, k, lineal_qpu, nbshots = 0):\n",
    "    \n",
    "    list_h_k = []\n",
    "    list_of_circuits = []\n",
    "\n",
    "    for m_k in range(k):\n",
    "        step_job, step_cricuit = Do(copy.deepcopy(q_prog), q_gate, m_k)#, nbshots)\n",
    "        list_of_circuits.append(step_cricuit)\n",
    "        if nbshots != 0:\n",
    "            step_job.nbshots = nbshots\n",
    "        step_result = run_job(lineal_qpu.submit(step_job))\n",
    "        step_pdf = postprocess_results(step_result)\n",
    "        try:\n",
    "            h_k = step_pdf[step_pdf['States'] == '|1>']['Probability'].values[0]\n",
    "        except IndexError:\n",
    "            #Can happen that P|1> = 0. Then the pdf do not have the state. In this case h_k = 0\n",
    "            h_k = 0\n",
    "        list_h_k.append([m_k, h_k])  \n",
    "        \n",
    "    if nbshots == 0:\n",
    "        number_of_shots = 100\n",
    "    else:\n",
    "        number_of_shots = nbshots\n",
    "    #Probability for  |1>\n",
    "    p_1 = pd.DataFrame(list_h_k, columns= ['m_k', 'h_k'])\n",
    "    p_1['h_k_shots'] = round(p_1['h_k']*number_of_shots, 0).astype(int)\n",
    "    p_1['shots'] = number_of_shots  \n",
    "    \n",
    "    r = so.brute(\n",
    "        likelihood,\n",
    "        [(0+delta, 0.5*np.pi-delta)],\n",
    "        (p_1['m_k'], p_1['h_k_shots'], p_1['shots']),\n",
    "        50,\n",
    "        disp=True\n",
    "    )    "
   ]
  },
  {
   "cell_type": "code",
   "execution_count": null,
   "id": "c045d5cd",
   "metadata": {},
   "outputs": [],
   "source": [
    "optimizer = so.brute"
   ]
  },
  {
   "cell_type": "code",
   "execution_count": null,
   "id": "d1d6334a",
   "metadata": {},
   "outputs": [],
   "source": [
    "so.brute?"
   ]
  },
  {
   "cell_type": "code",
   "execution_count": null,
   "id": "afe672e5",
   "metadata": {},
   "outputs": [],
   "source": [
    "K=10\n",
    "nbshots = 10000\n",
    "list_h_k = []\n",
    "list_of_circuits = []\n",
    "\n",
    "for m_k in range(K):\n",
    "    step_job, step_cricuit = Do(copy.deepcopy(Qprog), Q_Gate, m_k)#, nbshots)\n",
    "    list_of_circuits.append(step_cricuit)\n",
    "    if nbshots != 0:\n",
    "        step_job.nbshots = nbshots\n",
    "    step_result = run_job(lineal_qpu.submit(step_job))\n",
    "    step_pdf = postprocess_results(step_result)\n",
    "    try:\n",
    "        h_k = step_pdf[step_pdf['States'] == '|1>']['Probability'].values[0]\n",
    "    except IndexError:\n",
    "        #Can happen that P|1> = 0. Then the pdf do not have the state. In this case h_k = 0\n",
    "        h_k = 0\n",
    "    list_h_k.append([m_k, h_k])       "
   ]
  },
  {
   "cell_type": "code",
   "execution_count": null,
   "id": "3d4694b3",
   "metadata": {},
   "outputs": [],
   "source": [
    "if nbshots == 0:\n",
    "    number_of_shots = 100\n",
    "else:\n",
    "    number_of_shots = nbshots\n",
    "#Probabilidad estado |1>\n",
    "p_1 = pd.DataFrame(list_h_k, columns= ['m_k', 'h_k'])\n",
    "p_1['h_k_shots'] = round(p_1['h_k']*number_of_shots, 0).astype(int)\n",
    "p_1['shots'] = number_of_shots"
   ]
  },
  {
   "cell_type": "code",
   "execution_count": null,
   "id": "838a184d",
   "metadata": {},
   "outputs": [],
   "source": [
    "p_1"
   ]
  },
  {
   "cell_type": "code",
   "execution_count": null,
   "id": "15a044b8",
   "metadata": {},
   "outputs": [],
   "source": [
    "delta = 0.0001\n",
    "theta = np.linspace(0+delta, 0.5*np.pi-delta)\n",
    "y = [launch_likelihood(t, p_1) for t in theta]\n",
    "plt.plot(theta,y)"
   ]
  },
  {
   "cell_type": "code",
   "execution_count": null,
   "id": "73e550e4",
   "metadata": {},
   "outputs": [],
   "source": [
    "r = so.brute(\n",
    "    likelihood,\n",
    "    [(0+delta, 0.5*np.pi-delta)],\n",
    "    (p_1['m_k'], p_1['h_k_shots'], p_1['shots']),\n",
    "    50,\n",
    "    disp=True\n",
    ")"
   ]
  },
  {
   "cell_type": "code",
   "execution_count": null,
   "id": "0b2e4bfa",
   "metadata": {},
   "outputs": [],
   "source": [
    "r[0]"
   ]
  },
  {
   "cell_type": "code",
   "execution_count": null,
   "id": "376f8a36",
   "metadata": {},
   "outputs": [],
   "source": [
    "def get_sub_pdf(input_pdf, state):\n",
    "    pdf = input_pdf.copy(deep=True)\n",
    "    phi = pdf[pdf['States'] == state]\n",
    "    phi.reset_index(drop=True, inplace=True)\n",
    "    phi.drop(columns=['Amplitude', 'States'], inplace = True)\n",
    "    phi.rename(\n",
    "        columns = {'Probability': 'Probability_{}'.format(state)},\n",
    "        inplace = True\n",
    "    )\n",
    "    return phi.drop_duplicates()\n",
    "    return phi"
   ]
  },
  {
   "cell_type": "code",
   "execution_count": null,
   "id": "76813403",
   "metadata": {},
   "outputs": [],
   "source": []
  },
  {
   "cell_type": "code",
   "execution_count": null,
   "id": "857ec338",
   "metadata": {},
   "outputs": [],
   "source": []
  },
  {
   "cell_type": "code",
   "execution_count": null,
   "id": "2b845532",
   "metadata": {},
   "outputs": [],
   "source": [
    "nbshots = 0\n",
    "list_h_k = []\n",
    "m_k = 0\n",
    "\n",
    "step_job, step_cricuit = Do(copy.deepcopy(Qprog), Q_Gate, m_k)#, nbshots)\n",
    "#ListOfCircutis.append(step_cricuit)\n",
    "if nbshots != 0:\n",
    "    step_job.nbshots = nbshots\n",
    "step_result = run_job(lineal_qpu.submit(step_job))\n",
    "step_pdf = postprocess_results(step_result)\n",
    "#ListOfPdfs.append(step_pdf)\n",
    "try:\n",
    "    h_k = step_pdf[step_pdf['States'] == '|1>']['Probability'].values[0]\n",
    "except IndexError:\n",
    "    #Can happen that P|1> = 0. Then the pdf do not have the state. In this case h_k = 0\n",
    "    h_k = 0\n",
    "list_h_k.append([m_k, h_k])  "
   ]
  },
  {
   "cell_type": "code",
   "execution_count": null,
   "id": "af65a908",
   "metadata": {},
   "outputs": [],
   "source": [
    "list_h_k"
   ]
  },
  {
   "cell_type": "code",
   "execution_count": null,
   "id": "7b9ca5ef",
   "metadata": {},
   "outputs": [],
   "source": []
  },
  {
   "cell_type": "code",
   "execution_count": null,
   "id": "f205660c",
   "metadata": {},
   "outputs": [],
   "source": [
    "p_1"
   ]
  },
  {
   "cell_type": "code",
   "execution_count": null,
   "id": "6c9daa90",
   "metadata": {},
   "outputs": [],
   "source": []
  }
 ],
 "metadata": {
  "kernelspec": {
   "display_name": "Python 3 (ipykernel)",
   "language": "python",
   "name": "python3"
  },
  "language_info": {
   "codemirror_mode": {
    "name": "ipython",
    "version": 3
   },
   "file_extension": ".py",
   "mimetype": "text/x-python",
   "name": "python",
   "nbconvert_exporter": "python",
   "pygments_lexer": "ipython3",
   "version": "3.9.9"
  }
 },
 "nbformat": 4,
 "nbformat_minor": 5
}
