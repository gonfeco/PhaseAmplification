{
 "cells": [
  {
   "cell_type": "code",
   "execution_count": null,
   "id": "12c8740d",
   "metadata": {},
   "outputs": [],
   "source": [
    "from IPython.core.display import display, HTML\n",
    "display(HTML(\"<style>.container { width:100% !important; }</style>\"))"
   ]
  },
  {
   "cell_type": "code",
   "execution_count": null,
   "id": "d3fc821b",
   "metadata": {},
   "outputs": [],
   "source": [
    "import sys\n",
    "sys.path.append(\"../library\")"
   ]
  },
  {
   "cell_type": "code",
   "execution_count": null,
   "id": "2321437e",
   "metadata": {},
   "outputs": [],
   "source": [
    "import numpy as np\n",
    "import pandas as pd\n",
    "import matplotlib.pyplot as plt"
   ]
  },
  {
   "cell_type": "code",
   "execution_count": null,
   "id": "04726721",
   "metadata": {},
   "outputs": [],
   "source": [
    "import qat.lang.AQASM as qlm"
   ]
  },
  {
   "cell_type": "code",
   "execution_count": null,
   "id": "34e3244a",
   "metadata": {},
   "outputs": [],
   "source": [
    "%load_ext qat.core.magic\n",
    "%matplotlib inline"
   ]
  },
  {
   "cell_type": "code",
   "execution_count": null,
   "id": "329579f7",
   "metadata": {},
   "outputs": [],
   "source": [
    "global_qlmaas = True\n",
    "try:\n",
    "    from qlmaas.qpus import LinAlg\n",
    "except (ImportError, OSError) as e:\n",
    "    global_qlmaas = False\n",
    "from qat.qpus import PyLinalg"
   ]
  },
  {
   "cell_type": "code",
   "execution_count": null,
   "id": "2e46825c",
   "metadata": {},
   "outputs": [],
   "source": [
    "def get_qpu(qlmass=False):\n",
    "    \"\"\"\n",
    "    Function for selecting solver. User can chose between:\n",
    "    * LinAlg: for submitting jobs to a QLM server\n",
    "    * PyLinalg: for simulating jobs using myqlm lineal algebra.\n",
    "\n",
    "    Parameters\n",
    "    ----------\n",
    "\n",
    "    qlmass : bool\n",
    "        If True  try to use QLM as a Service connection to CESGA QLM\n",
    "        If False PyLinalg simulator will be used\n",
    "\n",
    "    Returns\n",
    "    ----------\n",
    "    \n",
    "    lineal_qpu : solver for quantum jobs\n",
    "    \"\"\"\n",
    "    if qlmass:\n",
    "        if global_qlmaas:\n",
    "            print('Using: LinAlg')\n",
    "            linalg_qpu = LinAlg()\n",
    "        else:\n",
    "            raise ImportError(\"\"\"Problem Using QLMaaS.Please create config file or use mylm solver\"\"\")\n",
    "            \n",
    "    else:\n",
    "        print('Using PyLinalg')\n",
    "        linalg_qpu = PyLinalg()\n",
    "    return linalg_qpu"
   ]
  },
  {
   "cell_type": "code",
   "execution_count": null,
   "id": "18c3964f",
   "metadata": {},
   "outputs": [],
   "source": [
    "#QLMaaS == False -> uses PyLinalg\n",
    "#QLMaaS == True -> try to use LinAlg\n",
    "QLMaaS = True\n",
    "linalg_qpu = get_qpu(QLMaaS)"
   ]
  },
  {
   "cell_type": "markdown",
   "id": "9e337a94",
   "metadata": {},
   "source": [
    "## 1. Quantum Multiplexors"
   ]
  },
  {
   "cell_type": "markdown",
   "id": "b862e66e",
   "metadata": {},
   "source": [
    "Implementation of loading data routines using the *Lov Grover and Terry Rudolph* routines directly, using controlled rotations by state, is highly inneficient. In general the use of controlled rotations generate highly deep quantum circuits prone to errors. \n",
    "A more efficient approach is the use of Quantum Multiplexors where the only controlled gates are c-Not ones. \n",
    "\n",
    "The operation we want to implement is a controlled rotation on an angle $\\theta_i$ controlled by a state $|i\\rangle$. \n",
    "\n",
    "For a 2 qbits state the operator should be:\n",
    "\n",
    "$$\n",
    "\\hat{U}|q_0q_1\\rangle= \\{ \\begin{array}{ll}\n",
    "      |0\\rangle\\hat{R}_y(\\theta_0)|q_1\\rangle  & if \\;|q_0\\rangle = |0\\rangle \\\\\n",
    "      |1\\rangle\\hat{R}_y(\\theta_1)|q_1\\rangle  & if \\;|q_0\\rangle = |1\\rangle \\\\\n",
    "\\end{array}\n",
    "$$\n",
    "\n",
    "With a quantum multiplexor this operation can be implemented as:\n",
    "\n",
    "$$\\hat{U}(\\theta_0, \\theta_1)|q_0q_1\\rangle= \\left( \\mathbf{I} \\otimes \\hat{R}_{y} (\\frac{\\theta_0+\\theta_1}{2}) \\right) \\hat{C}_{NOT} \\left(\\mathbf{I} \\otimes \\hat{R}_{y} (\\frac{\\theta_0-\\theta_1}{2}) \\right) \\hat{C}_{NOT}|q_0q_1\\rangle$$\n",
    "\n",
    "The circuit representation for this operator is:\n",
    "\n",
    "![alt text](./QM_01.png)\n",
    "\n",
    "As can be seen the quantum multiplexor needs only $C_{NOT}$ gates that are implemented in easier way than controlled rotations\n"
   ]
  },
  {
   "cell_type": "markdown",
   "id": "5ae8c7a9",
   "metadata": {},
   "source": [
    "For controlled state rotations of more angles quantum multiplexors can be implemented in a recursively way. For example if we want apply a controlled 4 angle rotation $[\\theta_0, \\theta_1, \\theta_2, \\theta_3]$ we can use following circuit:\n",
    "\n",
    "![alt text](./QM_02.png)\n"
   ]
  },
  {
   "cell_type": "markdown",
   "id": "18e2496e",
   "metadata": {},
   "source": [
    "In general a quantum multiplexor with $m$ control qubits can be decomposed as 2 multiplexors with $m − 1$ control qubits and 2 $\\hat{C}_{NOT}$ gates:\n",
    "![alt text](./QM_03.png)"
   ]
  },
  {
   "cell_type": "markdown",
   "id": "20013504",
   "metadata": {},
   "source": [
    "In the **QuantumMultiplexors_Module** there are an implementation for a quantum multiplexor controlled by $m$ qbits and the functions neede to use them in order to load probability and a Integral function"
   ]
  },
  {
   "cell_type": "markdown",
   "id": "321fdf1f",
   "metadata": {},
   "source": [
    "## 2. Loading Data Gates: $\\mathcal{P}$ and $\\mathcal{R}$"
   ]
  },
  {
   "cell_type": "markdown",
   "id": "eac27931",
   "metadata": {},
   "source": [
    "First thing we need are the $\\mathcal{P}$ and $\\mathcal{R}$ for loading probability distribution and integral function respectively into a Quantum State."
   ]
  },
  {
   "cell_type": "code",
   "execution_count": null,
   "id": "c7008b45",
   "metadata": {},
   "outputs": [],
   "source": [
    "from AuxiliarFunctions import get_histogram"
   ]
  },
  {
   "cell_type": "code",
   "execution_count": null,
   "id": "c5d5112b",
   "metadata": {},
   "outputs": [],
   "source": [
    "def p(x):\n",
    "    return x*x\n",
    "def f(x):\n",
    "    return np.sin(x)"
   ]
  },
  {
   "cell_type": "code",
   "execution_count": null,
   "id": "388455a5",
   "metadata": {},
   "outputs": [],
   "source": [
    "#number of Qbits for the circuit\n",
    "n_qbits = 8\n",
    "#The number of bins \n",
    "m_bins = 2**n_qbits\n",
    "LowerLimit = 0.0\n",
    "UpperLimit = 1.0 \n",
    "\n",
    "X, p_X = get_histogram(p, LowerLimit, UpperLimit, m_bins)\n",
    "f_X = f(X)"
   ]
  },
  {
   "cell_type": "markdown",
   "id": "cc32a4e2",
   "metadata": {},
   "source": [
    "### 2.1 Loading Probability gate: $\\mathcal{P}$"
   ]
  },
  {
   "cell_type": "markdown",
   "id": "8ca4a398",
   "metadata": {},
   "source": [
    "The $\\mathcal{P}$ is implemented by the function **load_p_gate** inside the **QuantumMultiplexors_Module**. The input should be a numpy array with the Probability distribution to load into the quantum state. The output of the function is a **qlm** *AbstractGate* customized for the input numpy array which load it into the quantum state. \n",
    "\n",
    "First we need to configurate the $\\mathcal{P}$ by providing the discretized probability to load"
   ]
  },
  {
   "cell_type": "code",
   "execution_count": null,
   "id": "872b42b6",
   "metadata": {},
   "outputs": [],
   "source": [
    "from QuantumMultiplexors_Module import load_p_gate"
   ]
  },
  {
   "cell_type": "code",
   "execution_count": null,
   "id": "1f768ade",
   "metadata": {},
   "outputs": [],
   "source": [
    "p_gate = load_p_gate(p_X)\n",
    "%qatdisplay p_gate --depth 1"
   ]
  },
  {
   "cell_type": "markdown",
   "id": "87eada8f",
   "metadata": {},
   "source": [
    "We can use the *get_results* of **data_extracting** for executing the gate in a  circuit. This functions receives a quantum object, creates the asociated circuit and job. Finally execute the job and get results!!"
   ]
  },
  {
   "cell_type": "code",
   "execution_count": null,
   "id": "51dadf66",
   "metadata": {},
   "outputs": [],
   "source": [
    "from data_extracting import get_results"
   ]
  },
  {
   "cell_type": "code",
   "execution_count": null,
   "id": "dcf42900",
   "metadata": {},
   "outputs": [],
   "source": [
    "#We need to avoid last qbit\n",
    "pdf, circuit, q_prog, job = get_results(p_gate, linalg_qpu=linalg_qpu, qubits=list(range(p_gate.arity)))"
   ]
  },
  {
   "cell_type": "code",
   "execution_count": null,
   "id": "c6b53c60",
   "metadata": {
    "scrolled": true
   },
   "outputs": [],
   "source": [
    "%qatdisplay circuit --depth 0"
   ]
  },
  {
   "cell_type": "code",
   "execution_count": null,
   "id": "63251b05",
   "metadata": {},
   "outputs": [],
   "source": [
    "pdf.head()"
   ]
  },
  {
   "cell_type": "markdown",
   "id": "122c28a7",
   "metadata": {},
   "source": [
    "In order to check if the operation was done properly we can compare the outpus probability of each state and the probabilities wanted to load:"
   ]
  },
  {
   "cell_type": "code",
   "execution_count": null,
   "id": "c29b3e6f",
   "metadata": {
    "scrolled": true
   },
   "outputs": [],
   "source": [
    "np.isclose(pdf['Probability'], p_X).all()"
   ]
  },
  {
   "cell_type": "markdown",
   "id": "c8f13706",
   "metadata": {},
   "source": [
    "### 2.2 Loading Integral Function gate: $\\mathcal{F}$"
   ]
  },
  {
   "cell_type": "markdown",
   "id": "3010b0e0",
   "metadata": {},
   "source": [
    "\n",
    "The $\\mathcal{F}$ is implemented by an Abstract qlm gate called **load_f_gate**  inside the **QuantumMultiplexors_Module**.. The input should be a numpy array with the function which integral want to be load into the quantum state. The output of the function is a **qlm** *AbstractGate* customized for the input numpy array which load the integral into the last qbit of the quantum state. \n",
    "\n",
    "\n",
    "The length of this array should be: $m=2^n$ where n is an integer. The created gate is a $n+1$ gate where the last qbit codifies the integral of the function."
   ]
  },
  {
   "cell_type": "code",
   "execution_count": null,
   "id": "1541cc72",
   "metadata": {},
   "outputs": [],
   "source": [
    "from QuantumMultiplexors_Module import load_f_gate"
   ]
  },
  {
   "cell_type": "code",
   "execution_count": null,
   "id": "eb0e3c58",
   "metadata": {},
   "outputs": [],
   "source": [
    "f_gate = load_f_gate(f_X)"
   ]
  },
  {
   "cell_type": "code",
   "execution_count": null,
   "id": "14c56d5e",
   "metadata": {},
   "outputs": [],
   "source": [
    "%qatdisplay f_gate --depth 1"
   ]
  },
  {
   "cell_type": "markdown",
   "id": "447dabc2",
   "metadata": {},
   "source": [
    "For using this gate we need a equal superposition of states"
   ]
  },
  {
   "cell_type": "code",
   "execution_count": null,
   "id": "a96e678b",
   "metadata": {},
   "outputs": [],
   "source": [
    "q_rout = qlm.QRoutine()\n",
    "q_bit = q_rout.new_wires(f_gate.arity)\n",
    "#Loading an uniform distribution\n",
    "for i in range(len(q_bit)-1):\n",
    "    q_rout.apply(qlm.H, q_bit[i])\n",
    "q_rout.apply(f_gate, q_bit)"
   ]
  },
  {
   "cell_type": "code",
   "execution_count": null,
   "id": "0c5fec5b",
   "metadata": {},
   "outputs": [],
   "source": [
    "%qatdisplay q_rout --depth 0"
   ]
  },
  {
   "cell_type": "code",
   "execution_count": null,
   "id": "f27cecdd",
   "metadata": {},
   "outputs": [],
   "source": [
    "pdf, circuit, q_prog, job = get_results(q_rout, linalg_qpu=linalg_qpu, qubits=[f_gate.arity-1])"
   ]
  },
  {
   "cell_type": "code",
   "execution_count": null,
   "id": "2d397cd5",
   "metadata": {},
   "outputs": [],
   "source": [
    "%qatdisplay circuit --depth 0"
   ]
  },
  {
   "cell_type": "code",
   "execution_count": null,
   "id": "d349f676",
   "metadata": {},
   "outputs": [],
   "source": [
    "#Integral of f(x)\n",
    "MeasurementIntegral = pdf['Probability'][1]*2**(n_qbits)"
   ]
  },
  {
   "cell_type": "code",
   "execution_count": null,
   "id": "a1754597",
   "metadata": {},
   "outputs": [],
   "source": [
    "#Test\n",
    "np.isclose(MeasurementIntegral, sum(f_X))"
   ]
  },
  {
   "cell_type": "markdown",
   "id": "8bbc8c3e",
   "metadata": {},
   "source": [
    "### 2.3 Load Complete Data"
   ]
  },
  {
   "cell_type": "markdown",
   "id": "ba4e7132",
   "metadata": {},
   "source": [
    "Now we are going to use $\\mathcal{P}$ and $\\mathcal{F}$ implemented gates in order to load $E_{x\\sim p}(f)$ in a quantum circuit. \n",
    "\n",
    "$$E_{x\\sim p}(f) = \\sum_{x=0}^{2^n-1} p(x)f(x)dx$$\n",
    "\n",
    "For this the **load_pf_gate**  inside **QuantumMultiplexors_Module** was created. Providing the 2 operator gates $\\mathcal{P}$ and $\\mathcal{R}$ the function creates a third *Abstract Gate* with the two operators apply consecutively"
   ]
  },
  {
   "cell_type": "code",
   "execution_count": null,
   "id": "4226d488",
   "metadata": {},
   "outputs": [],
   "source": [
    "from QuantumMultiplexors_Module import load_pf_gate"
   ]
  },
  {
   "cell_type": "code",
   "execution_count": null,
   "id": "fe4cf515",
   "metadata": {},
   "outputs": [],
   "source": [
    "pf_gate = load_pf_gate(p_gate, f_gate)\n",
    "%qatdisplay pf_gate --depth 1"
   ]
  },
  {
   "cell_type": "code",
   "execution_count": null,
   "id": "0f65223b",
   "metadata": {},
   "outputs": [],
   "source": [
    "pdf, circuit, q_prog, job = get_results(pf_gate, linalg_qpu=linalg_qpu, qubits=[pf_gate.arity-1])"
   ]
  },
  {
   "cell_type": "code",
   "execution_count": null,
   "id": "20bb87a5",
   "metadata": {},
   "outputs": [],
   "source": [
    "%qatdisplay circuit --depth 0"
   ]
  },
  {
   "cell_type": "markdown",
   "id": "8db2a8ae",
   "metadata": {},
   "source": [
    "As explained before the $E_{x\\sim p}(f)$ will be loaded in the $|1\\rangle$ state of the last qbit of the circuit"
   ]
  },
  {
   "cell_type": "code",
   "execution_count": null,
   "id": "bc7050fb",
   "metadata": {},
   "outputs": [],
   "source": [
    "#Integral of f(x)\n",
    "MeasurementIntegral = pdf['Probability'][1]\n",
    "print('MeasurementIntegral: {}'.format(MeasurementIntegral))\n",
    "print('Integral p(x)f(x): {}'.format(sum(p_X*f_X)))"
   ]
  },
  {
   "cell_type": "code",
   "execution_count": null,
   "id": "ca6271a7",
   "metadata": {},
   "outputs": [],
   "source": [
    "np.isclose(MeasurementIntegral, sum(p_X*f_X))"
   ]
  },
  {
   "cell_type": "markdown",
   "id": "e97f97e5",
   "metadata": {},
   "source": [
    "## 3 Sumary and Important notes"
   ]
  },
  {
   "cell_type": "markdown",
   "id": "e958eb1b",
   "metadata": {},
   "source": [
    "In **01_Dataloading_Module_Use** Notebook the *dataloading_module* and *dataloading_module_examples* were explained and used. \n",
    "Present Notebook try to mimic the **01_Dataloading_Module_Use** one but using and explained **QuantumMultiplexors_Module** and **QuantumMultiplexors_Module_examples**. \n",
    "\n",
    "The functions and gates implemented in *dataloading_module* and in the **QuantumMultiplexors_Module** have the same functionality: **load data, probability functions and integral functions** in a quantum state but the implementation was changed:\n",
    "* In the *dataloading_module*: several controlled by states rotations were straightoforward implemented in order to create the gates to load the data.\n",
    "* In the **QuantumMultiplexors_Module**: the loading data gates were implemented in a much more efficient way using **quantum multiplexors** where the controlloed rotations are subsituted by simple (and intelligent) qbit Rotations and $\\hat{C}_{NOT}$ gates"
   ]
  }
 ],
 "metadata": {
  "kernelspec": {
   "display_name": "Python 3 (ipykernel)",
   "language": "python",
   "name": "python3"
  },
  "language_info": {
   "codemirror_mode": {
    "name": "ipython",
    "version": 3
   },
   "file_extension": ".py",
   "mimetype": "text/x-python",
   "name": "python",
   "nbconvert_exporter": "python",
   "pygments_lexer": "ipython3",
   "version": "3.9.9"
  }
 },
 "nbformat": 4,
 "nbformat_minor": 5
}
