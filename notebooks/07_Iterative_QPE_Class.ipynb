{
 "cells": [
  {
   "cell_type": "markdown",
   "id": "91740961",
   "metadata": {},
   "source": [
    "# Iterative Quantum Phase Estimation (IQPE)"
   ]
  },
  {
   "cell_type": "markdown",
   "id": "c4f4d8f0",
   "metadata": {},
   "source": [
    "This Notebook explains the use of the class tha implements **IQPE** using myqlm"
   ]
  },
  {
   "cell_type": "code",
   "execution_count": null,
   "id": "a943b2ec",
   "metadata": {},
   "outputs": [],
   "source": [
    "from IPython.core.display import display, HTML\n",
    "display(HTML(\"<style>.container { width:100% !important; }</style>\"))"
   ]
  },
  {
   "cell_type": "code",
   "execution_count": null,
   "id": "56c42b50",
   "metadata": {},
   "outputs": [],
   "source": [
    "import numpy as np\n",
    "import pandas as pd\n",
    "import matplotlib.pyplot as plt\n",
    "import sys, os"
   ]
  },
  {
   "cell_type": "code",
   "execution_count": null,
   "id": "67d69543",
   "metadata": {
    "scrolled": true
   },
   "outputs": [],
   "source": [
    "%load_ext qat.core.magic\n",
    "%matplotlib inline"
   ]
  },
  {
   "cell_type": "markdown",
   "id": "4139cb69",
   "metadata": {},
   "source": [
    "Following cell instantiate the solver (QLM CESGA's qpu or simpl python simulator)"
   ]
  },
  {
   "cell_type": "code",
   "execution_count": null,
   "id": "f7849ebf",
   "metadata": {},
   "outputs": [],
   "source": [
    "#QPU connection\n",
    "QLMASS = True\n",
    "if QLMASS:\n",
    "    try:\n",
    "        from qat.qlmaas import QLMaaSConnection\n",
    "        connection = QLMaaSConnection()\n",
    "        LinAlg = connection.get_qpu(\"qat.qpus:LinAlg\")\n",
    "        lineal_qpu = LinAlg()\n",
    "    except (ImportError, OSError) as e:\n",
    "        print('Problem: usin PyLinalg')\n",
    "        from qat.qpus import PyLinalg\n",
    "        lineal_qpu = PyLinalg()\n",
    "else:\n",
    "    print('User Forces: PyLinalg')\n",
    "    from qat.qpus import PyLinalg\n",
    "    lineal_qpu = PyLinalg() "
   ]
  },
  {
   "cell_type": "code",
   "execution_count": null,
   "id": "b5124b9b",
   "metadata": {},
   "outputs": [],
   "source": [
    "def getstaff(InputPDF):\n",
    "    pdf = InputPDF.copy(deep=True)\n",
    "    #Con esto obtenemos el theta del operador unitario\n",
    "    pdf['Theta_Unitary'] = 2*np.pi*pdf['Phi']\n",
    "    #Esto es el ángulo que rota el operador Q en el problema del valor esperador de la función (2*theta)\n",
    "    #IQAE.results['Theta_Q'] = np.pi*IQAE.results['Phi']\n",
    "    pdf['Theta'] = np.pi*pdf['Phi']\n",
    "    #Solo angulos entre [0, pi/2]\n",
    "    #IQAE.results['Theta'].where(IQAE.results['Theta']< 0.5*np.pi, np.pi-IQAE.results['Theta'], inplace=True)\n",
    "    pdf['E_p(f)'] = np.sin(pdf['Theta'])**2\n",
    "    pdf['theta_90'] = pdf['Theta']\n",
    "    pdf['theta_90'].where(pdf['theta_90']< 0.5*np.pi, np.pi-pdf['theta_90'], inplace=True)    \n",
    "    return pdf"
   ]
  },
  {
   "cell_type": "markdown",
   "id": "108acf8a",
   "metadata": {},
   "source": [
    "## 1. Easy Test"
   ]
  },
  {
   "cell_type": "markdown",
   "id": "8b37c571",
   "metadata": {},
   "source": [
    "First we are going to test the implemented class for **IQPE** using an easy example taking from qiskit textbook:\n",
    "\n",
    "https://qiskit.org/textbook/ch-labs/Lab04_IterativePhaseEstimation.html\n",
    "\n",
    "https://github.com/Qiskit/qiskit-tutorials/blob/master/tutorials/algorithms/09_IQPE.ipynb\n"
   ]
  },
  {
   "cell_type": "code",
   "execution_count": null,
   "id": "d948bd6e",
   "metadata": {},
   "outputs": [],
   "source": [
    "#Number Of Qbits\n",
    "n_qbits = 2\n",
    "#Number Of Classical Bits\n",
    "n_cbits = 6"
   ]
  },
  {
   "cell_type": "code",
   "execution_count": null,
   "id": "fee1b243",
   "metadata": {},
   "outputs": [],
   "source": [
    "#Basic Initial circuit and unitary operator whose autovalue we want to compute\n",
    "\n",
    "from qat.lang.AQASM import Program, H, X, PH\n",
    "q_prog = Program()\n",
    "q_bits = q_prog.qalloc(n_qbits)\n",
    "for i in range(n_qbits):\n",
    "    q_prog.apply(X, q_bits[i])\n",
    "q_gate = PH(np.pi/2.0).ctrl()"
   ]
  },
  {
   "cell_type": "code",
   "execution_count": null,
   "id": "c333a074",
   "metadata": {},
   "outputs": [],
   "source": [
    "init_circuit = q_prog.to_circ()\n",
    "\n",
    "print('Initial Circuit')\n",
    "%qatdisplay init_circuit\n",
    "\n",
    "print('Unitary Operator')\n",
    "%qatdisplay q_gate"
   ]
  },
  {
   "cell_type": "markdown",
   "id": "2a8ec75f",
   "metadata": {},
   "source": [
    "Next We need to instantiate and configure the **IQPE** class"
   ]
  },
  {
   "cell_type": "code",
   "execution_count": null,
   "id": "eef79e9e",
   "metadata": {},
   "outputs": [],
   "source": [
    "from iterative_quantum_pe import IterativeQuantumPE"
   ]
  },
  {
   "cell_type": "code",
   "execution_count": null,
   "id": "04851593",
   "metadata": {},
   "outputs": [],
   "source": [
    "iqpe_dict = {\n",
    "    'qpu' : lineal_qpu,\n",
    "    'cbits_number' : n_cbits,\n",
    "    'shots': 1000,\n",
    "    'easy': True\n",
    "    #'easy': False\n",
    "}\n",
    "IQPE = IterativeQuantumPE(q_prog, q_gate, **iqpe_dict)\n",
    "IQPE.iqpe()"
   ]
  },
  {
   "cell_type": "code",
   "execution_count": null,
   "id": "37ff5f4d",
   "metadata": {},
   "outputs": [],
   "source": [
    "easy_circuit =IQPE.circuit\n",
    "%qatdisplay easy_circuit  --depth 1  "
   ]
  },
  {
   "cell_type": "code",
   "execution_count": null,
   "id": "8a53ef64",
   "metadata": {},
   "outputs": [],
   "source": [
    "IQPE.results['Phi'].describe()"
   ]
  },
  {
   "cell_type": "markdown",
   "id": "79e947d9",
   "metadata": {},
   "source": [
    "As can be seen in \n",
    "\n",
    "https://github.com/Qiskit/qiskit-tutorials/blob/master/tutorials/algorithms/09_IQPE.ipynb \n",
    "\n",
    "solution in qiskit is just 0.25 for the before configuration"
   ]
  },
  {
   "cell_type": "markdown",
   "id": "34f11062",
   "metadata": {},
   "source": [
    "## 2. Class IQPE: step by step "
   ]
  },
  {
   "cell_type": "markdown",
   "id": "39e668f5",
   "metadata": {},
   "source": [
    "We want to use IQPE algorithm to calculate the expected value of a function $f(x)$ for a x following a probability distribution $p$: $E_{x\\sim p}(f)$. In this case we need the gates for loading probability ($\\mathcal{P}$) and function ($\\mathcal{R}$) and the corresponding Groover operator based on this gates ($\\mathcal{Q}$). This is done in following cells"
   ]
  },
  {
   "cell_type": "code",
   "execution_count": null,
   "id": "6da236d2",
   "metadata": {},
   "outputs": [],
   "source": [
    "from AuxiliarFunctions import  get_histogram, postprocess_results, test_bins, run_job\n",
    "from QuantumMultiplexors_Module import expectation_loading_data\n",
    "from PhaseAmplification_Module import load_q_gate"
   ]
  },
  {
   "cell_type": "code",
   "execution_count": null,
   "id": "a706896e",
   "metadata": {},
   "outputs": [],
   "source": [
    "#Functions f and p\n",
    "def p(x):\n",
    "    return x*x\n",
    "def f(x):\n",
    "    return np.sin(x)"
   ]
  },
  {
   "cell_type": "code",
   "execution_count": null,
   "id": "e0edbb7a",
   "metadata": {},
   "outputs": [],
   "source": [
    "#number of Qbits for the circuit\n",
    "n_qbits = 6\n",
    "#The number of bins \n",
    "m_bins = 2**n_qbits\n",
    "LowerLimit = 0.0\n",
    "UpperLimit = 1.0 \n",
    "\n",
    "X, p_X = get_histogram(p, LowerLimit, UpperLimit, m_bins)\n",
    "f_X = f(X)\n",
    "#Load P and R Gates\n",
    "PR_Gate = expectation_loading_data(p_X, f_X)\n",
    "#Creates Groover operator\n",
    "Q_Gate = load_q_gate(PR_Gate)"
   ]
  },
  {
   "cell_type": "code",
   "execution_count": null,
   "id": "8c1e3c16",
   "metadata": {},
   "outputs": [],
   "source": [
    "from qat.lang.AQASM import Program"
   ]
  },
  {
   "cell_type": "code",
   "execution_count": null,
   "id": "1f834ff6",
   "metadata": {},
   "outputs": [],
   "source": [
    "Qprog = Program()\n",
    "qbits = Qprog.qalloc(PR_Gate.arity)\n",
    "Qprog.apply(PR_Gate, qbits)"
   ]
  },
  {
   "cell_type": "code",
   "execution_count": null,
   "id": "b432a6c2",
   "metadata": {},
   "outputs": [],
   "source": [
    "init_circ = Qprog.to_circ()\n",
    "print('Initial Circuit')\n",
    "%qatdisplay init_circ\n",
    "\n",
    "print('Groover Operator')\n",
    "%qatdisplay Q_Gate"
   ]
  },
  {
   "cell_type": "code",
   "execution_count": null,
   "id": "95543548",
   "metadata": {},
   "outputs": [],
   "source": [
    "#Load Class\n",
    "from iterative_quantum_pe import IterativeQuantumPE"
   ]
  },
  {
   "cell_type": "code",
   "execution_count": null,
   "id": "d1cf818e",
   "metadata": {},
   "outputs": [],
   "source": [
    "n_cbits = 6\n",
    "#We create a python dictionary for configuration of class\n",
    "iqpe_dict = {\n",
    "    'qpu' : lineal_qpu,\n",
    "    'cbits_number' : n_cbits,\n",
    "    'easy': True,\n",
    "    #'easy': False    \n",
    "}"
   ]
  },
  {
   "cell_type": "code",
   "execution_count": null,
   "id": "3fc8759d",
   "metadata": {},
   "outputs": [],
   "source": [
    "#Instanciate the class\n",
    "IQPE = IterativeQuantumPE(Qprog, Q_Gate, **iqpe_dict)"
   ]
  },
  {
   "cell_type": "code",
   "execution_count": null,
   "id": "fff5c6f6",
   "metadata": {},
   "outputs": [],
   "source": [
    "#Initialize the quantum program\n",
    "IQPE.init_iqpe()"
   ]
  },
  {
   "cell_type": "code",
   "execution_count": null,
   "id": "20def8ff",
   "metadata": {},
   "outputs": [],
   "source": [
    "#Now we have the initial quantum program stored in the property q_prog\n",
    "circuit = IQPE.q_prog.to_circ(submatrices_only=True)\n",
    "%qatdisplay circuit"
   ]
  },
  {
   "cell_type": "code",
   "execution_count": null,
   "id": "594c7cf5",
   "metadata": {},
   "outputs": [],
   "source": [
    "#Execute IQPE algorithm\n",
    "IQPE.apply_iqpe()"
   ]
  },
  {
   "cell_type": "code",
   "execution_count": null,
   "id": "81174f51",
   "metadata": {},
   "outputs": [],
   "source": [
    "#Class have a method to create a quantum circuit from quantum program\n",
    "IQPE.get_circuit()\n",
    "circuit = IQPE.circuit\n",
    "%qatdisplay circuit"
   ]
  },
  {
   "cell_type": "code",
   "execution_count": null,
   "id": "fb50c1e8",
   "metadata": {},
   "outputs": [],
   "source": [
    "#Class have a method to generate a job from the circuit created in the previous cell\n",
    "IQPE.get_job()\n",
    "print(IQPE.job)"
   ]
  },
  {
   "cell_type": "code",
   "execution_count": null,
   "id": "fdf76a42",
   "metadata": {},
   "outputs": [],
   "source": [
    "#There is a method for executing a job\n",
    "IQPE.get_job_result()\n",
    "#Property job_result stores the results of the execution of the job\n",
    "print(IQPE.job_result)"
   ]
  },
  {
   "cell_type": "code",
   "execution_count": null,
   "id": "b0bf9e33",
   "metadata": {
    "scrolled": true
   },
   "outputs": [],
   "source": [
    "#Finally we want to get the results in a straigtoforward way: we use method get_classicalbits\n",
    "IQPE.get_classicalbits()\n",
    "#In property results we store the results as a pandas DataFrame\n",
    "IQPE.results"
   ]
  },
  {
   "cell_type": "code",
   "execution_count": null,
   "id": "a4a05477",
   "metadata": {},
   "outputs": [],
   "source": [
    "#In order to get useful information we can use getstaff funciton.\n",
    "#It claculates the angles and the expected value \n",
    "getstaff(IQPE.results)"
   ]
  },
  {
   "cell_type": "markdown",
   "id": "aeedbf15",
   "metadata": {},
   "source": [
    "## 3. Class IQPE: complete execution"
   ]
  },
  {
   "cell_type": "code",
   "execution_count": null,
   "id": "83b6822a",
   "metadata": {},
   "outputs": [],
   "source": [
    "#Class IQPE have a method to do the complete workflow explained in section 2: iqpe"
   ]
  },
  {
   "cell_type": "code",
   "execution_count": null,
   "id": "49cafd3f",
   "metadata": {},
   "outputs": [],
   "source": [
    "#We create a python dictionary for configuration of class\n",
    "n_cbits = 6\n",
    "#We create a python dictionary for configuration of class\n",
    "iqpe_dict = {\n",
    "    'qpu' : lineal_qpu,\n",
    "    'cbits_number' : n_cbits,\n",
    "    #'easy': True,\n",
    "    'easy': False    \n",
    "}"
   ]
  },
  {
   "cell_type": "code",
   "execution_count": null,
   "id": "146ae9d6",
   "metadata": {},
   "outputs": [],
   "source": [
    "#Create the object\n",
    "IQPE = IterativeQuantumPE(Qprog, Q_Gate, **iqpe_dict)\n",
    "#Execute complete algorithm\n",
    "IQPE.iqpe()"
   ]
  },
  {
   "cell_type": "code",
   "execution_count": null,
   "id": "cb652f67",
   "metadata": {},
   "outputs": [],
   "source": [
    "IQPE.results"
   ]
  },
  {
   "cell_type": "code",
   "execution_count": null,
   "id": "b3970dd6",
   "metadata": {},
   "outputs": [],
   "source": [
    "getstaff(IQPE.results)"
   ]
  },
  {
   "cell_type": "code",
   "execution_count": null,
   "id": "9d3e3aaa",
   "metadata": {},
   "outputs": [],
   "source": [
    "#For comparing with E_p(f) column\n",
    "sum(f_X*p_X)"
   ]
  },
  {
   "cell_type": "code",
   "execution_count": null,
   "id": "473c3eaf",
   "metadata": {},
   "outputs": [],
   "source": [
    "cir = IQPE.circuit\n",
    "%qatdisplay cir"
   ]
  },
  {
   "cell_type": "markdown",
   "id": "574e5447",
   "metadata": {},
   "source": [
    "### Multiple executions"
   ]
  },
  {
   "cell_type": "code",
   "execution_count": null,
   "id": "f9ca278f",
   "metadata": {},
   "outputs": [],
   "source": [
    "#We can do several circuit executions configuring input dictionary properly\n",
    "iqpe_dict = {\n",
    "    'qpu' : lineal_qpu,\n",
    "    'cbits_number' : n_cbits,\n",
    "    'easy': False,\n",
    "    'shots': 100\n",
    "}\n",
    "IQPE = IterativeQuantumPE(Qprog, Q_Gate, **iqpe_dict)\n",
    "IQPE.iqpe()"
   ]
  },
  {
   "cell_type": "code",
   "execution_count": null,
   "id": "1d0a72d7",
   "metadata": {},
   "outputs": [],
   "source": [
    "pdf_Results = getstaff(IQPE.results)"
   ]
  },
  {
   "cell_type": "code",
   "execution_count": null,
   "id": "6cad5cc3",
   "metadata": {},
   "outputs": [],
   "source": [
    "pdf_Results.head()"
   ]
  },
  {
   "cell_type": "code",
   "execution_count": null,
   "id": "a394bf46",
   "metadata": {},
   "outputs": [],
   "source": [
    "plt.hist(pdf_Results['E_p(f)'])"
   ]
  },
  {
   "cell_type": "code",
   "execution_count": null,
   "id": "779ecd46",
   "metadata": {},
   "outputs": [],
   "source": [
    "pdf_Results.sort_values('Theta', inplace=True)\n",
    "plt.plot(pdf_Results['Theta'], pdf_Results['Probability'], 'o-')"
   ]
  },
  {
   "cell_type": "code",
   "execution_count": null,
   "id": "a7ce7213",
   "metadata": {},
   "outputs": [],
   "source": [
    "pdf_Results.sort_values('theta_90', inplace=True)\n",
    "plt.plot(pdf_Results['theta_90'], pdf_Results['Probability'], 'o-')"
   ]
  },
  {
   "cell_type": "code",
   "execution_count": null,
   "id": "827f2b38",
   "metadata": {},
   "outputs": [],
   "source": [
    "plt.hist(pdf_Results['theta_90'])"
   ]
  },
  {
   "cell_type": "code",
   "execution_count": null,
   "id": "513c30ab",
   "metadata": {},
   "outputs": [],
   "source": [
    "plt.hist(pdf_Results['Theta'])"
   ]
  },
  {
   "cell_type": "code",
   "execution_count": null,
   "id": "cd38534a",
   "metadata": {},
   "outputs": [],
   "source": [
    "pdf_Results['E_p(f)'].describe()"
   ]
  },
  {
   "cell_type": "code",
   "execution_count": null,
   "id": "2f8654c9",
   "metadata": {},
   "outputs": [],
   "source": [
    "sum(p_X*f_X)"
   ]
  },
  {
   "cell_type": "code",
   "execution_count": null,
   "id": "63c5a3fc",
   "metadata": {},
   "outputs": [],
   "source": []
  }
 ],
 "metadata": {
  "kernelspec": {
   "display_name": "Python 3 (ipykernel)",
   "language": "python",
   "name": "python3"
  },
  "language_info": {
   "codemirror_mode": {
    "name": "ipython",
    "version": 3
   },
   "file_extension": ".py",
   "mimetype": "text/x-python",
   "name": "python",
   "nbconvert_exporter": "python",
   "pygments_lexer": "ipython3",
   "version": "3.9.9"
  }
 },
 "nbformat": 4,
 "nbformat_minor": 5
}
