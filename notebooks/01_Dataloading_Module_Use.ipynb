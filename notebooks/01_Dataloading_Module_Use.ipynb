{
 "cells": [
  {
   "cell_type": "markdown",
   "id": "4bd30ae2",
   "metadata": {},
   "source": [
    "# DataLoading_Module_Use"
   ]
  },
  {
   "cell_type": "code",
   "execution_count": null,
   "id": "9fb3cd73",
   "metadata": {},
   "outputs": [],
   "source": [
    "from IPython.core.display import display, HTML\n",
    "display(HTML(\"<style>.container { width:100% !important; }</style>\"))"
   ]
  },
  {
   "cell_type": "code",
   "execution_count": null,
   "id": "8dc666ec",
   "metadata": {},
   "outputs": [],
   "source": [
    "import sys\n",
    "sys.path.append(\"../library\")"
   ]
  },
  {
   "cell_type": "code",
   "execution_count": null,
   "id": "1a9d601b",
   "metadata": {},
   "outputs": [],
   "source": [
    "import numpy as np\n",
    "import pandas as pd\n",
    "import matplotlib.pyplot as plt"
   ]
  },
  {
   "cell_type": "code",
   "execution_count": null,
   "id": "6dd8b024",
   "metadata": {},
   "outputs": [],
   "source": [
    "import qat.lang.AQASM as qlm"
   ]
  },
  {
   "cell_type": "code",
   "execution_count": null,
   "id": "7ae9352d",
   "metadata": {},
   "outputs": [],
   "source": [
    "%load_ext qat.core.magic\n",
    "%matplotlib inline"
   ]
  },
  {
   "cell_type": "code",
   "execution_count": null,
   "id": "d9ddc7e9",
   "metadata": {},
   "outputs": [],
   "source": [
    "global_qlmaas = True\n",
    "try:\n",
    "    from qlmaas.qpus import LinAlg\n",
    "except (ImportError, OSError) as e:\n",
    "    global_qlmaas = False\n",
    "from qat.qpus import PyLinalg"
   ]
  },
  {
   "cell_type": "code",
   "execution_count": null,
   "id": "39e31218",
   "metadata": {},
   "outputs": [],
   "source": [
    "def get_qpu(qlmass=False):\n",
    "    \"\"\"\n",
    "    Function for selecting solver. User can chose between:\n",
    "    * LinAlg: for submitting jobs to a QLM server\n",
    "    * PyLinalg: for simulating jobs using myqlm lineal algebra.\n",
    "\n",
    "    Parameters\n",
    "    ----------\n",
    "\n",
    "    qlmass : bool\n",
    "        If True  try to use QLM as a Service connection to CESGA QLM\n",
    "        If False PyLinalg simulator will be used\n",
    "\n",
    "    Returns\n",
    "    ----------\n",
    "    \n",
    "    lineal_qpu : solver for quantum jobs\n",
    "    \"\"\"\n",
    "    if qlmass:\n",
    "        if global_qlmaas:\n",
    "            print('Using: LinAlg')\n",
    "            linalg_qpu = LinAlg()\n",
    "        else:\n",
    "            raise ImportError(\"\"\"Problem Using QLMaaS.Please create config file or use mylm solver\"\"\")\n",
    "            \n",
    "    else:\n",
    "        print('Using PyLinalg')\n",
    "        linalg_qpu = PyLinalg()\n",
    "    return linalg_qpu"
   ]
  },
  {
   "cell_type": "code",
   "execution_count": null,
   "id": "0f05d03e",
   "metadata": {},
   "outputs": [],
   "source": [
    "#QLMaaS == False -> uses PyLinalg\n",
    "#QLMaaS == True -> try to use LinAlg\n",
    "QLMaaS = True\n",
    "linalg_qpu = get_qpu(QLMaaS)"
   ]
  },
  {
   "cell_type": "markdown",
   "id": "1f89ffc7",
   "metadata": {},
   "source": [
    "# 1. Load Data"
   ]
  },
  {
   "cell_type": "markdown",
   "id": "5a4b84e0",
   "metadata": {},
   "source": [
    "The *dataloading_module* is a direct implementation of the article *Lov Grover and Terry Rudolph 2008 papper*: \n",
    "\n",
    "**'Creating superpositions that correspond to efficiently integrable probability distributions'** \n",
    "\n",
    "http://arXiv.org/abs/quant-ph/0208112v1\n",
    "\n",
    "The idea is load in a quantum state a probability density function $p(x)$ and function $f(x)$ for using **Amplification Amplitude** algorithms for solving following integral: \n",
    "\n",
    "$$\\int_a^bp(x)f(x)dx\\approx\\sum_{x\\in X}p(x)f(x) \\; X=[a,b]$$\n",
    "\n",
    "In order to satisfy this equation $p(x)$ and $f(x)$ should be properly discretized. \n",
    "\n",
    "For doing this 2 different gates were implemented:\n",
    "1. *P_gate*: $\\mathcal{P}$. This gate load the $p(x)$ on $n$ qbits\n",
    "2. *F_gate*: $\\mathcal{F}$. This gate receives $n$ qbits and load integral of $\\int f(x)dx$ on the $n+1$ qbit\n",
    "\n",
    "With this 2 gates the desired integral can be load in the following way:\n",
    "\n",
    "$$|\\Psi\\rangle = \\mathcal{F}(\\mathcal{P} \\otimes \\mathbf{I})|0\\rangle_{n}|0\\rangle = \\sum_{x=0}^{2^{n}-1}\\sqrt{p(x)}|x\\rangle_{n}\\otimes (\\sqrt{f(x)}|1\\rangle +\\sqrt{1-f(x)}|0\\rangle)$$\n",
    "\n",
    "So the probability of measure the state $|1\\rangle$ on the $n+1$ qbit is just:\n",
    "\n",
    "$$\\sum_{x=0}^{2^{n}-1}p(x)f(x)$$\n",
    "\n"
   ]
  },
  {
   "cell_type": "markdown",
   "id": "acaaabd5",
   "metadata": {},
   "source": [
    "## 2. Discretizing Probability"
   ]
  },
  {
   "cell_type": "markdown",
   "id": "6544e655",
   "metadata": {},
   "source": [
    "First thing we need to do is discretizate the probability function $p(x)$. The *dataloading_module* provides **get_histogram** function that allows generation of a discretization of $m$ pieces of an input probability function $p(x)$, between 2 limits. \n",
    "The numbers of bins for discretization should be $m=2^{n}$ where $n$ is the number of qbits for the quantum circuit.\n",
    "The functions returns the center of the $m$ bins and the probability of the centers in numpy array form\n"
   ]
  },
  {
   "cell_type": "code",
   "execution_count": null,
   "id": "9dc247af",
   "metadata": {},
   "outputs": [],
   "source": [
    "from AuxiliarFunctions import get_histogram"
   ]
  },
  {
   "cell_type": "code",
   "execution_count": null,
   "id": "2a843065",
   "metadata": {},
   "outputs": [],
   "source": [
    "def p(x):\n",
    "    return x*x\n",
    "def f(x):\n",
    "    return np.sin(x)"
   ]
  },
  {
   "cell_type": "code",
   "execution_count": null,
   "id": "0bcec8d0",
   "metadata": {},
   "outputs": [],
   "source": [
    "#number of Qbits for the circuit\n",
    "n_qbits = 5\n",
    "#The number of bins \n",
    "m_bins = 2**n_qbits\n",
    "LowerLimit = 0.0\n",
    "UpperLimit = 1.0 \n",
    "\n",
    "X, p_X = get_histogram(p, LowerLimit, UpperLimit, m_bins)\n",
    "f_X = f(X)"
   ]
  },
  {
   "cell_type": "code",
   "execution_count": null,
   "id": "22b1e669",
   "metadata": {},
   "outputs": [],
   "source": [
    "%matplotlib inline\n",
    "plt.plot(X, p_X, 'o')\n",
    "plt.plot(X, f_X, 'o')\n",
    "plt.legend(['p(x)', 'f(x)'])"
   ]
  },
  {
   "cell_type": "markdown",
   "id": "bb4dc323",
   "metadata": {},
   "source": [
    "## 3. Loading Probability"
   ]
  },
  {
   "cell_type": "markdown",
   "id": "f772e9d7",
   "metadata": {},
   "source": [
    "The $\\mathcal{P}$ is implemented by the function **load_p_gate** from the **dataloading_module**. The input should be a numpy array with the Probability distribution to load into the quantum state. The output of the function is a **qlm** *AbstractGate* customized for the input numpy array which load it into the quantum state. \n"
   ]
  },
  {
   "cell_type": "code",
   "execution_count": null,
   "id": "0530b9d7",
   "metadata": {},
   "outputs": [],
   "source": [
    "from dataloading_module import load_p_gate"
   ]
  },
  {
   "cell_type": "code",
   "execution_count": null,
   "id": "2f4621ff",
   "metadata": {},
   "outputs": [],
   "source": [
    "p_gate = load_p_gate(p_X)"
   ]
  },
  {
   "cell_type": "code",
   "execution_count": null,
   "id": "40f1bd2c",
   "metadata": {},
   "outputs": [],
   "source": [
    "%qatdisplay p_gate --depth 1"
   ]
  },
  {
   "cell_type": "markdown",
   "id": "becd7a72",
   "metadata": {},
   "source": [
    "We can use the *get_results* of **data_extracting** for executing the gate in a  circuit. This functions receives a quantum object, creates the asociated circuit and job. Finally execute the job and get results!!"
   ]
  },
  {
   "cell_type": "code",
   "execution_count": null,
   "id": "ccc97c89",
   "metadata": {},
   "outputs": [],
   "source": [
    "from data_extracting import get_results"
   ]
  },
  {
   "cell_type": "code",
   "execution_count": null,
   "id": "2eda6db1",
   "metadata": {},
   "outputs": [],
   "source": [
    "#We need to avoid last qbit\n",
    "pdf, circuit, q_prog, job = get_results(p_gate, linalg_qpu=linalg_qpu, qubits=list(range(p_gate.arity)))"
   ]
  },
  {
   "cell_type": "code",
   "execution_count": null,
   "id": "2e33d037",
   "metadata": {},
   "outputs": [],
   "source": [
    "%qatdisplay circuit"
   ]
  },
  {
   "cell_type": "code",
   "execution_count": null,
   "id": "721bc551",
   "metadata": {},
   "outputs": [],
   "source": [
    "circuit.statistics()"
   ]
  },
  {
   "cell_type": "code",
   "execution_count": null,
   "id": "2054c817",
   "metadata": {},
   "outputs": [],
   "source": [
    "pdf.head()"
   ]
  },
  {
   "cell_type": "markdown",
   "id": "13492425",
   "metadata": {},
   "source": [
    "In order to check if the operation was done properly we can compare the outpus probability of each state and the probabilities wanted to load:"
   ]
  },
  {
   "cell_type": "code",
   "execution_count": null,
   "id": "5df370a5",
   "metadata": {
    "scrolled": true
   },
   "outputs": [],
   "source": [
    "np.isclose(pdf['Probability'], p_X).all()"
   ]
  },
  {
   "cell_type": "markdown",
   "id": "bcc85e6a",
   "metadata": {},
   "source": [
    "## 3. Loading Integral of a function"
   ]
  },
  {
   "cell_type": "markdown",
   "id": "4eaae2fd",
   "metadata": {},
   "source": [
    "The $\\mathcal{F}$ is implemented by an Abstract qlm gate called **load_f_gate**. The input should be a numpy array with the function which integral want to be load into the quantum state. The output of the function is a **qlm** *AbstractGate* customized for the input numpy array which load the integral into the last qbit of the quantum state. \n",
    "\n",
    "The length of this array should be: $m=2^n$ where n is an integer. The created gate is a $n+1$ gate where the last qbit codifies the integral of the function.\n"
   ]
  },
  {
   "cell_type": "code",
   "execution_count": null,
   "id": "eda326d0",
   "metadata": {},
   "outputs": [],
   "source": [
    "from dataloading_module import load_f_gate"
   ]
  },
  {
   "cell_type": "code",
   "execution_count": null,
   "id": "792559cf",
   "metadata": {},
   "outputs": [],
   "source": [
    "f_gate = load_f_gate(f_X)"
   ]
  },
  {
   "cell_type": "code",
   "execution_count": null,
   "id": "1c4c00fd",
   "metadata": {
    "scrolled": true
   },
   "outputs": [],
   "source": [
    "%qatdisplay f_gate --depth 1"
   ]
  },
  {
   "cell_type": "markdown",
   "id": "c291f36e",
   "metadata": {},
   "source": [
    "For using this gate first we need a equal superposition of states"
   ]
  },
  {
   "cell_type": "code",
   "execution_count": null,
   "id": "33478af4",
   "metadata": {},
   "outputs": [],
   "source": [
    "q_rout = qlm.QRoutine()\n",
    "q_bit = q_rout.new_wires(f_gate.arity)\n",
    "#Loading an uniform distribution\n",
    "for i in range(len(q_bit)-1):\n",
    "    q_rout.apply(qlm.H, q_bit[i])\n",
    "q_rout.apply(f_gate, q_bit)"
   ]
  },
  {
   "cell_type": "code",
   "execution_count": null,
   "id": "9da3762a",
   "metadata": {},
   "outputs": [],
   "source": [
    "%qatdisplay q_rout --depth 0"
   ]
  },
  {
   "cell_type": "code",
   "execution_count": null,
   "id": "17b864cf",
   "metadata": {},
   "outputs": [],
   "source": [
    "pdf, circuit, q_prog, job = get_results(q_rout, linalg_qpu=linalg_qpu, qubits=[f_gate.arity-1])"
   ]
  },
  {
   "cell_type": "code",
   "execution_count": null,
   "id": "c60b2f9a",
   "metadata": {},
   "outputs": [],
   "source": [
    "%qatdisplay circuit --depth 1"
   ]
  },
  {
   "cell_type": "code",
   "execution_count": null,
   "id": "a2a17b95",
   "metadata": {},
   "outputs": [],
   "source": [
    "#Integral of f(x)\n",
    "MeasurementIntegral = pdf['Probability'][1]*2**(n_qbits)"
   ]
  },
  {
   "cell_type": "code",
   "execution_count": null,
   "id": "01b8532b",
   "metadata": {},
   "outputs": [],
   "source": [
    "MeasurementIntegral"
   ]
  },
  {
   "cell_type": "code",
   "execution_count": null,
   "id": "104eb176",
   "metadata": {},
   "outputs": [],
   "source": [
    "np.isclose(MeasurementIntegral, sum(f_X))"
   ]
  },
  {
   "cell_type": "code",
   "execution_count": null,
   "id": "1200fb05",
   "metadata": {
    "scrolled": true
   },
   "outputs": [],
   "source": [
    "sum(f_X)"
   ]
  },
  {
   "cell_type": "code",
   "execution_count": null,
   "id": "a0cad673",
   "metadata": {},
   "outputs": [],
   "source": [
    "pdf"
   ]
  },
  {
   "cell_type": "markdown",
   "id": "c0ddcec8",
   "metadata": {},
   "source": [
    "## 4.Load Complete Data"
   ]
  },
  {
   "cell_type": "markdown",
   "id": "d9c48354",
   "metadata": {},
   "source": [
    "If we have a variable $x$ that follows a probability distribution $p(x)$ we want to calculate the expectaction value of a function $f(x)$. So we want to compute:\n",
    "\n",
    "$$E_{x\\sim p}(f) = \\int p(x)f(x)dx$$\n",
    "\n",
    "Or in a discretized way:\n",
    "\n",
    "$$E_{x\\sim p}(f) = \\sum_{x=0}^{2^n-1} p(x)f(x)dx$$\n",
    "\n",
    "In order to do this first we need to load $p(x)$ and $f(x)$ in a quantum state:\n",
    "\n",
    "$$|\\Psi\\rangle = \\mathcal{F}(\\mathcal{P} \\otimes \\mathbf{I})|0\\rangle_{n}|0\\rangle = \\sum_{x=0}^{2^{n}-1}\\sqrt{p(x)}|x\\rangle_{n}\\otimes (\\sqrt{f(x)}|1\\rangle +\\sqrt{1-f(x)}|0\\rangle)$$\n"
   ]
  },
  {
   "cell_type": "code",
   "execution_count": null,
   "id": "ca2440a7",
   "metadata": {},
   "outputs": [],
   "source": [
    "from dataloading_module import load_pf"
   ]
  },
  {
   "cell_type": "code",
   "execution_count": null,
   "id": "4b9b6633",
   "metadata": {},
   "outputs": [],
   "source": [
    "pf_gate = load_pf(p_gate, f_gate)"
   ]
  },
  {
   "cell_type": "code",
   "execution_count": null,
   "id": "4a58526a",
   "metadata": {},
   "outputs": [],
   "source": [
    "%qatdisplay pf_gate --depth 1"
   ]
  },
  {
   "cell_type": "code",
   "execution_count": null,
   "id": "d1c92aaa",
   "metadata": {},
   "outputs": [],
   "source": [
    "circuit.statistics()"
   ]
  },
  {
   "cell_type": "code",
   "execution_count": null,
   "id": "868d4b13",
   "metadata": {},
   "outputs": [],
   "source": [
    "%qatdisplay circuit --depth 1"
   ]
  },
  {
   "cell_type": "markdown",
   "id": "5013b991",
   "metadata": {},
   "source": [
    "The $E_{x\\sim p}(f)$ is codified in the last qbit!"
   ]
  },
  {
   "cell_type": "code",
   "execution_count": null,
   "id": "56a55d46",
   "metadata": {},
   "outputs": [],
   "source": [
    "pdf, circuit, q_prog, job = get_results(pf_gate, linalg_qpu=linalg_qpu, qubits=[pf_gate.arity-1])"
   ]
  },
  {
   "cell_type": "code",
   "execution_count": null,
   "id": "15c74ec2",
   "metadata": {},
   "outputs": [],
   "source": [
    "#Integral of f(x)\n",
    "MeasurementIntegral = pdf['Probability'][1]"
   ]
  },
  {
   "cell_type": "code",
   "execution_count": null,
   "id": "7f97817f",
   "metadata": {},
   "outputs": [],
   "source": [
    "pdf"
   ]
  },
  {
   "cell_type": "code",
   "execution_count": null,
   "id": "56c18dec",
   "metadata": {},
   "outputs": [],
   "source": [
    "np.isclose(MeasurementIntegral, sum(p_X*f_X))"
   ]
  }
 ],
 "metadata": {
  "kernelspec": {
   "display_name": "Python 3 (ipykernel)",
   "language": "python",
   "name": "python3"
  },
  "language_info": {
   "codemirror_mode": {
    "name": "ipython",
    "version": 3
   },
   "file_extension": ".py",
   "mimetype": "text/x-python",
   "name": "python",
   "nbconvert_exporter": "python",
   "pygments_lexer": "ipython3",
   "version": "3.9.9"
  }
 },
 "nbformat": 4,
 "nbformat_minor": 5
}
