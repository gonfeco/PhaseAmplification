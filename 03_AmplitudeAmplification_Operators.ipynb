{
 "cells": [
  {
   "cell_type": "code",
   "execution_count": null,
   "metadata": {},
   "outputs": [],
   "source": [
    "from IPython.core.display import display, HTML\n",
    "display(HTML(\"<style>.container { width:100% !important; }</style>\"))"
   ]
  },
  {
   "cell_type": "code",
   "execution_count": null,
   "metadata": {},
   "outputs": [],
   "source": [
    "import numpy as np\n",
    "import pandas as pd\n",
    "import matplotlib.pyplot as plt\n",
    "import sys, os"
   ]
  },
  {
   "cell_type": "code",
   "execution_count": null,
   "metadata": {},
   "outputs": [],
   "source": [
    "%load_ext qat.core.magic"
   ]
  },
  {
   "cell_type": "code",
   "execution_count": null,
   "metadata": {},
   "outputs": [],
   "source": [
    "#QPU connection\n",
    "QLMASS = True\n",
    "if QLMASS:\n",
    "    try:\n",
    "        from qat.qlmaas import QLMaaSConnection\n",
    "        connection = QLMaaSConnection()\n",
    "        LinAlg = connection.get_qpu(\"qat.qpus:LinAlg\")\n",
    "        lineal_qpu = LinAlg()\n",
    "    except (ImportError, OSError) as e:\n",
    "        print('Problem: usin PyLinalg')\n",
    "        from qat.qpus import PyLinalg\n",
    "        lineal_qpu = PyLinalg()\n",
    "else:\n",
    "    print('User Forces: PyLinalg')\n",
    "    from qat.qpus import PyLinalg\n",
    "    lineal_qpu = PyLinalg()    "
   ]
  },
  {
   "cell_type": "markdown",
   "metadata": {},
   "source": [
    "## 1. Data Discretization"
   ]
  },
  {
   "cell_type": "code",
   "execution_count": null,
   "metadata": {},
   "outputs": [],
   "source": [
    "from AuxiliarFunctions import  get_histogram, postprocess_results, run_job, test_bins\n",
    "def p(x):\n",
    "    return x*x\n",
    "def f(x):\n",
    "    return np.sin(x)"
   ]
  },
  {
   "cell_type": "code",
   "execution_count": null,
   "metadata": {},
   "outputs": [],
   "source": [
    "#number of Qbits for the circuit\n",
    "n_qbits = 8\n",
    "#The number of bins \n",
    "m_bins = 2**n_qbits\n",
    "LowerLimit = 0.0\n",
    "UpperLimit = 1.0 \n",
    "\n",
    "X, p_X = get_histogram(p, LowerLimit, UpperLimit, m_bins)\n",
    "f_X = f(X)"
   ]
  },
  {
   "cell_type": "markdown",
   "metadata": {},
   "source": [
    "## 2. Complete Data Loading"
   ]
  },
  {
   "cell_type": "markdown",
   "metadata": {},
   "source": [
    "First of all we need to loading the complete data into the quantum state:\n",
    "\n",
    "$$|\\Psi\\rangle=\\hat{R_{n+1}}\\left(\\hat{P_{n}}\\otimes I\\right)|0\\rangle_{n}\\otimes|0\\rangle_{1}$$\n",
    "\n",
    "where $|\\Psi\\rangle$ is the notation for a n+1 qbit quantum state\n",
    "\n",
    "From module **QuantumMultiplexors_Module_examples** fucntion **LoadingData** can be used. This function receives numpy arrays with probability and function and outputs the quantum program for loading complete data and the mandatory $\\mathcal{P}$ y $\\mathcal{R}$ gates to perform the loading."
   ]
  },
  {
   "cell_type": "code",
   "execution_count": null,
   "metadata": {},
   "outputs": [],
   "source": [
    "from QuantumMultiplexors_Module_examples import expectation_loading_data"
   ]
  },
  {
   "cell_type": "code",
   "execution_count": null,
   "metadata": {},
   "outputs": [],
   "source": [
    "qLprog, P_Gate, R_gate = expectation_loading_data(p_X, f_X)"
   ]
  },
  {
   "cell_type": "code",
   "execution_count": null,
   "metadata": {
    "scrolled": true
   },
   "outputs": [],
   "source": [
    "%qatdisplay P_Gate\n",
    "%qatdisplay R_gate\n",
    "\n",
    "circuit = qLprog.to_circ(submatrices_only=True)\n",
    "%qatdisplay circuit"
   ]
  },
  {
   "cell_type": "code",
   "execution_count": null,
   "metadata": {},
   "outputs": [],
   "source": [
    "job = circuit.to_job(qubits=[n_qbits])\n",
    "result = run_job(lineal_qpu.submit(job))\n",
    "InitialState = postprocess_results(result)\n",
    "#Check\n",
    "print(np.isclose(InitialState['Probability'][1], sum(p_X*f_X)))"
   ]
  },
  {
   "cell_type": "markdown",
   "metadata": {},
   "source": [
    "# 3. Amplitude Amplification"
   ]
  },
  {
   "cell_type": "markdown",
   "metadata": {},
   "source": [
    "The quantum state resulting from the loading proccess $|\\Psi\\rangle$ can be expressed as a linear combination of two orthogonal states $|\\Psi_{1}\\rangle$ y $|\\Psi_{0}\\rangle$ (each one is formed by n qbits):\n",
    "\n",
    "$$|\\Psi\\rangle=\\sqrt{a}|\\Psi_{1}\\rangle+\\sqrt{1-a}|\\Psi_{0}\\rangle$$\n",
    "\n",
    "Where $|\\Psi_{0}\\rangle$ and $|\\Psi_{1}\\rangle$ are the following orthonormal states:\n",
    "\n",
    "$$|\\Psi_{0}\\rangle = \\sum_{x=0}^{2^{n}-1}|x\\rangle^{n}\\otimes\\frac{1}{\\sqrt{1-a}}\\sqrt{p(x)(1-f(x))}|0\\rangle$$\n",
    "$$|\\Psi_{1}\\rangle = \\sum_{x=0}^{2^{n}-1}|x\\rangle^{n}\\otimes\\frac{1}{\\sqrt{a}}\\sqrt{p(x)f(x)}|1\\rangle$$\n",
    "\n",
    "\n",
    "Where $|x\\rangle^{n}$ is a notation for a quantum state of n qbits.\n",
    "\n",
    "\n",
    "The idea behind Quantum Phase Amplification is increase the probability of the $|\\Psi_{1}\\rangle$  using a strategy based on the Groover Algorithm. \n",
    "\n",
    "An Operator $\\hat{Q}$ should be applied an optimal number of times $k$ in order to maximize probability of measure $|\\Psi_{1}\\rangle$. This operator is: \n",
    "\n",
    "$$\\hat{Q}=\\hat{U}_{|\\Psi\\rangle} \\hat{U}_{|\\Psi_{0}\\rangle}$$\n",
    "\n",
    "Where $\\hat{U}_{|\\Psi\\rangle}$ y $\\hat{U}_{|\\Psi_{0}\\rangle}$ are:\n",
    "\n",
    "$$\\hat{U}_{|\\Psi_{0}\\rangle } = \\hat{I} - 2|\\Psi_{0}\\rangle \\langle \\Psi_{0}|$$\n",
    "$$\\hat{U}_{|\\Psi\\rangle } = \\hat{I} - 2|\\Psi\\rangle\\langle \\Psi|$$\n",
    "\n",
    "Module **PhaseAmplification_Module** have all the functions in order to create properly gates for this operators"
   ]
  },
  {
   "cell_type": "markdown",
   "metadata": {},
   "source": [
    "### 3.1 Operador $\\hat{U}_{|\\Psi_{0}\\rangle}$"
   ]
  },
  {
   "cell_type": "markdown",
   "metadata": {},
   "source": [
    "First mandatory operator is:\n",
    "\n",
    "$$\\hat{U}_{|\\Psi_{0}\\rangle } = \\hat{I} - 2|\\Psi_{0}\\rangle \\langle \\Psi_{0}|$$\n",
    "\n",
    "Equivalent circuit for the operator is:\n",
    "\n",
    "$$\\hat{U}_{|\\Psi_{0}\\rangle }=(\\hat{I_{n}}\\otimes X)(\\hat{I_{n}}\\otimes Z)(\\hat{I_{n}}\\otimes X)$$\n",
    "\n",
    "Apply this operator on state $|\\Psi\\rangle$:\n",
    "\n",
    "$$\\hat{U}_{|\\Psi_{0}\\rangle} |\\Psi\\rangle = \\sqrt{a}|\\Psi_{1}\\rangle-\\sqrt{1-a}|\\Psi_{0}\\rangle$$\n",
    "\n",
    "So operator $\\hat{U}_{|\\Psi_{0}\\rangle }$ do a reflection operation around the axis defined by the state $|\\Psi_{1}\\rangle$\n",
    "\n",
    "\n",
    "Abstract Gate **UPhi0_Gate** from **PhaseAmplification_Module** allow us do the operation:"
   ]
  },
  {
   "cell_type": "code",
   "execution_count": null,
   "metadata": {
    "scrolled": true
   },
   "outputs": [],
   "source": [
    "qLprog, P_Gate, R_gate = expectation_loading_data(p_X, f_X)\n",
    "#Initial State\n",
    "circuit = qLprog.to_circ(submatrices_only=True)\n",
    "job = circuit.to_job()\n",
    "result = run_job(lineal_qpu.submit(job))\n",
    "InitialState = postprocess_results(result)\n",
    "#Applied Gate\n",
    "from PhaseAmplification_Module import uphi0_gate\n",
    "UPhi0_Gate = uphi0_gate(qLprog.qbit_count)\n",
    "qLprog.apply(UPhi0_Gate, qLprog.registers)\n",
    "\n",
    "%qatdisplay UPhi0_Gate --depth 1\n",
    "circuit = qLprog.to_circ(submatrices_only=True)\n",
    "%qatdisplay circuit\n",
    "\n",
    "job = circuit.to_job()\n",
    "result = run_job(lineal_qpu.submit(job))\n",
    "UPhi0_State = postprocess_results(result)"
   ]
  },
  {
   "cell_type": "markdown",
   "metadata": {},
   "source": [
    "For testing the operator we need to check that: \n",
    "* Sates with final qbit $|0\\rangle$ ($|\\Psi_{0}\\rangle$) change the sign with respect to the initial state $|\\Psi\\rangle$ \n",
    "* States with final qbit in $|1\\rangle$ ($|\\Psi_{1}\\rangle$) are the same that in the initial state $|\\Psi\\rangle$"
   ]
  },
  {
   "cell_type": "code",
   "execution_count": null,
   "metadata": {
    "scrolled": false
   },
   "outputs": [],
   "source": [
    "#Testing Final qbit |0> should be of different sign\n",
    "LastQbit0 = np.isclose(\n",
    "    InitialState.loc[[i for i in range(0, len(InitialState), 2)]]['Amplitude'], \n",
    "    -UPhi0_State.loc[[i for i in range(0, len(InitialState), 2)]]['Amplitude']\n",
    ").all()\n",
    "#Testing Final qbit |1> should be of same sign\n",
    "LastQbit1 = np.isclose(\n",
    "    InitialState.loc[[i for i in range(1, len(InitialState), 2)]]['Amplitude'], \n",
    "    UPhi0_State.loc[[i for i in range(1, len(InitialState), 2)]]['Amplitude']\n",
    ").all()\n",
    "\n",
    "print(LastQbit0 and LastQbit1)"
   ]
  },
  {
   "cell_type": "markdown",
   "metadata": {},
   "source": [
    "### 3.2 Operador $\\hat{U}_{|\\Psi\\rangle}$"
   ]
  },
  {
   "cell_type": "markdown",
   "metadata": {},
   "source": [
    "Operator $\\hat{U}_{|\\Psi\\rangle}$ is based in Groover's difusor:\n",
    "\n",
    "$$\\hat{U}_{|\\Psi\\rangle } = \\hat{I} - 2|\\Psi\\rangle\\langle \\Psi|$$\n",
    "\n",
    "Additionally we know that:\n",
    "\n",
    "$$|\\Psi\\rangle=\\hat{R_{n+1}}\\left(\\hat{P_{n}}\\otimes I\\right)|0\\rangle^{\\otimes n}\\otimes|0\\rangle$$\n",
    "\n",
    "Then the operator can be decomposed in the following way:\n",
    "\n",
    "$$\\hat{U}_{|\\Psi\\rangle } =\\hat{R_{n+1}}\\left(\\hat{P_{n}}\\otimes I\\right)\\hat{D}_{0} \\left(\\hat{P_{n}}\\otimes I\\right)^{\\dagger} \\hat{R_{n+1}}^{\\dagger}$$\n",
    "\n",
    "Where $\\hat{D}_{0}$ is a reflection around the perpendicular state to $|0^{n+1}\\rangle$\n",
    "\n",
    "$$\\hat{D}_{0} = \\hat{I}-2|0^{n+1}\\rangle\\langle0^{n+1}|$$\n",
    "\n",
    "In this case $|0^{n+1}\\rangle$ is the zero state for n+1 qbits"
   ]
  },
  {
   "cell_type": "markdown",
   "metadata": {},
   "source": [
    "#### 3.2.1 Implementación  $\\hat{D}_{0}$"
   ]
  },
  {
   "cell_type": "markdown",
   "metadata": {},
   "source": [
    "The equivalent circuit for $\\hat{D}_{0}$ is:\n",
    "\n",
    "$$\\hat{D}_{0} = \\hat{I}-2|0^{n+1}\\rangle\\langle0^{n+1}|= \\hat{X}^{\\otimes n+1} c^{n}Z \\hat{X}^{\\otimes n+1}$$\n",
    "\n",
    "The *AbstractGate* **D0_Gate** from **PhaseAmplification_Module** allow us create the operator:"
   ]
  },
  {
   "cell_type": "code",
   "execution_count": null,
   "metadata": {},
   "outputs": [],
   "source": [
    "qLprog, P_Gate, R_gate = expectation_loading_data(p_X, f_X)\n",
    "#Initial State\n",
    "circuit = qLprog.to_circ(submatrices_only=True)\n",
    "job = circuit.to_job()\n",
    "result = run_job(lineal_qpu.submit(job))\n",
    "InitialState = postprocess_results(result)\n",
    "#Applied Gate\n",
    "from PhaseAmplification_Module import d0_gate\n",
    "D0 = d0_gate(qLprog.qbit_count)\n",
    "qLprog.apply(D0, qLprog.registers)\n",
    "\n",
    "%qatdisplay D0 --depth 1\n",
    "circuit = qLprog.to_circ(submatrices_only=True)\n",
    "%qatdisplay circuit\n",
    "\n",
    "job = circuit.to_job()\n",
    "result = run_job(lineal_qpu.submit(job))\n",
    "D0_State = postprocess_results(result)"
   ]
  },
  {
   "cell_type": "markdown",
   "metadata": {},
   "source": [
    "Operator $\\hat{D}_{0}$ over state  $|\\Psi\\rangle$:\n",
    "\n",
    "$$\\hat{D}_{0}|\\Psi\\rangle = \\hat{I}|\\Psi\\rangle-2|0^{n+1}\\rangle\\langle0^{n+1}|\\Psi\\rangle^{n+1}$$\n",
    "\n",
    "\n",
    "It can be demostrated that the only difference between $\\hat{D}_{0}|\\Psi\\rangle$ and $|\\Psi\\rangle$ is that the component $|0^{n+1}\\rangle$ the sign changes!!"
   ]
  },
  {
   "cell_type": "code",
   "execution_count": null,
   "metadata": {
    "scrolled": false
   },
   "outputs": [],
   "source": [
    "#Testing\n",
    "C01 = np.isclose(InitialState['Amplitude'].loc[0], -D0_State['Amplitude'].loc[0])\n",
    "C02 = np.isclose(InitialState['Amplitude'].loc[1:], D0_State['Amplitude'].loc[1:]).all()\n",
    "print(C01 and C02)"
   ]
  },
  {
   "cell_type": "markdown",
   "metadata": {},
   "source": [
    "#### 3.2.2 Implementation  $\\hat{U}_{|\\Psi}\\rangle$"
   ]
  },
  {
   "cell_type": "markdown",
   "metadata": {},
   "source": [
    "Finally the function **Load_UPhi_Gate** from **PhaseAmplification_Module** creates a customized AbstractGate that implements $\\hat{U}_{|\\Psi\\rangle }$. This functions needs the initial $\\mathcal{P}$ y $\\mathcal{R}$ gates used for loading the data.\n",
    "\n",
    "This operator is reflection around the ortoghonal state to $|\\Psi\\rangle$"
   ]
  },
  {
   "cell_type": "code",
   "execution_count": null,
   "metadata": {},
   "outputs": [],
   "source": [
    "qLprog, P_Gate, R_gate = expectation_loading_data(p_X, f_X)\n",
    "#Initial State\n",
    "circuit = qLprog.to_circ(submatrices_only=True)\n",
    "job = circuit.to_job()\n",
    "result = run_job(lineal_qpu.submit(job))\n",
    "InitialState = postprocess_results(result)\n",
    "#Applied Gate\n",
    "from PhaseAmplification_Module import load_uphi_gate\n",
    "UPhi = load_uphi_gate(P_Gate, R_gate)\n",
    "qLprog.apply(UPhi, qLprog.registers)\n",
    "\n",
    "%qatdisplay UPhi --depth 1\n",
    "circuit = qLprog.to_circ(submatrices_only=True)\n",
    "%qatdisplay circuit\n",
    "\n",
    "job = circuit.to_job()\n",
    "result = run_job(lineal_qpu.submit(job))\n",
    "UPhi_State = postprocess_results(result)"
   ]
  },
  {
   "cell_type": "markdown",
   "metadata": {},
   "source": [
    "In this case \n",
    "$$\\hat{U}_{|\\Psi\\rangle } |\\Psi\\rangle = \\hat{I}|\\Psi\\rangle - 2|\\Psi\\rangle \\langle \\Psi|\\Psi\\rangle$$\n",
    "\n",
    "$$\\hat{U}_{|\\Psi\\rangle } |\\Psi\\rangle = |\\Psi\\rangle - 2|\\Psi\\rangle = -|\\Psi\\rangle$$\n",
    "\n"
   ]
  },
  {
   "cell_type": "code",
   "execution_count": null,
   "metadata": {},
   "outputs": [],
   "source": [
    "#Testing\n",
    "np.isclose(UPhi_State['Amplitude'], - InitialState['Amplitude']).all()"
   ]
  },
  {
   "cell_type": "markdown",
   "metadata": {},
   "source": [
    "### 3.3 Operador $\\hat{Q}$"
   ]
  },
  {
   "cell_type": "markdown",
   "metadata": {},
   "source": [
    "Finally we can implement the desired Operator $\\hat{Q}$ \n",
    "\n",
    "$$\\hat{Q}=\\hat{U}_{|\\Psi\\rangle} \\hat{U}_{|\\Psi_{0}\\rangle}$$\n",
    "\n",
    "This operator is created using the function **Load_Q_Gate** from **PhaseAmplification_Module**\n",
    "\n"
   ]
  },
  {
   "cell_type": "code",
   "execution_count": null,
   "metadata": {},
   "outputs": [],
   "source": [
    "#Complete Circuit\n",
    "Qprog, P_Gate, R_gate = expectation_loading_data(p_X, f_X)\n",
    "from PhaseAmplification_Module import load_q_gate\n",
    "Q_Gate = load_q_gate(P_Gate, R_gate)\n",
    "qbits = Qprog.registers\n",
    "Qprog.apply(Q_Gate, qbits)\n",
    "circuit = Qprog.to_circ(submatrices_only=True)\n",
    "job = circuit.to_job(qubits=[n_qbits])\n",
    "result = run_job(lineal_qpu.submit(job))\n",
    "QPhi_State = postprocess_results(result)"
   ]
  },
  {
   "cell_type": "code",
   "execution_count": null,
   "metadata": {},
   "outputs": [],
   "source": [
    "%qatdisplay circuit"
   ]
  },
  {
   "cell_type": "markdown",
   "metadata": {},
   "source": [
    "To test if operator was implemented properly we know that the quantum state resulting from the complete loading proccess $|\\Psi\\rangle_{n+1}$ can be expressed as a linear combination of twor othogonal states $|\\Psi_{1}\\rangle$ and $|\\Psi_{0}\\rangle$:\n",
    "\n",
    "$$|\\Psi\\rangle=\\sqrt{a}|\\Psi_{1}\\rangle+\\sqrt{1-a}|\\Psi_{0}\\rangle$$\n",
    "\n",
    "where:\n",
    "\n",
    "$$a = \\sum_{x=0}^{2^{n}-1} p(x)f(x)$$\n",
    "\n",
    "Making the following identities:\n",
    "\n",
    "* $\\sqrt{a} = \\sin{\\theta}$\n",
    "* $\\sqrt{1-a} = \\cos{\\theta}$\n",
    "* $ a = \\sum_{n=0}^{2^{n}-1} p(x)f(x) = \\sin^{2}{\\theta}$\n",
    "\n",
    "Then:\n",
    "\n",
    "$$|\\Psi\\rangle=\\sin{\\theta}|\\Psi_{1}\\rangle+\\cos{\\theta}|\\Psi_{0}\\rangle$$\n",
    "\n",
    "So using the initial state we are going to calculate $\\theta$."
   ]
  },
  {
   "cell_type": "code",
   "execution_count": null,
   "metadata": {},
   "outputs": [],
   "source": [
    "#initial Loaded State\n",
    "Qprog, P_Gate, R_gate = expectation_loading_data(p_X, f_X)\n",
    "#Get initial State\n",
    "circuit = Qprog.to_circ(submatrices_only=True)\n",
    "job = circuit.to_job(qubits=[n_qbits])\n",
    "result = run_job(lineal_qpu.submit(job))\n",
    "Phi = postprocess_results(result)\n",
    "\n",
    "#Get Q*Phi state\n",
    "from PhaseAmplification_Module import load_q_gate\n",
    "Q_Gate = load_q_gate(P_Gate, R_gate)\n",
    "\n",
    "qbits = Qprog.registers\n",
    "Qprog.apply(Q_Gate, qbits)\n",
    "circuit = Qprog.to_circ(submatrices_only=True)\n",
    "job = circuit.to_job(qubits=[n_qbits])\n",
    "result = run_job(lineal_qpu.submit(job))\n",
    "Q_Phi = postprocess_results(result)"
   ]
  },
  {
   "cell_type": "code",
   "execution_count": null,
   "metadata": {},
   "outputs": [],
   "source": [
    "Phi"
   ]
  },
  {
   "cell_type": "code",
   "execution_count": null,
   "metadata": {},
   "outputs": [],
   "source": [
    "Q_Phi"
   ]
  },
  {
   "cell_type": "markdown",
   "metadata": {},
   "source": [
    "\n",
    "The operator $\\hat{Q}$ can be viewed as a Y-Rotation of $\\theta$ on $|\\Psi\\rangle$: \n",
    "\n",
    "$$\\hat{Q}|\\Psi\\rangle= \\hat{R}_{y}(2*\\theta)|\\Psi\\rangle=\\hat{R}_{y}(2*\\theta)(\\sin{\\theta}|\\Psi_{1}\\rangle+\\cos{\\theta}|\\Psi_{0}\\rangle) = \\sin{3\\theta}\\Psi_{1}\\rangle+\\cos{3\\theta}|\\Psi_{0}\\rangle$$\n",
    "\n",
    "So starting from $|\\Psi\\rangle$ we can obtain the angle $\\theta$"
   ]
  },
  {
   "cell_type": "code",
   "execution_count": null,
   "metadata": {},
   "outputs": [],
   "source": [
    "#Calculating Theta using the quantum state from loading data: LResults\n",
    "def GetAngle(Array):\n",
    "    Modulo = np.linalg.norm(Array)\n",
    "    cosTheta = Array[0]/Modulo\n",
    "    Theta0 = np.arccos(cosTheta)\n",
    "    sinTheta = Array[1]/Modulo\n",
    "    Theta1 = np.arcsin(sinTheta)\n",
    "    #print(Modulo, cosTheta, sinTheta, Theta0, Theta1)\n",
    "    return Theta0\n",
    "\n",
    "#First get the Amplitudes for Phi state\n",
    "a0 = np.sqrt(Phi.iloc[0]['Probability'])\n",
    "a1 = np.sqrt(Phi.iloc[1]['Probability'])\n",
    "#Quantum state |Phi>_{n+1}\n",
    "Psi_ = np.array([a0, a1])\n",
    "theta = GetAngle(Psi_)\n",
    "print('theta: {}'.format(theta))\n",
    "print('Psi_: {}'.format(Psi_))"
   ]
  },
  {
   "cell_type": "markdown",
   "metadata": {},
   "source": [
    "Now we have $\\theta$ and the $|\\Psi\\rangle$"
   ]
  },
  {
   "cell_type": "code",
   "execution_count": null,
   "metadata": {},
   "outputs": [],
   "source": [
    "#In order to test that this theta is ok we can compute it from p(x) and f(x)\n",
    "a = sum(p_X*f_X)\n",
    "sqrt_a = np.sqrt(a)\n",
    "theta2 = np.arcsin(sqrt_a)\n",
    "print('theta2: {}'.format(theta2))\n",
    "\n",
    "print('Is theta equals to theta2: {}'.format(np.isclose(theta, theta2)))"
   ]
  },
  {
   "cell_type": "markdown",
   "metadata": {},
   "source": [
    "Now we apply Rotation of angle $\\theta$ to state $|\\Psi\\rangle$ (Psi_):"
   ]
  },
  {
   "cell_type": "code",
   "execution_count": null,
   "metadata": {},
   "outputs": [],
   "source": [
    "#Create a Rotation of 2*theta\n",
    "c, s = np.cos(2*theta), np.sin(2.*theta)\n",
    "R = np.array(((c, -s), (s, c)))\n",
    "#Apply Ry(2*theta) to quantum state |Phddi>_{n+1}\n",
    "RotationResults = np.dot(R, Psi_)"
   ]
  },
  {
   "cell_type": "markdown",
   "metadata": {},
   "source": [
    "So in this case the Rotated vector should be the state correspondient to the operation: $\\hat{Q}|\\Psi\\rangle$. In our case we have the probabilities for $\\hat{Q}|\\Psi\\rangle$ so we can square the Rotated Vector and compared with the probabilities.\n",
    "\n",
    "This is done in the following cells:\n"
   ]
  },
  {
   "cell_type": "code",
   "execution_count": null,
   "metadata": {},
   "outputs": [],
   "source": [
    "print('Square Of Rotated Vector: {}'.format(RotationResults**2))\n",
    "print('Probabilities for QPhi_State: {} '.format(list(QPhi_State['Probability'])))\n",
    "print('Square of the RotateState equal to Probabilities of Q|Phi> state : {}'.format(\n",
    "    np.isclose(RotationResults**2, QPhi_State['Probability']).all())\n",
    "     )"
   ]
  },
  {
   "cell_type": "markdown",
   "metadata": {},
   "source": [
    "As can be seen the application of a Rotation of $2*\\theta$ on $|\\Psi\\rangle$ give us the same proability configuration that apply a $\\hat{Q}|\\Psi\\rangle$. "
   ]
  },
  {
   "cell_type": "code",
   "execution_count": null,
   "metadata": {},
   "outputs": [],
   "source": []
  }
 ],
 "metadata": {
  "kernelspec": {
   "display_name": "Python 3 (ipykernel)",
   "language": "python",
   "name": "python3"
  },
  "language_info": {
   "codemirror_mode": {
    "name": "ipython",
    "version": 3
   },
   "file_extension": ".py",
   "mimetype": "text/x-python",
   "name": "python",
   "nbconvert_exporter": "python",
   "pygments_lexer": "ipython3",
   "version": "3.9.9"
  }
 },
 "nbformat": 4,
 "nbformat_minor": 2
}
