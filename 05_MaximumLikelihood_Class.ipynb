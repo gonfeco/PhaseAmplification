{
 "cells": [
  {
   "cell_type": "markdown",
   "id": "7a9496d2",
   "metadata": {},
   "source": [
    "# QAA: Maximum Likelihooh algorithm for QPE"
   ]
  },
  {
   "cell_type": "markdown",
   "id": "7d6cb636",
   "metadata": {},
   "source": [
    "As explained in *04_AmplitudeAmplification_Problems.ipynb* for calculating $E_{x\\sim p}(f)$ (expected value of a function $f(x)$ over a domain that follows a distribution probability $p(x)$) using a **Quantum Amplification Amplitude** procedure based on **Groover's algorithm** the estimation of the phase of the **Groover** operator is needed.\n",
    "\n",
    "For this **Quantum Phase Estimation** (**QPE**) the inverse of the **Quantum Fourier Transform** (**QFT**) is needed.\n",
    "\n",
    "Quantum circuit implementation of **QFT** are very complex and very long and deep so its use in actual quantum computers is noisy and not very useful. \n",
    "\n",
    "One aproximation in order to have a **QPE** wihtout **QFT** is using the Maximum Likelihood algorithm. In this Notebook this algorithm is reviewed. \n",
    "\n",
    "Additionally we will show how to use the implementation of this algorithm done in the maximum_likelihood_qpe.py script\n"
   ]
  },
  {
   "cell_type": "code",
   "execution_count": null,
   "id": "075f9eeb",
   "metadata": {},
   "outputs": [],
   "source": [
    "from IPython.core.display import display, HTML\n",
    "display(HTML(\"<style>.container { width:100% !important; }</style>\"))"
   ]
  },
  {
   "cell_type": "code",
   "execution_count": null,
   "id": "440de514",
   "metadata": {},
   "outputs": [],
   "source": [
    "import numpy as np\n",
    "import pandas as pd\n",
    "import matplotlib.pyplot as plt\n",
    "import sys, os\n",
    "%matplotlib inline\n",
    "%load_ext qat.core.magic\n",
    "#QPU connection\n",
    "QLMASS = True\n",
    "if QLMASS:\n",
    "    try:\n",
    "        from qat.qlmaas import QLMaaSConnection\n",
    "        connection = QLMaaSConnection()\n",
    "        LinAlg = connection.get_qpu(\"qat.qpus:LinAlg\")\n",
    "        lineal_qpu = LinAlg()\n",
    "    except (ImportError, OSError) as e:\n",
    "        print('Problem: usin PyLinalg')\n",
    "        from qat.qpus import PyLinalg\n",
    "        lineal_qpu = PyLinalg()\n",
    "else:\n",
    "    print('User Forces: PyLinalg')\n",
    "    from qat.qpus import PyLinalg\n",
    "    lineal_qpu = PyLinalg()    "
   ]
  },
  {
   "cell_type": "markdown",
   "id": "55146c4c",
   "metadata": {},
   "source": [
    "## 1. Data Loading"
   ]
  },
  {
   "cell_type": "markdown",
   "id": "71279f09",
   "metadata": {},
   "source": [
    "First we need to discretized the probability $p(x)$ and the function $f(x)$ and load the arrays in a quantum state"
   ]
  },
  {
   "cell_type": "code",
   "execution_count": null,
   "id": "12938d72",
   "metadata": {},
   "outputs": [],
   "source": [
    "from QuantumMultiplexors_Module_examples import expectation_loading_data\n",
    "from PhaseAmplification_Module import load_q_gate\n",
    "from AuxiliarFunctions import  get_histogram, postprocess_results, test_bins, run_job"
   ]
  },
  {
   "cell_type": "code",
   "execution_count": null,
   "id": "21178b8f",
   "metadata": {},
   "outputs": [],
   "source": [
    "def p(x):\n",
    "    return x*x\n",
    "def f(x):\n",
    "    return np.sin(x)"
   ]
  },
  {
   "cell_type": "code",
   "execution_count": null,
   "id": "6318b9dd",
   "metadata": {},
   "outputs": [],
   "source": [
    "#number of Qbits for the circuit\n",
    "n_qbits = 8\n",
    "#The number of bins \n",
    "m_bins = 2**n_qbits\n",
    "LowerLimit = 0.0\n",
    "UpperLimit = 1.0 \n",
    "\n",
    "X, p_X = get_histogram(p, LowerLimit, UpperLimit, m_bins)\n",
    "f_X = f(X)"
   ]
  },
  {
   "cell_type": "markdown",
   "id": "ce479e34",
   "metadata": {},
   "source": [
    "Next cell creates the quantum program for loading data and the corresponding **Groover** operator ($\\mathcal{\\hat{Q}}$) based on $\\mathcal{P}$ and $\\mathcal{R}$ gates"
   ]
  },
  {
   "cell_type": "code",
   "execution_count": null,
   "id": "d870bfc8",
   "metadata": {},
   "outputs": [],
   "source": [
    "Qprog, P_Gate, R_gate = expectation_loading_data(p_X, f_X)\n",
    "Q_Gate = load_q_gate(P_Gate, R_gate)"
   ]
  },
  {
   "cell_type": "code",
   "execution_count": null,
   "id": "fa26a803",
   "metadata": {},
   "outputs": [],
   "source": [
    "circuit = Qprog.to_circ()\n",
    "%qatdisplay circuit\n",
    "\n",
    "%qatdisplay Q_Gate --depth 1"
   ]
  },
  {
   "cell_type": "markdown",
   "id": "a08e43a5",
   "metadata": {},
   "source": [
    "## 2. ML-QPE algorithm step by step."
   ]
  },
  {
   "cell_type": "markdown",
   "id": "c977b4c6",
   "metadata": {},
   "source": [
    "The main problem is the following: We have an **Groover** like operator, $\\hat{Q}$ which is equivalent to a rotation around **y-axis** of a $\\theta$ angle. This angle is unknow (a priori) and we want to compute it. We know that using **QPE** with **QFT** allows us get the angle but we know too that **QFT** is a complex and a prone error operation for a quantum computer. Usign the **Maximum Likelihood Qauntum Phase Estimation** (**ML-QPE**) we can obtain this $\\theta$ without using a **QFT**.\n",
    "\n",
    "The **MaximumLikelihoodQPE** class allow us implement this algorithm. In this section we are going to describe the class step by step and explain the basics of the **ML-QPE** algorithm"
   ]
  },
  {
   "cell_type": "code",
   "execution_count": null,
   "id": "12bd99ca",
   "metadata": {},
   "outputs": [],
   "source": [
    "#import the class\n",
    "from maximum_likelihood_qpe import MaximumLikelihoodQPE"
   ]
  },
  {
   "cell_type": "code",
   "execution_count": null,
   "id": "b94ac921",
   "metadata": {},
   "outputs": [],
   "source": [
    "#Instantitate the class with the program and the Q operator\n",
    "ml_qpe = MaximumLikelihoodQPE(Qprog, Q_Gate)"
   ]
  },
  {
   "cell_type": "markdown",
   "id": "faa7e358",
   "metadata": {},
   "source": [
    "With the method *apply_gate* we can apply the **Q_Gate** operator $m_k$ times to the initial quantum program **Qprog**, generate the correspondient circuit and job and execute it a desired number of shots (nbshots). \n",
    "\n",
    "The method returns a pandas dataframe with results and the generated circuit and jobs"
   ]
  },
  {
   "cell_type": "code",
   "execution_count": null,
   "id": "917f4fbc",
   "metadata": {},
   "outputs": [],
   "source": [
    "#number of times operator Q should be applied\n",
    "m_k = 4\n",
    "#Number of measurements of the last qbit will be done. 0 calculates the true probability\n",
    "nbshots = 0\n",
    "pdf, circuit, job = ml_qpe.apply_gate(m_k, nbshots)"
   ]
  },
  {
   "cell_type": "code",
   "execution_count": null,
   "id": "0df39068",
   "metadata": {},
   "outputs": [],
   "source": [
    "%qatdisplay circuit"
   ]
  },
  {
   "cell_type": "markdown",
   "id": "af99262e",
   "metadata": {},
   "source": [
    "The resulting pdf provides following info:\n",
    "\n",
    "* **Probability_|0>**: Probability for obtaining state $|0\\rangle$. If nbshots = 0 then is the true probabilitiy computed. Otherwise it is its frequency.\n",
    "* **Probability_|1>**: Probability for obtaining state $|1\\rangle$. If nbshots = 0 then is the true probabilitiy computed otherwise it is its frequency.\n",
    "* **m_k**: number of operator $\\hat{Q}$ was applied.\n",
    "* **h_k**: nummber of times the state $|1\\rangle$ were obtained. If nbshots = 0 then is computed by multiply 100*Probability_|1> (can be changed using the property: **default_nbshots**). Otherwise It is the propper number of times state $|1\\rangle$  was obtained.\n",
    "* **n_k**: number of measurements done. If nbshots = 0 then n_k=100 (can be changed using the property: **default_nbshots**). Otherwise it will be equal to nbshots\n"
   ]
  },
  {
   "cell_type": "code",
   "execution_count": null,
   "id": "89f60021",
   "metadata": {},
   "outputs": [],
   "source": [
    "pdf"
   ]
  },
  {
   "cell_type": "markdown",
   "id": "a2fc72b6",
   "metadata": {},
   "source": [
    "**NOTE**\n",
    "\n",
    "This method creates a deep copy of the *Qprog* object each time is called, so the original *Qprog* do not suffer any modification (neither the property q_prog of the ml_qpe object)"
   ]
  },
  {
   "cell_type": "code",
   "execution_count": null,
   "id": "87b60cac",
   "metadata": {},
   "outputs": [],
   "source": [
    "circuit = Qprog.to_circ()\n",
    "%qatdisplay circuit"
   ]
  },
  {
   "cell_type": "code",
   "execution_count": null,
   "id": "68a82502",
   "metadata": {},
   "outputs": [],
   "source": [
    "circuit = ml_qpe.q_prog.to_circ()\n",
    "%qatdisplay circuit"
   ]
  },
  {
   "cell_type": "markdown",
   "id": "0706d099",
   "metadata": {},
   "source": [
    "With the info of the resulting pandas DataFrame (pdf) we can compute the asociated **Likelihood**. \n",
    "\n",
    "What is the **Likelihood**?\n",
    "\n",
    "In this case we have applied the operator $\\hat{Q}^{m_k}$. As we know this operator is equivalent to a rotation around the y axis of $(2m_k+1)\\theta$. Finally we have done several measurements of the last qbit and we have obtained some statistics (that are stored in pdf). \n",
    "In this case the **Likelihood** is the probability of obtaining the given measurements conditioned to a fixed angle $\\theta$. In the case of our **Groover** operator the **Likelihood** for $m_k$ measurements of the state $|1\\rangle$ when $n_k$ measurements were done will be:\n",
    "\n",
    "$$l_{k}(h_k/\\theta) = (\\sin^2[(2*m_k+1)\\theta])^{h_k}(\\cos^2[(2*m_k+1)\\theta])^{n_k-h_k}$$\n",
    "\n",
    "This is because the probability of the state $|1\\rangle$ is given by $\\sin^2[(2*m_k+1)\\theta]$ the probability of the state $|0\\rangle$ is given by: $\\cos^2[(2*m_k+1)\\theta]$ and each measurment is independent of the other measurements (so a binomial distribution can be used)\n",
    "\n",
    "For computing purpouses, usually, instead of the **Likelihood** the minus logarithm of the **Likelihood** is provided:\n",
    "\n",
    "$$-\\ln{l_{k}(h_k/\\theta)} = -2h_k\\ln(\\sin[(2*m_k+1)\\theta])-2(N_k-h_k)\\ln(\\cos[(2*m_k+1)\\theta])$$\n",
    "\n",
    "For computing the logarithm of the **Likelihood** we use the method **launch_likelihood** that needs the computed pdf and N that is the number of divisions of the domain (basically we are going to compute the log of **Likelihood** of the measurements of the pdf for several angles. N is the number of angles we are going to use). The output of the method is a new pdf with different $\\theta$ angles and the correspondent log **Likelihood** for getting the given measurements of the pdf\n"
   ]
  },
  {
   "cell_type": "code",
   "execution_count": null,
   "id": "3d8bdc7b",
   "metadata": {},
   "outputs": [],
   "source": [
    "likelihood_ = ml_qpe.launch_likelihood(pdf, N=100)"
   ]
  },
  {
   "cell_type": "markdown",
   "id": "62099856",
   "metadata": {},
   "source": [
    "We can plot the **Likelihood** with respect the posible $\\theta$."
   ]
  },
  {
   "cell_type": "code",
   "execution_count": null,
   "id": "546a71a9",
   "metadata": {},
   "outputs": [],
   "source": [
    "plt.plot(likelihood_['theta'], likelihood_['l_k'], '-o')\n",
    "plt.xlabel('theta')\n",
    "plt.ylabel('Likelihood')"
   ]
  },
  {
   "cell_type": "markdown",
   "id": "2ebb5d0d",
   "metadata": {},
   "source": [
    "As can be seen there are some values of $\\theta$ where the **-log of Likelihood** presents a minimums. We expect that the $\\theta$ we are looking for would be one of these values "
   ]
  },
  {
   "cell_type": "markdown",
   "id": "531d777e",
   "metadata": {},
   "source": [
    "## 3. ML-QPE algorithm "
   ]
  },
  {
   "cell_type": "markdown",
   "id": "4303b352",
   "metadata": {},
   "source": [
    "With the before section we can know complete the **ML-QPE** algorithm:\n",
    "\n",
    "1. Select a list  of different $m_k$ applications of the **Groover** like operator (one posible option will be for example:  $k=0,1,2,3...$ $m_k=1,4,8,16...$).\n",
    "2. For each $m_k$ apply the **Groover** like operator and meas the last qbit of the circuit a fixed number of times ($n_k$) and get the number of state $|1\\rangle$ measurements ($h_k$).\n",
    "3. For eack $m_k$ the associated **Likelihood** will be:\n",
    "$$l_{k}(h_k/\\theta) = (\\sin^2[(2*m_k+1)\\theta])^{h_k}(\\cos^2[(2*m_k+1)\\theta])^{n_k-h_k}$$\n",
    "4. So for each $m_k$ we have a $n_k$ and a $h_k$ and a associated **Likelihood** $l_k$. So we can compute the final **Likelihood** as:\n",
    "$$L(\\mathbf{h}/\\theta) = \\prod_{k=0}^{M}{l_{k}(h_k/\\theta)}$$\n",
    "$$\\mathbf{h} = (h_0, h_1,...,h_M)$$\n",
    "5. The idea is find the $\\theta_{a}$ that maximizes the total **Likelihood**\n",
    "$$\\theta_{a} = arg \\ max {L(\\mathbf{h}/\\theta)}$$ \n",
    "\n",
    "Maximizing **Likelihood** is equivalent to minimize the **- the logarithm of the Likelihood**. Usually this is preferred over the former so we are going to:\n",
    "\n",
    "\n",
    "$$\\theta_{a} = arg \\ min \\sum_{k=0}^{M} \\Big( -2h_k\\ln(\\sin[(2*m_k+1)\\theta])-2(N_k-h_k)\\ln(\\cos[(2*m_k+1)\\theta]) \\Big)$$\n",
    "\n",
    "We can implement this loop manually:"
   ]
  },
  {
   "cell_type": "code",
   "execution_count": null,
   "id": "39ad7a45",
   "metadata": {},
   "outputs": [],
   "source": [
    "nbshots = 0\n",
    "#select a list of m_k's\n",
    "list_of_mks = [1, 2, 4, 8, 16, 32]\n",
    "list_of_pdfs = []\n",
    "list_of_circuits = []\n",
    "for m_k in list_of_mks:\n",
    "    pdf, circuit, job = ml_qpe.apply_gate(m_k, nbshots)\n",
    "    list_of_pdfs.append(pdf)\n",
    "    list_of_circuits.append(circuit)\n",
    "pdf_final = pd.concat(list_of_pdfs)\n",
    "pdf_final.reset_index(drop=True, inplace=True)"
   ]
  },
  {
   "cell_type": "markdown",
   "id": "e8516f64",
   "metadata": {},
   "source": [
    "For all the $m_k$ used we generated a pandas DataFrame (pdf_final) with the complete information of the results:"
   ]
  },
  {
   "cell_type": "code",
   "execution_count": null,
   "id": "919b02af",
   "metadata": {},
   "outputs": [],
   "source": [
    "pdf_final"
   ]
  },
  {
   "cell_type": "markdown",
   "id": "c9240a0b",
   "metadata": {},
   "source": [
    "We can use again the **launch_likelihood** method for computing the **-log(likelihood)** for several $\\theta$'s and plot it:"
   ]
  },
  {
   "cell_type": "code",
   "execution_count": null,
   "id": "747fb468",
   "metadata": {},
   "outputs": [],
   "source": [
    "final_likelihood = ml_qpe.launch_likelihood(pdf_final, 100)"
   ]
  },
  {
   "cell_type": "code",
   "execution_count": null,
   "id": "5f9520a1",
   "metadata": {},
   "outputs": [],
   "source": [
    "plt.plot(final_likelihood['theta'], final_likelihood['l_k'], '-o')\n",
    "plt.xlabel('theta')\n",
    "plt.ylabel('-Log(Likelihood)')\n",
    "#plt.ylim(0, 500)"
   ]
  },
  {
   "cell_type": "markdown",
   "id": "feca1264",
   "metadata": {},
   "source": [
    "For calculating the $\\theta_a$ we can use different methods. In general we can create a **likelihood** python function (there is on created in the iterative_quantum_pe.py called *likelihood*) and provide the information of the **pdf_final** to a software optimization library that minimizes it.\n",
    "\n",
    "For example we can use the **scipy.optimize** package for doing such minimization:"
   ]
  },
  {
   "cell_type": "code",
   "execution_count": null,
   "id": "09499e8d",
   "metadata": {},
   "outputs": [],
   "source": [
    "#-log(likelihood) function\n",
    "from maximum_likelihood_qpe import likelihood\n",
    "#optimizers from scipy\n",
    "import scipy.optimize as so "
   ]
  },
  {
   "cell_type": "markdown",
   "id": "ddefe474",
   "metadata": {},
   "source": [
    "There is a *minimize* generic method in **scipy.optimize** that allow us minimize a given function:"
   ]
  },
  {
   "cell_type": "code",
   "execution_count": null,
   "id": "c024b03b",
   "metadata": {},
   "outputs": [],
   "source": [
    "#initial theta value\n",
    "theta_0 = [0.9]\n",
    "sol = so.minimize(\n",
    "    likelihood, \n",
    "    theta_0,\n",
    "    (pdf_final['m_k'], pdf_final['h_k'], pdf_final['n_k']), #arguments needed for likelihood function\n",
    "    method = 'Nelder-Mead',\n",
    "    #method ='Powell',\n",
    "    #1000,\n",
    "    #disp=True,\n",
    "    options = {'maxiter': 1000, 'disp': True},# 'xtol':1e-7}\n",
    ")\n",
    "\n",
    "print(sol)\n",
    "print('Theta optimum :{}'.format(sol.x))"
   ]
  },
  {
   "cell_type": "markdown",
   "id": "e66b1749",
   "metadata": {},
   "source": [
    "In general this kind of methods have a very high dependency of the initial guess and do not work properly (change the theta_0 for see different solutions).\n",
    "\n",
    "In this case a working robust method is the *brute* method that uses brute force for getting the minimum value. In this case the computational cost is not very expensive and can be used without any problem.\n",
    "\n",
    "This method need:\n",
    "\n",
    "* function to minimize,\n",
    "* the range for the variable to optimize (in this case $\\theta \\in [0, \\frac{\\pi}{2}]$)\n",
    "* the $m_k$, $h_k$ and the $n_k$ from the **pdf_final**\n",
    "\n",
    "We can give other parameters that control the optimization procces"
   ]
  },
  {
   "cell_type": "code",
   "execution_count": null,
   "id": "dac0dd88",
   "metadata": {},
   "outputs": [],
   "source": [
    "#Domain for searching\n",
    "theta_domain = [1e-09, 0.5*np.pi-1e-09]\n",
    "solution = so.brute(\n",
    "    likelihood, \n",
    "    [theta_domain],\n",
    "    (pdf_final['m_k'], pdf_final['h_k'], pdf_final['n_k']),\n",
    "    1000,\n",
    "    disp=True,\n",
    "    #options = {'maxiter': 100, 'disp': True}\n",
    ")"
   ]
  },
  {
   "cell_type": "code",
   "execution_count": null,
   "id": "de9d1347",
   "metadata": {},
   "outputs": [],
   "source": [
    "print('ŧheta optimum: {}'.format(solution))"
   ]
  },
  {
   "cell_type": "code",
   "execution_count": null,
   "id": "ac5855b4",
   "metadata": {},
   "outputs": [],
   "source": [
    "print('Optimum theta : {}'.format(solution[0]))\n",
    "print('Theoric theta: {}'.format(np.arcsin(sum(f_X*p_X)**0.5)))"
   ]
  },
  {
   "cell_type": "markdown",
   "id": "964fb91b",
   "metadata": {},
   "source": [
    "As can be seen an aceptable estimation of the $\\theta$ angle is porovided"
   ]
  },
  {
   "cell_type": "markdown",
   "id": "9fe1854b",
   "metadata": {},
   "source": [
    "The **MaximumLikelihoodQPE** class implements this optimizer into the method **launch_optimizer** where the final_pdf should be provided!"
   ]
  },
  {
   "cell_type": "code",
   "execution_count": null,
   "id": "c0e60b8a",
   "metadata": {
    "scrolled": true
   },
   "outputs": [],
   "source": [
    "theta = ml_qpe.launch_optimizer(pdf_final)\n",
    "print('Optimum theta: {}'.format(theta))"
   ]
  },
  {
   "cell_type": "markdown",
   "id": "86f9a70b",
   "metadata": {},
   "source": [
    "## 4. ML-QPE algorithm using MaximumLikelihoodQPE class"
   ]
  },
  {
   "cell_type": "markdown",
   "id": "3450b8af",
   "metadata": {},
   "source": [
    "The **MaximumLikelihoodQPE** class provide a **run** method for doing a complete **ML-QPE** algorithm. In this section we explain how to use it."
   ]
  },
  {
   "cell_type": "markdown",
   "id": "9c9239ae",
   "metadata": {},
   "source": [
    "### 4.1 Instantiate the class\n",
    "\n",
    "First we need to instantiate the class. Following argumens can be provided:\n",
    "\n",
    "* q_prog : QLM quantum program (mandatory)\n",
    "    * Quantum program where the Groover-like operator will be applied\n",
    "* q_gate : QLM gate (mandatory)\n",
    "    * QLM gate that implements the Groover-like operator\n",
    "* kwars : dictionary\n",
    "    dictionary that allows the configuration of the ML-QPE algorithm:\n",
    "    Implemented keys:\n",
    "    * list_of_mks : list\n",
    "        * python list with the different m_ks for executing the algortihm\n",
    "    * qpu : QLM solver\n",
    "        * solver for simulating the resulting circutis\n",
    "    * delta : float \n",
    "        * For avoiding problems when calculating the domain for theta\n",
    "    * default_nbshots : int\n",
    "        * default number of measurements for computing freqcuencies when nbshots for quantum job is 0\n",
    "    * iterations : int\n",
    "        * number of iterations of the optimizer\n",
    "    * display : bool\n",
    "        * for displaying additional information in the optimization step\n",
    "    * nbshots : int\n",
    "        * number of shots for quantum job. If 0 exact probabilities will be computed. \n"
   ]
  },
  {
   "cell_type": "code",
   "execution_count": null,
   "id": "442d3f41",
   "metadata": {},
   "outputs": [],
   "source": [
    "from maximum_likelihood_qpe import MaximumLikelihoodQPE"
   ]
  },
  {
   "cell_type": "code",
   "execution_count": null,
   "id": "6bd0def2",
   "metadata": {},
   "outputs": [],
   "source": [
    "arg_dictionary = {\n",
    "    'list_of_mks': range(15),\n",
    "    'qpu': lineal_qpu,\n",
    "    'delta': 1e-3,\n",
    "    'default_nbshots' : 100,\n",
    "    'iterations' : 100,\n",
    "    'display' :  True,\n",
    "    'nbshots' : 0\n",
    "    \n",
    "}"
   ]
  },
  {
   "cell_type": "code",
   "execution_count": null,
   "id": "a51d58e1",
   "metadata": {},
   "outputs": [],
   "source": [
    "ml_qpe = MaximumLikelihoodQPE(Qprog, Q_Gate, **arg_dictionary)"
   ]
  },
  {
   "cell_type": "code",
   "execution_count": null,
   "id": "a2b1b6d3",
   "metadata": {},
   "outputs": [],
   "source": [
    "print('list_of_mks: {}'.format(ml_qpe.list_of_mks))\n",
    "print('delta: {}'.format(ml_qpe.delta))\n",
    "print('default_nbshots: {}'.format(ml_qpe.default_nbshots))\n",
    "print('iterations: {}'.format(ml_qpe.iterations))\n",
    "print('display: {}'.format(ml_qpe.disp))\n",
    "print('nbshots: {}'.format(ml_qpe.nbshots))"
   ]
  },
  {
   "cell_type": "markdown",
   "id": "b4044287",
   "metadata": {},
   "source": [
    "### 4.2 Execute run method\n",
    "\n",
    "The run method execute a complete ML-QPE algorithm based on the parameters you passed to the class when you call it. If some of the parameters were not passes default ones will be used. To the **run** method you can provide:\n",
    "* list_of_mks\n",
    "* nbshots\n",
    "\n",
    "The corresponding properties will be overwrite with the new ones"
   ]
  },
  {
   "cell_type": "code",
   "execution_count": null,
   "id": "5c28cdcf",
   "metadata": {},
   "outputs": [],
   "source": [
    "ml_qpe.run()"
   ]
  },
  {
   "cell_type": "markdown",
   "id": "4d309e90",
   "metadata": {},
   "source": [
    "When the **run** method finishes different information were stored in different porperties. Most important ones:\n",
    "\n",
    "* theta: is the phase estimation for the Groover-like operator\n",
    "* pdf_mks: pandas DataFrame with the results of the measurement for the different m_k's\n",
    "* list_of_circuits: pyhton list with all the quantum circuits created for executing the algorithm"
   ]
  },
  {
   "cell_type": "code",
   "execution_count": null,
   "id": "4b1d7cdc",
   "metadata": {},
   "outputs": [],
   "source": [
    "print('The phase for the operator is: {}'.format(ml_qpe.theta))"
   ]
  },
  {
   "cell_type": "code",
   "execution_count": null,
   "id": "7d8ef295",
   "metadata": {},
   "outputs": [],
   "source": [
    "ml_qpe.pdf_mks"
   ]
  },
  {
   "cell_type": "code",
   "execution_count": null,
   "id": "d2a3d113",
   "metadata": {},
   "outputs": [],
   "source": [
    "circ = ml_qpe.list_of_circuits[-1]\n",
    "%qatdisplay circ"
   ]
  },
  {
   "cell_type": "markdown",
   "id": "2720931c",
   "metadata": {},
   "source": [
    "Additionally we can plot the final **Likelihood** of the obtained measurements invoking the **launch_likelihood** and given the *pdf_mks* property"
   ]
  },
  {
   "cell_type": "code",
   "execution_count": null,
   "id": "9a8862ab",
   "metadata": {},
   "outputs": [],
   "source": [
    "pdf_like = ml_qpe.launch_likelihood(ml_qpe.pdf_mks)"
   ]
  },
  {
   "cell_type": "code",
   "execution_count": null,
   "id": "49b17c73",
   "metadata": {
    "scrolled": true
   },
   "outputs": [],
   "source": [
    "plt.plot(pdf_like['theta'], pdf_like['l_k'], '-o')\n",
    "plt.xlabel('theta')\n",
    "plt.ylabel('-Log(Likelihood)')\n",
    "#plt.ylim(0, 500)"
   ]
  },
  {
   "cell_type": "markdown",
   "id": "1176d2f7",
   "metadata": {},
   "source": [
    " The strength of the ML-QPE algorithm is in the application of different $m_k$ and try to compute the total **Likelihood**. This can be in the following cells where we apply the launch_optimizer to an increasing number of $m_k$ (first on $m_k$ is selected, then 2 $m_k$ is selected and so on until use all the $m_k$'s for computing likelihood and the correspondiente theta)."
   ]
  },
  {
   "cell_type": "code",
   "execution_count": null,
   "id": "b73a0c03",
   "metadata": {},
   "outputs": [],
   "source": [
    "list_of_thetas = []\n",
    "for i in range(1, len(ml_qpe.pdf_mks)):\n",
    "    step = ml_qpe.pdf_mks[:i]\n",
    "    step_theta = ml_qpe.launch_optimizer(step)\n",
    "    list_of_thetas.append(step_theta)"
   ]
  },
  {
   "cell_type": "code",
   "execution_count": null,
   "id": "7c99b072",
   "metadata": {},
   "outputs": [],
   "source": [
    "plt.plot(list_of_thetas, '-o')\n",
    "plt.xlabel('number of m_k for optimization')\n",
    "plt.ylabel('theta')"
   ]
  },
  {
   "cell_type": "markdown",
   "id": "4da9a849",
   "metadata": {},
   "source": [
    "As can be seen when more $m_k$'s are used more stable is the obtained $\\theta$. Additionally increasing the  number of $m_k$'s decreases the error estimation of the $\\theta$"
   ]
  },
  {
   "cell_type": "code",
   "execution_count": null,
   "id": "0331d703",
   "metadata": {},
   "outputs": [],
   "source": [
    "theoric_theta = np.arcsin(sum(f_X*p_X)**0.5)\n",
    "print('theoric_theta: {}'.format(theoric_theta))\n",
    "AbsolutError = [abs(theta-theoric_theta) for theta in list_of_thetas]\n",
    "\n",
    "plt.plot(AbsolutError, 'o')\n",
    "plt.semilogy()"
   ]
  }
 ],
 "metadata": {
  "kernelspec": {
   "display_name": "Python 3 (ipykernel)",
   "language": "python",
   "name": "python3"
  },
  "language_info": {
   "codemirror_mode": {
    "name": "ipython",
    "version": 3
   },
   "file_extension": ".py",
   "mimetype": "text/x-python",
   "name": "python",
   "nbconvert_exporter": "python",
   "pygments_lexer": "ipython3",
   "version": "3.9.9"
  }
 },
 "nbformat": 4,
 "nbformat_minor": 5
}
