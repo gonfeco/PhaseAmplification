{
 "cells": [
  {
   "cell_type": "code",
   "execution_count": 1,
   "id": "075f9eeb",
   "metadata": {},
   "outputs": [
    {
     "data": {
      "text/html": [
       "<style>.container { width:100% !important; }</style>"
      ],
      "text/plain": [
       "<IPython.core.display.HTML object>"
      ]
     },
     "metadata": {},
     "output_type": "display_data"
    }
   ],
   "source": [
    "from IPython.core.display import display, HTML\n",
    "display(HTML(\"<style>.container { width:100% !important; }</style>\"))"
   ]
  },
  {
   "cell_type": "code",
   "execution_count": 2,
   "id": "440de514",
   "metadata": {},
   "outputs": [
    {
     "name": "stdout",
     "output_type": "stream",
     "text": [
      "The qat.core.magic extension is already loaded. To reload it, use:\n",
      "  %reload_ext qat.core.magic\n"
     ]
    }
   ],
   "source": [
    "import numpy as np\n",
    "import pandas as pd\n",
    "import matplotlib.pyplot as plt\n",
    "import sys, os\n",
    "%matplotlib inline\n",
    "%load_ext qat.core.magic\n",
    "#QPU connection\n",
    "QLMASS = True\n",
    "if QLMASS:\n",
    "    try:\n",
    "        from qat.qlmaas import QLMaaSConnection\n",
    "        connection = QLMaaSConnection()\n",
    "        LinAlg = connection.get_qpu(\"qat.qpus:LinAlg\")\n",
    "        lineal_qpu = LinAlg()\n",
    "    except (ImportError, OSError) as e:\n",
    "        print('Problem: usin PyLinalg')\n",
    "        from qat.qpus import PyLinalg\n",
    "        lineal_qpu = PyLinalg()\n",
    "else:\n",
    "    print('User Forces: PyLinalg')\n",
    "    from qat.qpus import PyLinalg\n",
    "    lineal_qpu = PyLinalg()    "
   ]
  },
  {
   "cell_type": "code",
   "execution_count": 3,
   "id": "12938d72",
   "metadata": {},
   "outputs": [],
   "source": [
    "from QuantumMultiplexors_Module_examples import expectation_loading_data\n",
    "from PhaseAmplification_Module import load_q_gate"
   ]
  },
  {
   "cell_type": "code",
   "execution_count": 4,
   "id": "21178b8f",
   "metadata": {},
   "outputs": [],
   "source": [
    "from AuxiliarFunctions import  get_histogram, postprocess_results, test_bins, run_job\n",
    "def p(x):\n",
    "    return x*x\n",
    "def f(x):\n",
    "    return np.sin(x)"
   ]
  },
  {
   "cell_type": "code",
   "execution_count": 5,
   "id": "6318b9dd",
   "metadata": {},
   "outputs": [],
   "source": [
    "#number of Qbits for the circuit\n",
    "n_qbits = 6\n",
    "#The number of bins \n",
    "m_bins = 2**n_qbits\n",
    "LowerLimit = 0.0\n",
    "UpperLimit = 1.0 \n",
    "\n",
    "X, p_X = get_histogram(p, LowerLimit, UpperLimit, m_bins)\n",
    "f_X = f(X)"
   ]
  },
  {
   "cell_type": "code",
   "execution_count": 6,
   "id": "d870bfc8",
   "metadata": {},
   "outputs": [],
   "source": [
    "Qprog, P_Gate, R_gate = expectation_loading_data(p_X, f_X)\n",
    "Q_Gate = load_q_gate(P_Gate, R_gate)"
   ]
  },
  {
   "cell_type": "code",
   "execution_count": null,
   "id": "0f5945b3",
   "metadata": {},
   "outputs": [],
   "source": [
    "class MaximumLikelihoodAE:\n",
    "\n",
    "    def __init__(self, q_prog, q_gate, **kwargs):\n",
    "        #Quatum Program\n",
    "        self.q_prog = q_prog\n",
    "        #Quantum Gste to apply to quantum program\n",
    "        self.q_gate = q_gate\n",
    "        \n",
    "        #Setting attributes\n",
    "        #A complete list of m_k\n",
    "        self.list_of_mks = kwargs.get('list_of_mks', None)\n",
    "        #We create a list of ks by iterating from 0 to K\n",
    "        self._K = kwargs.get('K', None)\n",
    "        \n",
    "        if (self.list_of_mks is not None) and (self.K is not None):\n",
    "            print(\"Two different strategies for creating the list of m_ks were given:\"\\\n",
    "            \"K and list_of_mks. list_of_mks will be used\")\n",
    "        else:\n",
    "            if self.K is not None:\n",
    "                self.K = self._K\n",
    "            else:\n",
    "                print('Setting K to {}'.format(10))\n",
    "                self.K = 10\n",
    "                \n",
    "        \n",
    "        self.nbshots = kwargs.get('nbshots', 0)\n",
    "        \n",
    "        #Set the QPU to use\n",
    "        self.lineal_qpu = kwargs.get('qpu', get_qpu())\n",
    "        \n",
    "        #Number of Measurements for the last Qbit\n",
    "        #If 0 we compute the exact probabilities\n",
    "        self.nbshots = kwargs.get('nbshots', 0)\n",
    "        #delta for avoid problems in 0 and pi/2 theta limits\n",
    "        self.delta = kwargs.get('delta', 1.0e-9)\n",
    "        #number of iterations for optimization of Likelihood\n",
    "        self.iterations = kwargs.get('iterations', 100)\n",
    "        #For displaying extra info for optimization proccess\n",
    "        self.disp = kwargs.get('disp', True)\n",
    "        \n",
    "        \n",
    "    @property\n",
    "    def K(self):\n",
    "        return self._K\n",
    "\n",
    "    @K.setter\n",
    "    def K(self, value):\n",
    "        #Allows updating list_of_mks if new K is given\n",
    "        self._K = value\n",
    "        print('Updating list_of_mks using {}'.format(self._K))\n",
    "        self.list_of_mks = [i for i in range(self._K)]\n",
    "        "
   ]
  },
  {
   "cell_type": "code",
   "execution_count": null,
   "id": "d73a0c36",
   "metadata": {},
   "outputs": [],
   "source": [
    "        if (self.list_of_mks is not None) and (self.K is not None):    \n",
    "            return self.list_of_mks\n",
    "        else:\n",
    "            if self.list_of_mks is not None:\n",
    "                return self.list_of_mks\n",
    "            else:\n",
    "                return [i for i in range(self.K)]\n",
    "                "
   ]
  },
  {
   "cell_type": "code",
   "execution_count": null,
   "id": "49f59711",
   "metadata": {},
   "outputs": [],
   "source": [
    "        #Maximum number of times q_gate will be applied\n",
    "        self.k = k\n",
    "        #pandas dataframe where probabilities from the sucesive\n",
    "        #applications of q_gate will be stored. This will be the data\n",
    "        #for the optimization of Likelihood\n",
    "        self.p_mks = None\n",
    "        #This is the number of shots for the measurement of the last qbit\n",
    "        self.nbshots = 0\n",
    "\n",
    "        #This stores the different quantum circuits for inpection if neccesary\n",
    "        self.list_of_circuits = []\n",
    "        self.lineal_qpu = get_qpu()\n",
    "\n",
    "        self.theta = None\n",
    "\n",
    "        #Optimizers Parameters\n",
    "        self.optimizer = None\n",
    "        self.delta = 1.0e-9\n",
    "        self.iterations = 50\n",
    "        self.disp = True\n"
   ]
  },
  {
   "cell_type": "code",
   "execution_count": null,
   "id": "139f4b21",
   "metadata": {},
   "outputs": [],
   "source": [
    "opa = {\n",
    "    #'delta': None,\n",
    "    #'list_of_mks': [0, 1, 2, 3, 4, 5, 6],\n",
    "    #'K': 10,\n",
    "    'iterations': 50,\n",
    "    'disp': True,\n",
    "    'lineal_qpu': None\n",
    "}"
   ]
  },
  {
   "cell_type": "code",
   "execution_count": null,
   "id": "8230e503",
   "metadata": {},
   "outputs": [],
   "source": [
    "KK = MaximumLikelihoodAE(Qprog, Q_Gate, **opa)"
   ]
  },
  {
   "cell_type": "code",
   "execution_count": null,
   "id": "6f2e20cd",
   "metadata": {},
   "outputs": [],
   "source": [
    "KK.list_of_mks"
   ]
  },
  {
   "cell_type": "code",
   "execution_count": null,
   "id": "e819cc5c",
   "metadata": {},
   "outputs": [],
   "source": [
    "KK.K"
   ]
  },
  {
   "cell_type": "code",
   "execution_count": null,
   "id": "be46f43e",
   "metadata": {},
   "outputs": [],
   "source": [
    "KK.K = 20"
   ]
  },
  {
   "cell_type": "code",
   "execution_count": null,
   "id": "90c43941",
   "metadata": {},
   "outputs": [],
   "source": []
  },
  {
   "cell_type": "code",
   "execution_count": null,
   "id": "5c71f75f",
   "metadata": {},
   "outputs": [],
   "source": [
    "KK.K = 10"
   ]
  },
  {
   "cell_type": "code",
   "execution_count": null,
   "id": "6ca09a64",
   "metadata": {},
   "outputs": [],
   "source": [
    "class Test(object):\n",
    "    def __init__(self, c = SomeDefaultValue):\n",
    "        self._c = SomeDefaultValue\n",
    "    @property\n",
    "    def c(self):\n",
    "        return self._c\n",
    "    @c.setter\n",
    "    def c(self,value):\n",
    "        self._c = value"
   ]
  },
  {
   "cell_type": "code",
   "execution_count": null,
   "id": "fd132fbb",
   "metadata": {},
   "outputs": [],
   "source": [
    "class MaximumLikelihoodAE:\n",
    "    \n",
    "    def __init__(self, q_prog, q_gate, **kwargs):"
   ]
  },
  {
   "cell_type": "code",
   "execution_count": null,
   "id": "50fef101",
   "metadata": {},
   "outputs": [],
   "source": [
    "from maximum_likelihood_ae import MaximumLikelihoodAE"
   ]
  },
  {
   "cell_type": "code",
   "execution_count": null,
   "id": "ea318f4a",
   "metadata": {},
   "outputs": [],
   "source": [
    "mlae = MaximumLikelihoodAE(Qprog, Q_Gate)"
   ]
  },
  {
   "cell_type": "code",
   "execution_count": null,
   "id": "a144606e",
   "metadata": {},
   "outputs": [],
   "source": [
    "mlae.p_mks = pd.read_csv('opa.csv', index_col=0)"
   ]
  },
  {
   "cell_type": "code",
   "execution_count": null,
   "id": "ca9cd82e",
   "metadata": {},
   "outputs": [],
   "source": [
    "a = mlae.launch_likelihood()"
   ]
  },
  {
   "cell_type": "code",
   "execution_count": null,
   "id": "859c8f32",
   "metadata": {},
   "outputs": [],
   "source": [
    "plt.plot(a['theta'], a['l_k'])"
   ]
  },
  {
   "cell_type": "code",
   "execution_count": null,
   "id": "ef77ddb1",
   "metadata": {},
   "outputs": [],
   "source": [
    "mlae.optimize()"
   ]
  },
  {
   "cell_type": "code",
   "execution_count": null,
   "id": "361e1b19",
   "metadata": {},
   "outputs": [],
   "source": [
    "mlae.theta"
   ]
  },
  {
   "cell_type": "code",
   "execution_count": null,
   "id": "4b07dbfd",
   "metadata": {},
   "outputs": [],
   "source": [
    "pd.DataFrame([list(a), list(b)])"
   ]
  },
  {
   "cell_type": "code",
   "execution_count": null,
   "id": "b11f7839",
   "metadata": {},
   "outputs": [],
   "source": [
    "a,b = mlae.apply_gate(1)"
   ]
  },
  {
   "cell_type": "code",
   "execution_count": null,
   "id": "ba546bab",
   "metadata": {},
   "outputs": [],
   "source": [
    "%qatdisplay a"
   ]
  },
  {
   "cell_type": "code",
   "execution_count": null,
   "id": "35a64611",
   "metadata": {},
   "outputs": [],
   "source": [
    "b"
   ]
  },
  {
   "cell_type": "code",
   "execution_count": null,
   "id": "2c9dfad7",
   "metadata": {},
   "outputs": [],
   "source": [
    "list_mks = range(20)\n",
    "mlae.run(list_mks)"
   ]
  },
  {
   "cell_type": "code",
   "execution_count": null,
   "id": "9b3734a5",
   "metadata": {},
   "outputs": [],
   "source": [
    "mlae.p_mks.to_csv('opa.csv')"
   ]
  },
  {
   "cell_type": "code",
   "execution_count": null,
   "id": "52345017",
   "metadata": {},
   "outputs": [],
   "source": [
    "np.linspace"
   ]
  },
  {
   "cell_type": "code",
   "execution_count": null,
   "id": "10808a97",
   "metadata": {},
   "outputs": [],
   "source": [
    "mlae.k = 10"
   ]
  },
  {
   "cell_type": "code",
   "execution_count": null,
   "id": "764dbe7a",
   "metadata": {},
   "outputs": [],
   "source": [
    "mlae.nbshots"
   ]
  },
  {
   "cell_type": "code",
   "execution_count": null,
   "id": "e88edd5a",
   "metadata": {
    "scrolled": true
   },
   "outputs": [],
   "source": [
    "b.drop(1)"
   ]
  },
  {
   "cell_type": "code",
   "execution_count": null,
   "id": "7058d32e",
   "metadata": {},
   "outputs": [],
   "source": [
    "def get_sub_pdf(input_pdf, state):\n",
    "    pdf = input_pdf.copy(deep=True)\n",
    "    phi = pdf[pdf['States'] == state]\n",
    "    if len(phi) == 0:\n",
    "        #state does not exist. State was not measure. We fix to cero probability\n",
    "        phi = pd.DataFrame([0.0], columns=['Probability_{}'.format(state)])\n",
    "    else:\n",
    "        drop_columns = [c for c in pdf.columns if c != 'Probability']\n",
    "        phi.reset_index(drop=True, inplace=True)\n",
    "        phi.drop(columns=drop_columns, inplace = True)\n",
    "        phi.rename(\n",
    "            columns = {'Probability': 'Probability_{}'.format(state)},\n",
    "            inplace = True\n",
    "        )\n",
    "    return phi"
   ]
  },
  {
   "cell_type": "code",
   "execution_count": null,
   "id": "e9e3cbd5",
   "metadata": {},
   "outputs": [],
   "source": [
    "pd.concat([get_sub_pdf(b, '|0>'), get_sub_pdf(b, '|1>')], axis = 1)"
   ]
  },
  {
   "cell_type": "code",
   "execution_count": null,
   "id": "4d43cc5a",
   "metadata": {},
   "outputs": [],
   "source": [
    "get_sub_pdf(b.drop(1), '|1>')"
   ]
  },
  {
   "cell_type": "code",
   "execution_count": null,
   "id": "f7c1c274",
   "metadata": {},
   "outputs": [],
   "source": [
    "[c for c in b.columns if c != 'Probability']"
   ]
  },
  {
   "cell_type": "code",
   "execution_count": null,
   "id": "c6386374",
   "metadata": {},
   "outputs": [],
   "source": [
    "get_sub_pdf(b, '|0>')"
   ]
  },
  {
   "cell_type": "markdown",
   "id": "94acac8f",
   "metadata": {},
   "source": [
    "## Maximum Likelihood"
   ]
  },
  {
   "cell_type": "markdown",
   "id": "08472f5d",
   "metadata": {},
   "source": [
    "For this case we start with the loading data using $\\mathcal{P}$ and $\\mathcal{R}$ gates. Now we do following steps:\n",
    "\n",
    "* 1. Apply $\\hat{Q}^{m_k}$ on the circuit. With $k=0$ $m_0=1$\n",
    "* 2. Do $N_k$ measurements of the last qbit. Imagine we get $h_k$ the state $|\\Psi_1\\rangle$ ($N_k-h_k$ times state  $|\\Psi_0\\rangle$).\n",
    "* 3. We calculate the likelihood of the before measurements:\n",
    "\n",
    "$$L_{k}(h_k/\\theta) = (\\sin^2[(2*m_k+1)\\theta])^{h_k}(\\cos^2[(2*m_k+1)\\theta])^{N_k-h_k}$$\n",
    "* 4. We can calculate now the total Likelihood for a vector $\\mathbf{h}=(h_0, h_1,...,h_M)$:\n",
    "\n",
    "$$L(\\mathbf{h}/\\theta) = \\prod_{k=0}^{M}{L_{k}(h_k/\\theta)}$$\n",
    "* 5. We get $\\theta_{a}$ that maximizes $L(\\mathbf{h}/\\theta)$. In general is better to opitimize de logarithm of the $L(\\mathbf{h}/\\theta)$:\n",
    "\n",
    "$$\\theta_{a} = arg \\ max \\ln{L(\\mathbf{h}/\\theta)}= arg \\ max \\sum_{k=0}^{M} \\Big( 2h_k\\ln(\\sin[(2*m_k+1)\\theta])+2(N_k-h_k)\\ln(\\cos[(2*m_k+1)\\theta]) \\Big)$$\n",
    "* 6. Go to first step with $k=1$ and $m_1=1$"
   ]
  },
  {
   "cell_type": "code",
   "execution_count": null,
   "id": "8e1a19ed",
   "metadata": {},
   "outputs": [],
   "source": [
    "def Do(q_prog, q_gate, n_ops):\n",
    "    q_bits = q_prog.registers[0]\n",
    "    for i in range(n_ops):\n",
    "        q_prog.apply(q_gate, q_bits)\n",
    "    circuit = q_prog.to_circ(submatrices_only=True)\n",
    "    job = circuit.to_job(qubits=[len(q_bits)-1])#, nbshots = nbshots)\n",
    "    return job, circuit"
   ]
  },
  {
   "cell_type": "code",
   "execution_count": null,
   "id": "84c963b8",
   "metadata": {},
   "outputs": [],
   "source": [
    "def likelihood(theta, m_k, h_k, n_k):\n",
    "    theta_ = (2*m_k+1)*theta\n",
    "    first_term = 2*h_k*np.log(np.abs(np.sin(theta_)))\n",
    "    second_term = 2*(n_k-h_k)*np.log(np.abs(np.cos(theta_)))\n",
    "    l_k = first_term + second_term\n",
    "    return -np.sum(l_k)\n",
    "\n",
    "def launch_likelihood(theta, pdf):\n",
    "    h_k = pdf['h_k_shots']\n",
    "    m_k = pdf['m_k']   \n",
    "    n_k = pdf['shots']\n",
    "    return likelihood(theta, m_k, h_k, n_k)"
   ]
  },
  {
   "cell_type": "code",
   "execution_count": null,
   "id": "49148f7c",
   "metadata": {},
   "outputs": [],
   "source": [
    "def mlae(q_prog, q_gate, k, lineal_qpu, nbshots = 0):\n",
    "    \n",
    "    list_h_k = []\n",
    "    list_of_circuits = []\n",
    "\n",
    "    for m_k in range(k):\n",
    "        step_job, step_cricuit = Do(copy.deepcopy(q_prog), q_gate, m_k)#, nbshots)\n",
    "        list_of_circuits.append(step_cricuit)\n",
    "        if nbshots != 0:\n",
    "            step_job.nbshots = nbshots\n",
    "        step_result = run_job(lineal_qpu.submit(step_job))\n",
    "        step_pdf = postprocess_results(step_result)\n",
    "        try:\n",
    "            h_k = step_pdf[step_pdf['States'] == '|1>']['Probability'].values[0]\n",
    "        except IndexError:\n",
    "            #Can happen that P|1> = 0. Then the pdf do not have the state. In this case h_k = 0\n",
    "            h_k = 0\n",
    "        list_h_k.append([m_k, h_k])  \n",
    "        \n",
    "    if nbshots == 0:\n",
    "        number_of_shots = 100\n",
    "    else:\n",
    "        number_of_shots = nbshots\n",
    "    #Probability for  |1>\n",
    "    p_1 = pd.DataFrame(list_h_k, columns= ['m_k', 'h_k'])\n",
    "    p_1['h_k_shots'] = round(p_1['h_k']*number_of_shots, 0).astype(int)\n",
    "    p_1['shots'] = number_of_shots  \n",
    "    \n",
    "    r = so.brute(\n",
    "        likelihood,\n",
    "        [(0+delta, 0.5*np.pi-delta)],\n",
    "        (p_1['m_k'], p_1['h_k_shots'], p_1['shots']),\n",
    "        50,\n",
    "        disp=True\n",
    "    )    "
   ]
  },
  {
   "cell_type": "code",
   "execution_count": null,
   "id": "c045d5cd",
   "metadata": {},
   "outputs": [],
   "source": [
    "optimizer = so.brute"
   ]
  },
  {
   "cell_type": "code",
   "execution_count": null,
   "id": "d1d6334a",
   "metadata": {},
   "outputs": [],
   "source": [
    "so.brute?"
   ]
  },
  {
   "cell_type": "code",
   "execution_count": null,
   "id": "afe672e5",
   "metadata": {},
   "outputs": [],
   "source": [
    "K=10\n",
    "nbshots = 10000\n",
    "list_h_k = []\n",
    "list_of_circuits = []\n",
    "\n",
    "for m_k in range(K):\n",
    "    step_job, step_cricuit = Do(copy.deepcopy(Qprog), Q_Gate, m_k)#, nbshots)\n",
    "    list_of_circuits.append(step_cricuit)\n",
    "    if nbshots != 0:\n",
    "        step_job.nbshots = nbshots\n",
    "    step_result = run_job(lineal_qpu.submit(step_job))\n",
    "    step_pdf = postprocess_results(step_result)\n",
    "    try:\n",
    "        h_k = step_pdf[step_pdf['States'] == '|1>']['Probability'].values[0]\n",
    "    except IndexError:\n",
    "        #Can happen that P|1> = 0. Then the pdf do not have the state. In this case h_k = 0\n",
    "        h_k = 0\n",
    "    list_h_k.append([m_k, h_k])       "
   ]
  },
  {
   "cell_type": "code",
   "execution_count": null,
   "id": "3d4694b3",
   "metadata": {},
   "outputs": [],
   "source": [
    "if nbshots == 0:\n",
    "    number_of_shots = 100\n",
    "else:\n",
    "    number_of_shots = nbshots\n",
    "#Probabilidad estado |1>\n",
    "p_1 = pd.DataFrame(list_h_k, columns= ['m_k', 'h_k'])\n",
    "p_1['h_k_shots'] = round(p_1['h_k']*number_of_shots, 0).astype(int)\n",
    "p_1['shots'] = number_of_shots"
   ]
  },
  {
   "cell_type": "code",
   "execution_count": null,
   "id": "838a184d",
   "metadata": {},
   "outputs": [],
   "source": [
    "p_1"
   ]
  },
  {
   "cell_type": "code",
   "execution_count": null,
   "id": "15a044b8",
   "metadata": {},
   "outputs": [],
   "source": [
    "delta = 0.0001\n",
    "theta = np.linspace(0+delta, 0.5*np.pi-delta)\n",
    "y = [launch_likelihood(t, p_1) for t in theta]\n",
    "plt.plot(theta,y)"
   ]
  },
  {
   "cell_type": "code",
   "execution_count": null,
   "id": "73e550e4",
   "metadata": {},
   "outputs": [],
   "source": [
    "r = so.brute(\n",
    "    likelihood,\n",
    "    [(0+delta, 0.5*np.pi-delta)],\n",
    "    (p_1['m_k'], p_1['h_k_shots'], p_1['shots']),\n",
    "    50,\n",
    "    disp=True\n",
    ")"
   ]
  },
  {
   "cell_type": "code",
   "execution_count": null,
   "id": "0b2e4bfa",
   "metadata": {},
   "outputs": [],
   "source": [
    "r[0]"
   ]
  },
  {
   "cell_type": "code",
   "execution_count": null,
   "id": "76813403",
   "metadata": {},
   "outputs": [],
   "source": []
  },
  {
   "cell_type": "code",
   "execution_count": null,
   "id": "857ec338",
   "metadata": {},
   "outputs": [],
   "source": []
  },
  {
   "cell_type": "code",
   "execution_count": null,
   "id": "2b845532",
   "metadata": {},
   "outputs": [],
   "source": [
    "nbshots = 0\n",
    "list_h_k = []\n",
    "m_k = 0\n",
    "\n",
    "step_job, step_cricuit = Do(copy.deepcopy(Qprog), Q_Gate, m_k)#, nbshots)\n",
    "#ListOfCircutis.append(step_cricuit)\n",
    "if nbshots != 0:\n",
    "    step_job.nbshots = nbshots\n",
    "step_result = run_job(lineal_qpu.submit(step_job))\n",
    "step_pdf = postprocess_results(step_result)\n",
    "#ListOfPdfs.append(step_pdf)\n",
    "try:\n",
    "    h_k = step_pdf[step_pdf['States'] == '|1>']['Probability'].values[0]\n",
    "except IndexError:\n",
    "    #Can happen that P|1> = 0. Then the pdf do not have the state. In this case h_k = 0\n",
    "    h_k = 0\n",
    "list_h_k.append([m_k, h_k])  "
   ]
  },
  {
   "cell_type": "code",
   "execution_count": null,
   "id": "af65a908",
   "metadata": {},
   "outputs": [],
   "source": [
    "list_h_k"
   ]
  },
  {
   "cell_type": "code",
   "execution_count": null,
   "id": "7b9ca5ef",
   "metadata": {},
   "outputs": [],
   "source": []
  },
  {
   "cell_type": "code",
   "execution_count": null,
   "id": "f205660c",
   "metadata": {},
   "outputs": [],
   "source": [
    "p_1"
   ]
  },
  {
   "cell_type": "code",
   "execution_count": null,
   "id": "6c9daa90",
   "metadata": {},
   "outputs": [],
   "source": []
  }
 ],
 "metadata": {
  "kernelspec": {
   "display_name": "Python 3 (ipykernel)",
   "language": "python",
   "name": "python3"
  },
  "language_info": {
   "codemirror_mode": {
    "name": "ipython",
    "version": 3
   },
   "file_extension": ".py",
   "mimetype": "text/x-python",
   "name": "python",
   "nbconvert_exporter": "python",
   "pygments_lexer": "ipython3",
   "version": "3.9.9"
  }
 },
 "nbformat": 4,
 "nbformat_minor": 5
}
