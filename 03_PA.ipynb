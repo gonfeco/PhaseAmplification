{
 "cells": [
  {
   "cell_type": "code",
   "execution_count": null,
   "metadata": {},
   "outputs": [],
   "source": [
    "from IPython.core.display import display, HTML\n",
    "display(HTML(\"<style>.container { width:100% !important; }</style>\"))"
   ]
  },
  {
   "cell_type": "code",
   "execution_count": null,
   "metadata": {},
   "outputs": [],
   "source": [
    "import numpy as np\n",
    "import pandas as pd\n",
    "import matplotlib.pyplot as plt\n",
    "import sys, os"
   ]
  },
  {
   "cell_type": "code",
   "execution_count": null,
   "metadata": {},
   "outputs": [],
   "source": [
    "%load_ext qat.core.magic"
   ]
  },
  {
   "cell_type": "code",
   "execution_count": null,
   "metadata": {},
   "outputs": [],
   "source": [
    "#QPU connection\n",
    "QLMASS = True\n",
    "if QLMASS:\n",
    "    try:\n",
    "        from qat.qlmaas import QLMaaSConnection\n",
    "        connection = QLMaaSConnection()\n",
    "        LinAlg = connection.get_qpu(\"qat.qpus:LinAlg\")\n",
    "        lineal_qpu = LinAlg()\n",
    "    except (ImportError, OSError) as e:\n",
    "        print('Problem: usin PyLinalg')\n",
    "        from qat.qpus import PyLinalg\n",
    "        lineal_qpu = PyLinalg()\n",
    "else:\n",
    "    print('User Forces: PyLinalg')\n",
    "    from qat.qpus import PyLinalg\n",
    "    lineal_qpu = PyLinalg()    "
   ]
  },
  {
   "cell_type": "markdown",
   "metadata": {},
   "source": [
    "## 1. Data Discretization"
   ]
  },
  {
   "cell_type": "code",
   "execution_count": null,
   "metadata": {},
   "outputs": [],
   "source": [
    "from AuxiliarFunctions import  get_histogram, PostProcessResults, TestBins, RunJob\n",
    "def p(x):\n",
    "    return x*x\n",
    "def f(x):\n",
    "    return np.sin(x)"
   ]
  },
  {
   "cell_type": "code",
   "execution_count": null,
   "metadata": {},
   "outputs": [],
   "source": [
    "#number of Qbits for the circuit\n",
    "n_qbits = 4\n",
    "#The number of bins \n",
    "m_bins = 2**n_qbits\n",
    "LowerLimit = 0.0\n",
    "UpperLimit = 1.0 \n",
    "\n",
    "X, p_X = get_histogram(p, LowerLimit, UpperLimit, m_bins)\n",
    "f_X = f(X)"
   ]
  },
  {
   "cell_type": "markdown",
   "metadata": {},
   "source": [
    "## 2. Complete Data Loading"
   ]
  },
  {
   "cell_type": "markdown",
   "metadata": {},
   "source": [
    "First of all we need to loading the complete data into the quantum state:\n",
    "\n",
    "$$|\\Psi\\rangle_{n+1}=\\hat{R_{n+1}}\\left(\\hat{P_{n}}\\otimes I\\right)|0\\rangle_{n}\\otimes|0\\rangle_{1}$$\n",
    "\n",
    "From module **QuantumMultiplexors_Module_examples** fucntion **LoadingData** can be used. This function receives numpy arrays with probability and function and outputs the quantum program for loading complete data and the mandatory $\\mathcal{P}$ y $\\mathcal{R}$ gates to perform the loading."
   ]
  },
  {
   "cell_type": "code",
   "execution_count": null,
   "metadata": {},
   "outputs": [],
   "source": [
    "from QuantumMultiplexors_Module_examples import ExpectationLoadingData"
   ]
  },
  {
   "cell_type": "code",
   "execution_count": null,
   "metadata": {},
   "outputs": [],
   "source": [
    "qLprog, P_Gate, R_gate = ExpectationLoadingData(p_X, f_X)"
   ]
  },
  {
   "cell_type": "code",
   "execution_count": null,
   "metadata": {
    "scrolled": true
   },
   "outputs": [],
   "source": [
    "%qatdisplay P_Gate\n",
    "%qatdisplay R_gate\n",
    "\n",
    "circuit = qLprog.to_circ()\n",
    "%qatdisplay circuit"
   ]
  },
  {
   "cell_type": "code",
   "execution_count": null,
   "metadata": {},
   "outputs": [],
   "source": [
    "job = circuit.to_job(qubits=[n_qbits])\n",
    "result = RunJob(lineal_qpu.submit(job))\n",
    "LResults = PostProcessResults(result)\n",
    "#Check\n",
    "print(np.isclose(LResults['Probability'][1], sum(p_X*f_X)))"
   ]
  },
  {
   "cell_type": "markdown",
   "metadata": {},
   "source": [
    "## 3. Amplificación de Amplitud"
   ]
  },
  {
   "cell_type": "markdown",
   "metadata": {},
   "source": [
    "The quantum state resulting from the loading proccess $|\\Psi\\rangle_{n+1}$ can be expressed as a linear combination of twor othogonal states $|\\Psi_{1}\\rangle$ y $|\\Psi_{0}\\rangle$:\n",
    "\n",
    "$$|\\Psi\\rangle_{n+1}=\\sqrt{a}|\\Psi_{1}\\rangle+\\sqrt{1-a}|\\Psi_{0}\\rangle$$\n",
    "\n",
    "Where \n",
    "\n",
    "$$|\\Psi_{1}\\rangle = \\sum_{x=0}^{2^{n}-1}|x\\rangle_{n}\\otimes\\frac{1}{\\sqrt{a}}\\sqrt{p(x)f(x)}|1\\rangle$$\n",
    "$$|\\Psi_{0}\\rangle = \\sum_{x=0}^{2^{n}-1}|x\\rangle_{n}\\otimes\\frac{1}{\\sqrt{1-a}}\\sqrt{p(x)(1-f(x))}|0\\rangle$$\n",
    "\n",
    "\n",
    "The idea behind Quantum Phase Amplification is increase the probability of the $|\\Psi_{1}\\rangle$  using a strategy based on the Groover Algorithm. \n",
    "\n",
    "An Operator $\\hat{Q}$ should be applied an optimal number of times $k$ in order to maximize probability of measure $|\\Psi_{1}\\rangle$. This operator is: \n",
    "\n",
    "$$\\hat{Q}=\\hat{U}_{|\\Psi\\rangle} \\hat{U}_{|\\Psi_{0}\\rangle}$$\n",
    "\n",
    "Where $\\hat{U}_{|\\Psi_{2}\\rangle}$ y $\\hat{U}_{|\\Psi_{0}\\rangle}$ are:\n",
    "\n",
    "$$\\hat{U}_{|\\Psi_{0}\\rangle } = \\hat{I} - 2|\\Psi_{0}\\rangle \\langle \\Psi_{0}|$$\n",
    "$$\\hat{U}_{|\\Psi\\rangle } = \\hat{I} - 2|\\Psi\\rangle \\langle \\Psi|$$\n",
    "\n",
    "Module **PhaseAmplification_Module** have all the functions in order to create properly gates for this operators"
   ]
  },
  {
   "cell_type": "markdown",
   "metadata": {},
   "source": [
    "### 3.1 Operador $\\hat{U}_{|\\Psi_{0}\\rangle}$"
   ]
  },
  {
   "cell_type": "markdown",
   "metadata": {},
   "source": [
    "First mandatory operator is:\n",
    "\n",
    "$$\\hat{U}_{|\\Psi_{0}\\rangle } = \\hat{I} - 2|\\Psi_{0}\\rangle \\langle \\Psi_{0}|$$\n",
    "\n",
    "Equivalent circuit for the operator is:\n",
    "\n",
    "$$\\hat{U}_{|\\Psi_{0}\\rangle }=(\\hat{I_{n}}\\otimes X)(\\hat{I_{n}}\\otimes Z)(\\hat{I_{n}}\\otimes X)$$\n",
    "\n",
    "Apply this operator on state $|\\Psi\\rangle_{n+1}$:\n",
    "\n",
    "$$\\hat{U}_{|\\Psi_{0}\\rangle} |\\Psi\\rangle_{n+1} = \\sqrt{a}|\\Psi_{1}\\rangle-\\sqrt{1-a}|\\Psi_{0}\\rangle$$\n",
    "\n",
    "So operator $\\hat{U}_{|\\Psi_{0}\\rangle }$ do an reflection operation around the axis defined by the state $|\\Psi_{1}\\rangle$\n",
    "\n",
    "\n",
    "Abstract Gate **U_Phi_0** from **PhaseAmplification_Module** allow us do the operation:"
   ]
  },
  {
   "cell_type": "code",
   "execution_count": null,
   "metadata": {
    "scrolled": true
   },
   "outputs": [],
   "source": [
    "qLprog, P_Gate, R_gate = ExpectationLoadingData(p_X, f_X)\n",
    "#Initial State\n",
    "circuit = qLprog.to_circ()\n",
    "job = circuit.to_job()\n",
    "result = RunJob(lineal_qpu.submit(job))\n",
    "InitialState = PostProcessResults(result)\n",
    "#Applied Gate\n",
    "from PhaseAmplification_Module import UPhi0_Gate\n",
    "U_Phi_0_Gate = UPhi0_Gate(qLprog.qbit_count)\n",
    "qLprog.apply(U_Phi_0_Gate, qLprog.registers)\n",
    "\n",
    "%qatdisplay U_Phi_0_Gate --depth 1\n",
    "circuit = qLprog.to_circ()\n",
    "%qatdisplay circuit\n",
    "\n",
    "job = circuit.to_job()\n",
    "result = RunJob(lineal_qpu.submit(job))\n",
    "UPhi0_State = PostProcessResults(result)"
   ]
  },
  {
   "cell_type": "markdown",
   "metadata": {},
   "source": [
    "In order to test the operator the states with final qbit $|0\\rangle$ ($|\\Psi_{0}\\rangle$) change the sign with respect to the initial state $|\\Psi\\rangle_{n+1}$ meanwhile states with final qbit in $|1\\rangle$ ($|\\Psi_{1}\\rangle$) are the same that in the initial state $|\\Psi\\rangle_{n+1}$"
   ]
  },
  {
   "cell_type": "code",
   "execution_count": null,
   "metadata": {
    "scrolled": false
   },
   "outputs": [],
   "source": [
    "#Testing Final qbit |0> should be of different sign\n",
    "LastQbit0 = np.isclose(\n",
    "    InitialState.loc[[i for i in range(0, len(InitialState), 2)]]['Amplitude'], \n",
    "    -UPhi0_State.loc[[i for i in range(0, len(InitialState), 2)]]['Amplitude']\n",
    ").all()\n",
    "#Testing Final qbit |1> should be of same sign\n",
    "LastQbit1 = np.isclose(\n",
    "    InitialState.loc[[i for i in range(1, len(InitialState), 2)]]['Amplitude'], \n",
    "    UPhi0_State.loc[[i for i in range(1, len(InitialState), 2)]]['Amplitude']\n",
    ").all()\n",
    "\n",
    "print(LastQbit0 and LastQbit1)"
   ]
  },
  {
   "cell_type": "markdown",
   "metadata": {},
   "source": [
    "### 3.2 Operador $\\hat{U}_{|\\Psi\\rangle}$"
   ]
  },
  {
   "cell_type": "markdown",
   "metadata": {},
   "source": [
    "Operator $\\hat{U}_{|\\Psi\\rangle}$ is based in Groover's difusor:\n",
    "\n",
    "$$\\hat{U}_{|\\Psi\\rangle } = \\hat{I} - 2|\\Psi\\rangle \\langle \\Psi|$$\n",
    "\n",
    "Additionally we know that:\n",
    "\n",
    "$$|\\Psi\\rangle_{n+1}=\\hat{R_{n+1}}\\left(\\hat{P_{n}}\\otimes I\\right)|0\\rangle_{n}\\otimes|0\\rangle_{1}$$\n",
    "\n",
    "Then the operator can be decomposed in the following way:\n",
    "\n",
    "$$\\hat{U}_{|\\Psi\\rangle } =\\hat{R_{n+1}}\\left(\\hat{P_{n}}\\otimes I\\right)\\hat{D}_{0} \\left(\\hat{P_{n}}\\otimes I\\right)^{\\dagger} \\hat{R_{n+1}}^{\\dagger}$$\n",
    "\n",
    "Where $\\hat{D}_{0}$ is a reflection around the perpendicular state to $|0\\rangle_{n}$\n",
    "\n",
    "$$\\hat{D}_{0} = \\hat{I}-2|0\\rangle \\langle0|$$"
   ]
  },
  {
   "cell_type": "markdown",
   "metadata": {},
   "source": [
    "#### 3.2.1 Implementación  $\\hat{D}_{0}$"
   ]
  },
  {
   "cell_type": "markdown",
   "metadata": {},
   "source": [
    "The equivalent circuit for $\\hat{D}_{0}$ is:\n",
    "\n",
    "$$\\hat{D}_{0} = \\hat{I}-2|0\\rangle \\langle0|= \\hat{X}^{\\otimes n} c^{n-1}Z \\hat{X}^{\\otimes n}$$\n",
    "\n",
    "The *AbstractGate* **D0_Gate** from **PhaseAmplification_Module** allow us do the operation:"
   ]
  },
  {
   "cell_type": "code",
   "execution_count": null,
   "metadata": {},
   "outputs": [],
   "source": [
    "qLprog, P_Gate, R_gate = ExpectationLoadingData(p_X, f_X)\n",
    "#Initial State\n",
    "circuit = qLprog.to_circ()\n",
    "job = circuit.to_job()\n",
    "result = RunJob(lineal_qpu.submit(job))\n",
    "InitialState = PostProcessResults(result)\n",
    "#Applied Gate\n",
    "from PhaseAmplification_Module import D0_Gate\n",
    "D0 = D0_Gate(qLprog.qbit_count)\n",
    "qLprog.apply(D0, qLprog.registers)\n",
    "\n",
    "%qatdisplay D0 --depth 1\n",
    "circuit = qLprog.to_circ()\n",
    "%qatdisplay circuit\n",
    "\n",
    "job = circuit.to_job()\n",
    "result = RunJob(lineal_qpu.submit(job))\n",
    "D0_State = PostProcessResults(result)"
   ]
  },
  {
   "cell_type": "markdown",
   "metadata": {},
   "source": [
    "Operator $\\hat{D}_{0}$ over state  $|\\Psi\\rangle_{n+1}$:\n",
    "\n",
    "$$\\hat{D}_{0}|\\Psi\\rangle_{n+1} = \\hat{I}|\\Psi\\rangle_{n+1}-2|0\\rangle \\langle0|\\Psi\\rangle_{n+1}$$\n",
    "\n",
    "It can be demostrated that the only difference between $\\hat{D}_{0}|\\Psi\\rangle_{n+1}$ and $|\\Psi\\rangle_{n+1}$ is that the component $|0_{n}\\rangle$ change the sign!!"
   ]
  },
  {
   "cell_type": "code",
   "execution_count": null,
   "metadata": {
    "scrolled": false
   },
   "outputs": [],
   "source": [
    "#Testing\n",
    "C01 = np.isclose(InitialState['Amplitude'].loc[0], -D0_State['Amplitude'].loc[0])\n",
    "C02 = np.isclose(InitialState['Amplitude'].loc[1:], D0_State['Amplitude'].loc[1:]).all()\n",
    "print(C01 and C02)"
   ]
  },
  {
   "cell_type": "markdown",
   "metadata": {},
   "source": [
    "#### 3.2.2 Implementation  $\\hat{U}_{|\\Psi}\\rangle$"
   ]
  },
  {
   "cell_type": "markdown",
   "metadata": {},
   "source": [
    "Finally the function **U_Phi_Gate** from **PhaseAmplification_Module** creates a customized AbstractGate that implements $\\hat{U}_{|\\Psi\\rangle }$. This functions needs the initial $\\mathcal{P}$ y $\\mathcal{R}$ gates used for loading the data.\n",
    "\n",
    "This operator is reflection around the ortoghonal state to $|\\Psi\\rangle_{n+1}$"
   ]
  },
  {
   "cell_type": "code",
   "execution_count": null,
   "metadata": {},
   "outputs": [],
   "source": [
    "qLprog, P_Gate, R_gate = ExpectationLoadingData(p_X, f_X)\n",
    "#Initial State\n",
    "circuit = qLprog.to_circ()\n",
    "job = circuit.to_job()\n",
    "result = RunJob(lineal_qpu.submit(job))\n",
    "InitialState = PostProcessResults(result)\n",
    "#Applied Gate\n",
    "from PhaseAmplification_Module import Load_UPhi_Gate\n",
    "UPhi = Load_UPhi_Gate(P_Gate, R_gate)\n",
    "qLprog.apply(UPhi, qLprog.registers)\n",
    "\n",
    "%qatdisplay UPhi --depth 1\n",
    "circuit = qLprog.to_circ()\n",
    "%qatdisplay circuit\n",
    "\n",
    "job = circuit.to_job()\n",
    "result = RunJob(lineal_qpu.submit(job))\n",
    "UPhi_State = PostProcessResults(result)"
   ]
  },
  {
   "cell_type": "markdown",
   "metadata": {},
   "source": [
    "In this case \n",
    "$$\\hat{U}_{|\\Psi\\rangle } |\\Psi\\rangle_{n+1} = \\hat{I}|\\Psi\\rangle_{n+1} - 2|\\Psi\\rangle \\langle \\Psi|\\Psi\\rangle_{n+1}$$\n",
    "\n",
    "$$\\hat{U}_{|\\Psi\\rangle } |\\Psi\\rangle_{n+1} = |\\Psi\\rangle_{n+1} - 2|\\Psi\\rangle_{n+1} = -|\\Psi\\rangle_{n+1}$$\n",
    "\n"
   ]
  },
  {
   "cell_type": "code",
   "execution_count": null,
   "metadata": {},
   "outputs": [],
   "source": [
    "#Testing\n",
    "np.isclose(UPhi_State['Amplitude'], - InitialState['Amplitude']).all()"
   ]
  },
  {
   "cell_type": "code",
   "execution_count": null,
   "metadata": {},
   "outputs": [],
   "source": []
  }
 ],
 "metadata": {
  "kernelspec": {
   "display_name": "Python 3 (ipykernel)",
   "language": "python",
   "name": "python3"
  },
  "language_info": {
   "codemirror_mode": {
    "name": "ipython",
    "version": 3
   },
   "file_extension": ".py",
   "mimetype": "text/x-python",
   "name": "python",
   "nbconvert_exporter": "python",
   "pygments_lexer": "ipython3",
   "version": "3.9.9"
  }
 },
 "nbformat": 4,
 "nbformat_minor": 2
}
