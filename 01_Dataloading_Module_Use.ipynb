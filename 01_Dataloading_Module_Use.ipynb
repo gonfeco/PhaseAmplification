{
 "cells": [
  {
   "cell_type": "code",
   "execution_count": null,
   "id": "5867c46f",
   "metadata": {},
   "outputs": [],
   "source": [
    "from IPython.core.display import display, HTML\n",
    "display(HTML(\"<style>.container { width:100% !important; }</style>\"))"
   ]
  },
  {
   "cell_type": "code",
   "execution_count": null,
   "id": "a5b723a5",
   "metadata": {},
   "outputs": [],
   "source": [
    "import numpy as np\n",
    "import pandas as pd\n",
    "import matplotlib.pyplot as plt"
   ]
  },
  {
   "cell_type": "code",
   "execution_count": null,
   "id": "f307baef",
   "metadata": {},
   "outputs": [],
   "source": [
    "#QPU connection\n",
    "try:\n",
    "    from qat.qlmaas import QLMaaSConnection\n",
    "    connection = QLMaaSConnection(hostname=\"qlm\")#, port=...)\n",
    "    LinAlg = connection.get_qpu(\"qat.qpus:LinAlg\")\n",
    "    lineal_qpu = LinAlg()\n",
    "except ImportError:\n",
    "    from qat.qpus import PyLinalg\n",
    "    lineal_qpu = PyLinalg()"
   ]
  },
  {
   "cell_type": "code",
   "execution_count": null,
   "id": "e0289afe",
   "metadata": {},
   "outputs": [],
   "source": [
    "from qat.qpus import LinAlg\n",
    "lineal_qpu = LinAlg()"
   ]
  },
  {
   "cell_type": "markdown",
   "id": "f6cdbdac",
   "metadata": {},
   "source": [
    "# 1. Load Data"
   ]
  },
  {
   "cell_type": "markdown",
   "id": "8bc8fe79",
   "metadata": {},
   "source": [
    "The *dataloading_module* is a direct implementation of the article *Lov Grover and Terry Rudolph 2008 papper*: \n",
    "\n",
    "**'Creating superpositions that correspond to efficiently integrable probability distributions'** \n",
    "\n",
    "http://arXiv.org/abs/quant-ph/0208112v1\n",
    "\n",
    "The idea is load in a quantum state a probability density function $p(x)$ and function $f(x)$ for using **Amplification Amplitude** algorithms for solving following integral: \n",
    "\n",
    "$$\\int_a^bp(x)f(x)dx\\approx\\sum_{x\\in X}p(x)f(x) \\; X=[a,b]$$\n",
    "\n",
    "In order to satisfy this equation $p(x)$ and $f(x)$ should be properly discretized. \n",
    "\n",
    "For doing this 2 different gates were implemented:\n",
    "1. *P_gate*: $\\mathcal{P}$. This gate load the $p(x)$ on $n$ qbits\n",
    "2. *R_gate*: $\\mathcal{R}$. This gate receives $n$ qbits and load integral of $\\int f(x)dx$ on the $n+1$ qbit\n",
    "\n",
    "With this 2 gates the desired integral can be load in the following way:\n",
    "\n",
    "$$|\\Psi\\rangle = \\mathcal{R}(\\mathcal{P} \\otimes \\mathbf{I})|0\\rangle_{n}|0\\rangle = \\sum_{x=0}^{2^{n}-1}\\sqrt{p(x)}|x\\rangle_{n}\\otimes (\\sqrt{f(x)}|1\\rangle +\\sqrt{1-f(x)}|0\\rangle)$$\n",
    "\n",
    "So the probability of measure the state $|1\\rangle$ on the $n+1$ qbit is just:\n",
    "\n",
    "$$\\sum_{x=0}^{2^{n}-1}p(x)f(x)$$\n",
    "\n"
   ]
  },
  {
   "cell_type": "markdown",
   "id": "053e8978",
   "metadata": {},
   "source": [
    "## 2. Discretizing Probability"
   ]
  },
  {
   "cell_type": "markdown",
   "id": "6ba88aab",
   "metadata": {},
   "source": [
    "First thing we need to do is discretizate the probability function $p(x)$. The *dataloading_module* provides **get_histogram** function that allows generation of a discretization of $m$ pieces of an input probability function $p(x)$, between 2 limits. \n",
    "The numbers of bins for discretization should be $m=2^{n}$ where $n$ is the number of qbits for the quantum circuit.\n",
    "The functions returns the center of the $m$ bins and the probability of the centers in numpy array form\n"
   ]
  },
  {
   "cell_type": "code",
   "execution_count": null,
   "id": "446d8f8d",
   "metadata": {},
   "outputs": [],
   "source": [
    "from dataloading_module import  get_histogram"
   ]
  },
  {
   "cell_type": "code",
   "execution_count": null,
   "id": "7cd3a3be",
   "metadata": {},
   "outputs": [],
   "source": [
    "def p(x):\n",
    "    return x*x\n",
    "def f(x):\n",
    "    return np.sin(x)"
   ]
  },
  {
   "cell_type": "code",
   "execution_count": null,
   "id": "71349434",
   "metadata": {},
   "outputs": [],
   "source": [
    "#number of Qbits for the circuit\n",
    "n_qbits = 8\n",
    "#The number of bins \n",
    "m_bins = 2**n_qbits\n",
    "LowerLimit = 0.0\n",
    "UpperLimit = 1.0 \n",
    "\n",
    "X, p_X = get_histogram(p, LowerLimit, UpperLimit, m_bins)\n"
   ]
  },
  {
   "cell_type": "code",
   "execution_count": null,
   "id": "9de9387b",
   "metadata": {},
   "outputs": [],
   "source": [
    "plt.plot(X, p_X, 'o')"
   ]
  },
  {
   "cell_type": "markdown",
   "id": "ba86b03a",
   "metadata": {},
   "source": [
    "## 3. Loading Probability"
   ]
  },
  {
   "cell_type": "markdown",
   "id": "f84e31d0",
   "metadata": {},
   "source": [
    "The $\\mathcal{P}$ is implemented by an Abstract qlm gate called **CreatePG**. In order to create the gate only the numpy arrays with the probability should be provided.\n",
    "\n",
    "The following function,**LoadProbabilityProgram**, creates a Quantum Program for loading a given probability numpy array on a quantum Circuit using the Abstract qlm gate called **CreatePG**"
   ]
  },
  {
   "cell_type": "code",
   "execution_count": null,
   "id": "8219da58",
   "metadata": {},
   "outputs": [],
   "source": [
    "from dataloading_module_examples import TestBins\n",
    "def LoadProbabilityProgram(p_X):\n",
    "    \"\"\"\n",
    "    Creates a Quantum Program for loading an input numpy array with a probability distribution.\n",
    "    Inputs:\n",
    "        * p_X: np.array. Probability distribution of size m. Mandatory: m=2^n where n is the number\n",
    "        qbits of the quantum circuit. \n",
    "    Outputs:\n",
    "        * qprog: qlm program for loading input probability\n",
    "    \"\"\"\n",
    "    #Qbits of the Quantum circuit depends on Probability length\n",
    "    nqbits = TestBins(p_X, 'Probability')\n",
    "    \n",
    "    from qat.lang.AQASM import Program\n",
    "    qprog = Program()\n",
    "    qbits = qprog.qalloc(nqbits)\n",
    "    #Creation of P_gate\n",
    "    from dataloading_module import CreatePG\n",
    "    P_gate = CreatePG(p_X)\n",
    "    #Apply Abstract gate to the qbits\n",
    "    qprog.apply(P_gate, qbits)\n",
    "    return qprog\n"
   ]
  },
  {
   "cell_type": "code",
   "execution_count": null,
   "id": "102c563a",
   "metadata": {},
   "outputs": [],
   "source": [
    "circuit = LoadProbabilityProgram(p_X).to_circ()"
   ]
  },
  {
   "cell_type": "code",
   "execution_count": null,
   "id": "3d1da7b9",
   "metadata": {},
   "outputs": [],
   "source": [
    "%qatdisplay circuit --depth 0"
   ]
  },
  {
   "cell_type": "markdown",
   "id": "31a68307",
   "metadata": {},
   "source": [
    "\n",
    "The following fucntion **GetResults** takes the circuit a simulate the behaviour returning a pandas dataframe with the output states and the corresponding probabilitiy and amplitude"
   ]
  },
  {
   "cell_type": "code",
   "execution_count": null,
   "id": "02b0f2c8",
   "metadata": {},
   "outputs": [],
   "source": [
    "def GetResults(circuit, linalgqpu, Qass=True):\n",
    "    #Create a Job from the circuit\n",
    "    job = circuit.to_job()\n",
    "    #Import and create the linear algebra simulator\n",
    "    \"\"\"\n",
    "    try:\n",
    "        from qat.qpus import LinAlg\n",
    "        linalgqpu = LinAlg()\n",
    "    except ImportError:\n",
    "        from qat.qpus import PyLinalg\n",
    "        linalgqpu = PyLinalg()\n",
    "    \"\"\"\n",
    "\n",
    "    #Submit the job to the simulator LinAlg and get the results\n",
    "    result = linalgqpu.submit(job)\n",
    "    QP = []\n",
    "    States = []\n",
    "    QA = []\n",
    "    #Print the results\n",
    "    if Qass:\n",
    "        result = result.join()\n",
    "        \n",
    "    for sample in result:\n",
    "        #print(\"State %s probability %s amplitude %s\" % (sample.state, sample.probability, sample.amplitude))\n",
    "        QP.append(sample.probability)\n",
    "        States.append(str(sample.state))\n",
    "        QA.append(sample.amplitude)\n",
    "    QP = pd.Series(QP, name='Probability')\n",
    "    States = pd.Series(States, name='States')  \n",
    "    QA = pd.Series(QA, name='Amplitude') \n",
    "    pdf = pd.concat([States, QP, QA], axis=1)\n",
    "    return pdf, circuit    "
   ]
  },
  {
   "cell_type": "code",
   "execution_count": null,
   "id": "54f0a710",
   "metadata": {},
   "outputs": [],
   "source": [
    "P_results, _ = GetResults(circuit, lineal_qpu, False)"
   ]
  },
  {
   "cell_type": "markdown",
   "id": "a20d7720",
   "metadata": {},
   "source": [
    "In order to check if the operation was done properly we can compare the outpus probability of each state and the probabilities wanted to load:"
   ]
  },
  {
   "cell_type": "code",
   "execution_count": null,
   "id": "de85cdf4",
   "metadata": {},
   "outputs": [],
   "source": [
    "np.isclose(P_results['Probability'], p_X).all()"
   ]
  },
  {
   "cell_type": "markdown",
   "id": "7191a855",
   "metadata": {},
   "source": [
    "## 3. Loading Integral of a function"
   ]
  },
  {
   "cell_type": "markdown",
   "id": "8a80d8b8",
   "metadata": {},
   "source": [
    "The $\\mathcal{R}$ is implemented by an Abstract qlm gate called **CreateLoadFunctionGate**. For creating this gate a numpy array with the function evaluation shoul be provided. The length of this array should be: $m=2^n$ where n is an integer. The created gate is a $n+1$ gate where the last qbit codifies the integral of the function."
   ]
  },
  {
   "cell_type": "code",
   "execution_count": null,
   "id": "6d371307",
   "metadata": {},
   "outputs": [],
   "source": [
    "#number of Qbits for the circuit\n",
    "n_qbits = 8\n",
    "#The number of bins \n",
    "m_bins = 2**n_qbits\n",
    "LowerLimit = 0.0\n",
    "UpperLimit = 1.0 \n",
    "\n",
    "\n",
    "\n",
    "X, p_X = get_histogram(p, LowerLimit, UpperLimit, m_bins)\n",
    "\n",
    "#The centers of the probability will be used for calculating the function\n",
    "f_X = f(X)"
   ]
  },
  {
   "cell_type": "markdown",
   "id": "50b9ebf7",
   "metadata": {},
   "source": [
    "Following **LoadIntegralProgram** function creates a complete Quantum Program for loading Integral of discretized function $f(x)$ using the programed $\\mathcal{R}$ gate. The size of the function array should be $2^n$ and the circuit will have $n+1$ qbit where the last one qbit will enconde the integral of the $f(x)$"
   ]
  },
  {
   "cell_type": "code",
   "execution_count": null,
   "id": "83167429",
   "metadata": {},
   "outputs": [],
   "source": [
    "from dataloading_module_examples import TestBins\n",
    "def LoadIntegralProgram(f_X):\n",
    "    \"\"\"\n",
    "    Creates a Quantum Circuit for loading the integral of the input numpy array with a function evaluation \n",
    "    Inputs:\n",
    "        * f_X: np.array. Function evaluation of size m. Mandatory: m=2^n where n is the number\n",
    "        qbits of the quantum circuit. \n",
    "    Outputs:\n",
    "        * program: qlm program for loading integral of the input function\n",
    "    \"\"\"\n",
    "    #Qbits of the Quantum circuit depends on Function array length\n",
    "    nqbits = TestBins(f_X, 'Function')\n",
    "    \n",
    "    from qat.lang.AQASM import Program, H\n",
    "    qprog = Program()\n",
    "    #The additional qbit is where the integral will be encoded\n",
    "    qbits = qprog.qalloc(nqbits+1)\n",
    "    for i in range(nqbits):\n",
    "        qprog.apply(H, qbits[i])\n",
    "    #Creation of P_gate\n",
    "    from dataloading_module import CreateLoadFunctionGate\n",
    "    R_gate = CreateLoadFunctionGate(f_X)\n",
    "    #Apply Abstract gate to the qbits\n",
    "    qprog.apply(R_gate, qbits)\n",
    "    return qprog"
   ]
  },
  {
   "cell_type": "markdown",
   "id": "271a3432",
   "metadata": {},
   "source": []
  },
  {
   "cell_type": "code",
   "execution_count": null,
   "id": "0aef44ca",
   "metadata": {},
   "outputs": [],
   "source": [
    "circuit = LoadIntegralProgram(f_X).to_circ()"
   ]
  },
  {
   "cell_type": "code",
   "execution_count": null,
   "id": "7ab822cc",
   "metadata": {},
   "outputs": [],
   "source": [
    "%qatdisplay circuit --depth 0"
   ]
  },
  {
   "cell_type": "markdown",
   "id": "061bff0a",
   "metadata": {},
   "source": [
    "In this case we are only interested in the last qbit of the circuit that encodes the desIred integral. With the *GetResultsLastQbit* simulates the circuit from *LoadIntegralProgram* and ouputs a pandas dataframe with the posible states (measurement of the last qbit) and the corresponding probability"
   ]
  },
  {
   "cell_type": "code",
   "execution_count": null,
   "id": "e6970234",
   "metadata": {},
   "outputs": [],
   "source": [
    "def GetResultsLastQbit(LastQbit, circuit, linalgqpu, Qass=True):\n",
    "    #Create a Job from the circuit\n",
    "    job = circuit.to_job(qubits = [LastQbit])\n",
    "    #Import and create the linear algebra simulator\n",
    "    \"\"\"\n",
    "    try:\n",
    "        from qat.qpus import LinAlg\n",
    "        linalgqpu = LinAlg()\n",
    "    except ImportError:\n",
    "        from qat.qpus import PyLinalg\n",
    "        linalgqpu = PyLinalg()\n",
    "    \"\"\"\n",
    "\n",
    "    #Submit the job to the simulator LinAlg and get the results\n",
    "    result = linalgqpu.submit(job)\n",
    "    QP = []\n",
    "    States = []\n",
    "    #QA = []\n",
    "    #Print the results\n",
    "    if Qass:\n",
    "        result = result.join()\n",
    "        \n",
    "    for sample in result:\n",
    "        #print(\"State %s probability %s amplitude %s\" % (sample.state, sample.probability, sample.amplitude))\n",
    "        QP.append(sample.probability)\n",
    "        States.append(str(sample.state))\n",
    "        #QA.append(sample.amplitude)\n",
    "    QP = pd.Series(QP, name='Probability')\n",
    "    States = pd.Series(States, name='States')  \n",
    "    #QA = pd.Series(QA, name='Amplitude') \n",
    "    pdf = pd.concat([States, QP], axis=1)\n",
    "    return pdf, circuit    "
   ]
  },
  {
   "cell_type": "code",
   "execution_count": null,
   "id": "f12e14c4",
   "metadata": {},
   "outputs": [],
   "source": [
    "R_results, _ = GetResultsLastQbit(n_qbits, circuit,lineal_qpu, False)"
   ]
  },
  {
   "cell_type": "code",
   "execution_count": null,
   "id": "677d0d83",
   "metadata": {},
   "outputs": [],
   "source": [
    "R_results"
   ]
  },
  {
   "cell_type": "code",
   "execution_count": null,
   "id": "f6a69330",
   "metadata": {},
   "outputs": [],
   "source": [
    "#Integral of f(x)\n",
    "MeasurementIntegral = R_results['Probability'][1]*2**(n_qbits)"
   ]
  },
  {
   "cell_type": "code",
   "execution_count": null,
   "id": "ed0c99cb",
   "metadata": {},
   "outputs": [],
   "source": [
    "np.isclose(MeasurementIntegral, sum(f_X))"
   ]
  },
  {
   "cell_type": "markdown",
   "id": "82696e55",
   "metadata": {},
   "source": [
    "## 4.Load Complete Data"
   ]
  },
  {
   "cell_type": "markdown",
   "id": "181f3732",
   "metadata": {},
   "source": [
    "If we have a variable $x$ that follows a probability distribution $p(x)$ we want to calculate the expectaction value of a function $f(x)$. So we want to compute:\n",
    "\n",
    "$$E_{x\\sim p}(f) = \\int p(x)f(x)dx$$\n",
    "\n",
    "Or in a discretized way:\n",
    "\n",
    "$$E_{x\\sim p}(f) = \\sum_{x=0}^{2^n-1} p(x)f(x)dx$$\n",
    "\n",
    "In order to do this first we need to load $p(x)$ and $f(x)$ in a quantum state:\n",
    "\n",
    "$$|\\Psi\\rangle = \\mathcal{R}(\\mathcal{P} \\otimes \\mathbf{I})|0\\rangle_{n}|0\\rangle = \\sum_{x=0}^{2^{n}-1}\\sqrt{p(x)}|x\\rangle_{n}\\otimes (\\sqrt{f(x)}|1\\rangle +\\sqrt{1-f(x)}|0\\rangle)$$\n",
    "\n",
    "Following functions use the $\\mathcal{P}$ and $\\mathcal{R}$ to do that"
   ]
  },
  {
   "cell_type": "code",
   "execution_count": null,
   "id": "2c7aa6f5",
   "metadata": {},
   "outputs": [],
   "source": [
    "from dataloading_module_examples import TestBins\n",
    "def LoadingData(p_X, f_X):\n",
    "    \"\"\"\n",
    "    Load all the mandatory data to load in a quantum program the expected value \n",
    "    of a function f(x) over a x following a probability distribution p(x).\n",
    "    Inputs:\n",
    "        * p_X: np.array. Array of the discretized probability density\n",
    "        * f_X: np.array. Array of the discretized funcion\n",
    "    Outpus:\n",
    "        * qprog: quantum program for loading the expected value of f(x) for x following a p(x) distribution\n",
    "    \"\"\"\n",
    "    #Testing input\n",
    "    nqbits_p = TestBins(p_X, 'Probability')\n",
    "    nqbits_f = TestBins(f_X, 'Function')\n",
    "    assert nqbits_p == nqbits_f, 'Arrays lenght are not equal!!'\n",
    "    nqbits = nqbits_p\n",
    "    \n",
    "    #Creation of Gates\n",
    "    from dataloading_module import CreatePG\n",
    "    P_gate = CreatePG(p_X)    \n",
    "    from dataloading_module import CreateLoadFunctionGate\n",
    "    R_gate = CreateLoadFunctionGate(f_X)\n",
    "    \n",
    "    from qat.lang.AQASM import Program\n",
    "    qprog = Program()\n",
    "    qbits = qprog.qalloc(nqbits+1)\n",
    "    #Load Probability\n",
    "    qprog.apply(P_gate, qbits[:-1])\n",
    "    #Load integral on the last qbit\n",
    "    qprog.apply(R_gate, qbits)\n",
    "    return qprog\n",
    "    \n",
    "    "
   ]
  },
  {
   "cell_type": "code",
   "execution_count": null,
   "id": "6db85678",
   "metadata": {},
   "outputs": [],
   "source": [
    "#number of Qbits for the circuit\n",
    "n_qbits = 4\n",
    "#The number of bins \n",
    "m_bins = 2**n_qbits\n",
    "LowerLimit = 0.0\n",
    "UpperLimit = 1.0 \n",
    "\n",
    "def f(x):\n",
    "    return np.sin(x)\n",
    "\n",
    "X, p_X = get_histogram(p, LowerLimit, UpperLimit, m_bins)\n",
    "#The centers of the probability will be used for calculating the function\n",
    "f_X = f(X)"
   ]
  },
  {
   "cell_type": "code",
   "execution_count": null,
   "id": "6146d8d8",
   "metadata": {},
   "outputs": [],
   "source": [
    "circuit = LoadingData(p_X, f_X).to_circ()"
   ]
  },
  {
   "cell_type": "code",
   "execution_count": null,
   "id": "76ff433a",
   "metadata": {},
   "outputs": [],
   "source": [
    "%qatdisplay circuit --depth 0"
   ]
  },
  {
   "cell_type": "markdown",
   "id": "02eba45d",
   "metadata": {},
   "source": []
  },
  {
   "cell_type": "code",
   "execution_count": null,
   "id": "267971be",
   "metadata": {},
   "outputs": [],
   "source": [
    "PR_results, _ = GetResultsLastQbit(n_qbits, circuit,lineal_qpu, False)"
   ]
  },
  {
   "cell_type": "code",
   "execution_count": null,
   "id": "36ee0000",
   "metadata": {},
   "outputs": [],
   "source": [
    "#Integral of f(x)\n",
    "MeasurementIntegral = PR_results['Probability'][1]"
   ]
  },
  {
   "cell_type": "code",
   "execution_count": null,
   "id": "ac8f673f",
   "metadata": {},
   "outputs": [],
   "source": [
    "np.isclose(MeasurementIntegral, sum(p_X*f_X))"
   ]
  },
  {
   "cell_type": "code",
   "execution_count": null,
   "id": "808ae8bb",
   "metadata": {},
   "outputs": [],
   "source": []
  }
 ],
 "metadata": {
  "kernelspec": {
   "display_name": "Python 3 (ipykernel)",
   "language": "python",
   "name": "python3"
  },
  "language_info": {
   "codemirror_mode": {
    "name": "ipython",
    "version": 3
   },
   "file_extension": ".py",
   "mimetype": "text/x-python",
   "name": "python",
   "nbconvert_exporter": "python",
   "pygments_lexer": "ipython3",
   "version": "3.9.2"
  }
 },
 "nbformat": 4,
 "nbformat_minor": 5
}
