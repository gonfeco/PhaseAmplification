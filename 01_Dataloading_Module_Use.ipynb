{
 "cells": [
  {
   "cell_type": "code",
   "execution_count": null,
   "id": "db172c73",
   "metadata": {},
   "outputs": [],
   "source": [
    "from IPython.core.display import display, HTML\n",
    "display(HTML(\"<style>.container { width:100% !important; }</style>\"))"
   ]
  },
  {
   "cell_type": "code",
   "execution_count": null,
   "id": "40dc3443",
   "metadata": {},
   "outputs": [],
   "source": [
    "import numpy as np\n",
    "import pandas as pd\n",
    "import matplotlib.pyplot as plt"
   ]
  },
  {
   "cell_type": "code",
   "execution_count": null,
   "id": "53f6f231",
   "metadata": {},
   "outputs": [],
   "source": [
    "#QPU connection\n",
    "try:\n",
    "    from qat.qlmaas import QLMaaSConnection\n",
    "    connection = QLMaaSConnection(hostname=\"qlm\")#, port=...)\n",
    "    LinAlg = connection.get_qpu(\"qat.qpus:LinAlg\")\n",
    "    lineal_qpu = LinAlg()\n",
    "except ImportError:\n",
    "    from qat.qpus import PyLinalg\n",
    "    lineal_qpu = PyLinalg()"
   ]
  },
  {
   "cell_type": "code",
   "execution_count": null,
   "id": "a24c175a",
   "metadata": {},
   "outputs": [],
   "source": [
    "from qat.qpus import LinAlg\n",
    "lineal_qpu = LinAlg()"
   ]
  },
  {
   "cell_type": "markdown",
   "id": "f2c05cdb",
   "metadata": {},
   "source": [
    "# 1. Load Data"
   ]
  },
  {
   "cell_type": "markdown",
   "id": "09d98ee2",
   "metadata": {},
   "source": [
    "The *dataloading_module* is a direct implementation of the article *Lov Grover and Terry Rudolph 2008 papper*: \n",
    "\n",
    "**'Creating superpositions that correspond to efficiently integrable probability distributions'** \n",
    "\n",
    "http://arXiv.org/abs/quant-ph/0208112v1\n",
    "\n",
    "The idea is load in a quantum state a probability density function $p(x)$ and function $f(x)$ for using **Amplification Amplitude** algorithms for solving following integral: \n",
    "\n",
    "$$\\int_a^bp(x)f(x)dx\\approx\\sum_{x\\in X}p(x)f(x) \\; X=[a,b]$$\n",
    "\n",
    "In order to satisfy this equation $p(x)$ and $f(x)$ should be properly discretized. \n",
    "\n",
    "For doing this 2 different gates were implemented:\n",
    "1. *P_gate*: $\\mathcal{P}$. This gate load the $p(x)$ on $n$ qbits\n",
    "2. *R_gate*: $\\mathcal{R}$. This gate receives $n$ qbits and load integral of $\\int f(x)dx$ on the $n+1$ qbit\n",
    "\n",
    "With this 2 gates the desired integral can be load in the following way:\n",
    "\n",
    "$$|\\Psi\\rangle = \\mathcal{R}(\\mathcal{P} \\otimes \\mathbf{I})|0\\rangle_{n}|0\\rangle = \\sum_{x=0}^{2^{n}-1}\\sqrt{p(x)}|x\\rangle_{n}\\otimes (\\sqrt{f(x)}|1\\rangle +\\sqrt{1-f(x)}|0\\rangle)$$\n",
    "\n",
    "So the probability of measure the state $|1\\rangle$ on the $n+1$ qbit is just:\n",
    "\n",
    "$$\\sum_{x=0}^{2^{n}-1}p(x)f(x)$$\n",
    "\n"
   ]
  },
  {
   "cell_type": "markdown",
   "id": "908a1517",
   "metadata": {},
   "source": [
    "## 2. Discretizing Probability"
   ]
  },
  {
   "cell_type": "markdown",
   "id": "dbe32060",
   "metadata": {},
   "source": [
    "First thing we need to do is discretizate the probability function $p(x)$. The *dataloading_module* provides **get_histogram** function that allows generation of a discretization of $m$ pieces of an input probability function $p(x)$, between 2 limits. \n",
    "The numbers of bins for discretization should be $m=2^{n}$ where $n$ is the number of qbits for the quantum circuit.\n",
    "The functions returns the center of the $m$ bins and the probability of the centers in numpy array form\n"
   ]
  },
  {
   "cell_type": "code",
   "execution_count": null,
   "id": "e9bca267",
   "metadata": {},
   "outputs": [],
   "source": [
    "from AuxiliarFunctions import  get_histogram"
   ]
  },
  {
   "cell_type": "code",
   "execution_count": null,
   "id": "060ad827",
   "metadata": {},
   "outputs": [],
   "source": [
    "def p(x):\n",
    "    return x*x\n",
    "def f(x):\n",
    "    return np.sin(x)"
   ]
  },
  {
   "cell_type": "code",
   "execution_count": null,
   "id": "f6919742",
   "metadata": {},
   "outputs": [],
   "source": [
    "#number of Qbits for the circuit\n",
    "n_qbits = 4\n",
    "#The number of bins \n",
    "m_bins = 2**n_qbits\n",
    "LowerLimit = 0.0\n",
    "UpperLimit = 1.0 \n",
    "\n",
    "X, p_X = get_histogram(p, LowerLimit, UpperLimit, m_bins)\n",
    "f_X = f(X)"
   ]
  },
  {
   "cell_type": "code",
   "execution_count": null,
   "id": "68e29232",
   "metadata": {},
   "outputs": [],
   "source": [
    "plt.plot(X, p_X, 'o')\n",
    "plt.plot(X, f_X, 'o')\n",
    "plt.legend(['p(x)', 'f(x)'])"
   ]
  },
  {
   "cell_type": "markdown",
   "id": "0edd0704",
   "metadata": {},
   "source": [
    "## 3. Loading Probability"
   ]
  },
  {
   "cell_type": "markdown",
   "id": "54769dac",
   "metadata": {},
   "source": [
    "The $\\mathcal{P}$ is implemented by an Abstract qlm gate called **CreatePG**. In order to create the gate only the numpy arrays with the probability should be provided.\n",
    "\n",
    "The following function,**LoadProbabilityProgram**, creates a Quantum Program for loading a given probability numpy array on a quantum Circuit using the Abstract qlm gate called **CreatePG**"
   ]
  },
  {
   "cell_type": "code",
   "execution_count": null,
   "id": "a9cd5abc",
   "metadata": {},
   "outputs": [],
   "source": [
    "from AuxiliarFunctions import TestBins, PostProcessResults\n",
    "def LoadProbabilityProgram(p_X):\n",
    "    \"\"\"\n",
    "    Creates a Quantum Program for loading an input numpy array with a probability distribution.\n",
    "    Inputs:\n",
    "        * p_X: np.array. Probability distribution of size m. Mandatory: m=2^n where n is the number\n",
    "        qbits of the quantum circuit. \n",
    "    Outputs:\n",
    "        * qprog: qlm program for loading input probability\n",
    "    \"\"\"\n",
    "    #Qbits of the Quantum circuit depends on Probability length\n",
    "    nqbits = TestBins(p_X, 'Probability')\n",
    "    \n",
    "    from qat.lang.AQASM import Program\n",
    "    qprog = Program()\n",
    "    qbits = qprog.qalloc(nqbits)\n",
    "    #Creation of P_gate\n",
    "    from dataloading_module import CreatePG\n",
    "    P_gate = CreatePG(p_X)\n",
    "    #Apply Abstract gate to the qbits\n",
    "    qprog.apply(P_gate, qbits)\n",
    "    return qprog\n"
   ]
  },
  {
   "cell_type": "code",
   "execution_count": null,
   "id": "8fdb650a",
   "metadata": {},
   "outputs": [],
   "source": [
    "circuit = LoadProbabilityProgram(p_X).to_circ()"
   ]
  },
  {
   "cell_type": "code",
   "execution_count": null,
   "id": "4cd6cb16",
   "metadata": {},
   "outputs": [],
   "source": [
    "%qatdisplay circuit --depth 0"
   ]
  },
  {
   "cell_type": "markdown",
   "id": "c39e4594",
   "metadata": {},
   "source": [
    "Following cell simulates the circuit an postprocces result in order to test in probability was properly loaded. The results of the simulation is given to the **PostProcessResults** which create a pandas dataframe with the posible states and teh correspondings probabilities and amplitudes."
   ]
  },
  {
   "cell_type": "code",
   "execution_count": null,
   "id": "e3e9f001",
   "metadata": {},
   "outputs": [],
   "source": [
    "job = circuit.to_job()\n",
    "result = lineal_qpu.submit(job)\n",
    "P_results = PostProcessResults(result)"
   ]
  },
  {
   "cell_type": "code",
   "execution_count": null,
   "id": "a52d2dfe",
   "metadata": {},
   "outputs": [],
   "source": [
    "P_results.head()"
   ]
  },
  {
   "cell_type": "markdown",
   "id": "4e188214",
   "metadata": {},
   "source": [
    "In order to check if the operation was done properly we can compare the outpus probability of each state and the probabilities wanted to load:"
   ]
  },
  {
   "cell_type": "code",
   "execution_count": null,
   "id": "31ebda0a",
   "metadata": {},
   "outputs": [],
   "source": [
    "np.isclose(P_results['Probability'], p_X).all()"
   ]
  },
  {
   "cell_type": "markdown",
   "id": "c5feb097",
   "metadata": {},
   "source": [
    "## 3. Loading Integral of a function"
   ]
  },
  {
   "cell_type": "markdown",
   "id": "b35b9710",
   "metadata": {},
   "source": [
    "The $\\mathcal{R}$ is implemented by an Abstract qlm gate called **CreateLoadFunctionGate**. For creating this gate a numpy array with the function evaluation shoul be provided. The length of this array should be: $m=2^n$ where n is an integer. The created gate is a $n+1$ gate where the last qbit codifies the integral of the function.\n",
    "\n",
    "Following **LoadIntegralProgram** function creates a complete Quantum Program for loading Integral of discretized function $f(x)$ using the programed $\\mathcal{R}$ gate. The size of the function array should be $2^n$ and the circuit will have $n+1$ qbit where the last one qbit will enconde the integral of the $f(x)$"
   ]
  },
  {
   "cell_type": "code",
   "execution_count": null,
   "id": "2c8f10d5",
   "metadata": {},
   "outputs": [],
   "source": [
    "from AuxiliarFunctions import TestBins, PostProcessResults\n",
    "def LoadIntegralProgram(f_X):\n",
    "    \"\"\"\n",
    "    Creates a Quantum Circuit for loading the integral of the input numpy array with a function evaluation \n",
    "    Inputs:\n",
    "        * f_X: np.array. Function evaluation of size m. Mandatory: m=2^n where n is the number\n",
    "        qbits of the quantum circuit. \n",
    "    Outputs:\n",
    "        * program: qlm program for loading integral of the input function\n",
    "    \"\"\"\n",
    "    #Qbits of the Quantum circuit depends on Function array length\n",
    "    nqbits = TestBins(f_X, 'Function')\n",
    "    \n",
    "    from qat.lang.AQASM import Program, H\n",
    "    qprog = Program()\n",
    "    #The additional qbit is where the integral will be encoded\n",
    "    qbits = qprog.qalloc(nqbits+1)\n",
    "    for i in range(nqbits):\n",
    "        qprog.apply(H, qbits[i])\n",
    "    #Creation of P_gate\n",
    "    from dataloading_module import CreateLoadFunctionGate\n",
    "    R_gate = CreateLoadFunctionGate(f_X)\n",
    "    #Apply Abstract gate to the qbits\n",
    "    qprog.apply(R_gate, qbits)\n",
    "    return qprog"
   ]
  },
  {
   "cell_type": "code",
   "execution_count": null,
   "id": "7546efdd",
   "metadata": {},
   "outputs": [],
   "source": [
    "circuit = LoadIntegralProgram(f_X).to_circ()"
   ]
  },
  {
   "cell_type": "code",
   "execution_count": null,
   "id": "908c2ddf",
   "metadata": {},
   "outputs": [],
   "source": [
    "%qatdisplay circuit --depth 0"
   ]
  },
  {
   "cell_type": "markdown",
   "id": "fa2882cd",
   "metadata": {},
   "source": [
    "In this case we are only interested in the last qbit of the circuit that encodes the desIred integral. With the *GetResultsLastQbit* simulates the circuit from *LoadIntegralProgram* and ouputs a pandas dataframe with the posible states (measurement of the last qbit) and the corresponding probability"
   ]
  },
  {
   "cell_type": "code",
   "execution_count": null,
   "id": "95e3f81f",
   "metadata": {},
   "outputs": [],
   "source": [
    "job = circuit.to_job(qubits = [n_qbits])\n",
    "result = lineal_qpu.submit(job)\n",
    "R_results = PostProcessResults(result)"
   ]
  },
  {
   "cell_type": "code",
   "execution_count": null,
   "id": "13132cef",
   "metadata": {},
   "outputs": [],
   "source": [
    "R_results.head()"
   ]
  },
  {
   "cell_type": "code",
   "execution_count": null,
   "id": "48aa34cb",
   "metadata": {},
   "outputs": [],
   "source": [
    "#Integral of f(x)\n",
    "MeasurementIntegral = R_results['Probability'][1]*2**(n_qbits)"
   ]
  },
  {
   "cell_type": "code",
   "execution_count": null,
   "id": "9c61e307",
   "metadata": {},
   "outputs": [],
   "source": [
    "np.isclose(MeasurementIntegral, sum(f_X))"
   ]
  },
  {
   "cell_type": "markdown",
   "id": "8afb8a96",
   "metadata": {},
   "source": [
    "## 4.Load Complete Data"
   ]
  },
  {
   "cell_type": "markdown",
   "id": "c913ad62",
   "metadata": {},
   "source": [
    "If we have a variable $x$ that follows a probability distribution $p(x)$ we want to calculate the expectaction value of a function $f(x)$. So we want to compute:\n",
    "\n",
    "$$E_{x\\sim p}(f) = \\int p(x)f(x)dx$$\n",
    "\n",
    "Or in a discretized way:\n",
    "\n",
    "$$E_{x\\sim p}(f) = \\sum_{x=0}^{2^n-1} p(x)f(x)dx$$\n",
    "\n",
    "In order to do this first we need to load $p(x)$ and $f(x)$ in a quantum state:\n",
    "\n",
    "$$|\\Psi\\rangle = \\mathcal{R}(\\mathcal{P} \\otimes \\mathbf{I})|0\\rangle_{n}|0\\rangle = \\sum_{x=0}^{2^{n}-1}\\sqrt{p(x)}|x\\rangle_{n}\\otimes (\\sqrt{f(x)}|1\\rangle +\\sqrt{1-f(x)}|0\\rangle)$$\n",
    "\n",
    "Following functions use the $\\mathcal{P}$ and $\\mathcal{R}$ to do that"
   ]
  },
  {
   "cell_type": "code",
   "execution_count": null,
   "id": "4bffe277",
   "metadata": {},
   "outputs": [],
   "source": [
    "from AuxiliarFunctions import TestBins, PostProcessResults\n",
    "def LoadingData(p_X, f_X):\n",
    "    \"\"\"\n",
    "    Load all the mandatory data to load in a quantum program the expected value \n",
    "    of a function f(x) over a x following a probability distribution p(x).\n",
    "    Inputs:\n",
    "        * p_X: np.array. Array of the discretized probability density\n",
    "        * f_X: np.array. Array of the discretized funcion\n",
    "    Outpus:\n",
    "        * qprog: quantum program for loading the expected value of f(x) for x following a p(x) distribution\n",
    "    \"\"\"\n",
    "    #Testing input\n",
    "    nqbits_p = TestBins(p_X, 'Probability')\n",
    "    nqbits_f = TestBins(f_X, 'Function')\n",
    "    assert nqbits_p == nqbits_f, 'Arrays lenght are not equal!!'\n",
    "    nqbits = nqbits_p\n",
    "    \n",
    "    #Creation of Gates\n",
    "    from dataloading_module import CreatePG\n",
    "    P_gate = CreatePG(p_X)    \n",
    "    from dataloading_module import CreateLoadFunctionGate\n",
    "    R_gate = CreateLoadFunctionGate(f_X)\n",
    "    \n",
    "    from qat.lang.AQASM import Program\n",
    "    qprog = Program()\n",
    "    qbits = qprog.qalloc(nqbits+1)\n",
    "    #Load Probability\n",
    "    qprog.apply(P_gate, qbits[:-1])\n",
    "    #Load integral on the last qbit\n",
    "    qprog.apply(R_gate, qbits)\n",
    "    return qprog\n",
    "    \n",
    "    "
   ]
  },
  {
   "cell_type": "code",
   "execution_count": null,
   "id": "5d317715",
   "metadata": {},
   "outputs": [],
   "source": [
    "circuit = LoadingData(p_X, f_X).to_circ()"
   ]
  },
  {
   "cell_type": "code",
   "execution_count": null,
   "id": "f0a1a020",
   "metadata": {},
   "outputs": [],
   "source": [
    "%qatdisplay circuit --depth 0"
   ]
  },
  {
   "cell_type": "markdown",
   "id": "492ac355",
   "metadata": {},
   "source": [
    "The $E_{x\\sim p}(f)$ is codified in the last qbit!"
   ]
  },
  {
   "cell_type": "code",
   "execution_count": null,
   "id": "32b5591a",
   "metadata": {},
   "outputs": [],
   "source": [
    "job = circuit.to_job(qubits = [n_qbits])\n",
    "result = lineal_qpu.submit(job)\n",
    "PR_results = PostProcessResults(result)"
   ]
  },
  {
   "cell_type": "markdown",
   "id": "febfdf54",
   "metadata": {},
   "source": []
  },
  {
   "cell_type": "code",
   "execution_count": null,
   "id": "53418c11",
   "metadata": {},
   "outputs": [],
   "source": [
    "#Integral of f(x)\n",
    "MeasurementIntegral = PR_results['Probability'][1]"
   ]
  },
  {
   "cell_type": "code",
   "execution_count": null,
   "id": "462f3bec",
   "metadata": {},
   "outputs": [],
   "source": [
    "np.isclose(MeasurementIntegral, sum(p_X*f_X))"
   ]
  },
  {
   "cell_type": "markdown",
   "id": "a3771190",
   "metadata": {},
   "source": [
    "## 5. File Scripts"
   ]
  },
  {
   "cell_type": "markdown",
   "id": "6b66e53e",
   "metadata": {},
   "source": [
    "All the functions generated in this Notebook were stored in a python file, **dataloading_module_examples.py** in order to use it in an easy way:"
   ]
  },
  {
   "cell_type": "code",
   "execution_count": null,
   "id": "6cc0dff8",
   "metadata": {},
   "outputs": [],
   "source": [
    "from dataloading_module_examples import LoadProbabilityProgram, LoadingData, LoadIntegralProgram"
   ]
  },
  {
   "cell_type": "code",
   "execution_count": null,
   "id": "2d04b530",
   "metadata": {},
   "outputs": [],
   "source": [
    "def p(x):\n",
    "    return x*x\n",
    "def f(x):\n",
    "    return np.sin(x)"
   ]
  },
  {
   "cell_type": "code",
   "execution_count": null,
   "id": "fec26157",
   "metadata": {},
   "outputs": [],
   "source": [
    "from AuxiliarFunctions import get_histogram, PostProcessResults\n",
    "#number of Qbits for the circuit\n",
    "n_qbits = 8\n",
    "#The number of bins \n",
    "m_bins = 2**n_qbits\n",
    "LowerLimit = 0.0\n",
    "UpperLimit = 1.0 \n",
    "X, p_X = get_histogram(p, LowerLimit, UpperLimit, m_bins)\n",
    "f_X = f(X)"
   ]
  },
  {
   "cell_type": "code",
   "execution_count": null,
   "id": "3635ebee",
   "metadata": {},
   "outputs": [],
   "source": [
    "circuitP = LoadProbabilityProgram(p_X).to_circ()\n",
    "circuitF = LoadIntegralProgram(f_X).to_circ()\n",
    "circuitPF = LoadingData(p_X, f_X).to_circ()"
   ]
  },
  {
   "cell_type": "markdown",
   "id": "c66870c7",
   "metadata": {},
   "source": [
    "### 5.1 Probability Load"
   ]
  },
  {
   "cell_type": "code",
   "execution_count": null,
   "id": "cebe0dfb",
   "metadata": {},
   "outputs": [],
   "source": [
    "%qatdisplay circuitP"
   ]
  },
  {
   "cell_type": "code",
   "execution_count": null,
   "id": "c9a6cca6",
   "metadata": {},
   "outputs": [],
   "source": [
    "jobP = circuitP.to_job()\n",
    "resultP = lineal_qpu.submit(jobP)\n",
    "P_results = PostProcessResults(resultP)\n",
    "np.isclose(P_results['Probability'], p_X).all()"
   ]
  },
  {
   "cell_type": "markdown",
   "id": "71ad22c8",
   "metadata": {},
   "source": [
    "### 5.2 Integral Load"
   ]
  },
  {
   "cell_type": "code",
   "execution_count": null,
   "id": "97900907",
   "metadata": {},
   "outputs": [],
   "source": [
    "%qatdisplay circuitF"
   ]
  },
  {
   "cell_type": "code",
   "execution_count": null,
   "id": "324f623c",
   "metadata": {},
   "outputs": [],
   "source": [
    "jobF = circuitF.to_job(qubits = [n_qbits])\n",
    "resultF = lineal_qpu.submit(jobF)\n",
    "F_results = PostProcessResults(resultF)\n",
    "MeasurementIntegral = F_results['Probability'][1]*2**(n_qbits)\n",
    "np.isclose(MeasurementIntegral, sum(f_X))"
   ]
  },
  {
   "cell_type": "markdown",
   "id": "eb8b4402",
   "metadata": {},
   "source": [
    "### 5.3 Complete Load"
   ]
  },
  {
   "cell_type": "code",
   "execution_count": null,
   "id": "a24cb283",
   "metadata": {},
   "outputs": [],
   "source": [
    "%qatdisplay circuitPF"
   ]
  },
  {
   "cell_type": "code",
   "execution_count": null,
   "id": "727b2c1f",
   "metadata": {},
   "outputs": [],
   "source": [
    "jobPF = circuitPF.to_job(qubits = [n_qbits])\n",
    "resultPF = lineal_qpu.submit(jobPF)\n",
    "PF_results = PostProcessResults(resultPF)\n",
    "MeasurementIntegral = PF_results['Probability'][1]\n",
    "np.isclose(MeasurementIntegral, sum(p_X*f_X))"
   ]
  },
  {
   "cell_type": "code",
   "execution_count": null,
   "id": "782451b7",
   "metadata": {},
   "outputs": [],
   "source": []
  },
  {
   "cell_type": "code",
   "execution_count": null,
   "id": "75f2d99d",
   "metadata": {},
   "outputs": [],
   "source": []
  },
  {
   "cell_type": "code",
   "execution_count": null,
   "id": "80cc8a99",
   "metadata": {},
   "outputs": [],
   "source": []
  }
 ],
 "metadata": {
  "kernelspec": {
   "display_name": "Python 3 (ipykernel)",
   "language": "python",
   "name": "python3"
  },
  "language_info": {
   "codemirror_mode": {
    "name": "ipython",
    "version": 3
   },
   "file_extension": ".py",
   "mimetype": "text/x-python",
   "name": "python",
   "nbconvert_exporter": "python",
   "pygments_lexer": "ipython3",
   "version": "3.9.2"
  }
 },
 "nbformat": 4,
 "nbformat_minor": 5
}
