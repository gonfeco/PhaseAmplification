{
 "cells": [
  {
   "cell_type": "code",
   "execution_count": null,
   "id": "075f9eeb",
   "metadata": {},
   "outputs": [],
   "source": [
    "from IPython.core.display import display, HTML\n",
    "display(HTML(\"<style>.container { width:100% !important; }</style>\"))"
   ]
  },
  {
   "cell_type": "code",
   "execution_count": null,
   "id": "440de514",
   "metadata": {},
   "outputs": [],
   "source": [
    "import numpy as np\n",
    "import pandas as pd\n",
    "import matplotlib.pyplot as plt\n",
    "import sys, os\n",
    "%load_ext qat.core.magic\n",
    "#QPU connection\n",
    "QLMASS = True\n",
    "if QLMASS:\n",
    "    try:\n",
    "        from qat.qlmaas import QLMaaSConnection\n",
    "        connection = QLMaaSConnection()\n",
    "        LinAlg = connection.get_qpu(\"qat.qpus:LinAlg\")\n",
    "        lineal_qpu = LinAlg()\n",
    "    except (ImportError, OSError) as e:\n",
    "        print('Problem: usin PyLinalg')\n",
    "        from qat.qpus import PyLinalg\n",
    "        lineal_qpu = PyLinalg()\n",
    "else:\n",
    "    print('User Forces: PyLinalg')\n",
    "    from qat.qpus import PyLinalg\n",
    "    lineal_qpu = PyLinalg()    "
   ]
  },
  {
   "cell_type": "code",
   "execution_count": null,
   "id": "657724b4",
   "metadata": {},
   "outputs": [],
   "source": [
    "import copy"
   ]
  },
  {
   "cell_type": "code",
   "execution_count": null,
   "id": "12938d72",
   "metadata": {},
   "outputs": [],
   "source": [
    "from QuantumMultiplexors_Module_examples import expectation_loading_data\n",
    "from PhaseAmplification_Module import load_q_gate"
   ]
  },
  {
   "cell_type": "code",
   "execution_count": null,
   "id": "21178b8f",
   "metadata": {},
   "outputs": [],
   "source": [
    "from AuxiliarFunctions import  get_histogram, postprocess_results, test_bins, run_job\n",
    "def p(x):\n",
    "    return x*x\n",
    "def f(x):\n",
    "    return np.sin(x)"
   ]
  },
  {
   "cell_type": "code",
   "execution_count": null,
   "id": "6318b9dd",
   "metadata": {},
   "outputs": [],
   "source": [
    "#number of Qbits for the circuit\n",
    "n_qbits = 10\n",
    "#The number of bins \n",
    "m_bins = 2**n_qbits\n",
    "LowerLimit = 0.0\n",
    "UpperLimit = 1.0 \n",
    "\n",
    "X, p_X = get_histogram(p, LowerLimit, UpperLimit, m_bins)\n",
    "f_X = f(X)"
   ]
  },
  {
   "cell_type": "markdown",
   "id": "f7f4327a",
   "metadata": {},
   "source": [
    "## Circuit"
   ]
  },
  {
   "cell_type": "code",
   "execution_count": null,
   "id": "d870bfc8",
   "metadata": {},
   "outputs": [],
   "source": [
    "Qprog, P_Gate, R_gate = expectation_loading_data(p_X, f_X)\n",
    "Q_Gate = load_q_gate(P_Gate, R_gate)"
   ]
  },
  {
   "cell_type": "code",
   "execution_count": null,
   "id": "8e1a19ed",
   "metadata": {},
   "outputs": [],
   "source": [
    "def Do(q_prog, q_gate, n_ops, nbshots=1000):\n",
    "    q_bits = q_prog.registers[0]\n",
    "    for i in range(n_ops):\n",
    "        q_prog.apply(q_gate, q_bits)\n",
    "    circuit = q_prog.to_circ(submatrices_only=True)\n",
    "    job = circuit.to_job(qubits=[len(q_bits)-1], nbshots = nbshots)\n",
    "    return job, circuit"
   ]
  },
  {
   "cell_type": "code",
   "execution_count": null,
   "id": "d0a8d98e",
   "metadata": {
    "scrolled": true
   },
   "outputs": [],
   "source": [
    "K=10 \n",
    "pdf = []\n",
    "ListOfCircutis = []\n",
    "for m_k in range(K):\n",
    "    step_job, step_cricuit = Do(copy.deepcopy(Qprog), Q_Gate, m_k)\n",
    "    ListOfCircutis.append(step_cricuit)\n",
    "    step_result = run_job(lineal_qpu.submit(step_job))\n",
    "    step_pdf = postprocess_results(step_result)\n",
    "    step_pdf['K'] = m_k\n",
    "    pdf.append(step_pdf)\n",
    "pdf = pd.concat(pdf)"
   ]
  },
  {
   "cell_type": "code",
   "execution_count": null,
   "id": "9bba1b1d",
   "metadata": {},
   "outputs": [],
   "source": [
    "cir = ListOfCircutis[1]\n",
    "%qatdisplay cir"
   ]
  },
  {
   "cell_type": "code",
   "execution_count": null,
   "id": "ab66e363",
   "metadata": {},
   "outputs": [],
   "source": [
    "def get_sub_pdf(input_pdf, state):\n",
    "    pdf = input_pdf.copy(deep=True)\n",
    "    phi = pdf[pdf['States'] == state]\n",
    "    phi.reset_index(drop=True, inplace=True)\n",
    "    phi.drop(columns=['Amplitude', 'States'], inplace = True)\n",
    "    phi.rename(\n",
    "        columns = {'Probability': 'Probability_{}'.format(state)},\n",
    "        inplace = True\n",
    "    )\n",
    "    return phi.drop_duplicates()\n",
    "    return phi"
   ]
  },
  {
   "cell_type": "code",
   "execution_count": null,
   "id": "f9f39d52",
   "metadata": {},
   "outputs": [],
   "source": [
    "pdf_bis = (get_sub_pdf(pdf, '|0>')).merge(get_sub_pdf(pdf, '|1>'), on='K')"
   ]
  },
  {
   "cell_type": "code",
   "execution_count": null,
   "id": "6f65b330",
   "metadata": {},
   "outputs": [],
   "source": [
    "pdf_bis"
   ]
  },
  {
   "cell_type": "code",
   "execution_count": null,
   "id": "2d0436fc",
   "metadata": {},
   "outputs": [],
   "source": [
    "def p_phi1(x, theta):\n",
    "    return np.sin((2*x+1)*theta)**2\n",
    "def p_phi0(x, theta):\n",
    "    return np.cos((2*x+1)*theta)**2"
   ]
  },
  {
   "cell_type": "code",
   "execution_count": null,
   "id": "9f985841",
   "metadata": {},
   "outputs": [],
   "source": [
    "import scipy.optimize as so"
   ]
  },
  {
   "cell_type": "code",
   "execution_count": null,
   "id": "cb2a2c39",
   "metadata": {},
   "outputs": [],
   "source": [
    "def Loss(theta, x, y):\n",
    "    y_hat = np.sin((2*x+1)*theta)**2\n",
    "    return np.mean((y_hat-y)**2)\n",
    "    \n",
    "    "
   ]
  },
  {
   "cell_type": "code",
   "execution_count": null,
   "id": "4ad354b0",
   "metadata": {},
   "outputs": [],
   "source": [
    "r = so.minimize(\n",
    "    Loss,\n",
    "    [np.pi/4],\n",
    "    (pdf_bis['K'], pdf_bis['Probability_|1>']),\n",
    "    #method='Newton-CG',\n",
    "    bounds=[(0., np.pi/2)],\n",
    "    tol = 1e-6,\n",
    "    options={'disp': True}\n",
    ")\n",
    "print('theta: {}'.format(r.x[0]))"
   ]
  },
  {
   "cell_type": "code",
   "execution_count": null,
   "id": "d296880e",
   "metadata": {},
   "outputs": [],
   "source": [
    "so.minimize?"
   ]
  },
  {
   "cell_type": "code",
   "execution_count": null,
   "id": "73375101",
   "metadata": {},
   "outputs": [],
   "source": [
    "%matplotlib inline\n",
    "plt.plot(pdf_bis['K'], pdf_bis['Probability_|1>'], 'o')\n",
    "#x = np.linspace(0, 10, num=100)\n",
    "plt.plot(pdf_bis['K'], p_phi1(pdf_bis['K'], r.x[0]))"
   ]
  },
  {
   "cell_type": "code",
   "execution_count": null,
   "id": "e2befa5b",
   "metadata": {},
   "outputs": [],
   "source": [
    "sum(p_X*f_X)"
   ]
  },
  {
   "cell_type": "code",
   "execution_count": null,
   "id": "7e0df97c",
   "metadata": {},
   "outputs": [],
   "source": []
  },
  {
   "cell_type": "code",
   "execution_count": null,
   "id": "31e06f44",
   "metadata": {},
   "outputs": [],
   "source": [
    "so.curve_fit()"
   ]
  },
  {
   "cell_type": "code",
   "execution_count": null,
   "id": "d80ae316",
   "metadata": {
    "scrolled": true
   },
   "outputs": [],
   "source": [
    "K=10 \n",
    "pdf = []\n",
    "for k in range(1, K+1):\n",
    "    step_job, step_cricuit = Do(copy.deepcopy(Qprog), Q_Gate, k)\n",
    "    step_result = run_job(lineal_qpu.submit(step_job))\n",
    "    step_pdf = postprocess_results(step_result)\n",
    "    step_pdf['K'] = k\n",
    "    pdf.append(step_pdf)\n",
    "pdf = pd.concat(pdf)"
   ]
  },
  {
   "cell_type": "code",
   "execution_count": null,
   "id": "02126491",
   "metadata": {},
   "outputs": [],
   "source": [
    "step_pdf['K'] = k"
   ]
  },
  {
   "cell_type": "code",
   "execution_count": null,
   "id": "393243e2",
   "metadata": {},
   "outputs": [],
   "source": [
    "step_pdf"
   ]
  },
  {
   "cell_type": "code",
   "execution_count": null,
   "id": "13d73514",
   "metadata": {},
   "outputs": [],
   "source": [
    "j, c = Do(copy.deepcopy(Qprog), Q_Gate, 1)\n",
    "res = run_job(lineal_qpu.submit(j))\n",
    "a = postprocess_results(res)"
   ]
  },
  {
   "cell_type": "code",
   "execution_count": null,
   "id": "5253070d",
   "metadata": {},
   "outputs": [],
   "source": [
    "a.iloc[1]['Probability']"
   ]
  },
  {
   "cell_type": "code",
   "execution_count": null,
   "id": "70749e1d",
   "metadata": {},
   "outputs": [],
   "source": [
    "%qatdisplay c"
   ]
  },
  {
   "cell_type": "code",
   "execution_count": null,
   "id": "37d15f72",
   "metadata": {},
   "outputs": [],
   "source": [
    "K = 10\n",
    "\n",
    "Qprog, P_Gate, R_gate = expectation_loading_data(p_X, f_X)\n",
    "qbits = Qprog.registers[0]\n",
    "for k in range(K):\n",
    "    Qprog.apply(Q_Gate, qbits)\n",
    "circuit = Qprog.to_circ(submatrices_only=True)\n",
    "%qatdisplay circuit"
   ]
  },
  {
   "cell_type": "code",
   "execution_count": null,
   "id": "ded6bee8",
   "metadata": {},
   "outputs": [],
   "source": [
    "Q_Gate."
   ]
  }
 ],
 "metadata": {
  "kernelspec": {
   "display_name": "Python 3 (ipykernel)",
   "language": "python",
   "name": "python3"
  },
  "language_info": {
   "codemirror_mode": {
    "name": "ipython",
    "version": 3
   },
   "file_extension": ".py",
   "mimetype": "text/x-python",
   "name": "python",
   "nbconvert_exporter": "python",
   "pygments_lexer": "ipython3",
   "version": "3.9.9"
  }
 },
 "nbformat": 4,
 "nbformat_minor": 5
}
